{
 "cells": [
  {
   "cell_type": "markdown",
   "id": "bcd209d0",
   "metadata": {},
   "source": [
    "<br>"
   ]
  },
  {
   "cell_type": "markdown",
   "id": "71e1f8f7",
   "metadata": {},
   "source": [
    "\n",
    "\n",
    "<br>\n",
    "<center><font size='10' style=\"color:cadetblue\"><b> Customer Transaction Prediction </b> </font>\n",
    "\n",
    "\n"
   ]
  },
  {
   "cell_type": "markdown",
   "id": "cda8d854",
   "metadata": {},
   "source": [
    "<br>\n",
    "<center><font size='5' style=\"color:darkgray\"><b> Proyecto Final - Coder House </b> </font>\n",
    "\n",
    "<br>\n",
    "<br>\n",
    "\n",
    "<center><font size='5' style=\"color:darkgray\"><b> Notebook Zarina Madelaine Breitman </b> </font>\n",
    "    \n",
    "<br>\n",
    "<br>\n",
    "    \n",
    "<center><font size='5' style=\"color:darkgray\"><b> Notebook II  de II </b> </font> "
   ]
  },
  {
   "cell_type": "markdown",
   "id": "11f086e6",
   "metadata": {},
   "source": [
    "<br>\n",
    "<br>\n",
    "<br>"
   ]
  },
  {
   "cell_type": "markdown",
   "id": "1e87c5ae",
   "metadata": {},
   "source": [
    "<font size='6' style=\"color:cadetblue\"><b> Content </b> </font>\n",
    "<a name=\"content\"></a>\n",
    "<br>\n",
    "\n",
    "\n",
    "1. [Imports](#Imports) \n",
    "<br>\n",
    "<br>\n",
    "\n",
    "2. [Dataset](#Dataset) \n",
    "<br>\n",
    "<br>\n",
    "\n",
    "3. [Model testing: LightGBM](#LightGBM)\n",
    "<br>\n",
    "<br>\n",
    "\n",
    "4. [Principal components analysis](#PCA)\n",
    "<br>\n",
    "\n",
    "    4.1 [LightGBM 175 componentes](#175)\n",
    "    \n",
    "    4.2 [LightGBM 150 componentes](#150)\n",
    "\n",
    "    4.3 [LightGBM 125 componentes](#125)\n",
    "\n",
    "    4.4 [LightGBM 100 componentes](#100)\n",
    "    \n",
    "    4.5 [Resumen de modelos](#Summary)\n",
    "    <br>\n",
    "    \n",
    "    \n",
    "5. [Optimización Bayesiana con Optuna](#Optuna)\n",
    "<br>\n",
    "\n",
    "    5.1 [Optimización de LightGBM PCA 175](#Optimizacion175)\n",
    "    \n",
    "    5.2 [Optimización de LightGBM PCA 100](#Optimizacion100)\n",
    "    \n",
    "    5.3 [LightGBM optimizado](#Optimizado)\n",
    "    <br>\n",
    "    \n",
    "    \n",
    "6. [Resumen de todos los modelos y conclusión](#Resumen_final)"
   ]
  },
  {
   "cell_type": "markdown",
   "id": "3c800ee3",
   "metadata": {
    "ExecuteTime": {
     "end_time": "2022-11-18T22:04:00.043003Z",
     "start_time": "2022-11-18T22:04:00.026016Z"
    }
   },
   "source": [
    "<br>\n",
    "<br>\n",
    "<br>\n",
    "<br>"
   ]
  },
  {
   "cell_type": "markdown",
   "id": "be69513e",
   "metadata": {},
   "source": [
    "<font size='6' style=\"color:cadetblue\"><b> Imports </b> </font>\n",
    "<a name=\"Imports\"></a>\n",
    "<br>"
   ]
  },
  {
   "cell_type": "markdown",
   "id": "dae7268a",
   "metadata": {},
   "source": [
    "Las importaciones realizadas están divididas según el rol que tienen en la notebook. "
   ]
  },
  {
   "cell_type": "code",
   "execution_count": 79,
   "id": "d6151704",
   "metadata": {
    "ExecuteTime": {
     "end_time": "2022-11-19T19:42:45.172683Z",
     "start_time": "2022-11-19T19:42:45.067944Z"
    }
   },
   "outputs": [],
   "source": [
    "# Numeric, scientific and data science libraries\n",
    "# -------------------------------------------------------------------------------------------\n",
    "import pandas as pd\n",
    "import numpy as np\n",
    "\n",
    "\n",
    "# Visualization\n",
    "# -------------------------------------------------------------------------------------------\n",
    "import matplotlib.pyplot as plt\n",
    "import seaborn as sns\n",
    "\n",
    "# Sklearn imports\n",
    "# -------------------------------------------------------------------------------------------\n",
    "\n",
    "# Data preparation for training\n",
    "from sklearn.model_selection import StratifiedKFold\n",
    "from sklearn.decomposition import PCA\n",
    "\n",
    "# Models from Sklearn\n",
    "from lightgbm import LGBMClassifier\n",
    "\n",
    "#Metrics \n",
    "from sklearn.metrics import confusion_matrix\n",
    "from sklearn.metrics import ConfusionMatrixDisplay\n",
    "from sklearn.metrics import precision_score\n",
    "from sklearn.metrics import recall_score\n",
    "from sklearn.metrics import f1_score\n",
    "from scipy.stats import gmean\n",
    "\n",
    "\n",
    "\n",
    "# Bayesian Optimization\n",
    "# -------------------------------------------------------------------------------------------\n",
    "import optuna\n",
    "\n",
    "\n",
    "# Other imports\n",
    "import time\n",
    "import pickle\n",
    "import joblib"
   ]
  },
  {
   "cell_type": "markdown",
   "id": "abfc368d",
   "metadata": {
    "ExecuteTime": {
     "end_time": "2022-11-18T22:04:12.897152Z",
     "start_time": "2022-11-18T22:04:12.886180Z"
    }
   },
   "source": [
    "<br>\n",
    "<br>\n",
    "<br>\n",
    "<br>"
   ]
  },
  {
   "cell_type": "markdown",
   "id": "ddb88e3a",
   "metadata": {},
   "source": [
    "<font size='6' style=\"color:cadetblue\"><b> Dataset </b> </font>\n",
    "\n",
    "<a name=\"Dataset\"></a>\n",
    "\n",
    "[[ Back to Top ]](#content)"
   ]
  },
  {
   "cell_type": "code",
   "execution_count": 36,
   "id": "865bad55",
   "metadata": {
    "ExecuteTime": {
     "end_time": "2022-11-18T20:35:05.052082Z",
     "start_time": "2022-11-18T20:35:04.911351Z"
    }
   },
   "outputs": [
    {
     "data": {
      "text/html": [
       "<div>\n",
       "<style scoped>\n",
       "    .dataframe tbody tr th:only-of-type {\n",
       "        vertical-align: middle;\n",
       "    }\n",
       "\n",
       "    .dataframe tbody tr th {\n",
       "        vertical-align: top;\n",
       "    }\n",
       "\n",
       "    .dataframe thead th {\n",
       "        text-align: right;\n",
       "    }\n",
       "</style>\n",
       "<table border=\"1\" class=\"dataframe\">\n",
       "  <thead>\n",
       "    <tr style=\"text-align: right;\">\n",
       "      <th></th>\n",
       "      <th>target</th>\n",
       "      <th>var_0</th>\n",
       "      <th>var_1</th>\n",
       "      <th>var_2</th>\n",
       "      <th>var_3</th>\n",
       "      <th>var_4</th>\n",
       "      <th>var_5</th>\n",
       "      <th>var_6</th>\n",
       "      <th>var_7</th>\n",
       "      <th>var_8</th>\n",
       "      <th>...</th>\n",
       "      <th>var_190</th>\n",
       "      <th>var_191</th>\n",
       "      <th>var_192</th>\n",
       "      <th>var_193</th>\n",
       "      <th>var_194</th>\n",
       "      <th>var_195</th>\n",
       "      <th>var_196</th>\n",
       "      <th>var_197</th>\n",
       "      <th>var_198</th>\n",
       "      <th>var_199</th>\n",
       "    </tr>\n",
       "    <tr>\n",
       "      <th>ID_code</th>\n",
       "      <th></th>\n",
       "      <th></th>\n",
       "      <th></th>\n",
       "      <th></th>\n",
       "      <th></th>\n",
       "      <th></th>\n",
       "      <th></th>\n",
       "      <th></th>\n",
       "      <th></th>\n",
       "      <th></th>\n",
       "      <th></th>\n",
       "      <th></th>\n",
       "      <th></th>\n",
       "      <th></th>\n",
       "      <th></th>\n",
       "      <th></th>\n",
       "      <th></th>\n",
       "      <th></th>\n",
       "      <th></th>\n",
       "      <th></th>\n",
       "      <th></th>\n",
       "    </tr>\n",
       "  </thead>\n",
       "  <tbody>\n",
       "    <tr>\n",
       "      <th>train_0</th>\n",
       "      <td>0</td>\n",
       "      <td>8.9255</td>\n",
       "      <td>-6.7863</td>\n",
       "      <td>11.9081</td>\n",
       "      <td>5.0930</td>\n",
       "      <td>11.4607</td>\n",
       "      <td>-9.2834</td>\n",
       "      <td>5.1187</td>\n",
       "      <td>18.6266</td>\n",
       "      <td>-4.9200</td>\n",
       "      <td>...</td>\n",
       "      <td>4.4354</td>\n",
       "      <td>3.9642</td>\n",
       "      <td>3.1364</td>\n",
       "      <td>1.6910</td>\n",
       "      <td>18.522699</td>\n",
       "      <td>-2.3978</td>\n",
       "      <td>7.8784</td>\n",
       "      <td>8.5635</td>\n",
       "      <td>12.780300</td>\n",
       "      <td>-1.0914</td>\n",
       "    </tr>\n",
       "    <tr>\n",
       "      <th>train_1</th>\n",
       "      <td>0</td>\n",
       "      <td>11.5006</td>\n",
       "      <td>-4.1473</td>\n",
       "      <td>13.8588</td>\n",
       "      <td>5.3890</td>\n",
       "      <td>12.3622</td>\n",
       "      <td>7.0433</td>\n",
       "      <td>5.6208</td>\n",
       "      <td>16.5338</td>\n",
       "      <td>3.1468</td>\n",
       "      <td>...</td>\n",
       "      <td>7.6421</td>\n",
       "      <td>7.7214</td>\n",
       "      <td>2.5837</td>\n",
       "      <td>10.9516</td>\n",
       "      <td>15.430500</td>\n",
       "      <td>2.0339</td>\n",
       "      <td>8.1267</td>\n",
       "      <td>8.7889</td>\n",
       "      <td>18.356001</td>\n",
       "      <td>1.9518</td>\n",
       "    </tr>\n",
       "    <tr>\n",
       "      <th>train_2</th>\n",
       "      <td>0</td>\n",
       "      <td>8.6093</td>\n",
       "      <td>-2.7457</td>\n",
       "      <td>12.0805</td>\n",
       "      <td>7.8928</td>\n",
       "      <td>10.5825</td>\n",
       "      <td>-9.0837</td>\n",
       "      <td>6.9427</td>\n",
       "      <td>14.6155</td>\n",
       "      <td>-4.9193</td>\n",
       "      <td>...</td>\n",
       "      <td>2.9057</td>\n",
       "      <td>9.7905</td>\n",
       "      <td>1.6704</td>\n",
       "      <td>1.6858</td>\n",
       "      <td>21.604200</td>\n",
       "      <td>3.1417</td>\n",
       "      <td>-6.5213</td>\n",
       "      <td>8.2675</td>\n",
       "      <td>14.722200</td>\n",
       "      <td>0.3965</td>\n",
       "    </tr>\n",
       "    <tr>\n",
       "      <th>train_3</th>\n",
       "      <td>0</td>\n",
       "      <td>11.0604</td>\n",
       "      <td>-2.1518</td>\n",
       "      <td>8.9522</td>\n",
       "      <td>7.1957</td>\n",
       "      <td>12.5846</td>\n",
       "      <td>-1.8361</td>\n",
       "      <td>5.8428</td>\n",
       "      <td>14.9250</td>\n",
       "      <td>-5.8609</td>\n",
       "      <td>...</td>\n",
       "      <td>4.4666</td>\n",
       "      <td>4.7433</td>\n",
       "      <td>0.7178</td>\n",
       "      <td>1.4214</td>\n",
       "      <td>23.034700</td>\n",
       "      <td>-1.2706</td>\n",
       "      <td>-2.9275</td>\n",
       "      <td>10.2922</td>\n",
       "      <td>17.969700</td>\n",
       "      <td>-8.9996</td>\n",
       "    </tr>\n",
       "    <tr>\n",
       "      <th>train_4</th>\n",
       "      <td>0</td>\n",
       "      <td>9.8369</td>\n",
       "      <td>-1.4834</td>\n",
       "      <td>12.8746</td>\n",
       "      <td>6.6375</td>\n",
       "      <td>12.2772</td>\n",
       "      <td>2.4486</td>\n",
       "      <td>5.9405</td>\n",
       "      <td>19.2514</td>\n",
       "      <td>6.2654</td>\n",
       "      <td>...</td>\n",
       "      <td>-1.4905</td>\n",
       "      <td>9.5214</td>\n",
       "      <td>-0.1508</td>\n",
       "      <td>9.1942</td>\n",
       "      <td>13.287600</td>\n",
       "      <td>-1.5121</td>\n",
       "      <td>3.9267</td>\n",
       "      <td>9.5031</td>\n",
       "      <td>17.997400</td>\n",
       "      <td>-8.8104</td>\n",
       "    </tr>\n",
       "  </tbody>\n",
       "</table>\n",
       "<p>5 rows × 201 columns</p>\n",
       "</div>"
      ],
      "text/plain": [
       "         target    var_0   var_1    var_2   var_3    var_4   var_5   var_6  \\\n",
       "ID_code                                                                      \n",
       "train_0       0   8.9255 -6.7863  11.9081  5.0930  11.4607 -9.2834  5.1187   \n",
       "train_1       0  11.5006 -4.1473  13.8588  5.3890  12.3622  7.0433  5.6208   \n",
       "train_2       0   8.6093 -2.7457  12.0805  7.8928  10.5825 -9.0837  6.9427   \n",
       "train_3       0  11.0604 -2.1518   8.9522  7.1957  12.5846 -1.8361  5.8428   \n",
       "train_4       0   9.8369 -1.4834  12.8746  6.6375  12.2772  2.4486  5.9405   \n",
       "\n",
       "           var_7   var_8  ...  var_190  var_191  var_192  var_193    var_194  \\\n",
       "ID_code                   ...                                                  \n",
       "train_0  18.6266 -4.9200  ...   4.4354   3.9642   3.1364   1.6910  18.522699   \n",
       "train_1  16.5338  3.1468  ...   7.6421   7.7214   2.5837  10.9516  15.430500   \n",
       "train_2  14.6155 -4.9193  ...   2.9057   9.7905   1.6704   1.6858  21.604200   \n",
       "train_3  14.9250 -5.8609  ...   4.4666   4.7433   0.7178   1.4214  23.034700   \n",
       "train_4  19.2514  6.2654  ...  -1.4905   9.5214  -0.1508   9.1942  13.287600   \n",
       "\n",
       "         var_195  var_196  var_197    var_198  var_199  \n",
       "ID_code                                                 \n",
       "train_0  -2.3978   7.8784   8.5635  12.780300  -1.0914  \n",
       "train_1   2.0339   8.1267   8.7889  18.356001   1.9518  \n",
       "train_2   3.1417  -6.5213   8.2675  14.722200   0.3965  \n",
       "train_3  -1.2706  -2.9275  10.2922  17.969700  -8.9996  \n",
       "train_4  -1.5121   3.9267   9.5031  17.997400  -8.8104  \n",
       "\n",
       "[5 rows x 201 columns]"
      ]
     },
     "execution_count": 36,
     "metadata": {},
     "output_type": "execute_result"
    }
   ],
   "source": [
    "# Readind the dataset\n",
    "\n",
    "df = pd.read_pickle(\"trainDownCast.pkl\")\n",
    "df.head()"
   ]
  },
  {
   "cell_type": "markdown",
   "id": "a04964a8",
   "metadata": {},
   "source": [
    "<br>"
   ]
  },
  {
   "cell_type": "code",
   "execution_count": 37,
   "id": "cf5ab78b",
   "metadata": {
    "ExecuteTime": {
     "end_time": "2022-11-18T20:35:09.247418Z",
     "start_time": "2022-11-18T20:35:09.095526Z"
    }
   },
   "outputs": [],
   "source": [
    "#Dividimos el set de datos en datos a predecir (y) y los datos utilizados para alcanzar esas predicciones (X) \n",
    "\n",
    "X= df.drop(columns= ['target'])\n",
    "y= df['target']"
   ]
  },
  {
   "cell_type": "code",
   "execution_count": 38,
   "id": "76c54b2c",
   "metadata": {
    "ExecuteTime": {
     "end_time": "2022-11-18T20:35:10.012240Z",
     "start_time": "2022-11-18T20:35:10.000768Z"
    }
   },
   "outputs": [
    {
     "data": {
      "text/plain": [
       "10"
      ]
     },
     "execution_count": 38,
     "metadata": {},
     "output_type": "execute_result"
    }
   ],
   "source": [
    "#Con un dataset tan asimétrico, reducimos el posible error separando los datos empleando Stratified KFold\n",
    "#Utilizamos 10 folds para manteneres la misma proporción de variables/target que en el dataset original \n",
    "\n",
    "skf = StratifiedKFold(n_splits=10, shuffle= True, random_state= 1)\n",
    "skf.get_n_splits(X, y)"
   ]
  },
  {
   "cell_type": "code",
   "execution_count": 47,
   "id": "24d47f38",
   "metadata": {
    "ExecuteTime": {
     "end_time": "2022-11-18T20:45:53.887317Z",
     "start_time": "2022-11-18T20:45:53.873388Z"
    }
   },
   "outputs": [],
   "source": [
    "#create a list to store all metrics results\n",
    "\n",
    "metrics = []\n",
    "models = []\n",
    "tiempo = []"
   ]
  },
  {
   "cell_type": "markdown",
   "id": "06f226f5",
   "metadata": {
    "ExecuteTime": {
     "end_time": "2022-11-18T22:04:39.773817Z",
     "start_time": "2022-11-18T22:04:39.746891Z"
    }
   },
   "source": [
    "<br>\n",
    "<br>\n",
    "<br>\n",
    "<br>"
   ]
  },
  {
   "cell_type": "markdown",
   "id": "02ff4459",
   "metadata": {},
   "source": [
    "<font size='6' style=\"color:cadetblue\"><b> LightGBM </b> </font>\n",
    "\n",
    "<a name=\"LightGBM\"></a>\n",
    "\n",
    "[[ Back to Top ]](#content)"
   ]
  },
  {
   "cell_type": "markdown",
   "id": "e4f4fdcb",
   "metadata": {},
   "source": [
    "Dado que LightGBM es un modelo de boosting mucho más liviano y veloz que otros como XGBoost o Catboost se eligió evaluar el rendimiento de este modelo y optimizar sus parámetros a través de la Optimización Bayesiana para luego implementar estos parámetros en modelos de boosting más complejos."
   ]
  },
  {
   "cell_type": "code",
   "execution_count": 48,
   "id": "f3369b29",
   "metadata": {
    "ExecuteTime": {
     "end_time": "2022-11-18T20:47:46.246324Z",
     "start_time": "2022-11-18T20:45:56.111271Z"
    },
    "scrolled": false
   },
   "outputs": [
    {
     "data": {
      "image/png": "[encoded data removed]",
      "text/plain": [
       "<Figure size 432x288 with 2 Axes>"
      ]
     },
     "metadata": {
      "needs_background": "light"
     },
     "output_type": "display_data"
    },
    {
     "name": "stdout",
     "output_type": "stream",
     "text": [
      "Precision's geometric mean is  0.8731491174118706\n",
      "Recall's geometric mean is  0.09469890274129372\n",
      "F1 geometric mean is  0.170857624360795\n",
      "El tiempo del modelo fue de  110.11068391799927 segundos\n"
     ]
    }
   ],
   "source": [
    "#Calling the model\n",
    "lgbm = LGBMClassifier()\n",
    "\n",
    "#lista para almacenar las métricas de cada fold\n",
    "model_metrics=[]\n",
    "\n",
    "#inicio el contador de tiempo para calcular el costo del modelo\n",
    "inicio = time.time()\n",
    "\n",
    "#Split between training and testing\n",
    "for train_index, test_index in skf.split(X, y):\n",
    "        \n",
    "    X_train=X.iloc[train_index]\n",
    "    X_test=X.iloc[test_index]\n",
    "    y_train=y.iloc[train_index]\n",
    "    y_test=y.iloc[test_index]\n",
    "    #fit the model\n",
    "    lgbm.fit(X_train, y_train)\n",
    "    \n",
    "    #make predictions\n",
    "    y_pred=lgbm.predict(X_test)\n",
    "    \n",
    "    #calculate metrics\n",
    "    cm=confusion_matrix(y_test, y_pred)\n",
    "    precision = precision_score(y_test, y_pred)\n",
    "    recall = recall_score(y_test, y_pred)\n",
    "    f1= f1_score(y_test, y_pred)\n",
    "\n",
    "    #store each fold's metrics\n",
    "    results = [precision, recall, f1]\n",
    "    model_metrics.append(results)\n",
    "    \n",
    "#display the first fold's confusion matrix\n",
    "cm_display = ConfusionMatrixDisplay(confusion_matrix = cm, display_labels = [0, 1])\n",
    "cm_display.plot()\n",
    "plt.show()\n",
    "\n",
    "#finalizamos el contador de tiempo del modelo\n",
    "fin = time.time()\n",
    "\n",
    "#store and print the metric's gmean after the 10 folds\n",
    "results_gmean= gmean(model_metrics)\n",
    "print(\"Precision's geometric mean is \" , results_gmean[0])\n",
    "print(\"Recall's geometric mean is \", results_gmean[1])\n",
    "print(\"F1 geometric mean is \", results_gmean[2])\n",
    "\n",
    "#add these to the general lists\n",
    "models.append(\"Light GBM\")\n",
    "metrics.append(results_gmean)\n",
    "tiempo.append(fin-inicio)\n",
    "\n",
    "print(\"El tiempo del modelo fue de \", fin-inicio, \"segundos\")"
   ]
  },
  {
   "cell_type": "code",
   "execution_count": null,
   "id": "ff950337",
   "metadata": {},
   "outputs": [],
   "source": []
  },
  {
   "cell_type": "markdown",
   "id": "937f963d",
   "metadata": {},
   "source": [
    "<br>\n",
    "<br>\n",
    "<br>\n",
    "<br>\n"
   ]
  },
  {
   "cell_type": "markdown",
   "id": "a645c2a1",
   "metadata": {},
   "source": [
    "<font size='6' style=\"color:cadetblue\"><b> PCA </b> </font>\n",
    "\n",
    "<a name=\"PCA\"></a>\n",
    "\n",
    "[[ Back to Top ]](#content)"
   ]
  },
  {
   "cell_type": "code",
   "execution_count": 49,
   "id": "0fae4ac2",
   "metadata": {
    "ExecuteTime": {
     "end_time": "2022-11-18T20:47:58.463417Z",
     "start_time": "2022-11-18T20:47:58.444468Z"
    }
   },
   "outputs": [],
   "source": [
    "#In order to work with Optuna, a smaller dataset will be created using PCA method\n",
    "\n",
    "# Armamos varios PCA para probar con distinto númro de componentes\n",
    "#PCA100\n",
    "pca100 = PCA(n_components=100)\n",
    "\n",
    "#PCA125\n",
    "pca125 = PCA(n_components=125)\n",
    "\n",
    "#PCA150\n",
    "pca150 = PCA(n_components=150)\n",
    "\n",
    "#PCA175\n",
    "pca175 = PCA(n_components=175)"
   ]
  },
  {
   "cell_type": "markdown",
   "id": "d3260c37",
   "metadata": {},
   "source": [
    "<br>\n",
    "<br>\n",
    "<br>\n",
    "<br>"
   ]
  },
  {
   "cell_type": "markdown",
   "id": "465b6882",
   "metadata": {},
   "source": [
    "<font size='4' style=\"color:darkorchid\"><b> LightGBM with PCA 175 components </b> </font>\n",
    "\n",
    "<a name=\"175\"></a>\n",
    "\n",
    "[[ Back to Top ]](#content)"
   ]
  },
  {
   "cell_type": "code",
   "execution_count": 50,
   "id": "90842b2c",
   "metadata": {
    "ExecuteTime": {
     "end_time": "2022-11-18T20:49:48.345897Z",
     "start_time": "2022-11-18T20:48:01.316690Z"
    },
    "scrolled": true
   },
   "outputs": [
    {
     "data": {
      "image/png": "[encoded data removed]",
      "text/plain": [
       "<Figure size 432x288 with 2 Axes>"
      ]
     },
     "metadata": {
      "needs_background": "light"
     },
     "output_type": "display_data"
    },
    {
     "name": "stdout",
     "output_type": "stream",
     "text": [
      "Precision's geometric mean is  0.2750311663852587\n",
      "Recall's geometric mean is  0.005777977299016975\n",
      "F1 geometric mean is  0.011315060041070775\n",
      "El tiempo del modelo fue de  106.98619532585144 segundos\n"
     ]
    }
   ],
   "source": [
    "#creamos el modelo\n",
    "lgbm175 = LGBMClassifier()\n",
    "\n",
    "#creamos una lista para almacenar las métricas de los 10 folds\n",
    "model_metrics=[]\n",
    "\n",
    "#inicio el contador de tiempo para calcular el costo del modelo\n",
    "inicio = time.time()\n",
    "\n",
    "#Split entre training y testing\n",
    "for train_index, test_index in skf.split(X, y):\n",
    "        \n",
    "    X_train=pca175.fit_transform(X.iloc[train_index])\n",
    "    X_test=pca175.fit_transform(X.iloc[test_index])\n",
    "    y_train=y.iloc[train_index]\n",
    "    y_test=y.iloc[test_index]\n",
    "    \n",
    "    #fit the model\n",
    "    lgbm175.fit(X_train, y_train)\n",
    "    \n",
    "    #make predictions\n",
    "    y_pred=lgbm175.predict(X_test)\n",
    "    \n",
    "    #calculate metrics\n",
    "    cm=confusion_matrix(y_test, y_pred)\n",
    "    precision = precision_score(y_test, y_pred)\n",
    "    recall = recall_score(y_test, y_pred)\n",
    "    f1= f1_score(y_test, y_pred)\n",
    "\n",
    "    #store each fold's metrics\n",
    "    results = [precision, recall, f1]\n",
    "    model_metrics.append(results)\n",
    "    \n",
    "#display the first fold's confusion matrix\n",
    "cm_display = ConfusionMatrixDisplay(confusion_matrix = cm, display_labels = [0, 1])\n",
    "cm_display.plot()\n",
    "plt.show()\n",
    "\n",
    "#finalizamos el contador de tiempo del modelo\n",
    "fin = time.time()\n",
    "\n",
    "#store and print the metric's gmean after the 10 folds\n",
    "results_gmean= gmean(model_metrics)\n",
    "print(\"Precision's geometric mean is \" , results_gmean[0])\n",
    "print(\"Recall's geometric mean is \", results_gmean[1])\n",
    "print(\"F1 geometric mean is \", results_gmean[2])\n",
    "\n",
    "#add these to the general lists\n",
    "models.append(\"Light GBM 175\")\n",
    "metrics.append(results_gmean)\n",
    "tiempo.append(fin-inicio)\n",
    "\n",
    "print(\"El tiempo del modelo fue de \", fin-inicio, \"segundos\")\n"
   ]
  },
  {
   "cell_type": "code",
   "execution_count": 72,
   "id": "e5024b4f",
   "metadata": {
    "ExecuteTime": {
     "end_time": "2022-11-19T00:08:36.545688Z",
     "start_time": "2022-11-19T00:08:36.520757Z"
    }
   },
   "outputs": [],
   "source": [
    "# Save the model\n",
    "# ==============================================================================\n",
    "pkl_path = \"LightBoostPCA175.pkl\"\n",
    "\n",
    "with open(pkl_path, \"wb\") as f:\n",
    "    # Pickle the 'lgbm100' model using the highest protocol available.\n",
    "    pickle.dump(lgbm175, f)"
   ]
  },
  {
   "cell_type": "markdown",
   "id": "f86377d6",
   "metadata": {},
   "source": [
    "<br>\n",
    "<br>\n",
    "<br>\n",
    "<br>"
   ]
  },
  {
   "cell_type": "markdown",
   "id": "3e998cb5",
   "metadata": {},
   "source": [
    "<font size='4' style=\"color:darkorchid\"><b> LightGBM with PCA 150 components </b> </font>\n",
    "\n",
    "<a name=\"150\"></a>\n",
    "\n",
    "[[ Back to Top ]](#content)"
   ]
  },
  {
   "cell_type": "code",
   "execution_count": 52,
   "id": "4387c11a",
   "metadata": {
    "ExecuteTime": {
     "end_time": "2022-11-18T20:55:09.190762Z",
     "start_time": "2022-11-18T20:52:42.248802Z"
    },
    "scrolled": true
   },
   "outputs": [
    {
     "data": {
      "image/png": "[encoded data removed]",
      "text/plain": [
       "<Figure size 432x288 with 2 Axes>"
      ]
     },
     "metadata": {
      "needs_background": "light"
     },
     "output_type": "display_data"
    },
    {
     "name": "stdout",
     "output_type": "stream",
     "text": [
      "Precision's geometric mean is  0.31067403963116597\n",
      "Recall's geometric mean is  0.0074743112645649186\n",
      "F1 geometric mean is  0.014590894078075607\n",
      "El tiempo del modelo fue de  146.930326461792 segundos\n"
     ]
    }
   ],
   "source": [
    "#creamos el modelo\n",
    "lgbm150 = LGBMClassifier()\n",
    "\n",
    "#lista para almacenar las métricas de cada fold\n",
    "model_metrics=[]\n",
    "\n",
    "#inicio el contador de tiempo para calcular el costo del modelo\n",
    "inicio = time.time()\n",
    "\n",
    "#Split between training and testing\n",
    "for train_index, test_index in skf.split(X, y):\n",
    "        \n",
    "    X_train=pca150.fit_transform(X.iloc[train_index])\n",
    "    X_test=pca150.fit_transform(X.iloc[test_index])\n",
    "    y_train=y.iloc[train_index]\n",
    "    y_test=y.iloc[test_index]\n",
    "    #fit the model\n",
    "    lgbm150.fit(X_train, y_train)\n",
    "    \n",
    "    #make predictions\n",
    "    y_pred=lgbm150.predict(X_test)\n",
    "    \n",
    "    #calculate metrics\n",
    "    cm=confusion_matrix(y_test, y_pred)\n",
    "    precision = precision_score(y_test, y_pred)\n",
    "    recall = recall_score(y_test, y_pred)\n",
    "    f1= f1_score(y_test, y_pred)\n",
    "\n",
    "    #store each fold's metrics\n",
    "    results = [precision, recall, f1]\n",
    "    model_metrics.append(results)\n",
    "    \n",
    "#display the first fold's confusion matrix\n",
    "cm_display = ConfusionMatrixDisplay(confusion_matrix = cm, display_labels = [0, 1])\n",
    "cm_display.plot()\n",
    "plt.show()\n",
    "\n",
    "#finalizamos el contador de tiempo del modelo\n",
    "fin = time.time()\n",
    "\n",
    "#store and print the metric's gmean after the 10 folds\n",
    "results_gmean= gmean(model_metrics)\n",
    "print(\"Precision's geometric mean is \" , results_gmean[0])\n",
    "print(\"Recall's geometric mean is \", results_gmean[1])\n",
    "print(\"F1 geometric mean is \", results_gmean[2])\n",
    "\n",
    "#add these to the general lists\n",
    "models.append(\"Light GBM 150\")\n",
    "metrics.append(results_gmean)\n",
    "tiempo.append(fin-inicio)\n",
    "\n",
    "print(\"El tiempo del modelo fue de \", fin-inicio, \"segundos\")"
   ]
  },
  {
   "cell_type": "code",
   "execution_count": 71,
   "id": "55ffab8b",
   "metadata": {
    "ExecuteTime": {
     "end_time": "2022-11-19T00:08:11.983675Z",
     "start_time": "2022-11-19T00:08:11.960741Z"
    }
   },
   "outputs": [],
   "source": [
    "# Save the model\n",
    "# ==============================================================================\n",
    "pkl_path = \"LightBoostPCA150.pkl\"\n",
    "\n",
    "with open(pkl_path, \"wb\") as f:\n",
    "    # Pickle the 'lgbm150' model using the highest protocol available.\n",
    "    pickle.dump(lgbm150, f)"
   ]
  },
  {
   "cell_type": "markdown",
   "id": "7d592398",
   "metadata": {},
   "source": [
    "<br>\n",
    "<br>\n",
    "<br>\n",
    "<br>"
   ]
  },
  {
   "cell_type": "markdown",
   "id": "de7b8b51",
   "metadata": {},
   "source": [
    "<font size='4' style=\"color:darkorchid\"><b> LightGBM with PCA 125 components </b> </font>\n",
    "\n",
    "<a name=\"125\"></a>\n",
    "\n",
    "[[ Back to Top ]](#content)"
   ]
  },
  {
   "cell_type": "code",
   "execution_count": 54,
   "id": "23cea898",
   "metadata": {
    "ExecuteTime": {
     "end_time": "2022-11-18T20:59:52.232224Z",
     "start_time": "2022-11-18T20:57:43.125204Z"
    },
    "scrolled": false
   },
   "outputs": [
    {
     "data": {
      "image/png": "[encoded data removed]",
      "text/plain": [
       "<Figure size 432x288 with 2 Axes>"
      ]
     },
     "metadata": {
      "needs_background": "light"
     },
     "output_type": "display_data"
    },
    {
     "name": "stdout",
     "output_type": "stream",
     "text": [
      "Precision's geometric mean is  0.229340138416644\n",
      "Recall's geometric mean is  0.0038239382767338076\n",
      "F1 geometric mean is  0.007518868841883683\n",
      "El tiempo del modelo fue de  129.09689950942993 segundos\n"
     ]
    }
   ],
   "source": [
    "#creamos el modelo\n",
    "lgbm125 = LGBMClassifier()\n",
    "\n",
    "#lista para almacenar las métricas de cada fold\n",
    "model_metrics=[]\n",
    "\n",
    "#inicio el contador de tiempo para calcular el costo del modelo\n",
    "inicio = time.time()\n",
    "\n",
    "#Split between training and testing\n",
    "for train_index, test_index in skf.split(X, y):\n",
    "        \n",
    "    X_train=pca125.fit_transform(X.iloc[train_index])\n",
    "    X_test=pca125.fit_transform(X.iloc[test_index])\n",
    "    y_train=y.iloc[train_index]\n",
    "    y_test=y.iloc[test_index]\n",
    "    #fit the model\n",
    "    lgbm125.fit(X_train, y_train)\n",
    "    \n",
    "    #make predictions\n",
    "    y_pred=lgbm125.predict(X_test)\n",
    "    \n",
    "    #calculate metrics\n",
    "    cm=confusion_matrix(y_test, y_pred)\n",
    "    precision = precision_score(y_test, y_pred)\n",
    "    recall = recall_score(y_test, y_pred)\n",
    "    f1= f1_score(y_test, y_pred)\n",
    "\n",
    "    #store each fold's metrics\n",
    "    results = [precision, recall, f1]\n",
    "    model_metrics.append(results)\n",
    "    \n",
    "#display the first fold's confusion matrix\n",
    "cm_display = ConfusionMatrixDisplay(confusion_matrix = cm, display_labels = [0, 1])\n",
    "cm_display.plot()\n",
    "plt.show()\n",
    "\n",
    "#finalizamos el contador de tiempo del modelo\n",
    "fin = time.time()\n",
    "\n",
    "#store and print the metric's gmean after the 10 folds\n",
    "results_gmean= gmean(model_metrics)\n",
    "print(\"Precision's geometric mean is \" , results_gmean[0])\n",
    "print(\"Recall's geometric mean is \", results_gmean[1])\n",
    "print(\"F1 geometric mean is \", results_gmean[2])\n",
    "\n",
    "#add these to the general lists\n",
    "models.append(\"Light GBM 125\")\n",
    "metrics.append(results_gmean)\n",
    "tiempo.append(fin-inicio)\n",
    "\n",
    "print(\"El tiempo del modelo fue de \", fin-inicio, \"segundos\")"
   ]
  },
  {
   "cell_type": "code",
   "execution_count": 70,
   "id": "6df0935f",
   "metadata": {
    "ExecuteTime": {
     "end_time": "2022-11-19T00:07:50.796040Z",
     "start_time": "2022-11-19T00:07:50.755151Z"
    }
   },
   "outputs": [],
   "source": [
    "# Save the model\n",
    "# ==============================================================================\n",
    "pkl_path = \"LightBoostPCA125.pkl\"\n",
    "\n",
    "with open(pkl_path, \"wb\") as f:\n",
    "    # Pickle the 'lgbm125' model using the highest protocol available.\n",
    "    pickle.dump(lgbm125, f)"
   ]
  },
  {
   "cell_type": "markdown",
   "id": "7ac69596",
   "metadata": {},
   "source": [
    "<br>\n",
    "<br>\n",
    "<br>\n",
    "<br>"
   ]
  },
  {
   "cell_type": "markdown",
   "id": "20102b99",
   "metadata": {},
   "source": [
    "<font size='4' style=\"color:darkorchid\"><b> LightGBM with PCA 100 components </b> </font>\n",
    "\n",
    "<a name=\"100\"></a>\n",
    "\n",
    "[[ Back to Top ]](#content)"
   ]
  },
  {
   "cell_type": "code",
   "execution_count": 56,
   "id": "d51aee4f",
   "metadata": {
    "ExecuteTime": {
     "end_time": "2022-11-18T21:02:32.775801Z",
     "start_time": "2022-11-18T21:00:33.029551Z"
    },
    "scrolled": false
   },
   "outputs": [
    {
     "data": {
      "image/png": "[encoded data removed]",
      "text/plain": [
       "<Figure size 432x288 with 2 Axes>"
      ]
     },
     "metadata": {
      "needs_background": "light"
     },
     "output_type": "display_data"
    },
    {
     "name": "stdout",
     "output_type": "stream",
     "text": [
      "Precision's geometric mean is  0.2369741334119722\n",
      "Recall's geometric mean is  0.0043159318880780706\n",
      "F1 geometric mean is  0.008477076263159434\n",
      "El tiempo del modelo fue de  119.71798896789551 segundos\n"
     ]
    }
   ],
   "source": [
    "#creamos el modelo\n",
    "lgbm100 = LGBMClassifier()\n",
    "\n",
    "#lista para almacenar las métricas de cada fold\n",
    "model_metrics=[]\n",
    "\n",
    "#inicio el contador de tiempo para calcular el costo del modelo\n",
    "inicio = time.time()\n",
    "\n",
    "#Split between training and testing\n",
    "for train_index, test_index in skf.split(X, y):\n",
    "        \n",
    "    X_train=pca100.fit_transform(X.iloc[train_index])\n",
    "    X_test=pca100.fit_transform(X.iloc[test_index])\n",
    "    y_train=y.iloc[train_index]\n",
    "    y_test=y.iloc[test_index]\n",
    "    #fit the model\n",
    "    lgbm100.fit(X_train, y_train)\n",
    "    \n",
    "    #make predictions\n",
    "    y_pred=lgbm100.predict(X_test)\n",
    "    \n",
    "    #calculate metrics\n",
    "    cm=confusion_matrix(y_test, y_pred)\n",
    "    precision = precision_score(y_test, y_pred)\n",
    "    recall = recall_score(y_test, y_pred)\n",
    "    f1= f1_score(y_test, y_pred)\n",
    "\n",
    "    #store each fold's metrics\n",
    "    results = [precision, recall, f1]\n",
    "    model_metrics.append(results)\n",
    "    \n",
    "#display the first fold's confusion matrix\n",
    "cm_display = ConfusionMatrixDisplay(confusion_matrix = cm, display_labels = [0, 1])\n",
    "cm_display.plot()\n",
    "plt.show()\n",
    "\n",
    "#finalizamos el contador de tiempo del modelo\n",
    "fin = time.time()\n",
    "\n",
    "#store and print the metric's gmean after the 10 folds\n",
    "results_gmean= gmean(model_metrics)\n",
    "print(\"Precision's geometric mean is \" , results_gmean[0])\n",
    "print(\"Recall's geometric mean is \", results_gmean[1])\n",
    "print(\"F1 geometric mean is \", results_gmean[2])\n",
    "\n",
    "#add these to the general lists\n",
    "models.append(\"Light GBM 100\")\n",
    "metrics.append(results_gmean)\n",
    "tiempo.append(fin-inicio)\n",
    "\n",
    "print(\"El tiempo del modelo fue de \", fin-inicio, \"segundos\")"
   ]
  },
  {
   "cell_type": "code",
   "execution_count": 69,
   "id": "a4a045e0",
   "metadata": {
    "ExecuteTime": {
     "end_time": "2022-11-19T00:06:45.639387Z",
     "start_time": "2022-11-19T00:06:45.521746Z"
    }
   },
   "outputs": [],
   "source": [
    "# Save the model\n",
    "# ==============================================================================\n",
    "pkl_path = \"LightBoostPCA100.pkl\"\n",
    "\n",
    "with open(pkl_path, \"wb\") as f:\n",
    "    # Pickle the 'lgbm100' model using the highest protocol available.\n",
    "    pickle.dump(lgbm100, f)"
   ]
  },
  {
   "cell_type": "markdown",
   "id": "83a93de1",
   "metadata": {},
   "source": [
    "<br>\n",
    "<br>\n",
    "<br>\n",
    "<br>"
   ]
  },
  {
   "cell_type": "markdown",
   "id": "fa7ea826",
   "metadata": {},
   "source": [
    "<font size='4' style=\"color:darkorchid\"><b> Resumen de modelos </b> </font>\n",
    "\n",
    "<a name=\"Summary\"></a>\n",
    "\n",
    "[[ Back to Top ]](#content)"
   ]
  },
  {
   "cell_type": "code",
   "execution_count": 57,
   "id": "b5f408e0",
   "metadata": {
    "ExecuteTime": {
     "end_time": "2022-11-18T21:04:33.968090Z",
     "start_time": "2022-11-18T21:04:33.953132Z"
    },
    "scrolled": true
   },
   "outputs": [
    {
     "data": {
      "text/plain": [
       "[array([0.87314912, 0.0946989 , 0.17085762]),\n",
       " array([0.27503117, 0.00577798, 0.01131506]),\n",
       " array([0.31067404, 0.00747431, 0.01459089]),\n",
       " array([0.22934014, 0.00382394, 0.00751887]),\n",
       " array([0.23697413, 0.00431593, 0.00847708])]"
      ]
     },
     "execution_count": 57,
     "metadata": {},
     "output_type": "execute_result"
    }
   ],
   "source": [
    "metrics"
   ]
  },
  {
   "cell_type": "code",
   "execution_count": 59,
   "id": "c1d18a40",
   "metadata": {
    "ExecuteTime": {
     "end_time": "2022-11-18T21:09:24.069267Z",
     "start_time": "2022-11-18T21:09:24.006589Z"
    }
   },
   "outputs": [
    {
     "data": {
      "text/html": [
       "<div>\n",
       "<style scoped>\n",
       "    .dataframe tbody tr th:only-of-type {\n",
       "        vertical-align: middle;\n",
       "    }\n",
       "\n",
       "    .dataframe tbody tr th {\n",
       "        vertical-align: top;\n",
       "    }\n",
       "\n",
       "    .dataframe thead th {\n",
       "        text-align: right;\n",
       "    }\n",
       "</style>\n",
       "<table border=\"1\" class=\"dataframe\">\n",
       "  <thead>\n",
       "    <tr style=\"text-align: right;\">\n",
       "      <th></th>\n",
       "      <th>PRECISION</th>\n",
       "      <th>RECALL</th>\n",
       "      <th>F1</th>\n",
       "    </tr>\n",
       "  </thead>\n",
       "  <tbody>\n",
       "    <tr>\n",
       "      <th>Light GBM</th>\n",
       "      <td>0.873149</td>\n",
       "      <td>0.094699</td>\n",
       "      <td>0.170858</td>\n",
       "    </tr>\n",
       "    <tr>\n",
       "      <th>Light GBM 175</th>\n",
       "      <td>0.275031</td>\n",
       "      <td>0.005778</td>\n",
       "      <td>0.011315</td>\n",
       "    </tr>\n",
       "    <tr>\n",
       "      <th>Light GBM 150</th>\n",
       "      <td>0.310674</td>\n",
       "      <td>0.007474</td>\n",
       "      <td>0.014591</td>\n",
       "    </tr>\n",
       "    <tr>\n",
       "      <th>Light GBM 125</th>\n",
       "      <td>0.229340</td>\n",
       "      <td>0.003824</td>\n",
       "      <td>0.007519</td>\n",
       "    </tr>\n",
       "    <tr>\n",
       "      <th>Light GBM 100</th>\n",
       "      <td>0.236974</td>\n",
       "      <td>0.004316</td>\n",
       "      <td>0.008477</td>\n",
       "    </tr>\n",
       "  </tbody>\n",
       "</table>\n",
       "</div>"
      ],
      "text/plain": [
       "               PRECISION    RECALL        F1\n",
       "Light GBM       0.873149  0.094699  0.170858\n",
       "Light GBM 175   0.275031  0.005778  0.011315\n",
       "Light GBM 150   0.310674  0.007474  0.014591\n",
       "Light GBM 125   0.229340  0.003824  0.007519\n",
       "Light GBM 100   0.236974  0.004316  0.008477"
      ]
     },
     "execution_count": 59,
     "metadata": {},
     "output_type": "execute_result"
    }
   ],
   "source": [
    "columnas = [\"PRECISION\", \"RECALL\", \"F1\"]\n",
    "resumen = pd.DataFrame(metrics, columns=columnas, index=models)\n",
    "resumen"
   ]
  },
  {
   "cell_type": "code",
   "execution_count": 60,
   "id": "9c52775f",
   "metadata": {
    "ExecuteTime": {
     "end_time": "2022-11-18T21:10:31.003050Z",
     "start_time": "2022-11-18T21:10:30.981611Z"
    },
    "scrolled": false
   },
   "outputs": [
    {
     "data": {
      "text/html": [
       "<div>\n",
       "<style scoped>\n",
       "    .dataframe tbody tr th:only-of-type {\n",
       "        vertical-align: middle;\n",
       "    }\n",
       "\n",
       "    .dataframe tbody tr th {\n",
       "        vertical-align: top;\n",
       "    }\n",
       "\n",
       "    .dataframe thead th {\n",
       "        text-align: right;\n",
       "    }\n",
       "</style>\n",
       "<table border=\"1\" class=\"dataframe\">\n",
       "  <thead>\n",
       "    <tr style=\"text-align: right;\">\n",
       "      <th></th>\n",
       "      <th>PRECISION</th>\n",
       "      <th>RECALL</th>\n",
       "      <th>F1</th>\n",
       "      <th>TIEMPO (s)</th>\n",
       "    </tr>\n",
       "  </thead>\n",
       "  <tbody>\n",
       "    <tr>\n",
       "      <th>Light GBM</th>\n",
       "      <td>0.873149</td>\n",
       "      <td>0.094699</td>\n",
       "      <td>0.170858</td>\n",
       "      <td>110.110684</td>\n",
       "    </tr>\n",
       "    <tr>\n",
       "      <th>Light GBM 175</th>\n",
       "      <td>0.275031</td>\n",
       "      <td>0.005778</td>\n",
       "      <td>0.011315</td>\n",
       "      <td>106.986195</td>\n",
       "    </tr>\n",
       "    <tr>\n",
       "      <th>Light GBM 150</th>\n",
       "      <td>0.310674</td>\n",
       "      <td>0.007474</td>\n",
       "      <td>0.014591</td>\n",
       "      <td>146.930326</td>\n",
       "    </tr>\n",
       "    <tr>\n",
       "      <th>Light GBM 125</th>\n",
       "      <td>0.229340</td>\n",
       "      <td>0.003824</td>\n",
       "      <td>0.007519</td>\n",
       "      <td>129.096900</td>\n",
       "    </tr>\n",
       "    <tr>\n",
       "      <th>Light GBM 100</th>\n",
       "      <td>0.236974</td>\n",
       "      <td>0.004316</td>\n",
       "      <td>0.008477</td>\n",
       "      <td>119.717989</td>\n",
       "    </tr>\n",
       "  </tbody>\n",
       "</table>\n",
       "</div>"
      ],
      "text/plain": [
       "               PRECISION    RECALL        F1  TIEMPO (s)\n",
       "Light GBM       0.873149  0.094699  0.170858  110.110684\n",
       "Light GBM 175   0.275031  0.005778  0.011315  106.986195\n",
       "Light GBM 150   0.310674  0.007474  0.014591  146.930326\n",
       "Light GBM 125   0.229340  0.003824  0.007519  129.096900\n",
       "Light GBM 100   0.236974  0.004316  0.008477  119.717989"
      ]
     },
     "execution_count": 60,
     "metadata": {},
     "output_type": "execute_result"
    }
   ],
   "source": [
    "resumen['TIEMPO (s)'] = tiempo\n",
    "resumen"
   ]
  },
  {
   "cell_type": "code",
   "execution_count": null,
   "id": "84ae7c06",
   "metadata": {},
   "outputs": [],
   "source": [
    "resumen.to_pickle('df_resumen_LGBM.pkl')"
   ]
  },
  {
   "cell_type": "markdown",
   "id": "62bad0f7",
   "metadata": {},
   "source": [
    "<br>\n",
    "<br>\n",
    "<br>\n",
    "<br>"
   ]
  },
  {
   "cell_type": "markdown",
   "id": "b52ea226",
   "metadata": {},
   "source": [
    "<font size='6' style=\"color:cadetblue\"><b> Optimización Bayesiana con Optuna </b> </font>\n",
    "\n",
    "<a name=\"Optuna\"></a>\n",
    "\n",
    "[[ Back to Top ]](#content)"
   ]
  },
  {
   "cell_type": "markdown",
   "id": "1cb015d3",
   "metadata": {},
   "source": [
    "En vista de las métricas obtenidas en la tabla de resultadosm donde el modelo LightGBM con un pca de 175 componente fue el modelo que menos tiempo tomó y el segundo mejor en Recall, se lo eligió para realizar la optimización Bayesiana. "
   ]
  },
  {
   "cell_type": "markdown",
   "id": "3add584e",
   "metadata": {},
   "source": [
    "<br>\n",
    "<br>"
   ]
  },
  {
   "cell_type": "markdown",
   "id": "3f13b675",
   "metadata": {},
   "source": [
    "<font size='4' style=\"color:darkorchid\"><b> Optimización de LightGBM PCA 175  </b> </font>\n",
    "\n",
    "<a name=\"Optimizacion175\"></a>\n",
    "\n",
    "[[ Back to Top ]](#content)"
   ]
  },
  {
   "cell_type": "code",
   "execution_count": 87,
   "id": "6276c0dd",
   "metadata": {
    "ExecuteTime": {
     "end_time": "2022-11-21T16:07:59.801667Z",
     "start_time": "2022-11-21T16:07:59.661560Z"
    }
   },
   "outputs": [],
   "source": [
    "recall_results175 = [] \n",
    "\n",
    "# Objective function for the Light GBM Model\n",
    "# ==============================================================================\n",
    "def objective_lgbm175(trial):\n",
    "    # hyperparameter setting\n",
    "    lgbm175__max_depth = trial.suggest_int ('lgbm1175__max_depth', 3, 21)\n",
    "    lgbm175__n_estimators = trial.suggest_int('lgbm175__n_estimators', 300, 3000, 10)\n",
    "\n",
    "    \n",
    "    #splitting th dataset\n",
    "    for train_index, test_index in skf.split(X,y):\n",
    "        X_train=pca175.fit_transform(X.iloc[train_index])\n",
    "        X_test=pca175.transform(X.iloc[test_index])\n",
    "        y_train=y.iloc[train_index]\n",
    "        y_test=y.iloc[test_index]\n",
    "        \n",
    "             \n",
    "    \n",
    "    #model training\n",
    "    model = LGBMClassifier(max_depth= lgbm175__max_depth, n_estimators= lgbm175__n_estimators) \n",
    "    model.fit(X_train, y_train)\n",
    "    \n",
    "    #predictions\n",
    "    y_pred = model.predict(X_test)\n",
    "    \n",
    "    \n",
    "    #evaluation metrics\n",
    "    recall = recall_score(y_test, y_pred)\n",
    "    recall_results.append(recall)\n",
    "    \n",
    "    return gmean(recall_results)"
   ]
  },
  {
   "cell_type": "code",
   "execution_count": 88,
   "id": "75332d7a",
   "metadata": {
    "ExecuteTime": {
     "end_time": "2022-11-21T23:23:18.379165Z",
     "start_time": "2022-11-21T16:08:08.655824Z"
    }
   },
   "outputs": [
    {
     "name": "stderr",
     "output_type": "stream",
     "text": [
      "\u001b[32m[I 2022-11-21 13:08:08,718]\u001b[0m A new study created in memory with name: no-name-fc3d07e0-3d93-42af-bb29-0ad048b2cc48\u001b[0m\n",
      "\u001b[32m[I 2022-11-21 13:09:51,154]\u001b[0m Trial 0 finished with value: 0.12959990214712075 and parameters: {'lgbm1175__max_depth': 11, 'lgbm175__n_estimators': 1910}. Best is trial 0 with value: 0.12959990214712075.\u001b[0m\n",
      "\u001b[32m[I 2022-11-21 13:11:02,051]\u001b[0m Trial 1 finished with value: 0.12993863367559547 and parameters: {'lgbm1175__max_depth': 4, 'lgbm175__n_estimators': 1620}. Best is trial 1 with value: 0.12993863367559547.\u001b[0m\n",
      "\u001b[32m[I 2022-11-21 13:12:58,585]\u001b[0m Trial 2 finished with value: 0.13017024048779113 and parameters: {'lgbm1175__max_depth': 7, 'lgbm175__n_estimators': 2430}. Best is trial 2 with value: 0.13017024048779113.\u001b[0m\n",
      "\u001b[32m[I 2022-11-21 13:13:32,106]\u001b[0m Trial 3 finished with value: 0.13007408551872232 and parameters: {'lgbm1175__max_depth': 3, 'lgbm175__n_estimators': 320}. Best is trial 2 with value: 0.13017024048779113.\u001b[0m\n",
      "\u001b[32m[I 2022-11-21 13:14:19,093]\u001b[0m Trial 4 finished with value: 0.13031987963639438 and parameters: {'lgbm1175__max_depth': 9, 'lgbm175__n_estimators': 430}. Best is trial 4 with value: 0.13031987963639438.\u001b[0m\n",
      "\u001b[32m[I 2022-11-21 13:16:00,579]\u001b[0m Trial 5 finished with value: 0.13056176550242318 and parameters: {'lgbm1175__max_depth': 9, 'lgbm175__n_estimators': 2170}. Best is trial 5 with value: 0.13056176550242318.\u001b[0m\n",
      "\u001b[32m[I 2022-11-21 13:17:11,049]\u001b[0m Trial 6 finished with value: 0.13081524012413828 and parameters: {'lgbm1175__max_depth': 16, 'lgbm175__n_estimators': 1150}. Best is trial 6 with value: 0.13081524012413828.\u001b[0m\n",
      "\u001b[32m[I 2022-11-21 13:17:54,633]\u001b[0m Trial 7 finished with value: 0.13103020905764665 and parameters: {'lgbm1175__max_depth': 9, 'lgbm175__n_estimators': 360}. Best is trial 7 with value: 0.13103020905764665.\u001b[0m\n",
      "\u001b[32m[I 2022-11-21 13:19:03,546]\u001b[0m Trial 8 finished with value: 0.13128320479576333 and parameters: {'lgbm1175__max_depth': 16, 'lgbm175__n_estimators': 1070}. Best is trial 8 with value: 0.13128320479576333.\u001b[0m\n",
      "\u001b[32m[I 2022-11-21 13:20:47,205]\u001b[0m Trial 9 finished with value: 0.13151968768691452 and parameters: {'lgbm1175__max_depth': 13, 'lgbm175__n_estimators': 1960}. Best is trial 9 with value: 0.13151968768691452.\u001b[0m\n",
      "\u001b[32m[I 2022-11-21 13:22:58,674]\u001b[0m Trial 10 finished with value: 0.13173048024185585 and parameters: {'lgbm1175__max_depth': 21, 'lgbm175__n_estimators': 2880}. Best is trial 10 with value: 0.13173048024185585.\u001b[0m\n",
      "\u001b[32m[I 2022-11-21 13:25:11,690]\u001b[0m Trial 11 finished with value: 0.13194604933545953 and parameters: {'lgbm1175__max_depth': 21, 'lgbm175__n_estimators': 2990}. Best is trial 11 with value: 0.13194604933545953.\u001b[0m\n",
      "\u001b[32m[I 2022-11-21 13:27:26,610]\u001b[0m Trial 12 finished with value: 0.1321605903816023 and parameters: {'lgbm1175__max_depth': 21, 'lgbm175__n_estimators': 2990}. Best is trial 12 with value: 0.1321605903816023.\u001b[0m\n",
      "\u001b[32m[I 2022-11-21 13:29:38,924]\u001b[0m Trial 13 finished with value: 0.13237315340455666 and parameters: {'lgbm1175__max_depth': 21, 'lgbm175__n_estimators': 2980}. Best is trial 13 with value: 0.13237315340455666.\u001b[0m\n",
      "\u001b[32m[I 2022-11-21 13:31:36,789]\u001b[0m Trial 14 finished with value: 0.13259603138420623 and parameters: {'lgbm1175__max_depth': 18, 'lgbm175__n_estimators': 2570}. Best is trial 14 with value: 0.13259603138420623.\u001b[0m\n",
      "\u001b[32m[I 2022-11-21 13:33:34,711]\u001b[0m Trial 15 finished with value: 0.13281600655800216 and parameters: {'lgbm1175__max_depth': 18, 'lgbm175__n_estimators': 2540}. Best is trial 15 with value: 0.13281600655800216.\u001b[0m\n",
      "\u001b[32m[I 2022-11-21 13:35:31,506]\u001b[0m Trial 16 finished with value: 0.13303026636314422 and parameters: {'lgbm1175__max_depth': 17, 'lgbm175__n_estimators': 2520}. Best is trial 16 with value: 0.13303026636314422.\u001b[0m\n",
      "\u001b[32m[I 2022-11-21 13:37:34,892]\u001b[0m Trial 17 finished with value: 0.13324727057407648 and parameters: {'lgbm1175__max_depth': 17, 'lgbm175__n_estimators': 2430}. Best is trial 17 with value: 0.13324727057407648.\u001b[0m\n",
      "\u001b[32m[I 2022-11-21 13:39:01,359]\u001b[0m Trial 18 finished with value: 0.13348060598178463 and parameters: {'lgbm1175__max_depth': 14, 'lgbm175__n_estimators': 1580}. Best is trial 18 with value: 0.13348060598178463.\u001b[0m\n",
      "\u001b[32m[I 2022-11-21 13:40:21,648]\u001b[0m Trial 19 finished with value: 0.13370839964099535 and parameters: {'lgbm1175__max_depth': 14, 'lgbm175__n_estimators': 1440}. Best is trial 19 with value: 0.13370839964099535.\u001b[0m\n",
      "\u001b[32m[I 2022-11-21 13:41:41,498]\u001b[0m Trial 20 finished with value: 0.13395280536568896 and parameters: {'lgbm1175__max_depth': 12, 'lgbm175__n_estimators': 1350}. Best is trial 20 with value: 0.13395280536568896.\u001b[0m\n",
      "\u001b[32m[I 2022-11-21 13:43:00,975]\u001b[0m Trial 21 finished with value: 0.1341952718915024 and parameters: {'lgbm1175__max_depth': 13, 'lgbm175__n_estimators': 1370}. Best is trial 21 with value: 0.1341952718915024.\u001b[0m\n",
      "\u001b[32m[I 2022-11-21 13:44:14,026]\u001b[0m Trial 22 finished with value: 0.134435807487234 and parameters: {'lgbm1175__max_depth': 12, 'lgbm175__n_estimators': 1210}. Best is trial 22 with value: 0.134435807487234.\u001b[0m\n",
      "\u001b[32m[I 2022-11-21 13:45:16,330]\u001b[0m Trial 23 finished with value: 0.1346691919713628 and parameters: {'lgbm1175__max_depth': 11, 'lgbm175__n_estimators': 880}. Best is trial 23 with value: 0.1346691919713628.\u001b[0m\n",
      "\u001b[32m[I 2022-11-21 13:46:14,077]\u001b[0m Trial 24 finished with value: 0.1349058973085266 and parameters: {'lgbm1175__max_depth': 11, 'lgbm175__n_estimators': 730}. Best is trial 24 with value: 0.1349058973085266.\u001b[0m\n",
      "\u001b[32m[I 2022-11-21 13:47:08,485]\u001b[0m Trial 25 finished with value: 0.13515602085083825 and parameters: {'lgbm1175__max_depth': 6, 'lgbm175__n_estimators': 700}. Best is trial 25 with value: 0.13515602085083825.\u001b[0m\n",
      "\u001b[32m[I 2022-11-21 13:48:03,125]\u001b[0m Trial 26 finished with value: 0.13540507408185437 and parameters: {'lgbm1175__max_depth': 6, 'lgbm175__n_estimators': 760}. Best is trial 26 with value: 0.13540507408185437.\u001b[0m\n",
      "\u001b[32m[I 2022-11-21 13:48:52,525]\u001b[0m Trial 27 finished with value: 0.13565389642409142 and parameters: {'lgbm1175__max_depth': 5, 'lgbm175__n_estimators': 680}. Best is trial 27 with value: 0.13565389642409142.\u001b[0m\n",
      "\u001b[32m[I 2022-11-21 13:49:42,445]\u001b[0m Trial 28 finished with value: 0.13590248954970613 and parameters: {'lgbm1175__max_depth': 6, 'lgbm175__n_estimators': 620}. Best is trial 28 with value: 0.13590248954970613.\u001b[0m\n",
      "\u001b[32m[I 2022-11-21 13:50:29,771]\u001b[0m Trial 29 finished with value: 0.13614670027404588 and parameters: {'lgbm1175__max_depth': 5, 'lgbm175__n_estimators': 600}. Best is trial 29 with value: 0.13614670027404588.\u001b[0m\n",
      "\u001b[32m[I 2022-11-21 13:51:11,286]\u001b[0m Trial 30 finished with value: 0.1363496011173622 and parameters: {'lgbm1175__max_depth': 4, 'lgbm175__n_estimators': 590}. Best is trial 30 with value: 0.1363496011173622.\u001b[0m\n",
      "\u001b[32m[I 2022-11-21 13:51:52,447]\u001b[0m Trial 31 finished with value: 0.1365394682289137 and parameters: {'lgbm1175__max_depth': 4, 'lgbm175__n_estimators': 550}. Best is trial 31 with value: 0.1365394682289137.\u001b[0m\n",
      "\u001b[32m[I 2022-11-21 13:52:32,287]\u001b[0m Trial 32 finished with value: 0.136653050584994 and parameters: {'lgbm1175__max_depth': 3, 'lgbm175__n_estimators': 570}. Best is trial 32 with value: 0.136653050584994.\u001b[0m\n",
      "\u001b[32m[I 2022-11-21 13:53:18,644]\u001b[0m Trial 33 finished with value: 0.13687560599315382 and parameters: {'lgbm1175__max_depth': 3, 'lgbm175__n_estimators': 940}. Best is trial 33 with value: 0.13687560599315382.\u001b[0m\n",
      "\u001b[32m[I 2022-11-21 13:54:06,098]\u001b[0m Trial 34 finished with value: 0.13710744534187738 and parameters: {'lgbm1175__max_depth': 3, 'lgbm175__n_estimators': 990}. Best is trial 34 with value: 0.13710744534187738.\u001b[0m\n",
      "\u001b[32m[I 2022-11-21 13:54:53,443]\u001b[0m Trial 35 finished with value: 0.137337450242053 and parameters: {'lgbm1175__max_depth': 3, 'lgbm175__n_estimators': 970}. Best is trial 35 with value: 0.137337450242053.\u001b[0m\n",
      "\u001b[32m[I 2022-11-21 13:55:40,204]\u001b[0m Trial 36 finished with value: 0.137556224459751 and parameters: {'lgbm1175__max_depth': 3, 'lgbm175__n_estimators': 960}. Best is trial 36 with value: 0.137556224459751.\u001b[0m\n",
      "\u001b[32m[I 2022-11-21 13:56:29,761]\u001b[0m Trial 37 finished with value: 0.1377842835111353 and parameters: {'lgbm1175__max_depth': 3, 'lgbm175__n_estimators': 970}. Best is trial 37 with value: 0.1377842835111353.\u001b[0m\n"
     ]
    },
    {
     "name": "stderr",
     "output_type": "stream",
     "text": [
      "\u001b[32m[I 2022-11-21 13:57:35,422]\u001b[0m Trial 38 finished with value: 0.13801305067725192 and parameters: {'lgbm1175__max_depth': 8, 'lgbm175__n_estimators': 1030}. Best is trial 38 with value: 0.13801305067725192.\u001b[0m\n",
      "\u001b[32m[I 2022-11-21 13:59:04,305]\u001b[0m Trial 39 finished with value: 0.13822982508603712 and parameters: {'lgbm1175__max_depth': 7, 'lgbm175__n_estimators': 1790}. Best is trial 39 with value: 0.13822982508603712.\u001b[0m\n",
      "\u001b[32m[I 2022-11-21 14:00:40,599]\u001b[0m Trial 40 finished with value: 0.13843786622238322 and parameters: {'lgbm1175__max_depth': 8, 'lgbm175__n_estimators': 2020}. Best is trial 40 with value: 0.13843786622238322.\u001b[0m\n",
      "\u001b[32m[I 2022-11-21 14:02:11,830]\u001b[0m Trial 41 finished with value: 0.138650209778793 and parameters: {'lgbm1175__max_depth': 8, 'lgbm175__n_estimators': 1850}. Best is trial 41 with value: 0.138650209778793.\u001b[0m\n",
      "\u001b[32m[I 2022-11-21 14:03:43,284]\u001b[0m Trial 42 finished with value: 0.13886163804034382 and parameters: {'lgbm1175__max_depth': 8, 'lgbm175__n_estimators': 1850}. Best is trial 42 with value: 0.13886163804034382.\u001b[0m\n",
      "\u001b[32m[I 2022-11-21 14:05:18,919]\u001b[0m Trial 43 finished with value: 0.13907472899904233 and parameters: {'lgbm1175__max_depth': 8, 'lgbm175__n_estimators': 1830}. Best is trial 43 with value: 0.13907472899904233.\u001b[0m\n",
      "\u001b[32m[I 2022-11-21 14:06:54,934]\u001b[0m Trial 44 finished with value: 0.1392869088088982 and parameters: {'lgbm1175__max_depth': 8, 'lgbm175__n_estimators': 1890}. Best is trial 44 with value: 0.1392869088088982.\u001b[0m\n",
      "\u001b[32m[I 2022-11-21 14:08:40,957]\u001b[0m Trial 45 finished with value: 0.13948782294109344 and parameters: {'lgbm1175__max_depth': 9, 'lgbm175__n_estimators': 2030}. Best is trial 45 with value: 0.13948782294109344.\u001b[0m\n",
      "\u001b[32m[I 2022-11-21 14:10:25,560]\u001b[0m Trial 46 finished with value: 0.13968081939192592 and parameters: {'lgbm1175__max_depth': 10, 'lgbm175__n_estimators': 2150}. Best is trial 46 with value: 0.13968081939192592.\u001b[0m\n",
      "\u001b[32m[I 2022-11-21 14:12:11,282]\u001b[0m Trial 47 finished with value: 0.13987385769693472 and parameters: {'lgbm1175__max_depth': 10, 'lgbm175__n_estimators': 2180}. Best is trial 47 with value: 0.13987385769693472.\u001b[0m\n",
      "\u001b[32m[I 2022-11-21 14:13:58,919]\u001b[0m Trial 48 finished with value: 0.14006250263497655 and parameters: {'lgbm1175__max_depth': 10, 'lgbm175__n_estimators': 2200}. Best is trial 48 with value: 0.14006250263497655.\u001b[0m\n",
      "\u001b[32m[I 2022-11-21 14:15:45,190]\u001b[0m Trial 49 finished with value: 0.14024764149251837 and parameters: {'lgbm1175__max_depth': 10, 'lgbm175__n_estimators': 2230}. Best is trial 49 with value: 0.14024764149251837.\u001b[0m\n",
      "\u001b[32m[I 2022-11-21 14:17:30,473]\u001b[0m Trial 50 finished with value: 0.14043196806166494 and parameters: {'lgbm1175__max_depth': 10, 'lgbm175__n_estimators': 2230}. Best is trial 50 with value: 0.14043196806166494.\u001b[0m\n",
      "\u001b[32m[I 2022-11-21 14:19:22,765]\u001b[0m Trial 51 finished with value: 0.1406163802051766 and parameters: {'lgbm1175__max_depth': 10, 'lgbm175__n_estimators': 2250}. Best is trial 51 with value: 0.1406163802051766.\u001b[0m\n",
      "\u001b[32m[I 2022-11-21 14:21:12,995]\u001b[0m Trial 52 finished with value: 0.1408035331826717 and parameters: {'lgbm1175__max_depth': 10, 'lgbm175__n_estimators': 2190}. Best is trial 52 with value: 0.1408035331826717.\u001b[0m\n",
      "\u001b[32m[I 2022-11-21 14:23:06,999]\u001b[0m Trial 53 finished with value: 0.1409863355675741 and parameters: {'lgbm1175__max_depth': 10, 'lgbm175__n_estimators': 2250}. Best is trial 53 with value: 0.1409863355675741.\u001b[0m\n",
      "\u001b[32m[I 2022-11-21 14:24:53,626]\u001b[0m Trial 54 finished with value: 0.14117099743851896 and parameters: {'lgbm1175__max_depth': 10, 'lgbm175__n_estimators': 2290}. Best is trial 54 with value: 0.14117099743851896.\u001b[0m\n",
      "\u001b[32m[I 2022-11-21 14:26:44,847]\u001b[0m Trial 55 finished with value: 0.141353980332474 and parameters: {'lgbm1175__max_depth': 12, 'lgbm175__n_estimators': 2320}. Best is trial 55 with value: 0.141353980332474.\u001b[0m\n",
      "\u001b[32m[I 2022-11-21 14:28:48,729]\u001b[0m Trial 56 finished with value: 0.1415272639957604 and parameters: {'lgbm1175__max_depth': 12, 'lgbm175__n_estimators': 2720}. Best is trial 56 with value: 0.1415272639957604.\u001b[0m\n",
      "\u001b[32m[I 2022-11-21 14:30:54,712]\u001b[0m Trial 57 finished with value: 0.14169979024238769 and parameters: {'lgbm1175__max_depth': 12, 'lgbm175__n_estimators': 2720}. Best is trial 57 with value: 0.14169979024238769.\u001b[0m\n",
      "\u001b[32m[I 2022-11-21 14:33:09,030]\u001b[0m Trial 58 finished with value: 0.14186704751827836 and parameters: {'lgbm1175__max_depth': 12, 'lgbm175__n_estimators': 2780}. Best is trial 58 with value: 0.14186704751827836.\u001b[0m\n",
      "\u001b[32m[I 2022-11-21 14:35:14,267]\u001b[0m Trial 59 finished with value: 0.14203357136889813 and parameters: {'lgbm1175__max_depth': 14, 'lgbm175__n_estimators': 2730}. Best is trial 59 with value: 0.14203357136889813.\u001b[0m\n",
      "\u001b[32m[I 2022-11-21 14:37:23,006]\u001b[0m Trial 60 finished with value: 0.1422002709841903 and parameters: {'lgbm1175__max_depth': 14, 'lgbm175__n_estimators': 2760}. Best is trial 60 with value: 0.1422002709841903.\u001b[0m\n",
      "\u001b[32m[I 2022-11-21 14:39:39,117]\u001b[0m Trial 61 finished with value: 0.14236624363754707 and parameters: {'lgbm1175__max_depth': 14, 'lgbm175__n_estimators': 2760}. Best is trial 61 with value: 0.14236624363754707.\u001b[0m\n",
      "\u001b[32m[I 2022-11-21 14:41:47,240]\u001b[0m Trial 62 finished with value: 0.14253774802231176 and parameters: {'lgbm1175__max_depth': 15, 'lgbm175__n_estimators': 2730}. Best is trial 62 with value: 0.14253774802231176.\u001b[0m\n",
      "\u001b[32m[I 2022-11-21 14:43:54,487]\u001b[0m Trial 63 finished with value: 0.1427085149813978 and parameters: {'lgbm1175__max_depth': 15, 'lgbm175__n_estimators': 2740}. Best is trial 63 with value: 0.1427085149813978.\u001b[0m\n",
      "\u001b[32m[I 2022-11-21 14:46:02,196]\u001b[0m Trial 64 finished with value: 0.14287943177597523 and parameters: {'lgbm1175__max_depth': 15, 'lgbm175__n_estimators': 2780}. Best is trial 64 with value: 0.14287943177597523.\u001b[0m\n",
      "\u001b[32m[I 2022-11-21 14:48:10,815]\u001b[0m Trial 65 finished with value: 0.14305312303584672 and parameters: {'lgbm1175__max_depth': 15, 'lgbm175__n_estimators': 2850}. Best is trial 65 with value: 0.14305312303584672.\u001b[0m\n",
      "\u001b[32m[I 2022-11-21 14:50:22,838]\u001b[0m Trial 66 finished with value: 0.143226077173646 and parameters: {'lgbm1175__max_depth': 15, 'lgbm175__n_estimators': 2850}. Best is trial 66 with value: 0.143226077173646.\u001b[0m\n",
      "\u001b[32m[I 2022-11-21 14:52:34,507]\u001b[0m Trial 67 finished with value: 0.1433948039736728 and parameters: {'lgbm1175__max_depth': 15, 'lgbm175__n_estimators': 2880}. Best is trial 67 with value: 0.1433948039736728.\u001b[0m\n",
      "\u001b[32m[I 2022-11-21 14:54:45,297]\u001b[0m Trial 68 finished with value: 0.1435628134196055 and parameters: {'lgbm1175__max_depth': 15, 'lgbm175__n_estimators': 2880}. Best is trial 68 with value: 0.1435628134196055.\u001b[0m\n",
      "\u001b[32m[I 2022-11-21 14:56:56,214]\u001b[0m Trial 69 finished with value: 0.14373185586219808 and parameters: {'lgbm1175__max_depth': 16, 'lgbm175__n_estimators': 2880}. Best is trial 69 with value: 0.14373185586219808.\u001b[0m\n",
      "\u001b[32m[I 2022-11-21 14:59:08,439]\u001b[0m Trial 70 finished with value: 0.1438993138219736 and parameters: {'lgbm1175__max_depth': 16, 'lgbm175__n_estimators': 2900}. Best is trial 70 with value: 0.1438993138219736.\u001b[0m\n",
      "\u001b[32m[I 2022-11-21 15:01:19,433]\u001b[0m Trial 71 finished with value: 0.1440616890380781 and parameters: {'lgbm1175__max_depth': 16, 'lgbm175__n_estimators': 2920}. Best is trial 71 with value: 0.1440616890380781.\u001b[0m\n",
      "\u001b[32m[I 2022-11-21 15:03:30,299]\u001b[0m Trial 72 finished with value: 0.14422161383010276 and parameters: {'lgbm1175__max_depth': 17, 'lgbm175__n_estimators': 2890}. Best is trial 72 with value: 0.14422161383010276.\u001b[0m\n",
      "\u001b[32m[I 2022-11-21 15:05:41,235]\u001b[0m Trial 73 finished with value: 0.14438085952208443 and parameters: {'lgbm1175__max_depth': 17, 'lgbm175__n_estimators': 2920}. Best is trial 73 with value: 0.14438085952208443.\u001b[0m\n",
      "\u001b[32m[I 2022-11-21 15:07:58,765]\u001b[0m Trial 74 finished with value: 0.14453589421967075 and parameters: {'lgbm1175__max_depth': 19, 'lgbm175__n_estimators': 2920}. Best is trial 74 with value: 0.14453589421967075.\u001b[0m\n",
      "\u001b[32m[I 2022-11-21 15:10:13,861]\u001b[0m Trial 75 finished with value: 0.14469026941307608 and parameters: {'lgbm1175__max_depth': 19, 'lgbm175__n_estimators': 2920}. Best is trial 75 with value: 0.14469026941307608.\u001b[0m\n"
     ]
    },
    {
     "name": "stderr",
     "output_type": "stream",
     "text": [
      "\u001b[32m[I 2022-11-21 15:12:29,401]\u001b[0m Trial 76 finished with value: 0.144849264471775 and parameters: {'lgbm1175__max_depth': 19, 'lgbm175__n_estimators': 3000}. Best is trial 76 with value: 0.144849264471775.\u001b[0m\n",
      "\u001b[32m[I 2022-11-21 15:14:31,418]\u001b[0m Trial 77 finished with value: 0.1450049671055794 and parameters: {'lgbm1175__max_depth': 20, 'lgbm175__n_estimators': 2600}. Best is trial 77 with value: 0.1450049671055794.\u001b[0m\n",
      "\u001b[32m[I 2022-11-21 15:16:33,723]\u001b[0m Trial 78 finished with value: 0.1451600141360273 and parameters: {'lgbm1175__max_depth': 20, 'lgbm175__n_estimators': 2620}. Best is trial 78 with value: 0.1451600141360273.\u001b[0m\n",
      "\u001b[32m[I 2022-11-21 15:18:34,382]\u001b[0m Trial 79 finished with value: 0.14531177536340537 and parameters: {'lgbm1175__max_depth': 20, 'lgbm175__n_estimators': 2580}. Best is trial 79 with value: 0.14531177536340537.\u001b[0m\n",
      "\u001b[32m[I 2022-11-21 15:20:29,906]\u001b[0m Trial 80 finished with value: 0.14546289735914023 and parameters: {'lgbm1175__max_depth': 20, 'lgbm175__n_estimators': 2470}. Best is trial 80 with value: 0.14546289735914023.\u001b[0m\n",
      "\u001b[32m[I 2022-11-21 15:22:33,784]\u001b[0m Trial 81 finished with value: 0.14561600996316215 and parameters: {'lgbm1175__max_depth': 20, 'lgbm175__n_estimators': 2600}. Best is trial 81 with value: 0.14561600996316215.\u001b[0m\n",
      "\u001b[32m[I 2022-11-21 15:24:35,832]\u001b[0m Trial 82 finished with value: 0.1457684829276775 and parameters: {'lgbm1175__max_depth': 20, 'lgbm175__n_estimators': 2620}. Best is trial 82 with value: 0.1457684829276775.\u001b[0m\n",
      "\u001b[32m[I 2022-11-21 15:26:39,809]\u001b[0m Trial 83 finished with value: 0.14592032016956744 and parameters: {'lgbm1175__max_depth': 20, 'lgbm175__n_estimators': 2590}. Best is trial 83 with value: 0.14592032016956744.\u001b[0m\n",
      "\u001b[32m[I 2022-11-21 15:28:47,155]\u001b[0m Trial 84 finished with value: 0.14607152557467107 and parameters: {'lgbm1175__max_depth': 20, 'lgbm175__n_estimators': 2610}. Best is trial 84 with value: 0.14607152557467107.\u001b[0m\n",
      "\u001b[32m[I 2022-11-21 15:30:51,892]\u001b[0m Trial 85 finished with value: 0.14622210299808017 and parameters: {'lgbm1175__max_depth': 20, 'lgbm175__n_estimators': 2610}. Best is trial 85 with value: 0.14622210299808017.\u001b[0m\n",
      "\u001b[32m[I 2022-11-21 15:32:53,938]\u001b[0m Trial 86 finished with value: 0.14636857837441555 and parameters: {'lgbm1175__max_depth': 20, 'lgbm175__n_estimators': 2570}. Best is trial 86 with value: 0.14636857837441555.\u001b[0m\n",
      "\u001b[32m[I 2022-11-21 15:34:49,310]\u001b[0m Trial 87 finished with value: 0.1465126961111328 and parameters: {'lgbm1175__max_depth': 20, 'lgbm175__n_estimators': 2460}. Best is trial 87 with value: 0.1465126961111328.\u001b[0m\n",
      "\u001b[32m[I 2022-11-21 15:36:50,356]\u001b[0m Trial 88 finished with value: 0.14665795911353446 and parameters: {'lgbm1175__max_depth': 20, 'lgbm175__n_estimators': 2450}. Best is trial 88 with value: 0.14665795911353446.\u001b[0m\n",
      "\u001b[32m[I 2022-11-21 15:38:48,146]\u001b[0m Trial 89 finished with value: 0.1468069418707533 and parameters: {'lgbm1175__max_depth': 21, 'lgbm175__n_estimators': 2430}. Best is trial 89 with value: 0.1468069418707533.\u001b[0m\n",
      "\u001b[32m[I 2022-11-21 15:40:43,808]\u001b[0m Trial 90 finished with value: 0.14695616987030674 and parameters: {'lgbm1175__max_depth': 21, 'lgbm175__n_estimators': 2400}. Best is trial 90 with value: 0.14695616987030674.\u001b[0m\n",
      "\u001b[32m[I 2022-11-21 15:42:40,149]\u001b[0m Trial 91 finished with value: 0.14710988132519487 and parameters: {'lgbm1175__max_depth': 21, 'lgbm175__n_estimators': 2380}. Best is trial 91 with value: 0.14710988132519487.\u001b[0m\n",
      "\u001b[32m[I 2022-11-21 15:44:34,060]\u001b[0m Trial 92 finished with value: 0.1472587360339903 and parameters: {'lgbm1175__max_depth': 21, 'lgbm175__n_estimators': 2390}. Best is trial 92 with value: 0.1472587360339903.\u001b[0m\n",
      "\u001b[32m[I 2022-11-21 15:46:26,324]\u001b[0m Trial 93 finished with value: 0.1474120519901341 and parameters: {'lgbm1175__max_depth': 21, 'lgbm175__n_estimators': 2360}. Best is trial 93 with value: 0.1474120519901341.\u001b[0m\n",
      "\u001b[32m[I 2022-11-21 15:48:19,478]\u001b[0m Trial 94 finished with value: 0.147564750074731 and parameters: {'lgbm1175__max_depth': 21, 'lgbm175__n_estimators': 2370}. Best is trial 94 with value: 0.147564750074731.\u001b[0m\n",
      "\u001b[32m[I 2022-11-21 15:50:11,644]\u001b[0m Trial 95 finished with value: 0.14771683393400709 and parameters: {'lgbm1175__max_depth': 21, 'lgbm175__n_estimators': 2370}. Best is trial 95 with value: 0.14771683393400709.\u001b[0m\n",
      "\u001b[32m[I 2022-11-21 15:52:04,318]\u001b[0m Trial 96 finished with value: 0.14786326253279475 and parameters: {'lgbm1175__max_depth': 21, 'lgbm175__n_estimators': 2390}. Best is trial 96 with value: 0.14786326253279475.\u001b[0m\n",
      "\u001b[32m[I 2022-11-21 15:54:00,240]\u001b[0m Trial 97 finished with value: 0.1480141363099452 and parameters: {'lgbm1175__max_depth': 21, 'lgbm175__n_estimators': 2370}. Best is trial 97 with value: 0.1480141363099452.\u001b[0m\n",
      "\u001b[32m[I 2022-11-21 15:55:53,677]\u001b[0m Trial 98 finished with value: 0.14816357308540173 and parameters: {'lgbm1175__max_depth': 21, 'lgbm175__n_estimators': 2380}. Best is trial 98 with value: 0.14816357308540173.\u001b[0m\n",
      "\u001b[32m[I 2022-11-21 15:57:46,808]\u001b[0m Trial 99 finished with value: 0.1483132447034932 and parameters: {'lgbm1175__max_depth': 21, 'lgbm175__n_estimators': 2350}. Best is trial 99 with value: 0.1483132447034932.\u001b[0m\n",
      "\u001b[32m[I 2022-11-21 15:59:39,758]\u001b[0m Trial 100 finished with value: 0.14846231989523 and parameters: {'lgbm1175__max_depth': 21, 'lgbm175__n_estimators': 2360}. Best is trial 100 with value: 0.14846231989523.\u001b[0m\n",
      "\u001b[32m[I 2022-11-21 16:01:37,405]\u001b[0m Trial 101 finished with value: 0.14861080214378922 and parameters: {'lgbm1175__max_depth': 21, 'lgbm175__n_estimators': 2370}. Best is trial 101 with value: 0.14861080214378922.\u001b[0m\n",
      "\u001b[32m[I 2022-11-21 16:03:56,733]\u001b[0m Trial 102 finished with value: 0.14875869490602975 and parameters: {'lgbm1175__max_depth': 21, 'lgbm175__n_estimators': 2350}. Best is trial 102 with value: 0.14875869490602975.\u001b[0m\n",
      "\u001b[32m[I 2022-11-21 16:05:42,406]\u001b[0m Trial 103 finished with value: 0.14891739392430317 and parameters: {'lgbm1175__max_depth': 21, 'lgbm175__n_estimators': 2110}. Best is trial 103 with value: 0.14891739392430317.\u001b[0m\n",
      "\u001b[32m[I 2022-11-21 16:07:40,657]\u001b[0m Trial 104 finished with value: 0.1490746762356481 and parameters: {'lgbm1175__max_depth': 21, 'lgbm175__n_estimators': 2120}. Best is trial 104 with value: 0.1490746762356481.\u001b[0m\n",
      "\u001b[32m[I 2022-11-21 16:09:29,366]\u001b[0m Trial 105 finished with value: 0.1492297435678342 and parameters: {'lgbm1175__max_depth': 19, 'lgbm175__n_estimators': 2050}. Best is trial 105 with value: 0.1492297435678342.\u001b[0m\n",
      "\u001b[32m[I 2022-11-21 16:11:29,410]\u001b[0m Trial 106 finished with value: 0.14938501128194562 and parameters: {'lgbm1175__max_depth': 19, 'lgbm175__n_estimators': 2100}. Best is trial 106 with value: 0.14938501128194562.\u001b[0m\n",
      "\u001b[32m[I 2022-11-21 16:13:20,943]\u001b[0m Trial 107 finished with value: 0.14954047763278994 and parameters: {'lgbm1175__max_depth': 19, 'lgbm175__n_estimators': 2120}. Best is trial 107 with value: 0.14954047763278994.\u001b[0m\n",
      "\u001b[32m[I 2022-11-21 16:15:08,549]\u001b[0m Trial 108 finished with value: 0.14969374610549988 and parameters: {'lgbm1175__max_depth': 18, 'lgbm175__n_estimators': 2130}. Best is trial 108 with value: 0.14969374610549988.\u001b[0m\n",
      "\u001b[32m[I 2022-11-21 16:16:51,900]\u001b[0m Trial 109 finished with value: 0.1498464228687035 and parameters: {'lgbm1175__max_depth': 18, 'lgbm175__n_estimators': 2110}. Best is trial 109 with value: 0.1498464228687035.\u001b[0m\n",
      "\u001b[32m[I 2022-11-21 16:18:37,776]\u001b[0m Trial 110 finished with value: 0.15000405918009724 and parameters: {'lgbm1175__max_depth': 18, 'lgbm175__n_estimators': 2070}. Best is trial 110 with value: 0.15000405918009724.\u001b[0m\n",
      "\u001b[32m[I 2022-11-21 16:20:22,821]\u001b[0m Trial 111 finished with value: 0.15015635127293944 and parameters: {'lgbm1175__max_depth': 18, 'lgbm175__n_estimators': 2100}. Best is trial 111 with value: 0.15015635127293944.\u001b[0m\n",
      "\u001b[32m[I 2022-11-21 16:22:07,985]\u001b[0m Trial 112 finished with value: 0.1503072638673609 and parameters: {'lgbm1175__max_depth': 18, 'lgbm175__n_estimators': 2130}. Best is trial 112 with value: 0.1503072638673609.\u001b[0m\n",
      "\u001b[32m[I 2022-11-21 16:23:55,264]\u001b[0m Trial 113 finished with value: 0.15045839236266736 and parameters: {'lgbm1175__max_depth': 18, 'lgbm175__n_estimators': 2100}. Best is trial 113 with value: 0.15045839236266736.\u001b[0m\n"
     ]
    },
    {
     "name": "stderr",
     "output_type": "stream",
     "text": [
      "\u001b[32m[I 2022-11-21 16:25:39,389]\u001b[0m Trial 114 finished with value: 0.15060894338514647 and parameters: {'lgbm1175__max_depth': 18, 'lgbm175__n_estimators': 2100}. Best is trial 114 with value: 0.15060894338514647.\u001b[0m\n",
      "\u001b[32m[I 2022-11-21 16:27:25,780]\u001b[0m Trial 115 finished with value: 0.1507597105720729 and parameters: {'lgbm1175__max_depth': 18, 'lgbm175__n_estimators': 2090}. Best is trial 115 with value: 0.1507597105720729.\u001b[0m\n",
      "\u001b[32m[I 2022-11-21 16:29:09,486]\u001b[0m Trial 116 finished with value: 0.15091226214033618 and parameters: {'lgbm1175__max_depth': 18, 'lgbm175__n_estimators': 2040}. Best is trial 116 with value: 0.15091226214033618.\u001b[0m\n",
      "\u001b[32m[I 2022-11-21 16:30:53,337]\u001b[0m Trial 117 finished with value: 0.1510642370551516 and parameters: {'lgbm1175__max_depth': 18, 'lgbm175__n_estimators': 2040}. Best is trial 117 with value: 0.1510642370551516.\u001b[0m\n",
      "\u001b[32m[I 2022-11-21 16:32:34,431]\u001b[0m Trial 118 finished with value: 0.15121328739609557 and parameters: {'lgbm1175__max_depth': 18, 'lgbm175__n_estimators': 1950}. Best is trial 118 with value: 0.15121328739609557.\u001b[0m\n",
      "\u001b[32m[I 2022-11-21 16:34:15,762]\u001b[0m Trial 119 finished with value: 0.15136334089043968 and parameters: {'lgbm1175__max_depth': 18, 'lgbm175__n_estimators': 1980}. Best is trial 119 with value: 0.15136334089043968.\u001b[0m\n",
      "\u001b[32m[I 2022-11-21 16:36:02,559]\u001b[0m Trial 120 finished with value: 0.15151126465993373 and parameters: {'lgbm1175__max_depth': 18, 'lgbm175__n_estimators': 1950}. Best is trial 120 with value: 0.15151126465993373.\u001b[0m\n",
      "\u001b[32m[I 2022-11-21 16:37:49,466]\u001b[0m Trial 121 finished with value: 0.15165863090497503 and parameters: {'lgbm1175__max_depth': 18, 'lgbm175__n_estimators': 1950}. Best is trial 121 with value: 0.15165863090497503.\u001b[0m\n",
      "\u001b[32m[I 2022-11-21 16:39:30,745]\u001b[0m Trial 122 finished with value: 0.15180544270235086 and parameters: {'lgbm1175__max_depth': 18, 'lgbm175__n_estimators': 1950}. Best is trial 122 with value: 0.15180544270235086.\u001b[0m\n",
      "\u001b[32m[I 2022-11-21 16:41:21,171]\u001b[0m Trial 123 finished with value: 0.15195170310691283 and parameters: {'lgbm1175__max_depth': 18, 'lgbm175__n_estimators': 1950}. Best is trial 123 with value: 0.15195170310691283.\u001b[0m\n",
      "\u001b[32m[I 2022-11-21 16:43:05,237]\u001b[0m Trial 124 finished with value: 0.15209663461633405 and parameters: {'lgbm1175__max_depth': 17, 'lgbm175__n_estimators': 1960}. Best is trial 124 with value: 0.15209663461633405.\u001b[0m\n",
      "\u001b[32m[I 2022-11-21 16:44:47,970]\u001b[0m Trial 125 finished with value: 0.15224335621729174 and parameters: {'lgbm1175__max_depth': 17, 'lgbm175__n_estimators': 1970}. Best is trial 125 with value: 0.15224335621729174.\u001b[0m\n",
      "\u001b[32m[I 2022-11-21 16:46:30,030]\u001b[0m Trial 126 finished with value: 0.15238875615003938 and parameters: {'lgbm1175__max_depth': 17, 'lgbm175__n_estimators': 1950}. Best is trial 126 with value: 0.15238875615003938.\u001b[0m\n",
      "\u001b[32m[I 2022-11-21 16:48:04,619]\u001b[0m Trial 127 finished with value: 0.15253361453593833 and parameters: {'lgbm1175__max_depth': 17, 'lgbm175__n_estimators': 1730}. Best is trial 127 with value: 0.15253361453593833.\u001b[0m\n",
      "\u001b[32m[I 2022-11-21 16:49:41,549]\u001b[0m Trial 128 finished with value: 0.15267793432985616 and parameters: {'lgbm1175__max_depth': 17, 'lgbm175__n_estimators': 1730}. Best is trial 128 with value: 0.15267793432985616.\u001b[0m\n",
      "\u001b[32m[I 2022-11-21 16:51:16,343]\u001b[0m Trial 129 finished with value: 0.15282249023646136 and parameters: {'lgbm1175__max_depth': 17, 'lgbm175__n_estimators': 1720}. Best is trial 129 with value: 0.15282249023646136.\u001b[0m\n",
      "\u001b[32m[I 2022-11-21 16:52:51,632]\u001b[0m Trial 130 finished with value: 0.15296881341340346 and parameters: {'lgbm1175__max_depth': 17, 'lgbm175__n_estimators': 1700}. Best is trial 130 with value: 0.15296881341340346.\u001b[0m\n",
      "\u001b[32m[I 2022-11-21 16:54:27,299]\u001b[0m Trial 131 finished with value: 0.15311152963364907 and parameters: {'lgbm1175__max_depth': 17, 'lgbm175__n_estimators': 1730}. Best is trial 131 with value: 0.15311152963364907.\u001b[0m\n",
      "\u001b[32m[I 2022-11-21 16:56:00,447]\u001b[0m Trial 132 finished with value: 0.15325448747611525 and parameters: {'lgbm1175__max_depth': 17, 'lgbm175__n_estimators': 1720}. Best is trial 132 with value: 0.15325448747611525.\u001b[0m\n",
      "\u001b[32m[I 2022-11-21 16:57:33,960]\u001b[0m Trial 133 finished with value: 0.15339844917555698 and parameters: {'lgbm1175__max_depth': 17, 'lgbm175__n_estimators': 1710}. Best is trial 133 with value: 0.15339844917555698.\u001b[0m\n",
      "\u001b[32m[I 2022-11-21 16:59:07,376]\u001b[0m Trial 134 finished with value: 0.15354264481679444 and parameters: {'lgbm1175__max_depth': 17, 'lgbm175__n_estimators': 1690}. Best is trial 134 with value: 0.15354264481679444.\u001b[0m\n",
      "\u001b[32m[I 2022-11-21 17:00:39,573]\u001b[0m Trial 135 finished with value: 0.15368782972613818 and parameters: {'lgbm1175__max_depth': 17, 'lgbm175__n_estimators': 1680}. Best is trial 135 with value: 0.15368782972613818.\u001b[0m\n",
      "\u001b[32m[I 2022-11-21 17:02:12,872]\u001b[0m Trial 136 finished with value: 0.15383248651456294 and parameters: {'lgbm1175__max_depth': 17, 'lgbm175__n_estimators': 1680}. Best is trial 136 with value: 0.15383248651456294.\u001b[0m\n",
      "\u001b[32m[I 2022-11-21 17:03:45,689]\u001b[0m Trial 137 finished with value: 0.15397434753136252 and parameters: {'lgbm1175__max_depth': 17, 'lgbm175__n_estimators': 1710}. Best is trial 137 with value: 0.15397434753136252.\u001b[0m\n",
      "\u001b[32m[I 2022-11-21 17:05:16,825]\u001b[0m Trial 138 finished with value: 0.15411644959976858 and parameters: {'lgbm1175__max_depth': 17, 'lgbm175__n_estimators': 1700}. Best is trial 138 with value: 0.15411644959976858.\u001b[0m\n",
      "\u001b[32m[I 2022-11-21 17:06:49,919]\u001b[0m Trial 139 finished with value: 0.15425803600189078 and parameters: {'lgbm1175__max_depth': 17, 'lgbm175__n_estimators': 1690}. Best is trial 139 with value: 0.15425803600189078.\u001b[0m\n",
      "\u001b[32m[I 2022-11-21 17:08:24,445]\u001b[0m Trial 140 finished with value: 0.15439835411742395 and parameters: {'lgbm1175__max_depth': 16, 'lgbm175__n_estimators': 1710}. Best is trial 140 with value: 0.15439835411742395.\u001b[0m\n",
      "\u001b[32m[I 2022-11-21 17:10:04,289]\u001b[0m Trial 141 finished with value: 0.15454042223681877 and parameters: {'lgbm1175__max_depth': 16, 'lgbm175__n_estimators': 1700}. Best is trial 141 with value: 0.15454042223681877.\u001b[0m\n",
      "\u001b[32m[I 2022-11-21 17:11:39,255]\u001b[0m Trial 142 finished with value: 0.15468197880362913 and parameters: {'lgbm1175__max_depth': 16, 'lgbm175__n_estimators': 1700}. Best is trial 142 with value: 0.15468197880362913.\u001b[0m\n",
      "\u001b[32m[I 2022-11-21 17:13:07,391]\u001b[0m Trial 143 finished with value: 0.15482002048852705 and parameters: {'lgbm1175__max_depth': 16, 'lgbm175__n_estimators': 1570}. Best is trial 143 with value: 0.15482002048852705.\u001b[0m\n",
      "\u001b[32m[I 2022-11-21 17:15:17,382]\u001b[0m Trial 144 finished with value: 0.15495906831988968 and parameters: {'lgbm1175__max_depth': 16, 'lgbm175__n_estimators': 1580}. Best is trial 144 with value: 0.15495906831988968.\u001b[0m\n",
      "\u001b[32m[I 2022-11-21 17:16:52,274]\u001b[0m Trial 145 finished with value: 0.1550946058281008 and parameters: {'lgbm1175__max_depth': 16, 'lgbm175__n_estimators': 1550}. Best is trial 145 with value: 0.1550946058281008.\u001b[0m\n",
      "\u001b[32m[I 2022-11-21 17:18:21,985]\u001b[0m Trial 146 finished with value: 0.15523266137390554 and parameters: {'lgbm1175__max_depth': 16, 'lgbm175__n_estimators': 1530}. Best is trial 146 with value: 0.15523266137390554.\u001b[0m\n",
      "\u001b[32m[I 2022-11-21 17:19:52,698]\u001b[0m Trial 147 finished with value: 0.15536722000587438 and parameters: {'lgbm1175__max_depth': 16, 'lgbm175__n_estimators': 1550}. Best is trial 147 with value: 0.15536722000587438.\u001b[0m\n",
      "\u001b[32m[I 2022-11-21 17:21:25,101]\u001b[0m Trial 148 finished with value: 0.15550429368613364 and parameters: {'lgbm1175__max_depth': 16, 'lgbm175__n_estimators': 1540}. Best is trial 148 with value: 0.15550429368613364.\u001b[0m\n",
      "\u001b[32m[I 2022-11-21 17:23:03,555]\u001b[0m Trial 149 finished with value: 0.1556378837555479 and parameters: {'lgbm1175__max_depth': 16, 'lgbm175__n_estimators': 1560}. Best is trial 149 with value: 0.1556378837555479.\u001b[0m\n",
      "\u001b[32m[I 2022-11-21 17:24:43,803]\u001b[0m Trial 150 finished with value: 0.15577099540946562 and parameters: {'lgbm1175__max_depth': 16, 'lgbm175__n_estimators': 1560}. Best is trial 150 with value: 0.15577099540946562.\u001b[0m\n",
      "\u001b[32m[I 2022-11-21 17:26:21,067]\u001b[0m Trial 151 finished with value: 0.15590363116487788 and parameters: {'lgbm1175__max_depth': 16, 'lgbm175__n_estimators': 1550}. Best is trial 151 with value: 0.15590363116487788.\u001b[0m\n"
     ]
    },
    {
     "name": "stderr",
     "output_type": "stream",
     "text": [
      "\u001b[32m[I 2022-11-21 17:27:59,907]\u001b[0m Trial 152 finished with value: 0.15603579352158256 and parameters: {'lgbm1175__max_depth': 16, 'lgbm175__n_estimators': 1550}. Best is trial 152 with value: 0.15603579352158256.\u001b[0m\n",
      "\u001b[32m[I 2022-11-21 17:30:10,109]\u001b[0m Trial 153 finished with value: 0.15617046320192127 and parameters: {'lgbm1175__max_depth': 16, 'lgbm175__n_estimators': 1530}. Best is trial 153 with value: 0.15617046320192127.\u001b[0m\n",
      "\u001b[32m[I 2022-11-21 17:31:50,203]\u001b[0m Trial 154 finished with value: 0.15630168214392387 and parameters: {'lgbm1175__max_depth': 16, 'lgbm175__n_estimators': 1550}. Best is trial 154 with value: 0.15630168214392387.\u001b[0m\n",
      "\u001b[32m[I 2022-11-21 17:33:24,878]\u001b[0m Trial 155 finished with value: 0.15643243509377397 and parameters: {'lgbm1175__max_depth': 16, 'lgbm175__n_estimators': 1550}. Best is trial 155 with value: 0.15643243509377397.\u001b[0m\n",
      "\u001b[32m[I 2022-11-21 17:34:55,200]\u001b[0m Trial 156 finished with value: 0.15656272448388828 and parameters: {'lgbm1175__max_depth': 16, 'lgbm175__n_estimators': 1560}. Best is trial 156 with value: 0.15656272448388828.\u001b[0m\n",
      "\u001b[32m[I 2022-11-21 17:36:24,387]\u001b[0m Trial 157 finished with value: 0.1566925527301856 and parameters: {'lgbm1175__max_depth': 16, 'lgbm175__n_estimators': 1560}. Best is trial 157 with value: 0.1566925527301856.\u001b[0m\n",
      "\u001b[32m[I 2022-11-21 17:37:54,664]\u001b[0m Trial 158 finished with value: 0.15682488037350267 and parameters: {'lgbm1175__max_depth': 16, 'lgbm175__n_estimators': 1540}. Best is trial 158 with value: 0.15682488037350267.\u001b[0m\n",
      "\u001b[32m[I 2022-11-21 17:39:23,609]\u001b[0m Trial 159 finished with value: 0.15695378951021144 and parameters: {'lgbm1175__max_depth': 16, 'lgbm175__n_estimators': 1560}. Best is trial 159 with value: 0.15695378951021144.\u001b[0m\n",
      "\u001b[32m[I 2022-11-21 17:40:50,227]\u001b[0m Trial 160 finished with value: 0.15709674719648978 and parameters: {'lgbm1175__max_depth': 15, 'lgbm175__n_estimators': 1510}. Best is trial 160 with value: 0.15709674719648978.\u001b[0m\n",
      "\u001b[32m[I 2022-11-21 17:42:18,968]\u001b[0m Trial 161 finished with value: 0.15723992369884168 and parameters: {'lgbm1175__max_depth': 15, 'lgbm175__n_estimators': 1490}. Best is trial 161 with value: 0.15723992369884168.\u001b[0m\n",
      "\u001b[32m[I 2022-11-21 17:43:47,656]\u001b[0m Trial 162 finished with value: 0.15738261137344461 and parameters: {'lgbm1175__max_depth': 15, 'lgbm175__n_estimators': 1490}. Best is trial 162 with value: 0.15738261137344461.\u001b[0m\n",
      "\u001b[32m[I 2022-11-21 17:45:14,794]\u001b[0m Trial 163 finished with value: 0.1575241061209953 and parameters: {'lgbm1175__max_depth': 15, 'lgbm175__n_estimators': 1470}. Best is trial 163 with value: 0.1575241061209953.\u001b[0m\n",
      "\u001b[32m[I 2022-11-21 17:46:41,260]\u001b[0m Trial 164 finished with value: 0.15766228132692808 and parameters: {'lgbm1175__max_depth': 15, 'lgbm175__n_estimators': 1450}. Best is trial 164 with value: 0.15766228132692808.\u001b[0m\n",
      "\u001b[32m[I 2022-11-21 17:48:05,889]\u001b[0m Trial 165 finished with value: 0.1578006945856155 and parameters: {'lgbm1175__max_depth': 15, 'lgbm175__n_estimators': 1440}. Best is trial 165 with value: 0.1578006945856155.\u001b[0m\n",
      "\u001b[32m[I 2022-11-21 17:49:28,847]\u001b[0m Trial 166 finished with value: 0.15793863580274478 and parameters: {'lgbm1175__max_depth': 15, 'lgbm175__n_estimators': 1440}. Best is trial 166 with value: 0.15793863580274478.\u001b[0m\n",
      "\u001b[32m[I 2022-11-21 17:50:52,468]\u001b[0m Trial 167 finished with value: 0.15807610733657712 and parameters: {'lgbm1175__max_depth': 15, 'lgbm175__n_estimators': 1430}. Best is trial 167 with value: 0.15807610733657712.\u001b[0m\n",
      "\u001b[32m[I 2022-11-21 17:52:15,173]\u001b[0m Trial 168 finished with value: 0.15821381800609288 and parameters: {'lgbm1175__max_depth': 15, 'lgbm175__n_estimators': 1390}. Best is trial 168 with value: 0.15821381800609288.\u001b[0m\n",
      "\u001b[32m[I 2022-11-21 17:53:37,114]\u001b[0m Trial 169 finished with value: 0.15835665408997485 and parameters: {'lgbm1175__max_depth': 13, 'lgbm175__n_estimators': 1380}. Best is trial 169 with value: 0.15835665408997485.\u001b[0m\n",
      "\u001b[32m[I 2022-11-21 17:54:57,121]\u001b[0m Trial 170 finished with value: 0.15849272170779558 and parameters: {'lgbm1175__max_depth': 14, 'lgbm175__n_estimators': 1320}. Best is trial 170 with value: 0.15849272170779558.\u001b[0m\n",
      "\u001b[32m[I 2022-11-21 17:56:21,107]\u001b[0m Trial 171 finished with value: 0.15863873497373399 and parameters: {'lgbm1175__max_depth': 13, 'lgbm175__n_estimators': 1340}. Best is trial 171 with value: 0.15863873497373399.\u001b[0m\n",
      "\u001b[32m[I 2022-11-21 17:57:51,224]\u001b[0m Trial 172 finished with value: 0.1587835815096471 and parameters: {'lgbm1175__max_depth': 13, 'lgbm175__n_estimators': 1290}. Best is trial 172 with value: 0.1587835815096471.\u001b[0m\n",
      "\u001b[32m[I 2022-11-21 17:59:31,129]\u001b[0m Trial 173 finished with value: 0.1589132929204729 and parameters: {'lgbm1175__max_depth': 14, 'lgbm175__n_estimators': 1300}. Best is trial 173 with value: 0.1589132929204729.\u001b[0m\n",
      "\u001b[32m[I 2022-11-21 18:00:52,105]\u001b[0m Trial 174 finished with value: 0.15905856110519298 and parameters: {'lgbm1175__max_depth': 13, 'lgbm175__n_estimators': 1270}. Best is trial 174 with value: 0.15905856110519298.\u001b[0m\n",
      "\u001b[32m[I 2022-11-21 18:02:13,121]\u001b[0m Trial 175 finished with value: 0.1592033508781661 and parameters: {'lgbm1175__max_depth': 13, 'lgbm175__n_estimators': 1270}. Best is trial 175 with value: 0.1592033508781661.\u001b[0m\n",
      "\u001b[32m[I 2022-11-21 18:03:32,059]\u001b[0m Trial 176 finished with value: 0.15934766453919794 and parameters: {'lgbm1175__max_depth': 13, 'lgbm175__n_estimators': 1260}. Best is trial 176 with value: 0.15934766453919794.\u001b[0m\n",
      "\u001b[32m[I 2022-11-21 18:04:52,876]\u001b[0m Trial 177 finished with value: 0.1594935286451237 and parameters: {'lgbm1175__max_depth': 13, 'lgbm175__n_estimators': 1250}. Best is trial 177 with value: 0.1594935286451237.\u001b[0m\n",
      "\u001b[32m[I 2022-11-21 18:06:16,803]\u001b[0m Trial 178 finished with value: 0.15963891640134872 and parameters: {'lgbm1175__max_depth': 13, 'lgbm175__n_estimators': 1250}. Best is trial 178 with value: 0.15963891640134872.\u001b[0m\n",
      "\u001b[32m[I 2022-11-21 18:08:05,351]\u001b[0m Trial 179 finished with value: 0.15978181057149796 and parameters: {'lgbm1175__max_depth': 13, 'lgbm175__n_estimators': 1270}. Best is trial 179 with value: 0.15978181057149796.\u001b[0m\n",
      "\u001b[32m[I 2022-11-21 18:09:58,003]\u001b[0m Trial 180 finished with value: 0.15992625479987244 and parameters: {'lgbm1175__max_depth': 13, 'lgbm175__n_estimators': 1250}. Best is trial 180 with value: 0.15992625479987244.\u001b[0m\n",
      "\u001b[32m[I 2022-11-21 18:11:33,343]\u001b[0m Trial 181 finished with value: 0.16006821471066132 and parameters: {'lgbm1175__max_depth': 13, 'lgbm175__n_estimators': 1270}. Best is trial 181 with value: 0.16006821471066132.\u001b[0m\n",
      "\u001b[32m[I 2022-11-21 18:13:23,237]\u001b[0m Trial 182 finished with value: 0.16020971202590836 and parameters: {'lgbm1175__max_depth': 13, 'lgbm175__n_estimators': 1260}. Best is trial 182 with value: 0.16020971202590836.\u001b[0m\n",
      "\u001b[32m[I 2022-11-21 18:14:54,315]\u001b[0m Trial 183 finished with value: 0.1603527588952895 and parameters: {'lgbm1175__max_depth': 13, 'lgbm175__n_estimators': 1230}. Best is trial 183 with value: 0.1603527588952895.\u001b[0m\n",
      "\u001b[32m[I 2022-11-21 18:16:22,050]\u001b[0m Trial 184 finished with value: 0.16049534281420305 and parameters: {'lgbm1175__max_depth': 13, 'lgbm175__n_estimators': 1250}. Best is trial 184 with value: 0.16049534281420305.\u001b[0m\n",
      "\u001b[32m[I 2022-11-21 18:17:50,667]\u001b[0m Trial 185 finished with value: 0.16063813169155347 and parameters: {'lgbm1175__max_depth': 13, 'lgbm175__n_estimators': 1220}. Best is trial 185 with value: 0.16063813169155347.\u001b[0m\n",
      "\u001b[32m[I 2022-11-21 18:19:19,151]\u001b[0m Trial 186 finished with value: 0.160779795478334 and parameters: {'lgbm1175__max_depth': 13, 'lgbm175__n_estimators': 1230}. Best is trial 186 with value: 0.160779795478334.\u001b[0m\n",
      "\u001b[32m[I 2022-11-21 18:20:49,070]\u001b[0m Trial 187 finished with value: 0.16092100283937188 and parameters: {'lgbm1175__max_depth': 13, 'lgbm175__n_estimators': 1250}. Best is trial 187 with value: 0.16092100283937188.\u001b[0m\n",
      "\u001b[32m[I 2022-11-21 18:22:21,866]\u001b[0m Trial 188 finished with value: 0.1610597577310261 and parameters: {'lgbm1175__max_depth': 13, 'lgbm175__n_estimators': 1260}. Best is trial 188 with value: 0.1610597577310261.\u001b[0m\n",
      "\u001b[32m[I 2022-11-21 18:23:44,060]\u001b[0m Trial 189 finished with value: 0.16120006101281775 and parameters: {'lgbm1175__max_depth': 13, 'lgbm175__n_estimators': 1240}. Best is trial 189 with value: 0.16120006101281775.\u001b[0m\n"
     ]
    },
    {
     "name": "stderr",
     "output_type": "stream",
     "text": [
      "\u001b[32m[I 2022-11-21 18:25:00,444]\u001b[0m Trial 190 finished with value: 0.1613392511140217 and parameters: {'lgbm1175__max_depth': 13, 'lgbm175__n_estimators': 1170}. Best is trial 190 with value: 0.1613392511140217.\u001b[0m\n",
      "\u001b[32m[I 2022-11-21 18:26:17,218]\u001b[0m Trial 191 finished with value: 0.16147666608429412 and parameters: {'lgbm1175__max_depth': 13, 'lgbm175__n_estimators': 1180}. Best is trial 191 with value: 0.16147666608429412.\u001b[0m\n",
      "\u001b[32m[I 2022-11-21 18:27:30,861]\u001b[0m Trial 192 finished with value: 0.16161496711756318 and parameters: {'lgbm1175__max_depth': 13, 'lgbm175__n_estimators': 1150}. Best is trial 192 with value: 0.16161496711756318.\u001b[0m\n",
      "\u001b[32m[I 2022-11-21 18:28:45,638]\u001b[0m Trial 193 finished with value: 0.16175282596075263 and parameters: {'lgbm1175__max_depth': 13, 'lgbm175__n_estimators': 1150}. Best is trial 193 with value: 0.16175282596075263.\u001b[0m\n",
      "\u001b[32m[I 2022-11-21 18:29:59,931]\u001b[0m Trial 194 finished with value: 0.1618915634425153 and parameters: {'lgbm1175__max_depth': 13, 'lgbm175__n_estimators': 1140}. Best is trial 194 with value: 0.1618915634425153.\u001b[0m\n",
      "\u001b[32m[I 2022-11-21 18:31:13,169]\u001b[0m Trial 195 finished with value: 0.16202455876391636 and parameters: {'lgbm1175__max_depth': 12, 'lgbm175__n_estimators': 1130}. Best is trial 195 with value: 0.16202455876391636.\u001b[0m\n",
      "\u001b[32m[I 2022-11-21 18:32:25,198]\u001b[0m Trial 196 finished with value: 0.1621591230561576 and parameters: {'lgbm1175__max_depth': 13, 'lgbm175__n_estimators': 1130}. Best is trial 196 with value: 0.1621591230561576.\u001b[0m\n",
      "\u001b[32m[I 2022-11-21 18:33:37,861]\u001b[0m Trial 197 finished with value: 0.16229126480969133 and parameters: {'lgbm1175__max_depth': 12, 'lgbm175__n_estimators': 1130}. Best is trial 197 with value: 0.16229126480969133.\u001b[0m\n",
      "\u001b[32m[I 2022-11-21 18:34:49,487]\u001b[0m Trial 198 finished with value: 0.16242031049187633 and parameters: {'lgbm1175__max_depth': 12, 'lgbm175__n_estimators': 1140}. Best is trial 198 with value: 0.16242031049187633.\u001b[0m\n",
      "\u001b[32m[I 2022-11-21 18:36:02,508]\u001b[0m Trial 199 finished with value: 0.1625516122323205 and parameters: {'lgbm1175__max_depth': 12, 'lgbm175__n_estimators': 1130}. Best is trial 199 with value: 0.1625516122323205.\u001b[0m\n",
      "\u001b[32m[I 2022-11-21 18:37:15,091]\u001b[0m Trial 200 finished with value: 0.16268249532451803 and parameters: {'lgbm1175__max_depth': 12, 'lgbm175__n_estimators': 1130}. Best is trial 200 with value: 0.16268249532451803.\u001b[0m\n",
      "\u001b[32m[I 2022-11-21 18:38:27,580]\u001b[0m Trial 201 finished with value: 0.1628089576668234 and parameters: {'lgbm1175__max_depth': 12, 'lgbm175__n_estimators': 1110}. Best is trial 201 with value: 0.1628089576668234.\u001b[0m\n",
      "\u001b[32m[I 2022-11-21 18:39:40,283]\u001b[0m Trial 202 finished with value: 0.16293501489747042 and parameters: {'lgbm1175__max_depth': 12, 'lgbm175__n_estimators': 1110}. Best is trial 202 with value: 0.16293501489747042.\u001b[0m\n",
      "\u001b[32m[I 2022-11-21 18:40:53,020]\u001b[0m Trial 203 finished with value: 0.16306466325751123 and parameters: {'lgbm1175__max_depth': 12, 'lgbm175__n_estimators': 1120}. Best is trial 203 with value: 0.16306466325751123.\u001b[0m\n",
      "\u001b[32m[I 2022-11-21 18:42:07,222]\u001b[0m Trial 204 finished with value: 0.16318587176658475 and parameters: {'lgbm1175__max_depth': 11, 'lgbm175__n_estimators': 1140}. Best is trial 204 with value: 0.16318587176658475.\u001b[0m\n",
      "\u001b[32m[I 2022-11-21 18:43:21,639]\u001b[0m Trial 205 finished with value: 0.16330669075326756 and parameters: {'lgbm1175__max_depth': 11, 'lgbm175__n_estimators': 1130}. Best is trial 205 with value: 0.16330669075326756.\u001b[0m\n",
      "\u001b[32m[I 2022-11-21 18:44:33,265]\u001b[0m Trial 206 finished with value: 0.16342712205930307 and parameters: {'lgbm1175__max_depth': 11, 'lgbm175__n_estimators': 1130}. Best is trial 206 with value: 0.16342712205930307.\u001b[0m\n",
      "\u001b[32m[I 2022-11-21 18:45:45,717]\u001b[0m Trial 207 finished with value: 0.1635478417434275 and parameters: {'lgbm1175__max_depth': 11, 'lgbm175__n_estimators': 1150}. Best is trial 207 with value: 0.1635478417434275.\u001b[0m\n",
      "\u001b[32m[I 2022-11-21 18:46:57,589]\u001b[0m Trial 208 finished with value: 0.16366547365304654 and parameters: {'lgbm1175__max_depth': 11, 'lgbm175__n_estimators': 1120}. Best is trial 208 with value: 0.16366547365304654.\u001b[0m\n",
      "\u001b[32m[I 2022-11-21 18:48:10,058]\u001b[0m Trial 209 finished with value: 0.1637827283707839 and parameters: {'lgbm1175__max_depth': 11, 'lgbm175__n_estimators': 1120}. Best is trial 209 with value: 0.1637827283707839.\u001b[0m\n",
      "\u001b[32m[I 2022-11-21 18:49:21,911]\u001b[0m Trial 210 finished with value: 0.1639016313115735 and parameters: {'lgbm1175__max_depth': 11, 'lgbm175__n_estimators': 1130}. Best is trial 210 with value: 0.1639016313115735.\u001b[0m\n",
      "\u001b[32m[I 2022-11-21 18:50:33,898]\u001b[0m Trial 211 finished with value: 0.1640201556036651 and parameters: {'lgbm1175__max_depth': 11, 'lgbm175__n_estimators': 1130}. Best is trial 211 with value: 0.1640201556036651.\u001b[0m\n",
      "\u001b[32m[I 2022-11-21 18:51:45,895]\u001b[0m Trial 212 finished with value: 0.16413830302208374 and parameters: {'lgbm1175__max_depth': 11, 'lgbm175__n_estimators': 1130}. Best is trial 212 with value: 0.16413830302208374.\u001b[0m\n",
      "\u001b[32m[I 2022-11-21 18:53:02,707]\u001b[0m Trial 213 finished with value: 0.16425270795451602 and parameters: {'lgbm1175__max_depth': 11, 'lgbm175__n_estimators': 1090}. Best is trial 213 with value: 0.16425270795451602.\u001b[0m\n",
      "\u001b[32m[I 2022-11-21 18:54:14,680]\u001b[0m Trial 214 finished with value: 0.16436539263734726 and parameters: {'lgbm1175__max_depth': 11, 'lgbm175__n_estimators': 1100}. Best is trial 214 with value: 0.16436539263734726.\u001b[0m\n",
      "\u001b[32m[I 2022-11-21 18:55:24,853]\u001b[0m Trial 215 finished with value: 0.16448109055328042 and parameters: {'lgbm1175__max_depth': 11, 'lgbm175__n_estimators': 1080}. Best is trial 215 with value: 0.16448109055328042.\u001b[0m\n",
      "\u001b[32m[I 2022-11-21 18:56:34,497]\u001b[0m Trial 216 finished with value: 0.16459909165618752 and parameters: {'lgbm1175__max_depth': 11, 'lgbm175__n_estimators': 1050}. Best is trial 216 with value: 0.16459909165618752.\u001b[0m\n",
      "\u001b[32m[I 2022-11-21 18:57:44,010]\u001b[0m Trial 217 finished with value: 0.16471672132234058 and parameters: {'lgbm1175__max_depth': 11, 'lgbm175__n_estimators': 1050}. Best is trial 217 with value: 0.16471672132234058.\u001b[0m\n",
      "\u001b[32m[I 2022-11-21 18:58:54,418]\u001b[0m Trial 218 finished with value: 0.16483398127288787 and parameters: {'lgbm1175__max_depth': 11, 'lgbm175__n_estimators': 1060}. Best is trial 218 with value: 0.16483398127288787.\u001b[0m\n",
      "\u001b[32m[I 2022-11-21 19:00:03,345]\u001b[0m Trial 219 finished with value: 0.16495087321859273 and parameters: {'lgbm1175__max_depth': 11, 'lgbm175__n_estimators': 1040}. Best is trial 219 with value: 0.16495087321859273.\u001b[0m\n",
      "\u001b[32m[I 2022-11-21 19:01:15,064]\u001b[0m Trial 220 finished with value: 0.16506739885990912 and parameters: {'lgbm1175__max_depth': 11, 'lgbm175__n_estimators': 1050}. Best is trial 220 with value: 0.16506739885990912.\u001b[0m\n",
      "\u001b[32m[I 2022-11-21 19:02:32,639]\u001b[0m Trial 221 finished with value: 0.16518355988705716 and parameters: {'lgbm1175__max_depth': 11, 'lgbm175__n_estimators': 1050}. Best is trial 221 with value: 0.16518355988705716.\u001b[0m\n",
      "\u001b[32m[I 2022-11-21 19:03:43,998]\u001b[0m Trial 222 finished with value: 0.16529935798009765 and parameters: {'lgbm1175__max_depth': 11, 'lgbm175__n_estimators': 1050}. Best is trial 222 with value: 0.16529935798009765.\u001b[0m\n",
      "\u001b[32m[I 2022-11-21 19:04:54,007]\u001b[0m Trial 223 finished with value: 0.16541479480900614 and parameters: {'lgbm1175__max_depth': 11, 'lgbm175__n_estimators': 1030}. Best is trial 223 with value: 0.16541479480900614.\u001b[0m\n",
      "\u001b[32m[I 2022-11-21 19:06:04,393]\u001b[0m Trial 224 finished with value: 0.1655298720337463 and parameters: {'lgbm1175__max_depth': 11, 'lgbm175__n_estimators': 1050}. Best is trial 224 with value: 0.1655298720337463.\u001b[0m\n",
      "\u001b[32m[I 2022-11-21 19:07:14,905]\u001b[0m Trial 225 finished with value: 0.16564459130434286 and parameters: {'lgbm1175__max_depth': 11, 'lgbm175__n_estimators': 1040}. Best is trial 225 with value: 0.16564459130434286.\u001b[0m\n",
      "\u001b[32m[I 2022-11-21 19:08:24,744]\u001b[0m Trial 226 finished with value: 0.16576091806535495 and parameters: {'lgbm1175__max_depth': 11, 'lgbm175__n_estimators': 1020}. Best is trial 226 with value: 0.16576091806535495.\u001b[0m\n",
      "\u001b[32m[I 2022-11-21 19:09:37,302]\u001b[0m Trial 227 finished with value: 0.16587492396713144 and parameters: {'lgbm1175__max_depth': 11, 'lgbm175__n_estimators': 1030}. Best is trial 227 with value: 0.16587492396713144.\u001b[0m\n"
     ]
    },
    {
     "name": "stderr",
     "output_type": "stream",
     "text": [
      "\u001b[32m[I 2022-11-21 19:10:47,449]\u001b[0m Trial 228 finished with value: 0.16598857681072046 and parameters: {'lgbm1175__max_depth': 11, 'lgbm175__n_estimators': 1030}. Best is trial 228 with value: 0.16598857681072046.\u001b[0m\n",
      "\u001b[32m[I 2022-11-21 19:12:04,578]\u001b[0m Trial 229 finished with value: 0.16610187820709818 and parameters: {'lgbm1175__max_depth': 11, 'lgbm175__n_estimators': 1030}. Best is trial 229 with value: 0.16610187820709818.\u001b[0m\n",
      "\u001b[32m[I 2022-11-21 19:13:11,680]\u001b[0m Trial 230 finished with value: 0.1662161340241533 and parameters: {'lgbm1175__max_depth': 11, 'lgbm175__n_estimators': 900}. Best is trial 230 with value: 0.1662161340241533.\u001b[0m\n",
      "\u001b[32m[I 2022-11-21 19:14:19,623]\u001b[0m Trial 231 finished with value: 0.16632413313224897 and parameters: {'lgbm1175__max_depth': 11, 'lgbm175__n_estimators': 870}. Best is trial 231 with value: 0.16632413313224897.\u001b[0m\n",
      "\u001b[32m[I 2022-11-21 19:15:25,766]\u001b[0m Trial 232 finished with value: 0.1664363937255315 and parameters: {'lgbm1175__max_depth': 11, 'lgbm175__n_estimators': 890}. Best is trial 232 with value: 0.1664363937255315.\u001b[0m\n",
      "\u001b[32m[I 2022-11-21 19:16:30,959]\u001b[0m Trial 233 finished with value: 0.16654634971025714 and parameters: {'lgbm1175__max_depth': 10, 'lgbm175__n_estimators': 880}. Best is trial 233 with value: 0.16654634971025714.\u001b[0m\n",
      "\u001b[32m[I 2022-11-21 19:17:35,919]\u001b[0m Trial 234 finished with value: 0.16665727299382418 and parameters: {'lgbm1175__max_depth': 10, 'lgbm175__n_estimators': 860}. Best is trial 234 with value: 0.16665727299382418.\u001b[0m\n",
      "\u001b[32m[I 2022-11-21 19:18:40,626]\u001b[0m Trial 235 finished with value: 0.16677109351660577 and parameters: {'lgbm1175__max_depth': 10, 'lgbm175__n_estimators': 910}. Best is trial 235 with value: 0.16677109351660577.\u001b[0m\n",
      "\u001b[32m[I 2022-11-21 19:19:44,972]\u001b[0m Trial 236 finished with value: 0.16688263115886107 and parameters: {'lgbm1175__max_depth': 10, 'lgbm175__n_estimators': 870}. Best is trial 236 with value: 0.16688263115886107.\u001b[0m\n",
      "\u001b[32m[I 2022-11-21 19:20:48,373]\u001b[0m Trial 237 finished with value: 0.16699188228410458 and parameters: {'lgbm1175__max_depth': 10, 'lgbm175__n_estimators': 850}. Best is trial 237 with value: 0.16699188228410458.\u001b[0m\n",
      "\u001b[32m[I 2022-11-21 19:21:51,313]\u001b[0m Trial 238 finished with value: 0.1671046744952052 and parameters: {'lgbm1175__max_depth': 9, 'lgbm175__n_estimators': 860}. Best is trial 238 with value: 0.1671046744952052.\u001b[0m\n",
      "\u001b[32m[I 2022-11-21 19:22:57,431]\u001b[0m Trial 239 finished with value: 0.16721776517767795 and parameters: {'lgbm1175__max_depth': 9, 'lgbm175__n_estimators': 880}. Best is trial 239 with value: 0.16721776517767795.\u001b[0m\n",
      "\u001b[32m[I 2022-11-21 19:24:01,358]\u001b[0m Trial 240 finished with value: 0.16732665569243332 and parameters: {'lgbm1175__max_depth': 10, 'lgbm175__n_estimators': 860}. Best is trial 240 with value: 0.16732665569243332.\u001b[0m\n",
      "\u001b[32m[I 2022-11-21 19:25:09,541]\u001b[0m Trial 241 finished with value: 0.16743970611707767 and parameters: {'lgbm1175__max_depth': 9, 'lgbm175__n_estimators': 870}. Best is trial 241 with value: 0.16743970611707767.\u001b[0m\n",
      "\u001b[32m[I 2022-11-21 19:26:12,721]\u001b[0m Trial 242 finished with value: 0.16755241610813254 and parameters: {'lgbm1175__max_depth': 9, 'lgbm175__n_estimators': 820}. Best is trial 242 with value: 0.16755241610813254.\u001b[0m\n",
      "\u001b[32m[I 2022-11-21 19:27:16,402]\u001b[0m Trial 243 finished with value: 0.16766287482881836 and parameters: {'lgbm1175__max_depth': 9, 'lgbm175__n_estimators': 840}. Best is trial 243 with value: 0.16766287482881836.\u001b[0m\n",
      "\u001b[32m[I 2022-11-21 19:28:21,363]\u001b[0m Trial 244 finished with value: 0.1677730006157634 and parameters: {'lgbm1175__max_depth': 9, 'lgbm175__n_estimators': 840}. Best is trial 244 with value: 0.1677730006157634.\u001b[0m\n",
      "\u001b[32m[I 2022-11-21 19:29:26,206]\u001b[0m Trial 245 finished with value: 0.16788023263931867 and parameters: {'lgbm1175__max_depth': 9, 'lgbm175__n_estimators': 850}. Best is trial 245 with value: 0.16788023263931867.\u001b[0m\n",
      "\u001b[32m[I 2022-11-21 19:30:33,810]\u001b[0m Trial 246 finished with value: 0.16798970000485738 and parameters: {'lgbm1175__max_depth': 9, 'lgbm175__n_estimators': 840}. Best is trial 246 with value: 0.16798970000485738.\u001b[0m\n",
      "\u001b[32m[I 2022-11-21 19:31:37,604]\u001b[0m Trial 247 finished with value: 0.16809947459512464 and parameters: {'lgbm1175__max_depth': 9, 'lgbm175__n_estimators': 860}. Best is trial 247 with value: 0.16809947459512464.\u001b[0m\n",
      "\u001b[32m[I 2022-11-21 19:32:43,872]\u001b[0m Trial 248 finished with value: 0.16820828561245343 and parameters: {'lgbm1175__max_depth': 9, 'lgbm175__n_estimators': 840}. Best is trial 248 with value: 0.16820828561245343.\u001b[0m\n",
      "\u001b[32m[I 2022-11-21 19:33:46,874]\u001b[0m Trial 249 finished with value: 0.16831677100310224 and parameters: {'lgbm1175__max_depth': 9, 'lgbm175__n_estimators': 840}. Best is trial 249 with value: 0.16831677100310224.\u001b[0m\n",
      "\u001b[32m[I 2022-11-21 19:34:50,496]\u001b[0m Trial 250 finished with value: 0.16842493220414026 and parameters: {'lgbm1175__max_depth': 9, 'lgbm175__n_estimators': 840}. Best is trial 250 with value: 0.16842493220414026.\u001b[0m\n",
      "\u001b[32m[I 2022-11-21 19:35:53,114]\u001b[0m Trial 251 finished with value: 0.16853340341880857 and parameters: {'lgbm1175__max_depth': 9, 'lgbm175__n_estimators': 830}. Best is trial 251 with value: 0.16853340341880857.\u001b[0m\n",
      "\u001b[32m[I 2022-11-21 19:36:58,534]\u001b[0m Trial 252 finished with value: 0.16864155181298243 and parameters: {'lgbm1175__max_depth': 9, 'lgbm175__n_estimators': 830}. Best is trial 252 with value: 0.16864155181298243.\u001b[0m\n",
      "\u001b[32m[I 2022-11-21 19:38:05,664]\u001b[0m Trial 253 finished with value: 0.16874937880348306 and parameters: {'lgbm1175__max_depth': 9, 'lgbm175__n_estimators': 830}. Best is trial 253 with value: 0.16874937880348306.\u001b[0m\n",
      "\u001b[32m[I 2022-11-21 19:39:12,893]\u001b[0m Trial 254 finished with value: 0.16885371986213324 and parameters: {'lgbm1175__max_depth': 9, 'lgbm175__n_estimators': 850}. Best is trial 254 with value: 0.16885371986213324.\u001b[0m\n",
      "\u001b[32m[I 2022-11-21 19:40:17,674]\u001b[0m Trial 255 finished with value: 0.16896028213563016 and parameters: {'lgbm1175__max_depth': 9, 'lgbm175__n_estimators': 840}. Best is trial 255 with value: 0.16896028213563016.\u001b[0m\n",
      "\u001b[32m[I 2022-11-21 19:41:18,834]\u001b[0m Trial 256 finished with value: 0.16906463358101848 and parameters: {'lgbm1175__max_depth': 9, 'lgbm175__n_estimators': 780}. Best is trial 256 with value: 0.16906463358101848.\u001b[0m\n",
      "\u001b[32m[I 2022-11-21 19:42:21,928]\u001b[0m Trial 257 finished with value: 0.16916867510918443 and parameters: {'lgbm1175__max_depth': 9, 'lgbm175__n_estimators': 810}. Best is trial 257 with value: 0.16916867510918443.\u001b[0m\n",
      "\u001b[32m[I 2022-11-21 19:43:23,730]\u001b[0m Trial 258 finished with value: 0.16927555261109808 and parameters: {'lgbm1175__max_depth': 9, 'lgbm175__n_estimators': 800}. Best is trial 258 with value: 0.16927555261109808.\u001b[0m\n",
      "\u001b[32m[I 2022-11-21 19:44:26,602]\u001b[0m Trial 259 finished with value: 0.16938023494337343 and parameters: {'lgbm1175__max_depth': 9, 'lgbm175__n_estimators': 790}. Best is trial 259 with value: 0.16938023494337343.\u001b[0m\n",
      "\u001b[32m[I 2022-11-21 19:45:28,849]\u001b[0m Trial 260 finished with value: 0.16948017958515027 and parameters: {'lgbm1175__max_depth': 9, 'lgbm175__n_estimators': 770}. Best is trial 260 with value: 0.16948017958515027.\u001b[0m\n",
      "\u001b[32m[I 2022-11-21 19:46:29,913]\u001b[0m Trial 261 finished with value: 0.1695842508123134 and parameters: {'lgbm1175__max_depth': 9, 'lgbm175__n_estimators': 790}. Best is trial 261 with value: 0.1695842508123134.\u001b[0m\n",
      "\u001b[32m[I 2022-11-21 19:47:32,908]\u001b[0m Trial 262 finished with value: 0.1696867600738753 and parameters: {'lgbm1175__max_depth': 9, 'lgbm175__n_estimators': 780}. Best is trial 262 with value: 0.1696867600738753.\u001b[0m\n",
      "\u001b[32m[I 2022-11-21 19:48:34,861]\u001b[0m Trial 263 finished with value: 0.16978896746234437 and parameters: {'lgbm1175__max_depth': 9, 'lgbm175__n_estimators': 780}. Best is trial 263 with value: 0.16978896746234437.\u001b[0m\n",
      "\u001b[32m[I 2022-11-21 19:49:37,038]\u001b[0m Trial 264 finished with value: 0.16988771907796435 and parameters: {'lgbm1175__max_depth': 9, 'lgbm175__n_estimators': 770}. Best is trial 264 with value: 0.16988771907796435.\u001b[0m\n",
      "\u001b[32m[I 2022-11-21 19:50:40,426]\u001b[0m Trial 265 finished with value: 0.16998617887914577 and parameters: {'lgbm1175__max_depth': 9, 'lgbm175__n_estimators': 770}. Best is trial 265 with value: 0.16998617887914577.\u001b[0m\n"
     ]
    },
    {
     "name": "stderr",
     "output_type": "stream",
     "text": [
      "\u001b[32m[I 2022-11-21 19:51:42,974]\u001b[0m Trial 266 finished with value: 0.17008434814100984 and parameters: {'lgbm1175__max_depth': 9, 'lgbm175__n_estimators': 770}. Best is trial 266 with value: 0.17008434814100984.\u001b[0m\n",
      "\u001b[32m[I 2022-11-21 19:52:45,581]\u001b[0m Trial 267 finished with value: 0.17018222813137612 and parameters: {'lgbm1175__max_depth': 9, 'lgbm175__n_estimators': 770}. Best is trial 267 with value: 0.17018222813137612.\u001b[0m\n",
      "\u001b[32m[I 2022-11-21 19:53:45,403]\u001b[0m Trial 268 finished with value: 0.17027792004171916 and parameters: {'lgbm1175__max_depth': 8, 'lgbm175__n_estimators': 750}. Best is trial 268 with value: 0.17027792004171916.\u001b[0m\n",
      "\u001b[32m[I 2022-11-21 19:54:50,446]\u001b[0m Trial 269 finished with value: 0.17037332971476213 and parameters: {'lgbm1175__max_depth': 8, 'lgbm175__n_estimators': 750}. Best is trial 269 with value: 0.17037332971476213.\u001b[0m\n",
      "\u001b[32m[I 2022-11-21 19:55:53,348]\u001b[0m Trial 270 finished with value: 0.17046845838242541 and parameters: {'lgbm1175__max_depth': 8, 'lgbm175__n_estimators': 750}. Best is trial 270 with value: 0.17046845838242541.\u001b[0m\n",
      "\u001b[32m[I 2022-11-21 19:56:56,219]\u001b[0m Trial 271 finished with value: 0.1705633072695752 and parameters: {'lgbm1175__max_depth': 8, 'lgbm175__n_estimators': 750}. Best is trial 271 with value: 0.1705633072695752.\u001b[0m\n",
      "\u001b[32m[I 2022-11-21 19:57:54,937]\u001b[0m Trial 272 finished with value: 0.17065787759407297 and parameters: {'lgbm1175__max_depth': 8, 'lgbm175__n_estimators': 660}. Best is trial 272 with value: 0.17065787759407297.\u001b[0m\n",
      "\u001b[32m[I 2022-11-21 19:58:55,519]\u001b[0m Trial 273 finished with value: 0.17075217056682487 and parameters: {'lgbm1175__max_depth': 8, 'lgbm175__n_estimators': 750}. Best is trial 273 with value: 0.17075217056682487.\u001b[0m\n",
      "\u001b[32m[I 2022-11-21 19:59:53,648]\u001b[0m Trial 274 finished with value: 0.1708430163793757 and parameters: {'lgbm1175__max_depth': 8, 'lgbm175__n_estimators': 680}. Best is trial 274 with value: 0.1708430163793757.\u001b[0m\n",
      "\u001b[32m[I 2022-11-21 20:00:49,563]\u001b[0m Trial 275 finished with value: 0.17095031021137694 and parameters: {'lgbm1175__max_depth': 7, 'lgbm175__n_estimators': 650}. Best is trial 275 with value: 0.17095031021137694.\u001b[0m\n",
      "\u001b[32m[I 2022-11-21 20:01:45,382]\u001b[0m Trial 276 finished with value: 0.1710572991743248 and parameters: {'lgbm1175__max_depth': 7, 'lgbm175__n_estimators': 670}. Best is trial 276 with value: 0.1710572991743248.\u001b[0m\n",
      "\u001b[32m[I 2022-11-21 20:02:42,279]\u001b[0m Trial 277 finished with value: 0.1711633832636208 and parameters: {'lgbm1175__max_depth': 7, 'lgbm175__n_estimators': 680}. Best is trial 277 with value: 0.1711633832636208.\u001b[0m\n",
      "\u001b[32m[I 2022-11-21 20:03:38,729]\u001b[0m Trial 278 finished with value: 0.17127215733160947 and parameters: {'lgbm1175__max_depth': 7, 'lgbm175__n_estimators': 660}. Best is trial 278 with value: 0.17127215733160947.\u001b[0m\n",
      "\u001b[32m[I 2022-11-21 20:04:34,817]\u001b[0m Trial 279 finished with value: 0.1713782373406402 and parameters: {'lgbm1175__max_depth': 7, 'lgbm175__n_estimators': 670}. Best is trial 279 with value: 0.1713782373406402.\u001b[0m\n",
      "\u001b[32m[I 2022-11-21 20:05:31,924]\u001b[0m Trial 280 finished with value: 0.1714840175494801 and parameters: {'lgbm1175__max_depth': 7, 'lgbm175__n_estimators': 650}. Best is trial 280 with value: 0.1714840175494801.\u001b[0m\n",
      "\u001b[32m[I 2022-11-21 20:06:27,740]\u001b[0m Trial 281 finished with value: 0.17159188167969286 and parameters: {'lgbm1175__max_depth': 7, 'lgbm175__n_estimators': 660}. Best is trial 281 with value: 0.17159188167969286.\u001b[0m\n",
      "\u001b[32m[I 2022-11-21 20:07:25,935]\u001b[0m Trial 282 finished with value: 0.17169706339996074 and parameters: {'lgbm1175__max_depth': 7, 'lgbm175__n_estimators': 670}. Best is trial 282 with value: 0.17169706339996074.\u001b[0m\n",
      "\u001b[32m[I 2022-11-21 20:08:21,996]\u001b[0m Trial 283 finished with value: 0.17180432630484502 and parameters: {'lgbm1175__max_depth': 7, 'lgbm175__n_estimators': 660}. Best is trial 283 with value: 0.17180432630484502.\u001b[0m\n",
      "\u001b[32m[I 2022-11-21 20:09:18,987]\u001b[0m Trial 284 finished with value: 0.17191128916512802 and parameters: {'lgbm1175__max_depth': 7, 'lgbm175__n_estimators': 660}. Best is trial 284 with value: 0.17191128916512802.\u001b[0m\n",
      "\u001b[32m[I 2022-11-21 20:10:16,650]\u001b[0m Trial 285 finished with value: 0.17201558113198184 and parameters: {'lgbm1175__max_depth': 7, 'lgbm175__n_estimators': 670}. Best is trial 285 with value: 0.17201558113198184.\u001b[0m\n",
      "\u001b[32m[I 2022-11-21 20:11:16,815]\u001b[0m Trial 286 finished with value: 0.17211958070682978 and parameters: {'lgbm1175__max_depth': 7, 'lgbm175__n_estimators': 670}. Best is trial 286 with value: 0.17211958070682978.\u001b[0m\n",
      "\u001b[32m[I 2022-11-21 20:12:13,766]\u001b[0m Trial 287 finished with value: 0.17222328909865525 and parameters: {'lgbm1175__max_depth': 7, 'lgbm175__n_estimators': 670}. Best is trial 287 with value: 0.17222328909865525.\u001b[0m\n",
      "\u001b[32m[I 2022-11-21 20:13:10,283]\u001b[0m Trial 288 finished with value: 0.17232907178186957 and parameters: {'lgbm1175__max_depth': 7, 'lgbm175__n_estimators': 660}. Best is trial 288 with value: 0.17232907178186957.\u001b[0m\n",
      "\u001b[32m[I 2022-11-21 20:14:08,059]\u001b[0m Trial 289 finished with value: 0.17243160539741162 and parameters: {'lgbm1175__max_depth': 7, 'lgbm175__n_estimators': 680}. Best is trial 289 with value: 0.17243160539741162.\u001b[0m\n",
      "\u001b[32m[I 2022-11-21 20:15:05,184]\u001b[0m Trial 290 finished with value: 0.17253444548988145 and parameters: {'lgbm1175__max_depth': 7, 'lgbm175__n_estimators': 670}. Best is trial 290 with value: 0.17253444548988145.\u001b[0m\n",
      "\u001b[32m[I 2022-11-21 20:16:01,593]\u001b[0m Trial 291 finished with value: 0.17263935570035258 and parameters: {'lgbm1175__max_depth': 7, 'lgbm175__n_estimators': 660}. Best is trial 291 with value: 0.17263935570035258.\u001b[0m\n",
      "\u001b[32m[I 2022-11-21 20:16:57,659]\u001b[0m Trial 292 finished with value: 0.17274397555076287 and parameters: {'lgbm1175__max_depth': 7, 'lgbm175__n_estimators': 660}. Best is trial 292 with value: 0.17274397555076287.\u001b[0m\n",
      "\u001b[32m[I 2022-11-21 20:17:53,712]\u001b[0m Trial 293 finished with value: 0.172848306225772 and parameters: {'lgbm1175__max_depth': 7, 'lgbm175__n_estimators': 660}. Best is trial 293 with value: 0.172848306225772.\u001b[0m\n",
      "\u001b[32m[I 2022-11-21 20:18:49,499]\u001b[0m Trial 294 finished with value: 0.1729523489037336 and parameters: {'lgbm1175__max_depth': 7, 'lgbm175__n_estimators': 660}. Best is trial 294 with value: 0.1729523489037336.\u001b[0m\n",
      "\u001b[32m[I 2022-11-21 20:19:44,482]\u001b[0m Trial 295 finished with value: 0.17305610475673625 and parameters: {'lgbm1175__max_depth': 7, 'lgbm175__n_estimators': 660}. Best is trial 295 with value: 0.17305610475673625.\u001b[0m\n",
      "\u001b[32m[I 2022-11-21 20:20:35,592]\u001b[0m Trial 296 finished with value: 0.17315128745545874 and parameters: {'lgbm1175__max_depth': 7, 'lgbm175__n_estimators': 520}. Best is trial 296 with value: 0.17315128745545874.\u001b[0m\n",
      "\u001b[32m[I 2022-11-21 20:21:30,913]\u001b[0m Trial 297 finished with value: 0.1732544820780519 and parameters: {'lgbm1175__max_depth': 7, 'lgbm175__n_estimators': 660}. Best is trial 297 with value: 0.1732544820780519.\u001b[0m\n",
      "\u001b[32m[I 2022-11-21 20:22:26,863]\u001b[0m Trial 298 finished with value: 0.17334912407766234 and parameters: {'lgbm1175__max_depth': 7, 'lgbm175__n_estimators': 510}. Best is trial 298 with value: 0.17334912407766234.\u001b[0m\n",
      "\u001b[32m[I 2022-11-21 20:23:18,331]\u001b[0m Trial 299 finished with value: 0.1734435020448431 and parameters: {'lgbm1175__max_depth': 7, 'lgbm175__n_estimators': 510}. Best is trial 299 with value: 0.1734435020448431.\u001b[0m\n"
     ]
    }
   ],
   "source": [
    "study_lgbm175 = optuna.create_study(direction= 'maximize')\n",
    "\n",
    "study_lgbm175.optimize(objective_lgbm175, n_trials= 300)"
   ]
  },
  {
   "cell_type": "code",
   "execution_count": 89,
   "id": "a32e0c84",
   "metadata": {
    "ExecuteTime": {
     "end_time": "2022-11-21T23:35:14.161078Z",
     "start_time": "2022-11-21T23:35:14.083796Z"
    }
   },
   "outputs": [
    {
     "name": "stdout",
     "output_type": "stream",
     "text": [
      "Best Value: 0.1734435020448431\n",
      "Best Parameters: {'lgbm1175__max_depth': 7, 'lgbm175__n_estimators': 510}\n"
     ]
    }
   ],
   "source": [
    "print('Best Value: {}'.format(study_lgbm175.best_value))\n",
    "print('Best Parameters: {}'.format(study_lgbm175.best_params))"
   ]
  },
  {
   "cell_type": "code",
   "execution_count": 90,
   "id": "0a7a17d8",
   "metadata": {
    "ExecuteTime": {
     "end_time": "2022-11-22T02:40:52.765595Z",
     "start_time": "2022-11-22T02:40:51.845740Z"
    }
   },
   "outputs": [
    {
     "data": {
      "text/plain": [
       "['study_lgbm175.pkl']"
      ]
     },
     "execution_count": 90,
     "metadata": {},
     "output_type": "execute_result"
    }
   ],
   "source": [
    "joblib.dump(study_lgbm175, \"study_lgbm175.pkl\")"
   ]
  },
  {
   "cell_type": "code",
   "execution_count": 91,
   "id": "17ff18b8",
   "metadata": {
    "ExecuteTime": {
     "end_time": "2022-11-22T02:40:54.181753Z",
     "start_time": "2022-11-22T02:40:53.027764Z"
    }
   },
   "outputs": [
    {
     "name": "stderr",
     "output_type": "stream",
     "text": [
      "C:\\Users\\Madelaine\\AppData\\Local\\Temp\\ipykernel_16900\\1565676796.py:1: ExperimentalWarning:\n",
      "\n",
      "plot_optimization_history is experimental (supported from v2.2.0). The interface can change in the future.\n",
      "\n"
     ]
    },
    {
     "data": {
      "text/plain": [
       "<AxesSubplot:title={'center':'Optimization History Plot'}, xlabel='Trial', ylabel='Objective Value'>"
      ]
     },
     "execution_count": 91,
     "metadata": {},
     "output_type": "execute_result"
    },
    {
     "data": {
      "image/png": "[encoded data removed]",
      "text/plain": [
       "<Figure size 432x288 with 1 Axes>"
      ]
     },
     "metadata": {},
     "output_type": "display_data"
    }
   ],
   "source": [
    "optuna.visualization.matplotlib.plot_optimization_history(study_lgbm175)"
   ]
  },
  {
   "cell_type": "code",
   "execution_count": 92,
   "id": "18aa78e5",
   "metadata": {
    "ExecuteTime": {
     "end_time": "2022-11-22T02:41:04.900326Z",
     "start_time": "2022-11-22T02:41:01.741390Z"
    }
   },
   "outputs": [
    {
     "data": {
      "application/vnd.plotly.v1+json": {
       "config": {
        "plotlyServerURL": "https://plot.ly"
       },
       "data": [
        {
         "cliponaxis": false,
         "hovertemplate": [
          "lgbm1175__max_depth (IntDistribution): 0.36039391085406586<extra></extra>",
          "lgbm175__n_estimators (IntDistribution): 0.6396060891459342<extra></extra>"
         ],
         "marker": {
          "color": "rgb(66,146,198)"
         },
         "orientation": "h",
         "text": [
          "0.36",
          "0.64"
         ],
         "textposition": "outside",
         "type": "bar",
         "x": [
          0.36039391085406586,
          0.6396060891459342
         ],
         "y": [
          "lgbm1175__max_depth",
          "lgbm175__n_estimators"
         ]
        }
       ],
       "layout": {
        "showlegend": false,
        "template": {
         "data": {
          "bar": [
           {
            "error_x": {
             "color": "#2a3f5f"
            },
            "error_y": {
             "color": "#2a3f5f"
            },
            "marker": {
             "line": {
              "color": "#E5ECF6",
              "width": 0.5
             },
             "pattern": {
              "fillmode": "overlay",
              "size": 10,
              "solidity": 0.2
             }
            },
            "type": "bar"
           }
          ],
          "barpolar": [
           {
            "marker": {
             "line": {
              "color": "#E5ECF6",
              "width": 0.5
             },
             "pattern": {
              "fillmode": "overlay",
              "size": 10,
              "solidity": 0.2
             }
            },
            "type": "barpolar"
           }
          ],
          "carpet": [
           {
            "aaxis": {
             "endlinecolor": "#2a3f5f",
             "gridcolor": "white",
             "linecolor": "white",
             "minorgridcolor": "white",
             "startlinecolor": "#2a3f5f"
            },
            "baxis": {
             "endlinecolor": "#2a3f5f",
             "gridcolor": "white",
             "linecolor": "white",
             "minorgridcolor": "white",
             "startlinecolor": "#2a3f5f"
            },
            "type": "carpet"
           }
          ],
          "choropleth": [
           {
            "colorbar": {
             "outlinewidth": 0,
             "ticks": ""
            },
            "type": "choropleth"
           }
          ],
          "contour": [
           {
            "colorbar": {
             "outlinewidth": 0,
             "ticks": ""
            },
            "colorscale": [
             [
              0,
              "#0d0887"
             ],
             [
              0.1111111111111111,
              "#46039f"
             ],
             [
              0.2222222222222222,
              "#7201a8"
             ],
             [
              0.3333333333333333,
              "#9c179e"
             ],
             [
              0.4444444444444444,
              "#bd3786"
             ],
             [
              0.5555555555555556,
              "#d8576b"
             ],
             [
              0.6666666666666666,
              "#ed7953"
             ],
             [
              0.7777777777777778,
              "#fb9f3a"
             ],
             [
              0.8888888888888888,
              "#fdca26"
             ],
             [
              1,
              "#f0f921"
             ]
            ],
            "type": "contour"
           }
          ],
          "contourcarpet": [
           {
            "colorbar": {
             "outlinewidth": 0,
             "ticks": ""
            },
            "type": "contourcarpet"
           }
          ],
          "heatmap": [
           {
            "colorbar": {
             "outlinewidth": 0,
             "ticks": ""
            },
            "colorscale": [
             [
              0,
              "#0d0887"
             ],
             [
              0.1111111111111111,
              "#46039f"
             ],
             [
              0.2222222222222222,
              "#7201a8"
             ],
             [
              0.3333333333333333,
              "#9c179e"
             ],
             [
              0.4444444444444444,
              "#bd3786"
             ],
             [
              0.5555555555555556,
              "#d8576b"
             ],
             [
              0.6666666666666666,
              "#ed7953"
             ],
             [
              0.7777777777777778,
              "#fb9f3a"
             ],
             [
              0.8888888888888888,
              "#fdca26"
             ],
             [
              1,
              "#f0f921"
             ]
            ],
            "type": "heatmap"
           }
          ],
          "heatmapgl": [
           {
            "colorbar": {
             "outlinewidth": 0,
             "ticks": ""
            },
            "colorscale": [
             [
              0,
              "#0d0887"
             ],
             [
              0.1111111111111111,
              "#46039f"
             ],
             [
              0.2222222222222222,
              "#7201a8"
             ],
             [
              0.3333333333333333,
              "#9c179e"
             ],
             [
              0.4444444444444444,
              "#bd3786"
             ],
             [
              0.5555555555555556,
              "#d8576b"
             ],
             [
              0.6666666666666666,
              "#ed7953"
             ],
             [
              0.7777777777777778,
              "#fb9f3a"
             ],
             [
              0.8888888888888888,
              "#fdca26"
             ],
             [
              1,
              "#f0f921"
             ]
            ],
            "type": "heatmapgl"
           }
          ],
          "histogram": [
           {
            "marker": {
             "pattern": {
              "fillmode": "overlay",
              "size": 10,
              "solidity": 0.2
             }
            },
            "type": "histogram"
           }
          ],
          "histogram2d": [
           {
            "colorbar": {
             "outlinewidth": 0,
             "ticks": ""
            },
            "colorscale": [
             [
              0,
              "#0d0887"
             ],
             [
              0.1111111111111111,
              "#46039f"
             ],
             [
              0.2222222222222222,
              "#7201a8"
             ],
             [
              0.3333333333333333,
              "#9c179e"
             ],
             [
              0.4444444444444444,
              "#bd3786"
             ],
             [
              0.5555555555555556,
              "#d8576b"
             ],
             [
              0.6666666666666666,
              "#ed7953"
             ],
             [
              0.7777777777777778,
              "#fb9f3a"
             ],
             [
              0.8888888888888888,
              "#fdca26"
             ],
             [
              1,
              "#f0f921"
             ]
            ],
            "type": "histogram2d"
           }
          ],
          "histogram2dcontour": [
           {
            "colorbar": {
             "outlinewidth": 0,
             "ticks": ""
            },
            "colorscale": [
             [
              0,
              "#0d0887"
             ],
             [
              0.1111111111111111,
              "#46039f"
             ],
             [
              0.2222222222222222,
              "#7201a8"
             ],
             [
              0.3333333333333333,
              "#9c179e"
             ],
             [
              0.4444444444444444,
              "#bd3786"
             ],
             [
              0.5555555555555556,
              "#d8576b"
             ],
             [
              0.6666666666666666,
              "#ed7953"
             ],
             [
              0.7777777777777778,
              "#fb9f3a"
             ],
             [
              0.8888888888888888,
              "#fdca26"
             ],
             [
              1,
              "#f0f921"
             ]
            ],
            "type": "histogram2dcontour"
           }
          ],
          "mesh3d": [
           {
            "colorbar": {
             "outlinewidth": 0,
             "ticks": ""
            },
            "type": "mesh3d"
           }
          ],
          "parcoords": [
           {
            "line": {
             "colorbar": {
              "outlinewidth": 0,
              "ticks": ""
             }
            },
            "type": "parcoords"
           }
          ],
          "pie": [
           {
            "automargin": true,
            "type": "pie"
           }
          ],
          "scatter": [
           {
            "fillpattern": {
             "fillmode": "overlay",
             "size": 10,
             "solidity": 0.2
            },
            "type": "scatter"
           }
          ],
          "scatter3d": [
           {
            "line": {
             "colorbar": {
              "outlinewidth": 0,
              "ticks": ""
             }
            },
            "marker": {
             "colorbar": {
              "outlinewidth": 0,
              "ticks": ""
             }
            },
            "type": "scatter3d"
           }
          ],
          "scattercarpet": [
           {
            "marker": {
             "colorbar": {
              "outlinewidth": 0,
              "ticks": ""
             }
            },
            "type": "scattercarpet"
           }
          ],
          "scattergeo": [
           {
            "marker": {
             "colorbar": {
              "outlinewidth": 0,
              "ticks": ""
             }
            },
            "type": "scattergeo"
           }
          ],
          "scattergl": [
           {
            "marker": {
             "colorbar": {
              "outlinewidth": 0,
              "ticks": ""
             }
            },
            "type": "scattergl"
           }
          ],
          "scattermapbox": [
           {
            "marker": {
             "colorbar": {
              "outlinewidth": 0,
              "ticks": ""
             }
            },
            "type": "scattermapbox"
           }
          ],
          "scatterpolar": [
           {
            "marker": {
             "colorbar": {
              "outlinewidth": 0,
              "ticks": ""
             }
            },
            "type": "scatterpolar"
           }
          ],
          "scatterpolargl": [
           {
            "marker": {
             "colorbar": {
              "outlinewidth": 0,
              "ticks": ""
             }
            },
            "type": "scatterpolargl"
           }
          ],
          "scatterternary": [
           {
            "marker": {
             "colorbar": {
              "outlinewidth": 0,
              "ticks": ""
             }
            },
            "type": "scatterternary"
           }
          ],
          "surface": [
           {
            "colorbar": {
             "outlinewidth": 0,
             "ticks": ""
            },
            "colorscale": [
             [
              0,
              "#0d0887"
             ],
             [
              0.1111111111111111,
              "#46039f"
             ],
             [
              0.2222222222222222,
              "#7201a8"
             ],
             [
              0.3333333333333333,
              "#9c179e"
             ],
             [
              0.4444444444444444,
              "#bd3786"
             ],
             [
              0.5555555555555556,
              "#d8576b"
             ],
             [
              0.6666666666666666,
              "#ed7953"
             ],
             [
              0.7777777777777778,
              "#fb9f3a"
             ],
             [
              0.8888888888888888,
              "#fdca26"
             ],
             [
              1,
              "#f0f921"
             ]
            ],
            "type": "surface"
           }
          ],
          "table": [
           {
            "cells": {
             "fill": {
              "color": "#EBF0F8"
             },
             "line": {
              "color": "white"
             }
            },
            "header": {
             "fill": {
              "color": "#C8D4E3"
             },
             "line": {
              "color": "white"
             }
            },
            "type": "table"
           }
          ]
         },
         "layout": {
          "annotationdefaults": {
           "arrowcolor": "#2a3f5f",
           "arrowhead": 0,
           "arrowwidth": 1
          },
          "autotypenumbers": "strict",
          "coloraxis": {
           "colorbar": {
            "outlinewidth": 0,
            "ticks": ""
           }
          },
          "colorscale": {
           "diverging": [
            [
             0,
             "#8e0152"
            ],
            [
             0.1,
             "#c51b7d"
            ],
            [
             0.2,
             "#de77ae"
            ],
            [
             0.3,
             "#f1b6da"
            ],
            [
             0.4,
             "#fde0ef"
            ],
            [
             0.5,
             "#f7f7f7"
            ],
            [
             0.6,
             "#e6f5d0"
            ],
            [
             0.7,
             "#b8e186"
            ],
            [
             0.8,
             "#7fbc41"
            ],
            [
             0.9,
             "#4d9221"
            ],
            [
             1,
             "#276419"
            ]
           ],
           "sequential": [
            [
             0,
             "#0d0887"
            ],
            [
             0.1111111111111111,
             "#46039f"
            ],
            [
             0.2222222222222222,
             "#7201a8"
            ],
            [
             0.3333333333333333,
             "#9c179e"
            ],
            [
             0.4444444444444444,
             "#bd3786"
            ],
            [
             0.5555555555555556,
             "#d8576b"
            ],
            [
             0.6666666666666666,
             "#ed7953"
            ],
            [
             0.7777777777777778,
             "#fb9f3a"
            ],
            [
             0.8888888888888888,
             "#fdca26"
            ],
            [
             1,
             "#f0f921"
            ]
           ],
           "sequentialminus": [
            [
             0,
             "#0d0887"
            ],
            [
             0.1111111111111111,
             "#46039f"
            ],
            [
             0.2222222222222222,
             "#7201a8"
            ],
            [
             0.3333333333333333,
             "#9c179e"
            ],
            [
             0.4444444444444444,
             "#bd3786"
            ],
            [
             0.5555555555555556,
             "#d8576b"
            ],
            [
             0.6666666666666666,
             "#ed7953"
            ],
            [
             0.7777777777777778,
             "#fb9f3a"
            ],
            [
             0.8888888888888888,
             "#fdca26"
            ],
            [
             1,
             "#f0f921"
            ]
           ]
          },
          "colorway": [
           "#636efa",
           "#EF553B",
           "#00cc96",
           "#ab63fa",
           "#FFA15A",
           "#19d3f3",
           "#FF6692",
           "#B6E880",
           "#FF97FF",
           "#FECB52"
          ],
          "font": {
           "color": "#2a3f5f"
          },
          "geo": {
           "bgcolor": "white",
           "lakecolor": "white",
           "landcolor": "#E5ECF6",
           "showlakes": true,
           "showland": true,
           "subunitcolor": "white"
          },
          "hoverlabel": {
           "align": "left"
          },
          "hovermode": "closest",
          "mapbox": {
           "style": "light"
          },
          "paper_bgcolor": "white",
          "plot_bgcolor": "#E5ECF6",
          "polar": {
           "angularaxis": {
            "gridcolor": "white",
            "linecolor": "white",
            "ticks": ""
           },
           "bgcolor": "#E5ECF6",
           "radialaxis": {
            "gridcolor": "white",
            "linecolor": "white",
            "ticks": ""
           }
          },
          "scene": {
           "xaxis": {
            "backgroundcolor": "#E5ECF6",
            "gridcolor": "white",
            "gridwidth": 2,
            "linecolor": "white",
            "showbackground": true,
            "ticks": "",
            "zerolinecolor": "white"
           },
           "yaxis": {
            "backgroundcolor": "#E5ECF6",
            "gridcolor": "white",
            "gridwidth": 2,
            "linecolor": "white",
            "showbackground": true,
            "ticks": "",
            "zerolinecolor": "white"
           },
           "zaxis": {
            "backgroundcolor": "#E5ECF6",
            "gridcolor": "white",
            "gridwidth": 2,
            "linecolor": "white",
            "showbackground": true,
            "ticks": "",
            "zerolinecolor": "white"
           }
          },
          "shapedefaults": {
           "line": {
            "color": "#2a3f5f"
           }
          },
          "ternary": {
           "aaxis": {
            "gridcolor": "white",
            "linecolor": "white",
            "ticks": ""
           },
           "baxis": {
            "gridcolor": "white",
            "linecolor": "white",
            "ticks": ""
           },
           "bgcolor": "#E5ECF6",
           "caxis": {
            "gridcolor": "white",
            "linecolor": "white",
            "ticks": ""
           }
          },
          "title": {
           "x": 0.05
          },
          "xaxis": {
           "automargin": true,
           "gridcolor": "white",
           "linecolor": "white",
           "ticks": "",
           "title": {
            "standoff": 15
           },
           "zerolinecolor": "white",
           "zerolinewidth": 2
          },
          "yaxis": {
           "automargin": true,
           "gridcolor": "white",
           "linecolor": "white",
           "ticks": "",
           "title": {
            "standoff": 15
           },
           "zerolinecolor": "white",
           "zerolinewidth": 2
          }
         }
        },
        "title": {
         "text": "Hyperparameter Importances"
        },
        "xaxis": {
         "title": {
          "text": "Importance for Objective Value"
         }
        },
        "yaxis": {
         "title": {
          "text": "Hyperparameter"
         }
        }
       }
      },
      "text/html": [
       "<div>                            <div id=\"890ff5fc-5105-435f-91aa-950abd5ef125\" class=\"plotly-graph-div\" style=\"height:525px; width:100%;\"></div>            <script type=\"text/javascript\">                require([\"plotly\"], function(Plotly) {                    window.PLOTLYENV=window.PLOTLYENV || {};                                    if (document.getElementById(\"890ff5fc-5105-435f-91aa-950abd5ef125\")) {                    Plotly.newPlot(                        \"890ff5fc-5105-435f-91aa-950abd5ef125\",                        [{\"cliponaxis\":false,\"hovertemplate\":[\"lgbm1175__max_depth (IntDistribution): 0.36039391085406586<extra></extra>\",\"lgbm175__n_estimators (IntDistribution): 0.6396060891459342<extra></extra>\"],\"marker\":{\"color\":\"rgb(66,146,198)\"},\"orientation\":\"h\",\"text\":[\"0.36\",\"0.64\"],\"textposition\":\"outside\",\"x\":[0.36039391085406586,0.6396060891459342],\"y\":[\"lgbm1175__max_depth\",\"lgbm175__n_estimators\"],\"type\":\"bar\"}],                        {\"showlegend\":false,\"title\":{\"text\":\"Hyperparameter Importances\"},\"xaxis\":{\"title\":{\"text\":\"Importance for Objective Value\"}},\"yaxis\":{\"title\":{\"text\":\"Hyperparameter\"}},\"template\":{\"data\":{\"histogram2dcontour\":[{\"type\":\"histogram2dcontour\",\"colorbar\":{\"outlinewidth\":0,\"ticks\":\"\"},\"colorscale\":[[0.0,\"#0d0887\"],[0.1111111111111111,\"#46039f\"],[0.2222222222222222,\"#7201a8\"],[0.3333333333333333,\"#9c179e\"],[0.4444444444444444,\"#bd3786\"],[0.5555555555555556,\"#d8576b\"],[0.6666666666666666,\"#ed7953\"],[0.7777777777777778,\"#fb9f3a\"],[0.8888888888888888,\"#fdca26\"],[1.0,\"#f0f921\"]]}],\"choropleth\":[{\"type\":\"choropleth\",\"colorbar\":{\"outlinewidth\":0,\"ticks\":\"\"}}],\"histogram2d\":[{\"type\":\"histogram2d\",\"colorbar\":{\"outlinewidth\":0,\"ticks\":\"\"},\"colorscale\":[[0.0,\"#0d0887\"],[0.1111111111111111,\"#46039f\"],[0.2222222222222222,\"#7201a8\"],[0.3333333333333333,\"#9c179e\"],[0.4444444444444444,\"#bd3786\"],[0.5555555555555556,\"#d8576b\"],[0.6666666666666666,\"#ed7953\"],[0.7777777777777778,\"#fb9f3a\"],[0.8888888888888888,\"#fdca26\"],[1.0,\"#f0f921\"]]}],\"heatmap\":[{\"type\":\"heatmap\",\"colorbar\":{\"outlinewidth\":0,\"ticks\":\"\"},\"colorscale\":[[0.0,\"#0d0887\"],[0.1111111111111111,\"#46039f\"],[0.2222222222222222,\"#7201a8\"],[0.3333333333333333,\"#9c179e\"],[0.4444444444444444,\"#bd3786\"],[0.5555555555555556,\"#d8576b\"],[0.6666666666666666,\"#ed7953\"],[0.7777777777777778,\"#fb9f3a\"],[0.8888888888888888,\"#fdca26\"],[1.0,\"#f0f921\"]]}],\"heatmapgl\":[{\"type\":\"heatmapgl\",\"colorbar\":{\"outlinewidth\":0,\"ticks\":\"\"},\"colorscale\":[[0.0,\"#0d0887\"],[0.1111111111111111,\"#46039f\"],[0.2222222222222222,\"#7201a8\"],[0.3333333333333333,\"#9c179e\"],[0.4444444444444444,\"#bd3786\"],[0.5555555555555556,\"#d8576b\"],[0.6666666666666666,\"#ed7953\"],[0.7777777777777778,\"#fb9f3a\"],[0.8888888888888888,\"#fdca26\"],[1.0,\"#f0f921\"]]}],\"contourcarpet\":[{\"type\":\"contourcarpet\",\"colorbar\":{\"outlinewidth\":0,\"ticks\":\"\"}}],\"contour\":[{\"type\":\"contour\",\"colorbar\":{\"outlinewidth\":0,\"ticks\":\"\"},\"colorscale\":[[0.0,\"#0d0887\"],[0.1111111111111111,\"#46039f\"],[0.2222222222222222,\"#7201a8\"],[0.3333333333333333,\"#9c179e\"],[0.4444444444444444,\"#bd3786\"],[0.5555555555555556,\"#d8576b\"],[0.6666666666666666,\"#ed7953\"],[0.7777777777777778,\"#fb9f3a\"],[0.8888888888888888,\"#fdca26\"],[1.0,\"#f0f921\"]]}],\"surface\":[{\"type\":\"surface\",\"colorbar\":{\"outlinewidth\":0,\"ticks\":\"\"},\"colorscale\":[[0.0,\"#0d0887\"],[0.1111111111111111,\"#46039f\"],[0.2222222222222222,\"#7201a8\"],[0.3333333333333333,\"#9c179e\"],[0.4444444444444444,\"#bd3786\"],[0.5555555555555556,\"#d8576b\"],[0.6666666666666666,\"#ed7953\"],[0.7777777777777778,\"#fb9f3a\"],[0.8888888888888888,\"#fdca26\"],[1.0,\"#f0f921\"]]}],\"mesh3d\":[{\"type\":\"mesh3d\",\"colorbar\":{\"outlinewidth\":0,\"ticks\":\"\"}}],\"scatter\":[{\"fillpattern\":{\"fillmode\":\"overlay\",\"size\":10,\"solidity\":0.2},\"type\":\"scatter\"}],\"parcoords\":[{\"type\":\"parcoords\",\"line\":{\"colorbar\":{\"outlinewidth\":0,\"ticks\":\"\"}}}],\"scatterpolargl\":[{\"type\":\"scatterpolargl\",\"marker\":{\"colorbar\":{\"outlinewidth\":0,\"ticks\":\"\"}}}],\"bar\":[{\"error_x\":{\"color\":\"#2a3f5f\"},\"error_y\":{\"color\":\"#2a3f5f\"},\"marker\":{\"line\":{\"color\":\"#E5ECF6\",\"width\":0.5},\"pattern\":{\"fillmode\":\"overlay\",\"size\":10,\"solidity\":0.2}},\"type\":\"bar\"}],\"scattergeo\":[{\"type\":\"scattergeo\",\"marker\":{\"colorbar\":{\"outlinewidth\":0,\"ticks\":\"\"}}}],\"scatterpolar\":[{\"type\":\"scatterpolar\",\"marker\":{\"colorbar\":{\"outlinewidth\":0,\"ticks\":\"\"}}}],\"histogram\":[{\"marker\":{\"pattern\":{\"fillmode\":\"overlay\",\"size\":10,\"solidity\":0.2}},\"type\":\"histogram\"}],\"scattergl\":[{\"type\":\"scattergl\",\"marker\":{\"colorbar\":{\"outlinewidth\":0,\"ticks\":\"\"}}}],\"scatter3d\":[{\"type\":\"scatter3d\",\"line\":{\"colorbar\":{\"outlinewidth\":0,\"ticks\":\"\"}},\"marker\":{\"colorbar\":{\"outlinewidth\":0,\"ticks\":\"\"}}}],\"scattermapbox\":[{\"type\":\"scattermapbox\",\"marker\":{\"colorbar\":{\"outlinewidth\":0,\"ticks\":\"\"}}}],\"scatterternary\":[{\"type\":\"scatterternary\",\"marker\":{\"colorbar\":{\"outlinewidth\":0,\"ticks\":\"\"}}}],\"scattercarpet\":[{\"type\":\"scattercarpet\",\"marker\":{\"colorbar\":{\"outlinewidth\":0,\"ticks\":\"\"}}}],\"carpet\":[{\"aaxis\":{\"endlinecolor\":\"#2a3f5f\",\"gridcolor\":\"white\",\"linecolor\":\"white\",\"minorgridcolor\":\"white\",\"startlinecolor\":\"#2a3f5f\"},\"baxis\":{\"endlinecolor\":\"#2a3f5f\",\"gridcolor\":\"white\",\"linecolor\":\"white\",\"minorgridcolor\":\"white\",\"startlinecolor\":\"#2a3f5f\"},\"type\":\"carpet\"}],\"table\":[{\"cells\":{\"fill\":{\"color\":\"#EBF0F8\"},\"line\":{\"color\":\"white\"}},\"header\":{\"fill\":{\"color\":\"#C8D4E3\"},\"line\":{\"color\":\"white\"}},\"type\":\"table\"}],\"barpolar\":[{\"marker\":{\"line\":{\"color\":\"#E5ECF6\",\"width\":0.5},\"pattern\":{\"fillmode\":\"overlay\",\"size\":10,\"solidity\":0.2}},\"type\":\"barpolar\"}],\"pie\":[{\"automargin\":true,\"type\":\"pie\"}]},\"layout\":{\"autotypenumbers\":\"strict\",\"colorway\":[\"#636efa\",\"#EF553B\",\"#00cc96\",\"#ab63fa\",\"#FFA15A\",\"#19d3f3\",\"#FF6692\",\"#B6E880\",\"#FF97FF\",\"#FECB52\"],\"font\":{\"color\":\"#2a3f5f\"},\"hovermode\":\"closest\",\"hoverlabel\":{\"align\":\"left\"},\"paper_bgcolor\":\"white\",\"plot_bgcolor\":\"#E5ECF6\",\"polar\":{\"bgcolor\":\"#E5ECF6\",\"angularaxis\":{\"gridcolor\":\"white\",\"linecolor\":\"white\",\"ticks\":\"\"},\"radialaxis\":{\"gridcolor\":\"white\",\"linecolor\":\"white\",\"ticks\":\"\"}},\"ternary\":{\"bgcolor\":\"#E5ECF6\",\"aaxis\":{\"gridcolor\":\"white\",\"linecolor\":\"white\",\"ticks\":\"\"},\"baxis\":{\"gridcolor\":\"white\",\"linecolor\":\"white\",\"ticks\":\"\"},\"caxis\":{\"gridcolor\":\"white\",\"linecolor\":\"white\",\"ticks\":\"\"}},\"coloraxis\":{\"colorbar\":{\"outlinewidth\":0,\"ticks\":\"\"}},\"colorscale\":{\"sequential\":[[0.0,\"#0d0887\"],[0.1111111111111111,\"#46039f\"],[0.2222222222222222,\"#7201a8\"],[0.3333333333333333,\"#9c179e\"],[0.4444444444444444,\"#bd3786\"],[0.5555555555555556,\"#d8576b\"],[0.6666666666666666,\"#ed7953\"],[0.7777777777777778,\"#fb9f3a\"],[0.8888888888888888,\"#fdca26\"],[1.0,\"#f0f921\"]],\"sequentialminus\":[[0.0,\"#0d0887\"],[0.1111111111111111,\"#46039f\"],[0.2222222222222222,\"#7201a8\"],[0.3333333333333333,\"#9c179e\"],[0.4444444444444444,\"#bd3786\"],[0.5555555555555556,\"#d8576b\"],[0.6666666666666666,\"#ed7953\"],[0.7777777777777778,\"#fb9f3a\"],[0.8888888888888888,\"#fdca26\"],[1.0,\"#f0f921\"]],\"diverging\":[[0,\"#8e0152\"],[0.1,\"#c51b7d\"],[0.2,\"#de77ae\"],[0.3,\"#f1b6da\"],[0.4,\"#fde0ef\"],[0.5,\"#f7f7f7\"],[0.6,\"#e6f5d0\"],[0.7,\"#b8e186\"],[0.8,\"#7fbc41\"],[0.9,\"#4d9221\"],[1,\"#276419\"]]},\"xaxis\":{\"gridcolor\":\"white\",\"linecolor\":\"white\",\"ticks\":\"\",\"title\":{\"standoff\":15},\"zerolinecolor\":\"white\",\"automargin\":true,\"zerolinewidth\":2},\"yaxis\":{\"gridcolor\":\"white\",\"linecolor\":\"white\",\"ticks\":\"\",\"title\":{\"standoff\":15},\"zerolinecolor\":\"white\",\"automargin\":true,\"zerolinewidth\":2},\"scene\":{\"xaxis\":{\"backgroundcolor\":\"#E5ECF6\",\"gridcolor\":\"white\",\"linecolor\":\"white\",\"showbackground\":true,\"ticks\":\"\",\"zerolinecolor\":\"white\",\"gridwidth\":2},\"yaxis\":{\"backgroundcolor\":\"#E5ECF6\",\"gridcolor\":\"white\",\"linecolor\":\"white\",\"showbackground\":true,\"ticks\":\"\",\"zerolinecolor\":\"white\",\"gridwidth\":2},\"zaxis\":{\"backgroundcolor\":\"#E5ECF6\",\"gridcolor\":\"white\",\"linecolor\":\"white\",\"showbackground\":true,\"ticks\":\"\",\"zerolinecolor\":\"white\",\"gridwidth\":2}},\"shapedefaults\":{\"line\":{\"color\":\"#2a3f5f\"}},\"annotationdefaults\":{\"arrowcolor\":\"#2a3f5f\",\"arrowhead\":0,\"arrowwidth\":1},\"geo\":{\"bgcolor\":\"white\",\"landcolor\":\"#E5ECF6\",\"subunitcolor\":\"white\",\"showland\":true,\"showlakes\":true,\"lakecolor\":\"white\"},\"title\":{\"x\":0.05},\"mapbox\":{\"style\":\"light\"}}}},                        {\"responsive\": true}                    ).then(function(){\n",
       "                            \n",
       "var gd = document.getElementById('890ff5fc-5105-435f-91aa-950abd5ef125');\n",
       "var x = new MutationObserver(function (mutations, observer) {{\n",
       "        var display = window.getComputedStyle(gd).display;\n",
       "        if (!display || display === 'none') {{\n",
       "            console.log([gd, 'removed!']);\n",
       "            Plotly.purge(gd);\n",
       "            observer.disconnect();\n",
       "        }}\n",
       "}});\n",
       "\n",
       "// Listen for the removal of the full notebook cells\n",
       "var notebookContainer = gd.closest('#notebook-container');\n",
       "if (notebookContainer) {{\n",
       "    x.observe(notebookContainer, {childList: true});\n",
       "}}\n",
       "\n",
       "// Listen for the clearing of the current output cell\n",
       "var outputEl = gd.closest('.output');\n",
       "if (outputEl) {{\n",
       "    x.observe(outputEl, {childList: true});\n",
       "}}\n",
       "\n",
       "                        })                };                });            </script>        </div>"
      ]
     },
     "metadata": {},
     "output_type": "display_data"
    }
   ],
   "source": [
    "optuna.visualization.plot_param_importances(study_lgbm175)"
   ]
  },
  {
   "cell_type": "code",
   "execution_count": 95,
   "id": "44f0ba4d",
   "metadata": {
    "ExecuteTime": {
     "end_time": "2022-11-25T22:32:20.363363Z",
     "start_time": "2022-11-25T22:32:19.493077Z"
    },
    "scrolled": true
   },
   "outputs": [
    {
     "data": {
      "application/vnd.plotly.v1+json": {
       "config": {
        "plotlyServerURL": "https://plot.ly"
       },
       "data": [
        {
         "marker": {
          "color": [
           0,
           1,
           2,
           3,
           4,
           5,
           6,
           7,
           8,
           9,
           10,
           11,
           12,
           13,
           14,
           15,
           16,
           17,
           18,
           19,
           20,
           21,
           22,
           23,
           24,
           25,
           26,
           27,
           28,
           29,
           30,
           31,
           32,
           33,
           34,
           35,
           36,
           37,
           38,
           39,
           40,
           41,
           42,
           43,
           44,
           45,
           46,
           47,
           48,
           49,
           50,
           51,
           52,
           53,
           54,
           55,
           56,
           57,
           58,
           59,
           60,
           61,
           62,
           63,
           64,
           65,
           66,
           67,
           68,
           69,
           70,
           71,
           72,
           73,
           74,
           75,
           76,
           77,
           78,
           79,
           80,
           81,
           82,
           83,
           84,
           85,
           86,
           87,
           88,
           89,
           90,
           91,
           92,
           93,
           94,
           95,
           96,
           97,
           98,
           99,
           100,
           101,
           102,
           103,
           104,
           105,
           106,
           107,
           108,
           109,
           110,
           111,
           112,
           113,
           114,
           115,
           116,
           117,
           118,
           119,
           120,
           121,
           122,
           123,
           124,
           125,
           126,
           127,
           128,
           129,
           130,
           131,
           132,
           133,
           134,
           135,
           136,
           137,
           138,
           139,
           140,
           141,
           142,
           143,
           144,
           145,
           146,
           147,
           148,
           149,
           150,
           151,
           152,
           153,
           154,
           155,
           156,
           157,
           158,
           159,
           160,
           161,
           162,
           163,
           164,
           165,
           166,
           167,
           168,
           169,
           170,
           171,
           172,
           173,
           174,
           175,
           176,
           177,
           178,
           179,
           180,
           181,
           182,
           183,
           184,
           185,
           186,
           187,
           188,
           189,
           190,
           191,
           192,
           193,
           194,
           195,
           196,
           197,
           198,
           199,
           200,
           201,
           202,
           203,
           204,
           205,
           206,
           207,
           208,
           209,
           210,
           211,
           212,
           213,
           214,
           215,
           216,
           217,
           218,
           219,
           220,
           221,
           222,
           223,
           224,
           225,
           226,
           227,
           228,
           229,
           230,
           231,
           232,
           233,
           234,
           235,
           236,
           237,
           238,
           239,
           240,
           241,
           242,
           243,
           244,
           245,
           246,
           247,
           248,
           249,
           250,
           251,
           252,
           253,
           254,
           255,
           256,
           257,
           258,
           259,
           260,
           261,
           262,
           263,
           264,
           265,
           266,
           267,
           268,
           269,
           270,
           271,
           272,
           273,
           274,
           275,
           276,
           277,
           278,
           279,
           280,
           281,
           282,
           283,
           284,
           285,
           286,
           287,
           288,
           289,
           290,
           291,
           292,
           293,
           294,
           295,
           296,
           297,
           298,
           299
          ],
          "colorbar": {
           "title": {
            "text": "Trial"
           },
           "x": 1,
           "xpad": 40
          },
          "colorscale": [
           [
            0,
            "rgb(247,251,255)"
           ],
           [
            0.125,
            "rgb(222,235,247)"
           ],
           [
            0.25,
            "rgb(198,219,239)"
           ],
           [
            0.375,
            "rgb(158,202,225)"
           ],
           [
            0.5,
            "rgb(107,174,214)"
           ],
           [
            0.625,
            "rgb(66,146,198)"
           ],
           [
            0.75,
            "rgb(33,113,181)"
           ],
           [
            0.875,
            "rgb(8,81,156)"
           ],
           [
            1,
            "rgb(8,48,107)"
           ]
          ],
          "line": {
           "color": "Grey",
           "width": 0.5
          },
          "showscale": true
         },
         "mode": "markers",
         "showlegend": false,
         "type": "scatter",
         "x": [
          11,
          4,
          7,
          3,
          9,
          9,
          16,
          9,
          16,
          13,
          21,
          21,
          21,
          21,
          18,
          18,
          17,
          17,
          14,
          14,
          12,
          13,
          12,
          11,
          11,
          6,
          6,
          5,
          6,
          5,
          4,
          4,
          3,
          3,
          3,
          3,
          3,
          3,
          8,
          7,
          8,
          8,
          8,
          8,
          8,
          9,
          10,
          10,
          10,
          10,
          10,
          10,
          10,
          10,
          10,
          12,
          12,
          12,
          12,
          14,
          14,
          14,
          15,
          15,
          15,
          15,
          15,
          15,
          15,
          16,
          16,
          16,
          17,
          17,
          19,
          19,
          19,
          20,
          20,
          20,
          20,
          20,
          20,
          20,
          20,
          20,
          20,
          20,
          20,
          21,
          21,
          21,
          21,
          21,
          21,
          21,
          21,
          21,
          21,
          21,
          21,
          21,
          21,
          21,
          21,
          19,
          19,
          19,
          18,
          18,
          18,
          18,
          18,
          18,
          18,
          18,
          18,
          18,
          18,
          18,
          18,
          18,
          18,
          18,
          17,
          17,
          17,
          17,
          17,
          17,
          17,
          17,
          17,
          17,
          17,
          17,
          17,
          17,
          17,
          17,
          16,
          16,
          16,
          16,
          16,
          16,
          16,
          16,
          16,
          16,
          16,
          16,
          16,
          16,
          16,
          16,
          16,
          16,
          16,
          16,
          15,
          15,
          15,
          15,
          15,
          15,
          15,
          15,
          15,
          13,
          14,
          13,
          13,
          14,
          13,
          13,
          13,
          13,
          13,
          13,
          13,
          13,
          13,
          13,
          13,
          13,
          13,
          13,
          13,
          13,
          13,
          13,
          13,
          13,
          13,
          12,
          13,
          12,
          12,
          12,
          12,
          12,
          12,
          12,
          11,
          11,
          11,
          11,
          11,
          11,
          11,
          11,
          11,
          11,
          11,
          11,
          11,
          11,
          11,
          11,
          11,
          11,
          11,
          11,
          11,
          11,
          11,
          11,
          11,
          11,
          11,
          11,
          11,
          10,
          10,
          10,
          10,
          10,
          9,
          9,
          10,
          9,
          9,
          9,
          9,
          9,
          9,
          9,
          9,
          9,
          9,
          9,
          9,
          9,
          9,
          9,
          9,
          9,
          9,
          9,
          9,
          9,
          9,
          9,
          9,
          9,
          9,
          9,
          8,
          8,
          8,
          8,
          8,
          8,
          8,
          7,
          7,
          7,
          7,
          7,
          7,
          7,
          7,
          7,
          7,
          7,
          7,
          7,
          7,
          7,
          7,
          7,
          7,
          7,
          7,
          7,
          7,
          7,
          7,
          7
         ],
         "xaxis": "x",
         "y": [
          0.12959990214712075,
          0.12993863367559547,
          0.13017024048779113,
          0.13007408551872232,
          0.13031987963639438,
          0.13056176550242318,
          0.13081524012413828,
          0.13103020905764665,
          0.13128320479576333,
          0.13151968768691452,
          0.13173048024185585,
          0.13194604933545953,
          0.1321605903816023,
          0.13237315340455666,
          0.13259603138420623,
          0.13281600655800216,
          0.13303026636314422,
          0.13324727057407648,
          0.13348060598178463,
          0.13370839964099535,
          0.13395280536568896,
          0.1341952718915024,
          0.134435807487234,
          0.1346691919713628,
          0.1349058973085266,
          0.13515602085083825,
          0.13540507408185437,
          0.13565389642409142,
          0.13590248954970613,
          0.13614670027404588,
          0.1363496011173622,
          0.1365394682289137,
          0.136653050584994,
          0.13687560599315382,
          0.13710744534187738,
          0.137337450242053,
          0.137556224459751,
          0.1377842835111353,
          0.13801305067725192,
          0.13822982508603712,
          0.13843786622238322,
          0.138650209778793,
          0.13886163804034382,
          0.13907472899904233,
          0.1392869088088982,
          0.13948782294109344,
          0.13968081939192592,
          0.13987385769693472,
          0.14006250263497655,
          0.14024764149251837,
          0.14043196806166494,
          0.1406163802051766,
          0.1408035331826717,
          0.1409863355675741,
          0.14117099743851896,
          0.141353980332474,
          0.1415272639957604,
          0.14169979024238769,
          0.14186704751827836,
          0.14203357136889813,
          0.1422002709841903,
          0.14236624363754707,
          0.14253774802231176,
          0.1427085149813978,
          0.14287943177597523,
          0.14305312303584672,
          0.143226077173646,
          0.1433948039736728,
          0.1435628134196055,
          0.14373185586219808,
          0.1438993138219736,
          0.1440616890380781,
          0.14422161383010276,
          0.14438085952208443,
          0.14453589421967075,
          0.14469026941307608,
          0.144849264471775,
          0.1450049671055794,
          0.1451600141360273,
          0.14531177536340537,
          0.14546289735914023,
          0.14561600996316215,
          0.1457684829276775,
          0.14592032016956744,
          0.14607152557467107,
          0.14622210299808017,
          0.14636857837441555,
          0.1465126961111328,
          0.14665795911353446,
          0.1468069418707533,
          0.14695616987030674,
          0.14710988132519487,
          0.1472587360339903,
          0.1474120519901341,
          0.147564750074731,
          0.14771683393400709,
          0.14786326253279475,
          0.1480141363099452,
          0.14816357308540173,
          0.1483132447034932,
          0.14846231989523,
          0.14861080214378922,
          0.14875869490602975,
          0.14891739392430317,
          0.1490746762356481,
          0.1492297435678342,
          0.14938501128194562,
          0.14954047763278994,
          0.14969374610549988,
          0.1498464228687035,
          0.15000405918009724,
          0.15015635127293944,
          0.1503072638673609,
          0.15045839236266736,
          0.15060894338514647,
          0.1507597105720729,
          0.15091226214033618,
          0.1510642370551516,
          0.15121328739609557,
          0.15136334089043968,
          0.15151126465993373,
          0.15165863090497503,
          0.15180544270235086,
          0.15195170310691283,
          0.15209663461633405,
          0.15224335621729174,
          0.15238875615003938,
          0.15253361453593833,
          0.15267793432985616,
          0.15282249023646136,
          0.15296881341340346,
          0.15311152963364907,
          0.15325448747611525,
          0.15339844917555698,
          0.15354264481679444,
          0.15368782972613818,
          0.15383248651456294,
          0.15397434753136252,
          0.15411644959976858,
          0.15425803600189078,
          0.15439835411742395,
          0.15454042223681877,
          0.15468197880362913,
          0.15482002048852705,
          0.15495906831988968,
          0.1550946058281008,
          0.15523266137390554,
          0.15536722000587438,
          0.15550429368613364,
          0.1556378837555479,
          0.15577099540946562,
          0.15590363116487788,
          0.15603579352158256,
          0.15617046320192127,
          0.15630168214392387,
          0.15643243509377397,
          0.15656272448388828,
          0.1566925527301856,
          0.15682488037350267,
          0.15695378951021144,
          0.15709674719648978,
          0.15723992369884168,
          0.15738261137344461,
          0.1575241061209953,
          0.15766228132692808,
          0.1578006945856155,
          0.15793863580274478,
          0.15807610733657712,
          0.15821381800609288,
          0.15835665408997485,
          0.15849272170779558,
          0.15863873497373399,
          0.1587835815096471,
          0.1589132929204729,
          0.15905856110519298,
          0.1592033508781661,
          0.15934766453919794,
          0.1594935286451237,
          0.15963891640134872,
          0.15978181057149796,
          0.15992625479987244,
          0.16006821471066132,
          0.16020971202590836,
          0.1603527588952895,
          0.16049534281420305,
          0.16063813169155347,
          0.160779795478334,
          0.16092100283937188,
          0.1610597577310261,
          0.16120006101281775,
          0.1613392511140217,
          0.16147666608429412,
          0.16161496711756318,
          0.16175282596075263,
          0.1618915634425153,
          0.16202455876391636,
          0.1621591230561576,
          0.16229126480969133,
          0.16242031049187633,
          0.1625516122323205,
          0.16268249532451803,
          0.1628089576668234,
          0.16293501489747042,
          0.16306466325751123,
          0.16318587176658475,
          0.16330669075326756,
          0.16342712205930307,
          0.1635478417434275,
          0.16366547365304654,
          0.1637827283707839,
          0.1639016313115735,
          0.1640201556036651,
          0.16413830302208374,
          0.16425270795451602,
          0.16436539263734726,
          0.16448109055328042,
          0.16459909165618752,
          0.16471672132234058,
          0.16483398127288787,
          0.16495087321859273,
          0.16506739885990912,
          0.16518355988705716,
          0.16529935798009765,
          0.16541479480900614,
          0.1655298720337463,
          0.16564459130434286,
          0.16576091806535495,
          0.16587492396713144,
          0.16598857681072046,
          0.16610187820709818,
          0.1662161340241533,
          0.16632413313224897,
          0.1664363937255315,
          0.16654634971025714,
          0.16665727299382418,
          0.16677109351660577,
          0.16688263115886107,
          0.16699188228410458,
          0.1671046744952052,
          0.16721776517767795,
          0.16732665569243332,
          0.16743970611707767,
          0.16755241610813254,
          0.16766287482881836,
          0.1677730006157634,
          0.16788023263931867,
          0.16798970000485738,
          0.16809947459512464,
          0.16820828561245343,
          0.16831677100310224,
          0.16842493220414026,
          0.16853340341880857,
          0.16864155181298243,
          0.16874937880348306,
          0.16885371986213324,
          0.16896028213563016,
          0.16906463358101848,
          0.16916867510918443,
          0.16927555261109808,
          0.16938023494337343,
          0.16948017958515027,
          0.1695842508123134,
          0.1696867600738753,
          0.16978896746234437,
          0.16988771907796435,
          0.16998617887914577,
          0.17008434814100984,
          0.17018222813137612,
          0.17027792004171916,
          0.17037332971476213,
          0.17046845838242541,
          0.1705633072695752,
          0.17065787759407297,
          0.17075217056682487,
          0.1708430163793757,
          0.17095031021137694,
          0.1710572991743248,
          0.1711633832636208,
          0.17127215733160947,
          0.1713782373406402,
          0.1714840175494801,
          0.17159188167969286,
          0.17169706339996074,
          0.17180432630484502,
          0.17191128916512802,
          0.17201558113198184,
          0.17211958070682978,
          0.17222328909865525,
          0.17232907178186957,
          0.17243160539741162,
          0.17253444548988145,
          0.17263935570035258,
          0.17274397555076287,
          0.172848306225772,
          0.1729523489037336,
          0.17305610475673625,
          0.17315128745545874,
          0.1732544820780519,
          0.17334912407766234,
          0.1734435020448431
         ],
         "yaxis": "y"
        },
        {
         "marker": {
          "color": [
           0,
           1,
           2,
           3,
           4,
           5,
           6,
           7,
           8,
           9,
           10,
           11,
           12,
           13,
           14,
           15,
           16,
           17,
           18,
           19,
           20,
           21,
           22,
           23,
           24,
           25,
           26,
           27,
           28,
           29,
           30,
           31,
           32,
           33,
           34,
           35,
           36,
           37,
           38,
           39,
           40,
           41,
           42,
           43,
           44,
           45,
           46,
           47,
           48,
           49,
           50,
           51,
           52,
           53,
           54,
           55,
           56,
           57,
           58,
           59,
           60,
           61,
           62,
           63,
           64,
           65,
           66,
           67,
           68,
           69,
           70,
           71,
           72,
           73,
           74,
           75,
           76,
           77,
           78,
           79,
           80,
           81,
           82,
           83,
           84,
           85,
           86,
           87,
           88,
           89,
           90,
           91,
           92,
           93,
           94,
           95,
           96,
           97,
           98,
           99,
           100,
           101,
           102,
           103,
           104,
           105,
           106,
           107,
           108,
           109,
           110,
           111,
           112,
           113,
           114,
           115,
           116,
           117,
           118,
           119,
           120,
           121,
           122,
           123,
           124,
           125,
           126,
           127,
           128,
           129,
           130,
           131,
           132,
           133,
           134,
           135,
           136,
           137,
           138,
           139,
           140,
           141,
           142,
           143,
           144,
           145,
           146,
           147,
           148,
           149,
           150,
           151,
           152,
           153,
           154,
           155,
           156,
           157,
           158,
           159,
           160,
           161,
           162,
           163,
           164,
           165,
           166,
           167,
           168,
           169,
           170,
           171,
           172,
           173,
           174,
           175,
           176,
           177,
           178,
           179,
           180,
           181,
           182,
           183,
           184,
           185,
           186,
           187,
           188,
           189,
           190,
           191,
           192,
           193,
           194,
           195,
           196,
           197,
           198,
           199,
           200,
           201,
           202,
           203,
           204,
           205,
           206,
           207,
           208,
           209,
           210,
           211,
           212,
           213,
           214,
           215,
           216,
           217,
           218,
           219,
           220,
           221,
           222,
           223,
           224,
           225,
           226,
           227,
           228,
           229,
           230,
           231,
           232,
           233,
           234,
           235,
           236,
           237,
           238,
           239,
           240,
           241,
           242,
           243,
           244,
           245,
           246,
           247,
           248,
           249,
           250,
           251,
           252,
           253,
           254,
           255,
           256,
           257,
           258,
           259,
           260,
           261,
           262,
           263,
           264,
           265,
           266,
           267,
           268,
           269,
           270,
           271,
           272,
           273,
           274,
           275,
           276,
           277,
           278,
           279,
           280,
           281,
           282,
           283,
           284,
           285,
           286,
           287,
           288,
           289,
           290,
           291,
           292,
           293,
           294,
           295,
           296,
           297,
           298,
           299
          ],
          "colorbar": {
           "title": {
            "text": "Trial"
           },
           "x": 1,
           "xpad": 40
          },
          "colorscale": [
           [
            0,
            "rgb(247,251,255)"
           ],
           [
            0.125,
            "rgb(222,235,247)"
           ],
           [
            0.25,
            "rgb(198,219,239)"
           ],
           [
            0.375,
            "rgb(158,202,225)"
           ],
           [
            0.5,
            "rgb(107,174,214)"
           ],
           [
            0.625,
            "rgb(66,146,198)"
           ],
           [
            0.75,
            "rgb(33,113,181)"
           ],
           [
            0.875,
            "rgb(8,81,156)"
           ],
           [
            1,
            "rgb(8,48,107)"
           ]
          ],
          "line": {
           "color": "Grey",
           "width": 0.5
          },
          "showscale": false
         },
         "mode": "markers",
         "showlegend": false,
         "type": "scatter",
         "x": [
          1910,
          1620,
          2430,
          320,
          430,
          2170,
          1150,
          360,
          1070,
          1960,
          2880,
          2990,
          2990,
          2980,
          2570,
          2540,
          2520,
          2430,
          1580,
          1440,
          1350,
          1370,
          1210,
          880,
          730,
          700,
          760,
          680,
          620,
          600,
          590,
          550,
          570,
          940,
          990,
          970,
          960,
          970,
          1030,
          1790,
          2020,
          1850,
          1850,
          1830,
          1890,
          2030,
          2150,
          2180,
          2200,
          2230,
          2230,
          2250,
          2190,
          2250,
          2290,
          2320,
          2720,
          2720,
          2780,
          2730,
          2760,
          2760,
          2730,
          2740,
          2780,
          2850,
          2850,
          2880,
          2880,
          2880,
          2900,
          2920,
          2890,
          2920,
          2920,
          2920,
          3000,
          2600,
          2620,
          2580,
          2470,
          2600,
          2620,
          2590,
          2610,
          2610,
          2570,
          2460,
          2450,
          2430,
          2400,
          2380,
          2390,
          2360,
          2370,
          2370,
          2390,
          2370,
          2380,
          2350,
          2360,
          2370,
          2350,
          2110,
          2120,
          2050,
          2100,
          2120,
          2130,
          2110,
          2070,
          2100,
          2130,
          2100,
          2100,
          2090,
          2040,
          2040,
          1950,
          1980,
          1950,
          1950,
          1950,
          1950,
          1960,
          1970,
          1950,
          1730,
          1730,
          1720,
          1700,
          1730,
          1720,
          1710,
          1690,
          1680,
          1680,
          1710,
          1700,
          1690,
          1710,
          1700,
          1700,
          1570,
          1580,
          1550,
          1530,
          1550,
          1540,
          1560,
          1560,
          1550,
          1550,
          1530,
          1550,
          1550,
          1560,
          1560,
          1540,
          1560,
          1510,
          1490,
          1490,
          1470,
          1450,
          1440,
          1440,
          1430,
          1390,
          1380,
          1320,
          1340,
          1290,
          1300,
          1270,
          1270,
          1260,
          1250,
          1250,
          1270,
          1250,
          1270,
          1260,
          1230,
          1250,
          1220,
          1230,
          1250,
          1260,
          1240,
          1170,
          1180,
          1150,
          1150,
          1140,
          1130,
          1130,
          1130,
          1140,
          1130,
          1130,
          1110,
          1110,
          1120,
          1140,
          1130,
          1130,
          1150,
          1120,
          1120,
          1130,
          1130,
          1130,
          1090,
          1100,
          1080,
          1050,
          1050,
          1060,
          1040,
          1050,
          1050,
          1050,
          1030,
          1050,
          1040,
          1020,
          1030,
          1030,
          1030,
          900,
          870,
          890,
          880,
          860,
          910,
          870,
          850,
          860,
          880,
          860,
          870,
          820,
          840,
          840,
          850,
          840,
          860,
          840,
          840,
          840,
          830,
          830,
          830,
          850,
          840,
          780,
          810,
          800,
          790,
          770,
          790,
          780,
          780,
          770,
          770,
          770,
          770,
          750,
          750,
          750,
          750,
          660,
          750,
          680,
          650,
          670,
          680,
          660,
          670,
          650,
          660,
          670,
          660,
          660,
          670,
          670,
          670,
          660,
          680,
          670,
          660,
          660,
          660,
          660,
          660,
          520,
          660,
          510,
          510
         ],
         "xaxis": "x2",
         "y": [
          0.12959990214712075,
          0.12993863367559547,
          0.13017024048779113,
          0.13007408551872232,
          0.13031987963639438,
          0.13056176550242318,
          0.13081524012413828,
          0.13103020905764665,
          0.13128320479576333,
          0.13151968768691452,
          0.13173048024185585,
          0.13194604933545953,
          0.1321605903816023,
          0.13237315340455666,
          0.13259603138420623,
          0.13281600655800216,
          0.13303026636314422,
          0.13324727057407648,
          0.13348060598178463,
          0.13370839964099535,
          0.13395280536568896,
          0.1341952718915024,
          0.134435807487234,
          0.1346691919713628,
          0.1349058973085266,
          0.13515602085083825,
          0.13540507408185437,
          0.13565389642409142,
          0.13590248954970613,
          0.13614670027404588,
          0.1363496011173622,
          0.1365394682289137,
          0.136653050584994,
          0.13687560599315382,
          0.13710744534187738,
          0.137337450242053,
          0.137556224459751,
          0.1377842835111353,
          0.13801305067725192,
          0.13822982508603712,
          0.13843786622238322,
          0.138650209778793,
          0.13886163804034382,
          0.13907472899904233,
          0.1392869088088982,
          0.13948782294109344,
          0.13968081939192592,
          0.13987385769693472,
          0.14006250263497655,
          0.14024764149251837,
          0.14043196806166494,
          0.1406163802051766,
          0.1408035331826717,
          0.1409863355675741,
          0.14117099743851896,
          0.141353980332474,
          0.1415272639957604,
          0.14169979024238769,
          0.14186704751827836,
          0.14203357136889813,
          0.1422002709841903,
          0.14236624363754707,
          0.14253774802231176,
          0.1427085149813978,
          0.14287943177597523,
          0.14305312303584672,
          0.143226077173646,
          0.1433948039736728,
          0.1435628134196055,
          0.14373185586219808,
          0.1438993138219736,
          0.1440616890380781,
          0.14422161383010276,
          0.14438085952208443,
          0.14453589421967075,
          0.14469026941307608,
          0.144849264471775,
          0.1450049671055794,
          0.1451600141360273,
          0.14531177536340537,
          0.14546289735914023,
          0.14561600996316215,
          0.1457684829276775,
          0.14592032016956744,
          0.14607152557467107,
          0.14622210299808017,
          0.14636857837441555,
          0.1465126961111328,
          0.14665795911353446,
          0.1468069418707533,
          0.14695616987030674,
          0.14710988132519487,
          0.1472587360339903,
          0.1474120519901341,
          0.147564750074731,
          0.14771683393400709,
          0.14786326253279475,
          0.1480141363099452,
          0.14816357308540173,
          0.1483132447034932,
          0.14846231989523,
          0.14861080214378922,
          0.14875869490602975,
          0.14891739392430317,
          0.1490746762356481,
          0.1492297435678342,
          0.14938501128194562,
          0.14954047763278994,
          0.14969374610549988,
          0.1498464228687035,
          0.15000405918009724,
          0.15015635127293944,
          0.1503072638673609,
          0.15045839236266736,
          0.15060894338514647,
          0.1507597105720729,
          0.15091226214033618,
          0.1510642370551516,
          0.15121328739609557,
          0.15136334089043968,
          0.15151126465993373,
          0.15165863090497503,
          0.15180544270235086,
          0.15195170310691283,
          0.15209663461633405,
          0.15224335621729174,
          0.15238875615003938,
          0.15253361453593833,
          0.15267793432985616,
          0.15282249023646136,
          0.15296881341340346,
          0.15311152963364907,
          0.15325448747611525,
          0.15339844917555698,
          0.15354264481679444,
          0.15368782972613818,
          0.15383248651456294,
          0.15397434753136252,
          0.15411644959976858,
          0.15425803600189078,
          0.15439835411742395,
          0.15454042223681877,
          0.15468197880362913,
          0.15482002048852705,
          0.15495906831988968,
          0.1550946058281008,
          0.15523266137390554,
          0.15536722000587438,
          0.15550429368613364,
          0.1556378837555479,
          0.15577099540946562,
          0.15590363116487788,
          0.15603579352158256,
          0.15617046320192127,
          0.15630168214392387,
          0.15643243509377397,
          0.15656272448388828,
          0.1566925527301856,
          0.15682488037350267,
          0.15695378951021144,
          0.15709674719648978,
          0.15723992369884168,
          0.15738261137344461,
          0.1575241061209953,
          0.15766228132692808,
          0.1578006945856155,
          0.15793863580274478,
          0.15807610733657712,
          0.15821381800609288,
          0.15835665408997485,
          0.15849272170779558,
          0.15863873497373399,
          0.1587835815096471,
          0.1589132929204729,
          0.15905856110519298,
          0.1592033508781661,
          0.15934766453919794,
          0.1594935286451237,
          0.15963891640134872,
          0.15978181057149796,
          0.15992625479987244,
          0.16006821471066132,
          0.16020971202590836,
          0.1603527588952895,
          0.16049534281420305,
          0.16063813169155347,
          0.160779795478334,
          0.16092100283937188,
          0.1610597577310261,
          0.16120006101281775,
          0.1613392511140217,
          0.16147666608429412,
          0.16161496711756318,
          0.16175282596075263,
          0.1618915634425153,
          0.16202455876391636,
          0.1621591230561576,
          0.16229126480969133,
          0.16242031049187633,
          0.1625516122323205,
          0.16268249532451803,
          0.1628089576668234,
          0.16293501489747042,
          0.16306466325751123,
          0.16318587176658475,
          0.16330669075326756,
          0.16342712205930307,
          0.1635478417434275,
          0.16366547365304654,
          0.1637827283707839,
          0.1639016313115735,
          0.1640201556036651,
          0.16413830302208374,
          0.16425270795451602,
          0.16436539263734726,
          0.16448109055328042,
          0.16459909165618752,
          0.16471672132234058,
          0.16483398127288787,
          0.16495087321859273,
          0.16506739885990912,
          0.16518355988705716,
          0.16529935798009765,
          0.16541479480900614,
          0.1655298720337463,
          0.16564459130434286,
          0.16576091806535495,
          0.16587492396713144,
          0.16598857681072046,
          0.16610187820709818,
          0.1662161340241533,
          0.16632413313224897,
          0.1664363937255315,
          0.16654634971025714,
          0.16665727299382418,
          0.16677109351660577,
          0.16688263115886107,
          0.16699188228410458,
          0.1671046744952052,
          0.16721776517767795,
          0.16732665569243332,
          0.16743970611707767,
          0.16755241610813254,
          0.16766287482881836,
          0.1677730006157634,
          0.16788023263931867,
          0.16798970000485738,
          0.16809947459512464,
          0.16820828561245343,
          0.16831677100310224,
          0.16842493220414026,
          0.16853340341880857,
          0.16864155181298243,
          0.16874937880348306,
          0.16885371986213324,
          0.16896028213563016,
          0.16906463358101848,
          0.16916867510918443,
          0.16927555261109808,
          0.16938023494337343,
          0.16948017958515027,
          0.1695842508123134,
          0.1696867600738753,
          0.16978896746234437,
          0.16988771907796435,
          0.16998617887914577,
          0.17008434814100984,
          0.17018222813137612,
          0.17027792004171916,
          0.17037332971476213,
          0.17046845838242541,
          0.1705633072695752,
          0.17065787759407297,
          0.17075217056682487,
          0.1708430163793757,
          0.17095031021137694,
          0.1710572991743248,
          0.1711633832636208,
          0.17127215733160947,
          0.1713782373406402,
          0.1714840175494801,
          0.17159188167969286,
          0.17169706339996074,
          0.17180432630484502,
          0.17191128916512802,
          0.17201558113198184,
          0.17211958070682978,
          0.17222328909865525,
          0.17232907178186957,
          0.17243160539741162,
          0.17253444548988145,
          0.17263935570035258,
          0.17274397555076287,
          0.172848306225772,
          0.1729523489037336,
          0.17305610475673625,
          0.17315128745545874,
          0.1732544820780519,
          0.17334912407766234,
          0.1734435020448431
         ],
         "yaxis": "y2"
        }
       ],
       "layout": {
        "template": {
         "data": {
          "bar": [
           {
            "error_x": {
             "color": "#2a3f5f"
            },
            "error_y": {
             "color": "#2a3f5f"
            },
            "marker": {
             "line": {
              "color": "#E5ECF6",
              "width": 0.5
             },
             "pattern": {
              "fillmode": "overlay",
              "size": 10,
              "solidity": 0.2
             }
            },
            "type": "bar"
           }
          ],
          "barpolar": [
           {
            "marker": {
             "line": {
              "color": "#E5ECF6",
              "width": 0.5
             },
             "pattern": {
              "fillmode": "overlay",
              "size": 10,
              "solidity": 0.2
             }
            },
            "type": "barpolar"
           }
          ],
          "carpet": [
           {
            "aaxis": {
             "endlinecolor": "#2a3f5f",
             "gridcolor": "white",
             "linecolor": "white",
             "minorgridcolor": "white",
             "startlinecolor": "#2a3f5f"
            },
            "baxis": {
             "endlinecolor": "#2a3f5f",
             "gridcolor": "white",
             "linecolor": "white",
             "minorgridcolor": "white",
             "startlinecolor": "#2a3f5f"
            },
            "type": "carpet"
           }
          ],
          "choropleth": [
           {
            "colorbar": {
             "outlinewidth": 0,
             "ticks": ""
            },
            "type": "choropleth"
           }
          ],
          "contour": [
           {
            "colorbar": {
             "outlinewidth": 0,
             "ticks": ""
            },
            "colorscale": [
             [
              0,
              "#0d0887"
             ],
             [
              0.1111111111111111,
              "#46039f"
             ],
             [
              0.2222222222222222,
              "#7201a8"
             ],
             [
              0.3333333333333333,
              "#9c179e"
             ],
             [
              0.4444444444444444,
              "#bd3786"
             ],
             [
              0.5555555555555556,
              "#d8576b"
             ],
             [
              0.6666666666666666,
              "#ed7953"
             ],
             [
              0.7777777777777778,
              "#fb9f3a"
             ],
             [
              0.8888888888888888,
              "#fdca26"
             ],
             [
              1,
              "#f0f921"
             ]
            ],
            "type": "contour"
           }
          ],
          "contourcarpet": [
           {
            "colorbar": {
             "outlinewidth": 0,
             "ticks": ""
            },
            "type": "contourcarpet"
           }
          ],
          "heatmap": [
           {
            "colorbar": {
             "outlinewidth": 0,
             "ticks": ""
            },
            "colorscale": [
             [
              0,
              "#0d0887"
             ],
             [
              0.1111111111111111,
              "#46039f"
             ],
             [
              0.2222222222222222,
              "#7201a8"
             ],
             [
              0.3333333333333333,
              "#9c179e"
             ],
             [
              0.4444444444444444,
              "#bd3786"
             ],
             [
              0.5555555555555556,
              "#d8576b"
             ],
             [
              0.6666666666666666,
              "#ed7953"
             ],
             [
              0.7777777777777778,
              "#fb9f3a"
             ],
             [
              0.8888888888888888,
              "#fdca26"
             ],
             [
              1,
              "#f0f921"
             ]
            ],
            "type": "heatmap"
           }
          ],
          "heatmapgl": [
           {
            "colorbar": {
             "outlinewidth": 0,
             "ticks": ""
            },
            "colorscale": [
             [
              0,
              "#0d0887"
             ],
             [
              0.1111111111111111,
              "#46039f"
             ],
             [
              0.2222222222222222,
              "#7201a8"
             ],
             [
              0.3333333333333333,
              "#9c179e"
             ],
             [
              0.4444444444444444,
              "#bd3786"
             ],
             [
              0.5555555555555556,
              "#d8576b"
             ],
             [
              0.6666666666666666,
              "#ed7953"
             ],
             [
              0.7777777777777778,
              "#fb9f3a"
             ],
             [
              0.8888888888888888,
              "#fdca26"
             ],
             [
              1,
              "#f0f921"
             ]
            ],
            "type": "heatmapgl"
           }
          ],
          "histogram": [
           {
            "marker": {
             "pattern": {
              "fillmode": "overlay",
              "size": 10,
              "solidity": 0.2
             }
            },
            "type": "histogram"
           }
          ],
          "histogram2d": [
           {
            "colorbar": {
             "outlinewidth": 0,
             "ticks": ""
            },
            "colorscale": [
             [
              0,
              "#0d0887"
             ],
             [
              0.1111111111111111,
              "#46039f"
             ],
             [
              0.2222222222222222,
              "#7201a8"
             ],
             [
              0.3333333333333333,
              "#9c179e"
             ],
             [
              0.4444444444444444,
              "#bd3786"
             ],
             [
              0.5555555555555556,
              "#d8576b"
             ],
             [
              0.6666666666666666,
              "#ed7953"
             ],
             [
              0.7777777777777778,
              "#fb9f3a"
             ],
             [
              0.8888888888888888,
              "#fdca26"
             ],
             [
              1,
              "#f0f921"
             ]
            ],
            "type": "histogram2d"
           }
          ],
          "histogram2dcontour": [
           {
            "colorbar": {
             "outlinewidth": 0,
             "ticks": ""
            },
            "colorscale": [
             [
              0,
              "#0d0887"
             ],
             [
              0.1111111111111111,
              "#46039f"
             ],
             [
              0.2222222222222222,
              "#7201a8"
             ],
             [
              0.3333333333333333,
              "#9c179e"
             ],
             [
              0.4444444444444444,
              "#bd3786"
             ],
             [
              0.5555555555555556,
              "#d8576b"
             ],
             [
              0.6666666666666666,
              "#ed7953"
             ],
             [
              0.7777777777777778,
              "#fb9f3a"
             ],
             [
              0.8888888888888888,
              "#fdca26"
             ],
             [
              1,
              "#f0f921"
             ]
            ],
            "type": "histogram2dcontour"
           }
          ],
          "mesh3d": [
           {
            "colorbar": {
             "outlinewidth": 0,
             "ticks": ""
            },
            "type": "mesh3d"
           }
          ],
          "parcoords": [
           {
            "line": {
             "colorbar": {
              "outlinewidth": 0,
              "ticks": ""
             }
            },
            "type": "parcoords"
           }
          ],
          "pie": [
           {
            "automargin": true,
            "type": "pie"
           }
          ],
          "scatter": [
           {
            "fillpattern": {
             "fillmode": "overlay",
             "size": 10,
             "solidity": 0.2
            },
            "type": "scatter"
           }
          ],
          "scatter3d": [
           {
            "line": {
             "colorbar": {
              "outlinewidth": 0,
              "ticks": ""
             }
            },
            "marker": {
             "colorbar": {
              "outlinewidth": 0,
              "ticks": ""
             }
            },
            "type": "scatter3d"
           }
          ],
          "scattercarpet": [
           {
            "marker": {
             "colorbar": {
              "outlinewidth": 0,
              "ticks": ""
             }
            },
            "type": "scattercarpet"
           }
          ],
          "scattergeo": [
           {
            "marker": {
             "colorbar": {
              "outlinewidth": 0,
              "ticks": ""
             }
            },
            "type": "scattergeo"
           }
          ],
          "scattergl": [
           {
            "marker": {
             "colorbar": {
              "outlinewidth": 0,
              "ticks": ""
             }
            },
            "type": "scattergl"
           }
          ],
          "scattermapbox": [
           {
            "marker": {
             "colorbar": {
              "outlinewidth": 0,
              "ticks": ""
             }
            },
            "type": "scattermapbox"
           }
          ],
          "scatterpolar": [
           {
            "marker": {
             "colorbar": {
              "outlinewidth": 0,
              "ticks": ""
             }
            },
            "type": "scatterpolar"
           }
          ],
          "scatterpolargl": [
           {
            "marker": {
             "colorbar": {
              "outlinewidth": 0,
              "ticks": ""
             }
            },
            "type": "scatterpolargl"
           }
          ],
          "scatterternary": [
           {
            "marker": {
             "colorbar": {
              "outlinewidth": 0,
              "ticks": ""
             }
            },
            "type": "scatterternary"
           }
          ],
          "surface": [
           {
            "colorbar": {
             "outlinewidth": 0,
             "ticks": ""
            },
            "colorscale": [
             [
              0,
              "#0d0887"
             ],
             [
              0.1111111111111111,
              "#46039f"
             ],
             [
              0.2222222222222222,
              "#7201a8"
             ],
             [
              0.3333333333333333,
              "#9c179e"
             ],
             [
              0.4444444444444444,
              "#bd3786"
             ],
             [
              0.5555555555555556,
              "#d8576b"
             ],
             [
              0.6666666666666666,
              "#ed7953"
             ],
             [
              0.7777777777777778,
              "#fb9f3a"
             ],
             [
              0.8888888888888888,
              "#fdca26"
             ],
             [
              1,
              "#f0f921"
             ]
            ],
            "type": "surface"
           }
          ],
          "table": [
           {
            "cells": {
             "fill": {
              "color": "#EBF0F8"
             },
             "line": {
              "color": "white"
             }
            },
            "header": {
             "fill": {
              "color": "#C8D4E3"
             },
             "line": {
              "color": "white"
             }
            },
            "type": "table"
           }
          ]
         },
         "layout": {
          "annotationdefaults": {
           "arrowcolor": "#2a3f5f",
           "arrowhead": 0,
           "arrowwidth": 1
          },
          "autotypenumbers": "strict",
          "coloraxis": {
           "colorbar": {
            "outlinewidth": 0,
            "ticks": ""
           }
          },
          "colorscale": {
           "diverging": [
            [
             0,
             "#8e0152"
            ],
            [
             0.1,
             "#c51b7d"
            ],
            [
             0.2,
             "#de77ae"
            ],
            [
             0.3,
             "#f1b6da"
            ],
            [
             0.4,
             "#fde0ef"
            ],
            [
             0.5,
             "#f7f7f7"
            ],
            [
             0.6,
             "#e6f5d0"
            ],
            [
             0.7,
             "#b8e186"
            ],
            [
             0.8,
             "#7fbc41"
            ],
            [
             0.9,
             "#4d9221"
            ],
            [
             1,
             "#276419"
            ]
           ],
           "sequential": [
            [
             0,
             "#0d0887"
            ],
            [
             0.1111111111111111,
             "#46039f"
            ],
            [
             0.2222222222222222,
             "#7201a8"
            ],
            [
             0.3333333333333333,
             "#9c179e"
            ],
            [
             0.4444444444444444,
             "#bd3786"
            ],
            [
             0.5555555555555556,
             "#d8576b"
            ],
            [
             0.6666666666666666,
             "#ed7953"
            ],
            [
             0.7777777777777778,
             "#fb9f3a"
            ],
            [
             0.8888888888888888,
             "#fdca26"
            ],
            [
             1,
             "#f0f921"
            ]
           ],
           "sequentialminus": [
            [
             0,
             "#0d0887"
            ],
            [
             0.1111111111111111,
             "#46039f"
            ],
            [
             0.2222222222222222,
             "#7201a8"
            ],
            [
             0.3333333333333333,
             "#9c179e"
            ],
            [
             0.4444444444444444,
             "#bd3786"
            ],
            [
             0.5555555555555556,
             "#d8576b"
            ],
            [
             0.6666666666666666,
             "#ed7953"
            ],
            [
             0.7777777777777778,
             "#fb9f3a"
            ],
            [
             0.8888888888888888,
             "#fdca26"
            ],
            [
             1,
             "#f0f921"
            ]
           ]
          },
          "colorway": [
           "#636efa",
           "#EF553B",
           "#00cc96",
           "#ab63fa",
           "#FFA15A",
           "#19d3f3",
           "#FF6692",
           "#B6E880",
           "#FF97FF",
           "#FECB52"
          ],
          "font": {
           "color": "#2a3f5f"
          },
          "geo": {
           "bgcolor": "white",
           "lakecolor": "white",
           "landcolor": "#E5ECF6",
           "showlakes": true,
           "showland": true,
           "subunitcolor": "white"
          },
          "hoverlabel": {
           "align": "left"
          },
          "hovermode": "closest",
          "mapbox": {
           "style": "light"
          },
          "paper_bgcolor": "white",
          "plot_bgcolor": "#E5ECF6",
          "polar": {
           "angularaxis": {
            "gridcolor": "white",
            "linecolor": "white",
            "ticks": ""
           },
           "bgcolor": "#E5ECF6",
           "radialaxis": {
            "gridcolor": "white",
            "linecolor": "white",
            "ticks": ""
           }
          },
          "scene": {
           "xaxis": {
            "backgroundcolor": "#E5ECF6",
            "gridcolor": "white",
            "gridwidth": 2,
            "linecolor": "white",
            "showbackground": true,
            "ticks": "",
            "zerolinecolor": "white"
           },
           "yaxis": {
            "backgroundcolor": "#E5ECF6",
            "gridcolor": "white",
            "gridwidth": 2,
            "linecolor": "white",
            "showbackground": true,
            "ticks": "",
            "zerolinecolor": "white"
           },
           "zaxis": {
            "backgroundcolor": "#E5ECF6",
            "gridcolor": "white",
            "gridwidth": 2,
            "linecolor": "white",
            "showbackground": true,
            "ticks": "",
            "zerolinecolor": "white"
           }
          },
          "shapedefaults": {
           "line": {
            "color": "#2a3f5f"
           }
          },
          "ternary": {
           "aaxis": {
            "gridcolor": "white",
            "linecolor": "white",
            "ticks": ""
           },
           "baxis": {
            "gridcolor": "white",
            "linecolor": "white",
            "ticks": ""
           },
           "bgcolor": "#E5ECF6",
           "caxis": {
            "gridcolor": "white",
            "linecolor": "white",
            "ticks": ""
           }
          },
          "title": {
           "x": 0.05
          },
          "xaxis": {
           "automargin": true,
           "gridcolor": "white",
           "linecolor": "white",
           "ticks": "",
           "title": {
            "standoff": 15
           },
           "zerolinecolor": "white",
           "zerolinewidth": 2
          },
          "yaxis": {
           "automargin": true,
           "gridcolor": "white",
           "linecolor": "white",
           "ticks": "",
           "title": {
            "standoff": 15
           },
           "zerolinecolor": "white",
           "zerolinewidth": 2
          }
         }
        },
        "title": {
         "text": "Slice Plot"
        },
        "xaxis": {
         "anchor": "y",
         "domain": [
          0,
          0.45
         ],
         "title": {
          "text": "lgbm1175__max_depth"
         }
        },
        "xaxis2": {
         "anchor": "y2",
         "domain": [
          0.55,
          1
         ],
         "title": {
          "text": "lgbm175__n_estimators"
         }
        },
        "yaxis": {
         "anchor": "x",
         "domain": [
          0,
          1
         ],
         "title": {
          "text": "Objective Value"
         }
        },
        "yaxis2": {
         "anchor": "x2",
         "domain": [
          0,
          1
         ],
         "matches": "y",
         "showticklabels": false
        }
       }
      },
      "text/html": [
       "<div>                            <div id=\"9ae336b8-e839-405a-a620-2de82c090930\" class=\"plotly-graph-div\" style=\"height:525px; width:100%;\"></div>            <script type=\"text/javascript\">                require([\"plotly\"], function(Plotly) {                    window.PLOTLYENV=window.PLOTLYENV || {};                                    if (document.getElementById(\"9ae336b8-e839-405a-a620-2de82c090930\")) {                    Plotly.newPlot(                        \"9ae336b8-e839-405a-a620-2de82c090930\",                        [{\"marker\":{\"color\":[0,1,2,3,4,5,6,7,8,9,10,11,12,13,14,15,16,17,18,19,20,21,22,23,24,25,26,27,28,29,30,31,32,33,34,35,36,37,38,39,40,41,42,43,44,45,46,47,48,49,50,51,52,53,54,55,56,57,58,59,60,61,62,63,64,65,66,67,68,69,70,71,72,73,74,75,76,77,78,79,80,81,82,83,84,85,86,87,88,89,90,91,92,93,94,95,96,97,98,99,100,101,102,103,104,105,106,107,108,109,110,111,112,113,114,115,116,117,118,119,120,121,122,123,124,125,126,127,128,129,130,131,132,133,134,135,136,137,138,139,140,141,142,143,144,145,146,147,148,149,150,151,152,153,154,155,156,157,158,159,160,161,162,163,164,165,166,167,168,169,170,171,172,173,174,175,176,177,178,179,180,181,182,183,184,185,186,187,188,189,190,191,192,193,194,195,196,197,198,199,200,201,202,203,204,205,206,207,208,209,210,211,212,213,214,215,216,217,218,219,220,221,222,223,224,225,226,227,228,229,230,231,232,233,234,235,236,237,238,239,240,241,242,243,244,245,246,247,248,249,250,251,252,253,254,255,256,257,258,259,260,261,262,263,264,265,266,267,268,269,270,271,272,273,274,275,276,277,278,279,280,281,282,283,284,285,286,287,288,289,290,291,292,293,294,295,296,297,298,299],\"colorbar\":{\"title\":{\"text\":\"Trial\"},\"x\":1.0,\"xpad\":40},\"colorscale\":[[0.0,\"rgb(247,251,255)\"],[0.125,\"rgb(222,235,247)\"],[0.25,\"rgb(198,219,239)\"],[0.375,\"rgb(158,202,225)\"],[0.5,\"rgb(107,174,214)\"],[0.625,\"rgb(66,146,198)\"],[0.75,\"rgb(33,113,181)\"],[0.875,\"rgb(8,81,156)\"],[1.0,\"rgb(8,48,107)\"]],\"line\":{\"color\":\"Grey\",\"width\":0.5},\"showscale\":true},\"mode\":\"markers\",\"showlegend\":false,\"x\":[11,4,7,3,9,9,16,9,16,13,21,21,21,21,18,18,17,17,14,14,12,13,12,11,11,6,6,5,6,5,4,4,3,3,3,3,3,3,8,7,8,8,8,8,8,9,10,10,10,10,10,10,10,10,10,12,12,12,12,14,14,14,15,15,15,15,15,15,15,16,16,16,17,17,19,19,19,20,20,20,20,20,20,20,20,20,20,20,20,21,21,21,21,21,21,21,21,21,21,21,21,21,21,21,21,19,19,19,18,18,18,18,18,18,18,18,18,18,18,18,18,18,18,18,17,17,17,17,17,17,17,17,17,17,17,17,17,17,17,17,16,16,16,16,16,16,16,16,16,16,16,16,16,16,16,16,16,16,16,16,15,15,15,15,15,15,15,15,15,13,14,13,13,14,13,13,13,13,13,13,13,13,13,13,13,13,13,13,13,13,13,13,13,13,13,12,13,12,12,12,12,12,12,12,11,11,11,11,11,11,11,11,11,11,11,11,11,11,11,11,11,11,11,11,11,11,11,11,11,11,11,11,11,10,10,10,10,10,9,9,10,9,9,9,9,9,9,9,9,9,9,9,9,9,9,9,9,9,9,9,9,9,9,9,9,9,9,9,8,8,8,8,8,8,8,7,7,7,7,7,7,7,7,7,7,7,7,7,7,7,7,7,7,7,7,7,7,7,7,7],\"y\":[0.12959990214712075,0.12993863367559547,0.13017024048779113,0.13007408551872232,0.13031987963639438,0.13056176550242318,0.13081524012413828,0.13103020905764665,0.13128320479576333,0.13151968768691452,0.13173048024185585,0.13194604933545953,0.1321605903816023,0.13237315340455666,0.13259603138420623,0.13281600655800216,0.13303026636314422,0.13324727057407648,0.13348060598178463,0.13370839964099535,0.13395280536568896,0.1341952718915024,0.134435807487234,0.1346691919713628,0.1349058973085266,0.13515602085083825,0.13540507408185437,0.13565389642409142,0.13590248954970613,0.13614670027404588,0.1363496011173622,0.1365394682289137,0.136653050584994,0.13687560599315382,0.13710744534187738,0.137337450242053,0.137556224459751,0.1377842835111353,0.13801305067725192,0.13822982508603712,0.13843786622238322,0.138650209778793,0.13886163804034382,0.13907472899904233,0.1392869088088982,0.13948782294109344,0.13968081939192592,0.13987385769693472,0.14006250263497655,0.14024764149251837,0.14043196806166494,0.1406163802051766,0.1408035331826717,0.1409863355675741,0.14117099743851896,0.141353980332474,0.1415272639957604,0.14169979024238769,0.14186704751827836,0.14203357136889813,0.1422002709841903,0.14236624363754707,0.14253774802231176,0.1427085149813978,0.14287943177597523,0.14305312303584672,0.143226077173646,0.1433948039736728,0.1435628134196055,0.14373185586219808,0.1438993138219736,0.1440616890380781,0.14422161383010276,0.14438085952208443,0.14453589421967075,0.14469026941307608,0.144849264471775,0.1450049671055794,0.1451600141360273,0.14531177536340537,0.14546289735914023,0.14561600996316215,0.1457684829276775,0.14592032016956744,0.14607152557467107,0.14622210299808017,0.14636857837441555,0.1465126961111328,0.14665795911353446,0.1468069418707533,0.14695616987030674,0.14710988132519487,0.1472587360339903,0.1474120519901341,0.147564750074731,0.14771683393400709,0.14786326253279475,0.1480141363099452,0.14816357308540173,0.1483132447034932,0.14846231989523,0.14861080214378922,0.14875869490602975,0.14891739392430317,0.1490746762356481,0.1492297435678342,0.14938501128194562,0.14954047763278994,0.14969374610549988,0.1498464228687035,0.15000405918009724,0.15015635127293944,0.1503072638673609,0.15045839236266736,0.15060894338514647,0.1507597105720729,0.15091226214033618,0.1510642370551516,0.15121328739609557,0.15136334089043968,0.15151126465993373,0.15165863090497503,0.15180544270235086,0.15195170310691283,0.15209663461633405,0.15224335621729174,0.15238875615003938,0.15253361453593833,0.15267793432985616,0.15282249023646136,0.15296881341340346,0.15311152963364907,0.15325448747611525,0.15339844917555698,0.15354264481679444,0.15368782972613818,0.15383248651456294,0.15397434753136252,0.15411644959976858,0.15425803600189078,0.15439835411742395,0.15454042223681877,0.15468197880362913,0.15482002048852705,0.15495906831988968,0.1550946058281008,0.15523266137390554,0.15536722000587438,0.15550429368613364,0.1556378837555479,0.15577099540946562,0.15590363116487788,0.15603579352158256,0.15617046320192127,0.15630168214392387,0.15643243509377397,0.15656272448388828,0.1566925527301856,0.15682488037350267,0.15695378951021144,0.15709674719648978,0.15723992369884168,0.15738261137344461,0.1575241061209953,0.15766228132692808,0.1578006945856155,0.15793863580274478,0.15807610733657712,0.15821381800609288,0.15835665408997485,0.15849272170779558,0.15863873497373399,0.1587835815096471,0.1589132929204729,0.15905856110519298,0.1592033508781661,0.15934766453919794,0.1594935286451237,0.15963891640134872,0.15978181057149796,0.15992625479987244,0.16006821471066132,0.16020971202590836,0.1603527588952895,0.16049534281420305,0.16063813169155347,0.160779795478334,0.16092100283937188,0.1610597577310261,0.16120006101281775,0.1613392511140217,0.16147666608429412,0.16161496711756318,0.16175282596075263,0.1618915634425153,0.16202455876391636,0.1621591230561576,0.16229126480969133,0.16242031049187633,0.1625516122323205,0.16268249532451803,0.1628089576668234,0.16293501489747042,0.16306466325751123,0.16318587176658475,0.16330669075326756,0.16342712205930307,0.1635478417434275,0.16366547365304654,0.1637827283707839,0.1639016313115735,0.1640201556036651,0.16413830302208374,0.16425270795451602,0.16436539263734726,0.16448109055328042,0.16459909165618752,0.16471672132234058,0.16483398127288787,0.16495087321859273,0.16506739885990912,0.16518355988705716,0.16529935798009765,0.16541479480900614,0.1655298720337463,0.16564459130434286,0.16576091806535495,0.16587492396713144,0.16598857681072046,0.16610187820709818,0.1662161340241533,0.16632413313224897,0.1664363937255315,0.16654634971025714,0.16665727299382418,0.16677109351660577,0.16688263115886107,0.16699188228410458,0.1671046744952052,0.16721776517767795,0.16732665569243332,0.16743970611707767,0.16755241610813254,0.16766287482881836,0.1677730006157634,0.16788023263931867,0.16798970000485738,0.16809947459512464,0.16820828561245343,0.16831677100310224,0.16842493220414026,0.16853340341880857,0.16864155181298243,0.16874937880348306,0.16885371986213324,0.16896028213563016,0.16906463358101848,0.16916867510918443,0.16927555261109808,0.16938023494337343,0.16948017958515027,0.1695842508123134,0.1696867600738753,0.16978896746234437,0.16988771907796435,0.16998617887914577,0.17008434814100984,0.17018222813137612,0.17027792004171916,0.17037332971476213,0.17046845838242541,0.1705633072695752,0.17065787759407297,0.17075217056682487,0.1708430163793757,0.17095031021137694,0.1710572991743248,0.1711633832636208,0.17127215733160947,0.1713782373406402,0.1714840175494801,0.17159188167969286,0.17169706339996074,0.17180432630484502,0.17191128916512802,0.17201558113198184,0.17211958070682978,0.17222328909865525,0.17232907178186957,0.17243160539741162,0.17253444548988145,0.17263935570035258,0.17274397555076287,0.172848306225772,0.1729523489037336,0.17305610475673625,0.17315128745545874,0.1732544820780519,0.17334912407766234,0.1734435020448431],\"type\":\"scatter\",\"xaxis\":\"x\",\"yaxis\":\"y\"},{\"marker\":{\"color\":[0,1,2,3,4,5,6,7,8,9,10,11,12,13,14,15,16,17,18,19,20,21,22,23,24,25,26,27,28,29,30,31,32,33,34,35,36,37,38,39,40,41,42,43,44,45,46,47,48,49,50,51,52,53,54,55,56,57,58,59,60,61,62,63,64,65,66,67,68,69,70,71,72,73,74,75,76,77,78,79,80,81,82,83,84,85,86,87,88,89,90,91,92,93,94,95,96,97,98,99,100,101,102,103,104,105,106,107,108,109,110,111,112,113,114,115,116,117,118,119,120,121,122,123,124,125,126,127,128,129,130,131,132,133,134,135,136,137,138,139,140,141,142,143,144,145,146,147,148,149,150,151,152,153,154,155,156,157,158,159,160,161,162,163,164,165,166,167,168,169,170,171,172,173,174,175,176,177,178,179,180,181,182,183,184,185,186,187,188,189,190,191,192,193,194,195,196,197,198,199,200,201,202,203,204,205,206,207,208,209,210,211,212,213,214,215,216,217,218,219,220,221,222,223,224,225,226,227,228,229,230,231,232,233,234,235,236,237,238,239,240,241,242,243,244,245,246,247,248,249,250,251,252,253,254,255,256,257,258,259,260,261,262,263,264,265,266,267,268,269,270,271,272,273,274,275,276,277,278,279,280,281,282,283,284,285,286,287,288,289,290,291,292,293,294,295,296,297,298,299],\"colorbar\":{\"title\":{\"text\":\"Trial\"},\"x\":1.0,\"xpad\":40},\"colorscale\":[[0.0,\"rgb(247,251,255)\"],[0.125,\"rgb(222,235,247)\"],[0.25,\"rgb(198,219,239)\"],[0.375,\"rgb(158,202,225)\"],[0.5,\"rgb(107,174,214)\"],[0.625,\"rgb(66,146,198)\"],[0.75,\"rgb(33,113,181)\"],[0.875,\"rgb(8,81,156)\"],[1.0,\"rgb(8,48,107)\"]],\"line\":{\"color\":\"Grey\",\"width\":0.5},\"showscale\":false},\"mode\":\"markers\",\"showlegend\":false,\"x\":[1910,1620,2430,320,430,2170,1150,360,1070,1960,2880,2990,2990,2980,2570,2540,2520,2430,1580,1440,1350,1370,1210,880,730,700,760,680,620,600,590,550,570,940,990,970,960,970,1030,1790,2020,1850,1850,1830,1890,2030,2150,2180,2200,2230,2230,2250,2190,2250,2290,2320,2720,2720,2780,2730,2760,2760,2730,2740,2780,2850,2850,2880,2880,2880,2900,2920,2890,2920,2920,2920,3000,2600,2620,2580,2470,2600,2620,2590,2610,2610,2570,2460,2450,2430,2400,2380,2390,2360,2370,2370,2390,2370,2380,2350,2360,2370,2350,2110,2120,2050,2100,2120,2130,2110,2070,2100,2130,2100,2100,2090,2040,2040,1950,1980,1950,1950,1950,1950,1960,1970,1950,1730,1730,1720,1700,1730,1720,1710,1690,1680,1680,1710,1700,1690,1710,1700,1700,1570,1580,1550,1530,1550,1540,1560,1560,1550,1550,1530,1550,1550,1560,1560,1540,1560,1510,1490,1490,1470,1450,1440,1440,1430,1390,1380,1320,1340,1290,1300,1270,1270,1260,1250,1250,1270,1250,1270,1260,1230,1250,1220,1230,1250,1260,1240,1170,1180,1150,1150,1140,1130,1130,1130,1140,1130,1130,1110,1110,1120,1140,1130,1130,1150,1120,1120,1130,1130,1130,1090,1100,1080,1050,1050,1060,1040,1050,1050,1050,1030,1050,1040,1020,1030,1030,1030,900,870,890,880,860,910,870,850,860,880,860,870,820,840,840,850,840,860,840,840,840,830,830,830,850,840,780,810,800,790,770,790,780,780,770,770,770,770,750,750,750,750,660,750,680,650,670,680,660,670,650,660,670,660,660,670,670,670,660,680,670,660,660,660,660,660,520,660,510,510],\"y\":[0.12959990214712075,0.12993863367559547,0.13017024048779113,0.13007408551872232,0.13031987963639438,0.13056176550242318,0.13081524012413828,0.13103020905764665,0.13128320479576333,0.13151968768691452,0.13173048024185585,0.13194604933545953,0.1321605903816023,0.13237315340455666,0.13259603138420623,0.13281600655800216,0.13303026636314422,0.13324727057407648,0.13348060598178463,0.13370839964099535,0.13395280536568896,0.1341952718915024,0.134435807487234,0.1346691919713628,0.1349058973085266,0.13515602085083825,0.13540507408185437,0.13565389642409142,0.13590248954970613,0.13614670027404588,0.1363496011173622,0.1365394682289137,0.136653050584994,0.13687560599315382,0.13710744534187738,0.137337450242053,0.137556224459751,0.1377842835111353,0.13801305067725192,0.13822982508603712,0.13843786622238322,0.138650209778793,0.13886163804034382,0.13907472899904233,0.1392869088088982,0.13948782294109344,0.13968081939192592,0.13987385769693472,0.14006250263497655,0.14024764149251837,0.14043196806166494,0.1406163802051766,0.1408035331826717,0.1409863355675741,0.14117099743851896,0.141353980332474,0.1415272639957604,0.14169979024238769,0.14186704751827836,0.14203357136889813,0.1422002709841903,0.14236624363754707,0.14253774802231176,0.1427085149813978,0.14287943177597523,0.14305312303584672,0.143226077173646,0.1433948039736728,0.1435628134196055,0.14373185586219808,0.1438993138219736,0.1440616890380781,0.14422161383010276,0.14438085952208443,0.14453589421967075,0.14469026941307608,0.144849264471775,0.1450049671055794,0.1451600141360273,0.14531177536340537,0.14546289735914023,0.14561600996316215,0.1457684829276775,0.14592032016956744,0.14607152557467107,0.14622210299808017,0.14636857837441555,0.1465126961111328,0.14665795911353446,0.1468069418707533,0.14695616987030674,0.14710988132519487,0.1472587360339903,0.1474120519901341,0.147564750074731,0.14771683393400709,0.14786326253279475,0.1480141363099452,0.14816357308540173,0.1483132447034932,0.14846231989523,0.14861080214378922,0.14875869490602975,0.14891739392430317,0.1490746762356481,0.1492297435678342,0.14938501128194562,0.14954047763278994,0.14969374610549988,0.1498464228687035,0.15000405918009724,0.15015635127293944,0.1503072638673609,0.15045839236266736,0.15060894338514647,0.1507597105720729,0.15091226214033618,0.1510642370551516,0.15121328739609557,0.15136334089043968,0.15151126465993373,0.15165863090497503,0.15180544270235086,0.15195170310691283,0.15209663461633405,0.15224335621729174,0.15238875615003938,0.15253361453593833,0.15267793432985616,0.15282249023646136,0.15296881341340346,0.15311152963364907,0.15325448747611525,0.15339844917555698,0.15354264481679444,0.15368782972613818,0.15383248651456294,0.15397434753136252,0.15411644959976858,0.15425803600189078,0.15439835411742395,0.15454042223681877,0.15468197880362913,0.15482002048852705,0.15495906831988968,0.1550946058281008,0.15523266137390554,0.15536722000587438,0.15550429368613364,0.1556378837555479,0.15577099540946562,0.15590363116487788,0.15603579352158256,0.15617046320192127,0.15630168214392387,0.15643243509377397,0.15656272448388828,0.1566925527301856,0.15682488037350267,0.15695378951021144,0.15709674719648978,0.15723992369884168,0.15738261137344461,0.1575241061209953,0.15766228132692808,0.1578006945856155,0.15793863580274478,0.15807610733657712,0.15821381800609288,0.15835665408997485,0.15849272170779558,0.15863873497373399,0.1587835815096471,0.1589132929204729,0.15905856110519298,0.1592033508781661,0.15934766453919794,0.1594935286451237,0.15963891640134872,0.15978181057149796,0.15992625479987244,0.16006821471066132,0.16020971202590836,0.1603527588952895,0.16049534281420305,0.16063813169155347,0.160779795478334,0.16092100283937188,0.1610597577310261,0.16120006101281775,0.1613392511140217,0.16147666608429412,0.16161496711756318,0.16175282596075263,0.1618915634425153,0.16202455876391636,0.1621591230561576,0.16229126480969133,0.16242031049187633,0.1625516122323205,0.16268249532451803,0.1628089576668234,0.16293501489747042,0.16306466325751123,0.16318587176658475,0.16330669075326756,0.16342712205930307,0.1635478417434275,0.16366547365304654,0.1637827283707839,0.1639016313115735,0.1640201556036651,0.16413830302208374,0.16425270795451602,0.16436539263734726,0.16448109055328042,0.16459909165618752,0.16471672132234058,0.16483398127288787,0.16495087321859273,0.16506739885990912,0.16518355988705716,0.16529935798009765,0.16541479480900614,0.1655298720337463,0.16564459130434286,0.16576091806535495,0.16587492396713144,0.16598857681072046,0.16610187820709818,0.1662161340241533,0.16632413313224897,0.1664363937255315,0.16654634971025714,0.16665727299382418,0.16677109351660577,0.16688263115886107,0.16699188228410458,0.1671046744952052,0.16721776517767795,0.16732665569243332,0.16743970611707767,0.16755241610813254,0.16766287482881836,0.1677730006157634,0.16788023263931867,0.16798970000485738,0.16809947459512464,0.16820828561245343,0.16831677100310224,0.16842493220414026,0.16853340341880857,0.16864155181298243,0.16874937880348306,0.16885371986213324,0.16896028213563016,0.16906463358101848,0.16916867510918443,0.16927555261109808,0.16938023494337343,0.16948017958515027,0.1695842508123134,0.1696867600738753,0.16978896746234437,0.16988771907796435,0.16998617887914577,0.17008434814100984,0.17018222813137612,0.17027792004171916,0.17037332971476213,0.17046845838242541,0.1705633072695752,0.17065787759407297,0.17075217056682487,0.1708430163793757,0.17095031021137694,0.1710572991743248,0.1711633832636208,0.17127215733160947,0.1713782373406402,0.1714840175494801,0.17159188167969286,0.17169706339996074,0.17180432630484502,0.17191128916512802,0.17201558113198184,0.17211958070682978,0.17222328909865525,0.17232907178186957,0.17243160539741162,0.17253444548988145,0.17263935570035258,0.17274397555076287,0.172848306225772,0.1729523489037336,0.17305610475673625,0.17315128745545874,0.1732544820780519,0.17334912407766234,0.1734435020448431],\"type\":\"scatter\",\"xaxis\":\"x2\",\"yaxis\":\"y2\"}],                        {\"template\":{\"data\":{\"histogram2dcontour\":[{\"type\":\"histogram2dcontour\",\"colorbar\":{\"outlinewidth\":0,\"ticks\":\"\"},\"colorscale\":[[0.0,\"#0d0887\"],[0.1111111111111111,\"#46039f\"],[0.2222222222222222,\"#7201a8\"],[0.3333333333333333,\"#9c179e\"],[0.4444444444444444,\"#bd3786\"],[0.5555555555555556,\"#d8576b\"],[0.6666666666666666,\"#ed7953\"],[0.7777777777777778,\"#fb9f3a\"],[0.8888888888888888,\"#fdca26\"],[1.0,\"#f0f921\"]]}],\"choropleth\":[{\"type\":\"choropleth\",\"colorbar\":{\"outlinewidth\":0,\"ticks\":\"\"}}],\"histogram2d\":[{\"type\":\"histogram2d\",\"colorbar\":{\"outlinewidth\":0,\"ticks\":\"\"},\"colorscale\":[[0.0,\"#0d0887\"],[0.1111111111111111,\"#46039f\"],[0.2222222222222222,\"#7201a8\"],[0.3333333333333333,\"#9c179e\"],[0.4444444444444444,\"#bd3786\"],[0.5555555555555556,\"#d8576b\"],[0.6666666666666666,\"#ed7953\"],[0.7777777777777778,\"#fb9f3a\"],[0.8888888888888888,\"#fdca26\"],[1.0,\"#f0f921\"]]}],\"heatmap\":[{\"type\":\"heatmap\",\"colorbar\":{\"outlinewidth\":0,\"ticks\":\"\"},\"colorscale\":[[0.0,\"#0d0887\"],[0.1111111111111111,\"#46039f\"],[0.2222222222222222,\"#7201a8\"],[0.3333333333333333,\"#9c179e\"],[0.4444444444444444,\"#bd3786\"],[0.5555555555555556,\"#d8576b\"],[0.6666666666666666,\"#ed7953\"],[0.7777777777777778,\"#fb9f3a\"],[0.8888888888888888,\"#fdca26\"],[1.0,\"#f0f921\"]]}],\"heatmapgl\":[{\"type\":\"heatmapgl\",\"colorbar\":{\"outlinewidth\":0,\"ticks\":\"\"},\"colorscale\":[[0.0,\"#0d0887\"],[0.1111111111111111,\"#46039f\"],[0.2222222222222222,\"#7201a8\"],[0.3333333333333333,\"#9c179e\"],[0.4444444444444444,\"#bd3786\"],[0.5555555555555556,\"#d8576b\"],[0.6666666666666666,\"#ed7953\"],[0.7777777777777778,\"#fb9f3a\"],[0.8888888888888888,\"#fdca26\"],[1.0,\"#f0f921\"]]}],\"contourcarpet\":[{\"type\":\"contourcarpet\",\"colorbar\":{\"outlinewidth\":0,\"ticks\":\"\"}}],\"contour\":[{\"type\":\"contour\",\"colorbar\":{\"outlinewidth\":0,\"ticks\":\"\"},\"colorscale\":[[0.0,\"#0d0887\"],[0.1111111111111111,\"#46039f\"],[0.2222222222222222,\"#7201a8\"],[0.3333333333333333,\"#9c179e\"],[0.4444444444444444,\"#bd3786\"],[0.5555555555555556,\"#d8576b\"],[0.6666666666666666,\"#ed7953\"],[0.7777777777777778,\"#fb9f3a\"],[0.8888888888888888,\"#fdca26\"],[1.0,\"#f0f921\"]]}],\"surface\":[{\"type\":\"surface\",\"colorbar\":{\"outlinewidth\":0,\"ticks\":\"\"},\"colorscale\":[[0.0,\"#0d0887\"],[0.1111111111111111,\"#46039f\"],[0.2222222222222222,\"#7201a8\"],[0.3333333333333333,\"#9c179e\"],[0.4444444444444444,\"#bd3786\"],[0.5555555555555556,\"#d8576b\"],[0.6666666666666666,\"#ed7953\"],[0.7777777777777778,\"#fb9f3a\"],[0.8888888888888888,\"#fdca26\"],[1.0,\"#f0f921\"]]}],\"mesh3d\":[{\"type\":\"mesh3d\",\"colorbar\":{\"outlinewidth\":0,\"ticks\":\"\"}}],\"scatter\":[{\"fillpattern\":{\"fillmode\":\"overlay\",\"size\":10,\"solidity\":0.2},\"type\":\"scatter\"}],\"parcoords\":[{\"type\":\"parcoords\",\"line\":{\"colorbar\":{\"outlinewidth\":0,\"ticks\":\"\"}}}],\"scatterpolargl\":[{\"type\":\"scatterpolargl\",\"marker\":{\"colorbar\":{\"outlinewidth\":0,\"ticks\":\"\"}}}],\"bar\":[{\"error_x\":{\"color\":\"#2a3f5f\"},\"error_y\":{\"color\":\"#2a3f5f\"},\"marker\":{\"line\":{\"color\":\"#E5ECF6\",\"width\":0.5},\"pattern\":{\"fillmode\":\"overlay\",\"size\":10,\"solidity\":0.2}},\"type\":\"bar\"}],\"scattergeo\":[{\"type\":\"scattergeo\",\"marker\":{\"colorbar\":{\"outlinewidth\":0,\"ticks\":\"\"}}}],\"scatterpolar\":[{\"type\":\"scatterpolar\",\"marker\":{\"colorbar\":{\"outlinewidth\":0,\"ticks\":\"\"}}}],\"histogram\":[{\"marker\":{\"pattern\":{\"fillmode\":\"overlay\",\"size\":10,\"solidity\":0.2}},\"type\":\"histogram\"}],\"scattergl\":[{\"type\":\"scattergl\",\"marker\":{\"colorbar\":{\"outlinewidth\":0,\"ticks\":\"\"}}}],\"scatter3d\":[{\"type\":\"scatter3d\",\"line\":{\"colorbar\":{\"outlinewidth\":0,\"ticks\":\"\"}},\"marker\":{\"colorbar\":{\"outlinewidth\":0,\"ticks\":\"\"}}}],\"scattermapbox\":[{\"type\":\"scattermapbox\",\"marker\":{\"colorbar\":{\"outlinewidth\":0,\"ticks\":\"\"}}}],\"scatterternary\":[{\"type\":\"scatterternary\",\"marker\":{\"colorbar\":{\"outlinewidth\":0,\"ticks\":\"\"}}}],\"scattercarpet\":[{\"type\":\"scattercarpet\",\"marker\":{\"colorbar\":{\"outlinewidth\":0,\"ticks\":\"\"}}}],\"carpet\":[{\"aaxis\":{\"endlinecolor\":\"#2a3f5f\",\"gridcolor\":\"white\",\"linecolor\":\"white\",\"minorgridcolor\":\"white\",\"startlinecolor\":\"#2a3f5f\"},\"baxis\":{\"endlinecolor\":\"#2a3f5f\",\"gridcolor\":\"white\",\"linecolor\":\"white\",\"minorgridcolor\":\"white\",\"startlinecolor\":\"#2a3f5f\"},\"type\":\"carpet\"}],\"table\":[{\"cells\":{\"fill\":{\"color\":\"#EBF0F8\"},\"line\":{\"color\":\"white\"}},\"header\":{\"fill\":{\"color\":\"#C8D4E3\"},\"line\":{\"color\":\"white\"}},\"type\":\"table\"}],\"barpolar\":[{\"marker\":{\"line\":{\"color\":\"#E5ECF6\",\"width\":0.5},\"pattern\":{\"fillmode\":\"overlay\",\"size\":10,\"solidity\":0.2}},\"type\":\"barpolar\"}],\"pie\":[{\"automargin\":true,\"type\":\"pie\"}]},\"layout\":{\"autotypenumbers\":\"strict\",\"colorway\":[\"#636efa\",\"#EF553B\",\"#00cc96\",\"#ab63fa\",\"#FFA15A\",\"#19d3f3\",\"#FF6692\",\"#B6E880\",\"#FF97FF\",\"#FECB52\"],\"font\":{\"color\":\"#2a3f5f\"},\"hovermode\":\"closest\",\"hoverlabel\":{\"align\":\"left\"},\"paper_bgcolor\":\"white\",\"plot_bgcolor\":\"#E5ECF6\",\"polar\":{\"bgcolor\":\"#E5ECF6\",\"angularaxis\":{\"gridcolor\":\"white\",\"linecolor\":\"white\",\"ticks\":\"\"},\"radialaxis\":{\"gridcolor\":\"white\",\"linecolor\":\"white\",\"ticks\":\"\"}},\"ternary\":{\"bgcolor\":\"#E5ECF6\",\"aaxis\":{\"gridcolor\":\"white\",\"linecolor\":\"white\",\"ticks\":\"\"},\"baxis\":{\"gridcolor\":\"white\",\"linecolor\":\"white\",\"ticks\":\"\"},\"caxis\":{\"gridcolor\":\"white\",\"linecolor\":\"white\",\"ticks\":\"\"}},\"coloraxis\":{\"colorbar\":{\"outlinewidth\":0,\"ticks\":\"\"}},\"colorscale\":{\"sequential\":[[0.0,\"#0d0887\"],[0.1111111111111111,\"#46039f\"],[0.2222222222222222,\"#7201a8\"],[0.3333333333333333,\"#9c179e\"],[0.4444444444444444,\"#bd3786\"],[0.5555555555555556,\"#d8576b\"],[0.6666666666666666,\"#ed7953\"],[0.7777777777777778,\"#fb9f3a\"],[0.8888888888888888,\"#fdca26\"],[1.0,\"#f0f921\"]],\"sequentialminus\":[[0.0,\"#0d0887\"],[0.1111111111111111,\"#46039f\"],[0.2222222222222222,\"#7201a8\"],[0.3333333333333333,\"#9c179e\"],[0.4444444444444444,\"#bd3786\"],[0.5555555555555556,\"#d8576b\"],[0.6666666666666666,\"#ed7953\"],[0.7777777777777778,\"#fb9f3a\"],[0.8888888888888888,\"#fdca26\"],[1.0,\"#f0f921\"]],\"diverging\":[[0,\"#8e0152\"],[0.1,\"#c51b7d\"],[0.2,\"#de77ae\"],[0.3,\"#f1b6da\"],[0.4,\"#fde0ef\"],[0.5,\"#f7f7f7\"],[0.6,\"#e6f5d0\"],[0.7,\"#b8e186\"],[0.8,\"#7fbc41\"],[0.9,\"#4d9221\"],[1,\"#276419\"]]},\"xaxis\":{\"gridcolor\":\"white\",\"linecolor\":\"white\",\"ticks\":\"\",\"title\":{\"standoff\":15},\"zerolinecolor\":\"white\",\"automargin\":true,\"zerolinewidth\":2},\"yaxis\":{\"gridcolor\":\"white\",\"linecolor\":\"white\",\"ticks\":\"\",\"title\":{\"standoff\":15},\"zerolinecolor\":\"white\",\"automargin\":true,\"zerolinewidth\":2},\"scene\":{\"xaxis\":{\"backgroundcolor\":\"#E5ECF6\",\"gridcolor\":\"white\",\"linecolor\":\"white\",\"showbackground\":true,\"ticks\":\"\",\"zerolinecolor\":\"white\",\"gridwidth\":2},\"yaxis\":{\"backgroundcolor\":\"#E5ECF6\",\"gridcolor\":\"white\",\"linecolor\":\"white\",\"showbackground\":true,\"ticks\":\"\",\"zerolinecolor\":\"white\",\"gridwidth\":2},\"zaxis\":{\"backgroundcolor\":\"#E5ECF6\",\"gridcolor\":\"white\",\"linecolor\":\"white\",\"showbackground\":true,\"ticks\":\"\",\"zerolinecolor\":\"white\",\"gridwidth\":2}},\"shapedefaults\":{\"line\":{\"color\":\"#2a3f5f\"}},\"annotationdefaults\":{\"arrowcolor\":\"#2a3f5f\",\"arrowhead\":0,\"arrowwidth\":1},\"geo\":{\"bgcolor\":\"white\",\"landcolor\":\"#E5ECF6\",\"subunitcolor\":\"white\",\"showland\":true,\"showlakes\":true,\"lakecolor\":\"white\"},\"title\":{\"x\":0.05},\"mapbox\":{\"style\":\"light\"}}},\"xaxis\":{\"anchor\":\"y\",\"domain\":[0.0,0.45],\"title\":{\"text\":\"lgbm1175__max_depth\"}},\"yaxis\":{\"anchor\":\"x\",\"domain\":[0.0,1.0],\"title\":{\"text\":\"Objective Value\"}},\"xaxis2\":{\"anchor\":\"y2\",\"domain\":[0.55,1.0],\"title\":{\"text\":\"lgbm175__n_estimators\"}},\"yaxis2\":{\"anchor\":\"x2\",\"domain\":[0.0,1.0],\"matches\":\"y\",\"showticklabels\":false},\"title\":{\"text\":\"Slice Plot\"}},                        {\"responsive\": true}                    ).then(function(){\n",
       "                            \n",
       "var gd = document.getElementById('9ae336b8-e839-405a-a620-2de82c090930');\n",
       "var x = new MutationObserver(function (mutations, observer) {{\n",
       "        var display = window.getComputedStyle(gd).display;\n",
       "        if (!display || display === 'none') {{\n",
       "            console.log([gd, 'removed!']);\n",
       "            Plotly.purge(gd);\n",
       "            observer.disconnect();\n",
       "        }}\n",
       "}});\n",
       "\n",
       "// Listen for the removal of the full notebook cells\n",
       "var notebookContainer = gd.closest('#notebook-container');\n",
       "if (notebookContainer) {{\n",
       "    x.observe(notebookContainer, {childList: true});\n",
       "}}\n",
       "\n",
       "// Listen for the clearing of the current output cell\n",
       "var outputEl = gd.closest('.output');\n",
       "if (outputEl) {{\n",
       "    x.observe(outputEl, {childList: true});\n",
       "}}\n",
       "\n",
       "                        })                };                });            </script>        </div>"
      ]
     },
     "metadata": {},
     "output_type": "display_data"
    }
   ],
   "source": [
    "optuna.visualization.plot_slice(study_lgbm175)"
   ]
  },
  {
   "cell_type": "markdown",
   "id": "94e667cc",
   "metadata": {},
   "source": []
  },
  {
   "cell_type": "markdown",
   "id": "650adb7f",
   "metadata": {},
   "source": [
    "<br>\n",
    "<br>\n"
   ]
  },
  {
   "cell_type": "markdown",
   "id": "ddaff0a9",
   "metadata": {},
   "source": [
    "<font size='4' style=\"color:darkorchid\"><b> Optimización de LightGBM PCA 100  </b> </font>\n",
    "\n",
    "<a name=\"Optimizacion100\"></a>\n",
    "\n",
    "[[ Back to Top ]](#content)"
   ]
  },
  {
   "cell_type": "markdown",
   "id": "4dc78174",
   "metadata": {},
   "source": [
    "Elegí evaluar la optimización de parámetros para el PCA 100 para ver si existe una gran diferencia con PCA 175."
   ]
  },
  {
   "cell_type": "code",
   "execution_count": 80,
   "id": "e31397dd",
   "metadata": {
    "ExecuteTime": {
     "end_time": "2022-11-19T19:44:23.234499Z",
     "start_time": "2022-11-19T19:44:23.199630Z"
    }
   },
   "outputs": [],
   "source": [
    "\n",
    "#creamos una lista para almacenar todos los resultados de recall de cada fold\n",
    "recall_results = [] \n",
    "\n",
    "# Objective function for the Light GBM Model\n",
    "# ==============================================================================\n",
    "def objective_lgbm(trial):\n",
    "    # hyperparameter setting\n",
    "    lgbm100__max_depth = trial.suggest_int ('lgbm100__max_depth', 3, 21)\n",
    "    lgbm100__n_estimators = trial.suggest_int('lgbm100__n_estimators', 300, 3000, 10)\n",
    "        \n",
    "    #splitting the dataset\n",
    "    for train_index, test_index in skf.split(X,y):\n",
    "        X_train=pca100.fit_transform(X.iloc[train_index])\n",
    "        X_test=pca100.transform(X.iloc[test_index])\n",
    "        y_train=y.iloc[train_index]\n",
    "        y_test=y.iloc[test_index]\n",
    "        \n",
    "             \n",
    "    \n",
    "    #model training\n",
    "    model = LGBMClassifier(max_depth= lgbm100__max_depth, n_estimators= lgbm100__n_estimators)  \n",
    "    model.fit(X_train, y_train)\n",
    "    \n",
    "    #predictions\n",
    "    y_pred = model.predict(X_test)\n",
    "    \n",
    "    \n",
    "    #evaluation metric\n",
    "    recall = recall_score(y_test, y_pred)\n",
    "\n",
    "    #agregamos los resultados de recall luego de cada fold a la lista de resultados\n",
    "    recall_results.append(recall)\n",
    "    \n",
    "    return gmean(recall_results)"
   ]
  },
  {
   "cell_type": "code",
   "execution_count": 81,
   "id": "46562b78",
   "metadata": {
    "ExecuteTime": {
     "end_time": "2022-11-20T01:55:20.574465Z",
     "start_time": "2022-11-19T19:44:25.734639Z"
    }
   },
   "outputs": [
    {
     "name": "stderr",
     "output_type": "stream",
     "text": [
      "\u001b[32m[I 2022-11-19 16:44:25,747]\u001b[0m A new study created in memory with name: no-name-eac5c5d9-6e87-4a6d-9fd0-1f3de1cb6b3f\u001b[0m\n",
      "\u001b[32m[I 2022-11-19 16:46:11,871]\u001b[0m Trial 0 finished with value: 0.09800995024875624 and parameters: {'lgbm100__max_depth': 20, 'lgbm100__n_estimators': 2110}. Best is trial 0 with value: 0.09800995024875624.\u001b[0m\n",
      "\u001b[32m[I 2022-11-19 16:47:23,299]\u001b[0m Trial 1 finished with value: 0.1112894289526593 and parameters: {'lgbm100__max_depth': 9, 'lgbm100__n_estimators': 610}. Best is trial 1 with value: 0.1112894289526593.\u001b[0m\n",
      "\u001b[32m[I 2022-11-19 16:48:59,061]\u001b[0m Trial 2 finished with value: 0.12300031901326246 and parameters: {'lgbm100__max_depth': 4, 'lgbm100__n_estimators': 2100}. Best is trial 2 with value: 0.12300031901326246.\u001b[0m\n",
      "\u001b[32m[I 2022-11-19 16:50:31,552]\u001b[0m Trial 3 finished with value: 0.12209095039701708 and parameters: {'lgbm100__max_depth': 14, 'lgbm100__n_estimators': 2170}. Best is trial 2 with value: 0.12300031901326246.\u001b[0m\n",
      "\u001b[32m[I 2022-11-19 16:52:10,545]\u001b[0m Trial 4 finished with value: 0.11977565118808586 and parameters: {'lgbm100__max_depth': 7, 'lgbm100__n_estimators': 2560}. Best is trial 2 with value: 0.12300031901326246.\u001b[0m\n",
      "\u001b[32m[I 2022-11-19 16:53:37,357]\u001b[0m Trial 5 finished with value: 0.11954661052168004 and parameters: {'lgbm100__max_depth': 18, 'lgbm100__n_estimators': 1720}. Best is trial 2 with value: 0.12300031901326246.\u001b[0m\n",
      "\u001b[32m[I 2022-11-19 16:54:33,976]\u001b[0m Trial 6 finished with value: 0.1162860272470749 and parameters: {'lgbm100__max_depth': 10, 'lgbm100__n_estimators': 330}. Best is trial 2 with value: 0.12300031901326246.\u001b[0m\n",
      "\u001b[32m[I 2022-11-19 16:56:31,516]\u001b[0m Trial 7 finished with value: 0.11382701919804122 and parameters: {'lgbm100__max_depth': 12, 'lgbm100__n_estimators': 2800}. Best is trial 2 with value: 0.12300031901326246.\u001b[0m\n",
      "\u001b[32m[I 2022-11-19 16:57:41,105]\u001b[0m Trial 8 finished with value: 0.11726267084794799 and parameters: {'lgbm100__max_depth': 5, 'lgbm100__n_estimators': 920}. Best is trial 2 with value: 0.12300031901326246.\u001b[0m\n",
      "\u001b[32m[I 2022-11-19 16:59:16,165]\u001b[0m Trial 9 finished with value: 0.11702681779128093 and parameters: {'lgbm100__max_depth': 18, 'lgbm100__n_estimators': 2330}. Best is trial 2 with value: 0.12300031901326246.\u001b[0m\n",
      "\u001b[32m[I 2022-11-19 17:00:23,679]\u001b[0m Trial 10 finished with value: 0.12017532741629963 and parameters: {'lgbm100__max_depth': 3, 'lgbm100__n_estimators': 1390}. Best is trial 2 with value: 0.12300031901326246.\u001b[0m\n",
      "\u001b[32m[I 2022-11-19 17:01:48,339]\u001b[0m Trial 11 finished with value: 0.11901478180598711 and parameters: {'lgbm100__max_depth': 15, 'lgbm100__n_estimators': 1860}. Best is trial 2 with value: 0.12300031901326246.\u001b[0m\n",
      "\u001b[32m[I 2022-11-19 17:03:02,495]\u001b[0m Trial 12 finished with value: 0.11885196286641557 and parameters: {'lgbm100__max_depth': 14, 'lgbm100__n_estimators': 1280}. Best is trial 2 with value: 0.12300031901326246.\u001b[0m\n",
      "\u001b[32m[I 2022-11-19 17:04:46,770]\u001b[0m Trial 13 finished with value: 0.1173947733140262 and parameters: {'lgbm100__max_depth': 14, 'lgbm100__n_estimators': 2910}. Best is trial 2 with value: 0.12300031901326246.\u001b[0m\n",
      "\u001b[32m[I 2022-11-19 17:06:16,968]\u001b[0m Trial 14 finished with value: 0.11637431294224974 and parameters: {'lgbm100__max_depth': 10, 'lgbm100__n_estimators': 2170}. Best is trial 2 with value: 0.12300031901326246.\u001b[0m\n",
      "\u001b[32m[I 2022-11-19 17:07:45,610]\u001b[0m Trial 15 finished with value: 0.11892702510573587 and parameters: {'lgbm100__max_depth': 3, 'lgbm100__n_estimators': 2490}. Best is trial 2 with value: 0.12300031901326246.\u001b[0m\n",
      "\u001b[32m[I 2022-11-19 17:09:12,127]\u001b[0m Trial 16 finished with value: 0.1190130539715603 and parameters: {'lgbm100__max_depth': 7, 'lgbm100__n_estimators': 1870}. Best is trial 2 with value: 0.12300031901326246.\u001b[0m\n",
      "\u001b[32m[I 2022-11-19 17:10:29,560]\u001b[0m Trial 17 finished with value: 0.12019996544001976 and parameters: {'lgbm100__max_depth': 16, 'lgbm100__n_estimators': 1400}. Best is trial 2 with value: 0.12300031901326246.\u001b[0m\n",
      "\u001b[32m[I 2022-11-19 17:12:09,575]\u001b[0m Trial 18 finished with value: 0.11940549157029558 and parameters: {'lgbm100__max_depth': 12, 'lgbm100__n_estimators': 2600}. Best is trial 2 with value: 0.12300031901326246.\u001b[0m\n",
      "\u001b[32m[I 2022-11-19 17:13:38,672]\u001b[0m Trial 19 finished with value: 0.11904706833835788 and parameters: {'lgbm100__max_depth': 21, 'lgbm100__n_estimators': 2060}. Best is trial 2 with value: 0.12300031901326246.\u001b[0m\n",
      "\u001b[32m[I 2022-11-19 17:15:00,133]\u001b[0m Trial 20 finished with value: 0.12008231300979415 and parameters: {'lgbm100__max_depth': 6, 'lgbm100__n_estimators': 1570}. Best is trial 2 with value: 0.12300031901326246.\u001b[0m\n",
      "\u001b[32m[I 2022-11-19 17:16:12,354]\u001b[0m Trial 21 finished with value: 0.1202743182935429 and parameters: {'lgbm100__max_depth': 16, 'lgbm100__n_estimators': 1140}. Best is trial 2 with value: 0.12300031901326246.\u001b[0m\n",
      "\u001b[32m[I 2022-11-19 17:17:23,855]\u001b[0m Trial 22 finished with value: 0.12023630235696514 and parameters: {'lgbm100__max_depth': 17, 'lgbm100__n_estimators': 1070}. Best is trial 2 with value: 0.12300031901326246.\u001b[0m\n",
      "\u001b[32m[I 2022-11-19 17:18:32,710]\u001b[0m Trial 23 finished with value: 0.12040609159562503 and parameters: {'lgbm100__max_depth': 13, 'lgbm100__n_estimators': 950}. Best is trial 2 with value: 0.12300031901326246.\u001b[0m\n",
      "\u001b[32m[I 2022-11-19 17:19:39,502]\u001b[0m Trial 24 finished with value: 0.12032552270112147 and parameters: {'lgbm100__max_depth': 13, 'lgbm100__n_estimators': 770}. Best is trial 2 with value: 0.12300031901326246.\u001b[0m\n",
      "\u001b[32m[I 2022-11-19 17:21:00,501]\u001b[0m Trial 25 finished with value: 0.11999168959191565 and parameters: {'lgbm100__max_depth': 10, 'lgbm100__n_estimators': 1640}. Best is trial 2 with value: 0.12300031901326246.\u001b[0m\n",
      "\u001b[32m[I 2022-11-19 17:22:32,566]\u001b[0m Trial 26 finished with value: 0.12002504406951647 and parameters: {'lgbm100__max_depth': 8, 'lgbm100__n_estimators': 1930}. Best is trial 2 with value: 0.12300031901326246.\u001b[0m\n",
      "\u001b[32m[I 2022-11-19 17:24:07,711]\u001b[0m Trial 27 finished with value: 0.12000277197290218 and parameters: {'lgbm100__max_depth': 12, 'lgbm100__n_estimators': 2300}. Best is trial 2 with value: 0.12300031901326246.\u001b[0m\n",
      "\u001b[32m[I 2022-11-19 17:25:04,086]\u001b[0m Trial 28 finished with value: 0.11964129453020442 and parameters: {'lgbm100__max_depth': 11, 'lgbm100__n_estimators': 320}. Best is trial 2 with value: 0.12300031901326246.\u001b[0m\n",
      "\u001b[32m[I 2022-11-19 17:26:34,854]\u001b[0m Trial 29 finished with value: 0.11932285350810684 and parameters: {'lgbm100__max_depth': 19, 'lgbm100__n_estimators': 2140}. Best is trial 2 with value: 0.12300031901326246.\u001b[0m\n",
      "\u001b[32m[I 2022-11-19 17:28:14,631]\u001b[0m Trial 30 finished with value: 0.1199887617726212 and parameters: {'lgbm100__max_depth': 5, 'lgbm100__n_estimators': 2360}. Best is trial 2 with value: 0.12300031901326246.\u001b[0m\n",
      "\u001b[32m[I 2022-11-19 17:29:19,689]\u001b[0m Trial 31 finished with value: 0.12007824497495573 and parameters: {'lgbm100__max_depth': 14, 'lgbm100__n_estimators': 800}. Best is trial 2 with value: 0.12300031901326246.\u001b[0m\n",
      "\u001b[32m[I 2022-11-19 17:30:23,304]\u001b[0m Trial 32 finished with value: 0.1200272857776696 and parameters: {'lgbm100__max_depth': 13, 'lgbm100__n_estimators': 730}. Best is trial 2 with value: 0.12300031901326246.\u001b[0m\n",
      "\u001b[32m[I 2022-11-19 17:31:25,407]\u001b[0m Trial 33 finished with value: 0.11996448671077076 and parameters: {'lgbm100__max_depth': 13, 'lgbm100__n_estimators': 670}. Best is trial 2 with value: 0.12300031901326246.\u001b[0m\n",
      "\u001b[32m[I 2022-11-19 17:32:26,942]\u001b[0m Trial 34 finished with value: 0.11966608595142762 and parameters: {'lgbm100__max_depth': 15, 'lgbm100__n_estimators': 510}. Best is trial 2 with value: 0.12300031901326246.\u001b[0m\n",
      "\u001b[32m[I 2022-11-19 17:33:35,056]\u001b[0m Trial 35 finished with value: 0.11980781779991442 and parameters: {'lgbm100__max_depth': 9, 'lgbm100__n_estimators': 960}. Best is trial 2 with value: 0.12300031901326246.\u001b[0m\n",
      "\u001b[32m[I 2022-11-19 17:35:15,765]\u001b[0m Trial 36 finished with value: 0.11939587909440195 and parameters: {'lgbm100__max_depth': 11, 'lgbm100__n_estimators': 2710}. Best is trial 2 with value: 0.12300031901326246.\u001b[0m\n",
      "\u001b[32m[I 2022-11-19 17:36:16,751]\u001b[0m Trial 37 finished with value: 0.11931654398580924 and parameters: {'lgbm100__max_depth': 13, 'lgbm100__n_estimators': 500}. Best is trial 2 with value: 0.12300031901326246.\u001b[0m\n"
     ]
    },
    {
     "name": "stderr",
     "output_type": "stream",
     "text": [
      "\u001b[32m[I 2022-11-19 17:37:46,283]\u001b[0m Trial 38 finished with value: 0.11918862142198652 and parameters: {'lgbm100__max_depth': 16, 'lgbm100__n_estimators': 1970}. Best is trial 2 with value: 0.12300031901326246.\u001b[0m\n",
      "\u001b[32m[I 2022-11-19 17:39:10,147]\u001b[0m Trial 39 finished with value: 0.1191564988365496 and parameters: {'lgbm100__max_depth': 11, 'lgbm100__n_estimators': 1750}. Best is trial 2 with value: 0.12300031901326246.\u001b[0m\n",
      "\u001b[32m[I 2022-11-19 17:40:27,910]\u001b[0m Trial 40 finished with value: 0.11945085099499649 and parameters: {'lgbm100__max_depth': 9, 'lgbm100__n_estimators': 1500}. Best is trial 2 with value: 0.12300031901326246.\u001b[0m\n",
      "\u001b[32m[I 2022-11-19 17:41:40,321]\u001b[0m Trial 41 finished with value: 0.11949673036714714 and parameters: {'lgbm100__max_depth': 16, 'lgbm100__n_estimators': 1160}. Best is trial 2 with value: 0.12300031901326246.\u001b[0m\n",
      "\u001b[32m[I 2022-11-19 17:42:46,724]\u001b[0m Trial 42 finished with value: 0.11977023490786383 and parameters: {'lgbm100__max_depth': 18, 'lgbm100__n_estimators': 870}. Best is trial 2 with value: 0.12300031901326246.\u001b[0m\n",
      "\u001b[32m[I 2022-11-19 17:43:59,651]\u001b[0m Trial 43 finished with value: 0.11993766955564376 and parameters: {'lgbm100__max_depth': 15, 'lgbm100__n_estimators': 1170}. Best is trial 2 with value: 0.12300031901326246.\u001b[0m\n",
      "\u001b[32m[I 2022-11-19 17:45:01,061]\u001b[0m Trial 44 finished with value: 0.11998072504638481 and parameters: {'lgbm100__max_depth': 17, 'lgbm100__n_estimators': 550}. Best is trial 2 with value: 0.12300031901326246.\u001b[0m\n",
      "\u001b[32m[I 2022-11-19 17:46:11,151]\u001b[0m Trial 45 finished with value: 0.12004313779594167 and parameters: {'lgbm100__max_depth': 14, 'lgbm100__n_estimators': 1000}. Best is trial 2 with value: 0.12300031901326246.\u001b[0m\n",
      "\u001b[32m[I 2022-11-19 17:47:26,601]\u001b[0m Trial 46 finished with value: 0.12007170212130354 and parameters: {'lgbm100__max_depth': 13, 'lgbm100__n_estimators': 1280}. Best is trial 2 with value: 0.12300031901326246.\u001b[0m\n",
      "\u001b[32m[I 2022-11-19 17:48:56,357]\u001b[0m Trial 47 finished with value: 0.12008880765178039 and parameters: {'lgbm100__max_depth': 15, 'lgbm100__n_estimators': 1760}. Best is trial 2 with value: 0.12300031901326246.\u001b[0m\n",
      "\u001b[32m[I 2022-11-19 17:50:08,036]\u001b[0m Trial 48 finished with value: 0.12010521728703942 and parameters: {'lgbm100__max_depth': 17, 'lgbm100__n_estimators': 1090}. Best is trial 2 with value: 0.12300031901326246.\u001b[0m\n",
      "\u001b[32m[I 2022-11-19 17:51:42,104]\u001b[0m Trial 49 finished with value: 0.11949329772822384 and parameters: {'lgbm100__max_depth': 12, 'lgbm100__n_estimators': 2430}. Best is trial 2 with value: 0.12300031901326246.\u001b[0m\n",
      "\u001b[32m[I 2022-11-19 17:52:46,192]\u001b[0m Trial 50 finished with value: 0.1201153584213967 and parameters: {'lgbm100__max_depth': 4, 'lgbm100__n_estimators': 850}. Best is trial 2 with value: 0.12300031901326246.\u001b[0m\n",
      "\u001b[32m[I 2022-11-19 17:54:01,161]\u001b[0m Trial 51 finished with value: 0.1199320555931607 and parameters: {'lgbm100__max_depth': 19, 'lgbm100__n_estimators': 1280}. Best is trial 2 with value: 0.12300031901326246.\u001b[0m\n",
      "\u001b[32m[I 2022-11-19 17:55:12,415]\u001b[0m Trial 52 finished with value: 0.1199220514644358 and parameters: {'lgbm100__max_depth': 17, 'lgbm100__n_estimators': 1040}. Best is trial 2 with value: 0.12300031901326246.\u001b[0m\n",
      "\u001b[32m[I 2022-11-19 17:56:17,523]\u001b[0m Trial 53 finished with value: 0.12009029330878368 and parameters: {'lgbm100__max_depth': 16, 'lgbm100__n_estimators': 760}. Best is trial 2 with value: 0.12300031901326246.\u001b[0m\n",
      "\u001b[32m[I 2022-11-19 17:57:49,265]\u001b[0m Trial 54 finished with value: 0.11980723104197488 and parameters: {'lgbm100__max_depth': 14, 'lgbm100__n_estimators': 2210}. Best is trial 2 with value: 0.12300031901326246.\u001b[0m\n",
      "\u001b[32m[I 2022-11-19 17:59:06,163]\u001b[0m Trial 55 finished with value: 0.11980000037632281 and parameters: {'lgbm100__max_depth': 18, 'lgbm100__n_estimators': 1370}. Best is trial 2 with value: 0.12300031901326246.\u001b[0m\n",
      "\u001b[32m[I 2022-11-19 18:00:20,110]\u001b[0m Trial 56 finished with value: 0.11982776737915506 and parameters: {'lgbm100__max_depth': 19, 'lgbm100__n_estimators': 1190}. Best is trial 2 with value: 0.12300031901326246.\u001b[0m\n",
      "\u001b[32m[I 2022-11-19 18:01:47,603]\u001b[0m Trial 57 finished with value: 0.1195741294272338 and parameters: {'lgbm100__max_depth': 21, 'lgbm100__n_estimators': 2030}. Best is trial 2 with value: 0.12300031901326246.\u001b[0m\n",
      "\u001b[32m[I 2022-11-19 18:02:49,243]\u001b[0m Trial 58 finished with value: 0.11953716965759728 and parameters: {'lgbm100__max_depth': 14, 'lgbm100__n_estimators': 630}. Best is trial 2 with value: 0.12300031901326246.\u001b[0m\n",
      "\u001b[32m[I 2022-11-19 18:03:46,095]\u001b[0m Trial 59 finished with value: 0.11943278667268521 and parameters: {'lgbm100__max_depth': 15, 'lgbm100__n_estimators': 390}. Best is trial 2 with value: 0.12300031901326246.\u001b[0m\n",
      "\u001b[32m[I 2022-11-19 18:04:52,807]\u001b[0m Trial 60 finished with value: 0.11937435716814832 and parameters: {'lgbm100__max_depth': 12, 'lgbm100__n_estimators': 940}. Best is trial 2 with value: 0.12300031901326246.\u001b[0m\n",
      "\u001b[32m[I 2022-11-19 18:06:09,710]\u001b[0m Trial 61 finished with value: 0.1192161246873128 and parameters: {'lgbm100__max_depth': 17, 'lgbm100__n_estimators': 1460}. Best is trial 2 with value: 0.12300031901326246.\u001b[0m\n",
      "\u001b[32m[I 2022-11-19 18:07:30,486]\u001b[0m Trial 62 finished with value: 0.11917925433032682 and parameters: {'lgbm100__max_depth': 16, 'lgbm100__n_estimators': 1390}. Best is trial 2 with value: 0.12300031901326246.\u001b[0m\n",
      "\u001b[32m[I 2022-11-19 18:08:56,757]\u001b[0m Trial 63 finished with value: 0.1191827468972209 and parameters: {'lgbm100__max_depth': 13, 'lgbm100__n_estimators': 1650}. Best is trial 2 with value: 0.12300031901326246.\u001b[0m\n",
      "\u001b[32m[I 2022-11-19 18:10:39,974]\u001b[0m Trial 64 finished with value: 0.11902669192327368 and parameters: {'lgbm100__max_depth': 16, 'lgbm100__n_estimators': 2580}. Best is trial 2 with value: 0.12300031901326246.\u001b[0m\n",
      "\u001b[32m[I 2022-11-19 18:11:53,053]\u001b[0m Trial 65 finished with value: 0.11929125183954044 and parameters: {'lgbm100__max_depth': 7, 'lgbm100__n_estimators': 1080}. Best is trial 2 with value: 0.12300031901326246.\u001b[0m\n",
      "\u001b[32m[I 2022-11-19 18:13:31,830]\u001b[0m Trial 66 finished with value: 0.11906384587294912 and parameters: {'lgbm100__max_depth': 20, 'lgbm100__n_estimators': 2230}. Best is trial 2 with value: 0.12300031901326246.\u001b[0m\n",
      "\u001b[32m[I 2022-11-19 18:15:21,761]\u001b[0m Trial 67 finished with value: 0.11853685387317454 and parameters: {'lgbm100__max_depth': 15, 'lgbm100__n_estimators': 2990}. Best is trial 2 with value: 0.12300031901326246.\u001b[0m\n",
      "\u001b[32m[I 2022-11-19 18:16:49,888]\u001b[0m Trial 68 finished with value: 0.11859876637222631 and parameters: {'lgbm100__max_depth': 11, 'lgbm100__n_estimators': 1840}. Best is trial 2 with value: 0.12300031901326246.\u001b[0m\n",
      "\u001b[32m[I 2022-11-19 18:18:11,690]\u001b[0m Trial 69 finished with value: 0.11855278703099216 and parameters: {'lgbm100__max_depth': 13, 'lgbm100__n_estimators': 1570}. Best is trial 2 with value: 0.12300031901326246.\u001b[0m\n",
      "\u001b[32m[I 2022-11-19 18:19:32,360]\u001b[0m Trial 70 finished with value: 0.1186395792141794 and parameters: {'lgbm100__max_depth': 18, 'lgbm100__n_estimators': 1240}. Best is trial 2 with value: 0.12300031901326246.\u001b[0m\n",
      "\u001b[32m[I 2022-11-19 18:20:51,982]\u001b[0m Trial 71 finished with value: 0.11864326810359337 and parameters: {'lgbm100__max_depth': 15, 'lgbm100__n_estimators': 1370}. Best is trial 2 with value: 0.12300031901326246.\u001b[0m\n",
      "\u001b[32m[I 2022-11-19 18:21:56,266]\u001b[0m Trial 72 finished with value: 0.11895035690238485 and parameters: {'lgbm100__max_depth': 4, 'lgbm100__n_estimators': 880}. Best is trial 2 with value: 0.12300031901326246.\u001b[0m\n",
      "\u001b[32m[I 2022-11-19 18:23:03,229]\u001b[0m Trial 73 finished with value: 0.11925549477607948 and parameters: {'lgbm100__max_depth': 3, 'lgbm100__n_estimators': 1120}. Best is trial 2 with value: 0.12300031901326246.\u001b[0m\n",
      "\u001b[32m[I 2022-11-19 18:24:20,522]\u001b[0m Trial 74 finished with value: 0.1196804822029299 and parameters: {'lgbm100__max_depth': 4, 'lgbm100__n_estimators': 1480}. Best is trial 2 with value: 0.12300031901326246.\u001b[0m\n",
      "\u001b[32m[I 2022-11-19 18:25:23,814]\u001b[0m Trial 75 finished with value: 0.12000218517543032 and parameters: {'lgbm100__max_depth': 3, 'lgbm100__n_estimators': 1020}. Best is trial 2 with value: 0.12300031901326246.\u001b[0m\n",
      "\u001b[32m[I 2022-11-19 18:26:28,108]\u001b[0m Trial 76 finished with value: 0.120342628382238 and parameters: {'lgbm100__max_depth': 5, 'lgbm100__n_estimators': 730}. Best is trial 2 with value: 0.12300031901326246.\u001b[0m\n"
     ]
    },
    {
     "name": "stderr",
     "output_type": "stream",
     "text": [
      "\u001b[32m[I 2022-11-19 18:27:36,933]\u001b[0m Trial 77 finished with value: 0.12052944959661348 and parameters: {'lgbm100__max_depth': 6, 'lgbm100__n_estimators': 680}. Best is trial 2 with value: 0.12300031901326246.\u001b[0m\n",
      "\u001b[32m[I 2022-11-19 18:28:41,980]\u001b[0m Trial 78 finished with value: 0.12072297409189743 and parameters: {'lgbm100__max_depth': 6, 'lgbm100__n_estimators': 740}. Best is trial 2 with value: 0.12300031901326246.\u001b[0m\n",
      "\u001b[32m[I 2022-11-19 18:29:46,776]\u001b[0m Trial 79 finished with value: 0.1208729958201698 and parameters: {'lgbm100__max_depth': 6, 'lgbm100__n_estimators': 750}. Best is trial 2 with value: 0.12300031901326246.\u001b[0m\n",
      "\u001b[32m[I 2022-11-19 18:30:44,975]\u001b[0m Trial 80 finished with value: 0.1209799564939275 and parameters: {'lgbm100__max_depth': 6, 'lgbm100__n_estimators': 430}. Best is trial 2 with value: 0.12300031901326246.\u001b[0m\n",
      "\u001b[32m[I 2022-11-19 18:31:42,839]\u001b[0m Trial 81 finished with value: 0.12097892645460967 and parameters: {'lgbm100__max_depth': 6, 'lgbm100__n_estimators': 390}. Best is trial 2 with value: 0.12300031901326246.\u001b[0m\n",
      "\u001b[32m[I 2022-11-19 18:32:40,230]\u001b[0m Trial 82 finished with value: 0.12092913772910123 and parameters: {'lgbm100__max_depth': 6, 'lgbm100__n_estimators': 390}. Best is trial 2 with value: 0.12300031901326246.\u001b[0m\n",
      "\u001b[32m[I 2022-11-19 18:33:38,300]\u001b[0m Trial 83 finished with value: 0.12084960958017224 and parameters: {'lgbm100__max_depth': 6, 'lgbm100__n_estimators': 400}. Best is trial 2 with value: 0.12300031901326246.\u001b[0m\n",
      "\u001b[32m[I 2022-11-19 18:34:36,022]\u001b[0m Trial 84 finished with value: 0.12098413607386627 and parameters: {'lgbm100__max_depth': 6, 'lgbm100__n_estimators': 400}. Best is trial 2 with value: 0.12300031901326246.\u001b[0m\n",
      "\u001b[32m[I 2022-11-19 18:35:33,690]\u001b[0m Trial 85 finished with value: 0.12091188167683478 and parameters: {'lgbm100__max_depth': 6, 'lgbm100__n_estimators': 400}. Best is trial 2 with value: 0.12300031901326246.\u001b[0m\n",
      "\u001b[32m[I 2022-11-19 18:36:32,767]\u001b[0m Trial 86 finished with value: 0.12078614402731695 and parameters: {'lgbm100__max_depth': 8, 'lgbm100__n_estimators': 410}. Best is trial 2 with value: 0.12300031901326246.\u001b[0m\n",
      "\u001b[32m[I 2022-11-19 18:37:34,832]\u001b[0m Trial 87 finished with value: 0.1207530748956722 and parameters: {'lgbm100__max_depth': 6, 'lgbm100__n_estimators': 430}. Best is trial 2 with value: 0.12300031901326246.\u001b[0m\n",
      "\u001b[32m[I 2022-11-19 18:38:31,642]\u001b[0m Trial 88 finished with value: 0.12058868531856194 and parameters: {'lgbm100__max_depth': 7, 'lgbm100__n_estimators': 310}. Best is trial 2 with value: 0.12300031901326246.\u001b[0m\n",
      "\u001b[32m[I 2022-11-19 18:39:31,524]\u001b[0m Trial 89 finished with value: 0.12072836926355311 and parameters: {'lgbm100__max_depth': 5, 'lgbm100__n_estimators': 550}. Best is trial 2 with value: 0.12300031901326246.\u001b[0m\n",
      "\u001b[32m[I 2022-11-19 18:40:31,485]\u001b[0m Trial 90 finished with value: 0.12067446559187502 and parameters: {'lgbm100__max_depth': 7, 'lgbm100__n_estimators': 480}. Best is trial 2 with value: 0.12300031901326246.\u001b[0m\n",
      "\u001b[32m[I 2022-11-19 18:41:29,676]\u001b[0m Trial 91 finished with value: 0.12069296202489174 and parameters: {'lgbm100__max_depth': 8, 'lgbm100__n_estimators': 390}. Best is trial 2 with value: 0.12300031901326246.\u001b[0m\n",
      "\u001b[32m[I 2022-11-19 18:42:30,127]\u001b[0m Trial 92 finished with value: 0.12059529978040857 and parameters: {'lgbm100__max_depth': 8, 'lgbm100__n_estimators': 380}. Best is trial 2 with value: 0.12300031901326246.\u001b[0m\n",
      "\u001b[32m[I 2022-11-19 18:43:30,912]\u001b[0m Trial 93 finished with value: 0.12083439056853114 and parameters: {'lgbm100__max_depth': 5, 'lgbm100__n_estimators': 590}. Best is trial 2 with value: 0.12300031901326246.\u001b[0m\n",
      "\u001b[32m[I 2022-11-19 18:44:32,633]\u001b[0m Trial 94 finished with value: 0.12098319253877968 and parameters: {'lgbm100__max_depth': 6, 'lgbm100__n_estimators': 590}. Best is trial 2 with value: 0.12300031901326246.\u001b[0m\n",
      "\u001b[32m[I 2022-11-19 18:45:32,804]\u001b[0m Trial 95 finished with value: 0.12102811933433417 and parameters: {'lgbm100__max_depth': 6, 'lgbm100__n_estimators': 460}. Best is trial 2 with value: 0.12300031901326246.\u001b[0m\n",
      "\u001b[32m[I 2022-11-19 18:46:33,036]\u001b[0m Trial 96 finished with value: 0.12104206195794802 and parameters: {'lgbm100__max_depth': 6, 'lgbm100__n_estimators': 490}. Best is trial 2 with value: 0.12300031901326246.\u001b[0m\n",
      "\u001b[32m[I 2022-11-19 18:47:32,670]\u001b[0m Trial 97 finished with value: 0.12118895191387624 and parameters: {'lgbm100__max_depth': 5, 'lgbm100__n_estimators': 500}. Best is trial 2 with value: 0.12300031901326246.\u001b[0m\n",
      "\u001b[32m[I 2022-11-19 18:48:29,218]\u001b[0m Trial 98 finished with value: 0.12113455495998417 and parameters: {'lgbm100__max_depth': 4, 'lgbm100__n_estimators': 480}. Best is trial 2 with value: 0.12300031901326246.\u001b[0m\n",
      "\u001b[32m[I 2022-11-19 18:49:25,549]\u001b[0m Trial 99 finished with value: 0.12100072485345388 and parameters: {'lgbm100__max_depth': 4, 'lgbm100__n_estimators': 480}. Best is trial 2 with value: 0.12300031901326246.\u001b[0m\n",
      "\u001b[32m[I 2022-11-19 18:50:31,200]\u001b[0m Trial 100 finished with value: 0.120880617949941 and parameters: {'lgbm100__max_depth': 4, 'lgbm100__n_estimators': 470}. Best is trial 2 with value: 0.12300031901326246.\u001b[0m\n",
      "\u001b[32m[I 2022-11-19 18:51:35,535]\u001b[0m Trial 101 finished with value: 0.12101880136917206 and parameters: {'lgbm100__max_depth': 5, 'lgbm100__n_estimators': 550}. Best is trial 2 with value: 0.12300031901326246.\u001b[0m\n",
      "\u001b[32m[I 2022-11-19 18:52:36,155]\u001b[0m Trial 102 finished with value: 0.12118423891121842 and parameters: {'lgbm100__max_depth': 5, 'lgbm100__n_estimators': 570}. Best is trial 2 with value: 0.12300031901326246.\u001b[0m\n",
      "\u001b[32m[I 2022-11-19 18:53:37,155]\u001b[0m Trial 103 finished with value: 0.12128248814973294 and parameters: {'lgbm100__max_depth': 5, 'lgbm100__n_estimators': 590}. Best is trial 2 with value: 0.12300031901326246.\u001b[0m\n",
      "\u001b[32m[I 2022-11-19 18:54:38,912]\u001b[0m Trial 104 finished with value: 0.12141755758414263 and parameters: {'lgbm100__max_depth': 5, 'lgbm100__n_estimators': 650}. Best is trial 2 with value: 0.12300031901326246.\u001b[0m\n",
      "\u001b[32m[I 2022-11-19 18:55:38,661]\u001b[0m Trial 105 finished with value: 0.12153336235787057 and parameters: {'lgbm100__max_depth': 4, 'lgbm100__n_estimators': 660}. Best is trial 2 with value: 0.12300031901326246.\u001b[0m\n",
      "\u001b[32m[I 2022-11-19 18:56:39,575]\u001b[0m Trial 106 finished with value: 0.12170859388489438 and parameters: {'lgbm100__max_depth': 5, 'lgbm100__n_estimators': 660}. Best is trial 2 with value: 0.12300031901326246.\u001b[0m\n",
      "\u001b[32m[I 2022-11-19 18:57:38,802]\u001b[0m Trial 107 finished with value: 0.12188871814123782 and parameters: {'lgbm100__max_depth': 4, 'lgbm100__n_estimators': 690}. Best is trial 2 with value: 0.12300031901326246.\u001b[0m\n",
      "\u001b[32m[I 2022-11-19 18:58:35,724]\u001b[0m Trial 108 finished with value: 0.12176843684360557 and parameters: {'lgbm100__max_depth': 3, 'lgbm100__n_estimators': 670}. Best is trial 2 with value: 0.12300031901326246.\u001b[0m\n",
      "\u001b[32m[I 2022-11-19 18:59:33,617]\u001b[0m Trial 109 finished with value: 0.12178301986524488 and parameters: {'lgbm100__max_depth': 3, 'lgbm100__n_estimators': 820}. Best is trial 2 with value: 0.12300031901326246.\u001b[0m\n",
      "\u001b[32m[I 2022-11-19 19:00:32,364]\u001b[0m Trial 110 finished with value: 0.12183218381242612 and parameters: {'lgbm100__max_depth': 3, 'lgbm100__n_estimators': 820}. Best is trial 2 with value: 0.12300031901326246.\u001b[0m\n",
      "\u001b[32m[I 2022-11-19 19:01:30,348]\u001b[0m Trial 111 finished with value: 0.12194246957319091 and parameters: {'lgbm100__max_depth': 3, 'lgbm100__n_estimators': 830}. Best is trial 2 with value: 0.12300031901326246.\u001b[0m\n",
      "\u001b[32m[I 2022-11-19 19:02:26,167]\u001b[0m Trial 112 finished with value: 0.12187385061563671 and parameters: {'lgbm100__max_depth': 3, 'lgbm100__n_estimators': 660}. Best is trial 2 with value: 0.12300031901326246.\u001b[0m\n",
      "\u001b[32m[I 2022-11-19 19:03:23,786]\u001b[0m Trial 113 finished with value: 0.12192928199904993 and parameters: {'lgbm100__max_depth': 3, 'lgbm100__n_estimators': 800}. Best is trial 2 with value: 0.12300031901326246.\u001b[0m\n",
      "\u001b[32m[I 2022-11-19 19:04:21,724]\u001b[0m Trial 114 finished with value: 0.12199196518522679 and parameters: {'lgbm100__max_depth': 3, 'lgbm100__n_estimators': 820}. Best is trial 2 with value: 0.12300031901326246.\u001b[0m\n",
      "\u001b[32m[I 2022-11-19 19:05:20,228]\u001b[0m Trial 115 finished with value: 0.12204138843856954 and parameters: {'lgbm100__max_depth': 3, 'lgbm100__n_estimators': 850}. Best is trial 2 with value: 0.12300031901326246.\u001b[0m\n"
     ]
    },
    {
     "name": "stderr",
     "output_type": "stream",
     "text": [
      "\u001b[32m[I 2022-11-19 19:06:18,576]\u001b[0m Trial 116 finished with value: 0.12203154884105603 and parameters: {'lgbm100__max_depth': 3, 'lgbm100__n_estimators': 790}. Best is trial 2 with value: 0.12300031901326246.\u001b[0m\n",
      "\u001b[32m[I 2022-11-19 19:07:18,620]\u001b[0m Trial 117 finished with value: 0.1220635864911101 and parameters: {'lgbm100__max_depth': 3, 'lgbm100__n_estimators': 830}. Best is trial 2 with value: 0.12300031901326246.\u001b[0m\n",
      "\u001b[32m[I 2022-11-19 19:08:16,665]\u001b[0m Trial 118 finished with value: 0.12213096332805064 and parameters: {'lgbm100__max_depth': 3, 'lgbm100__n_estimators': 820}. Best is trial 2 with value: 0.12300031901326246.\u001b[0m\n",
      "\u001b[32m[I 2022-11-19 19:09:14,956]\u001b[0m Trial 119 finished with value: 0.12218158786444606 and parameters: {'lgbm100__max_depth': 3, 'lgbm100__n_estimators': 800}. Best is trial 2 with value: 0.12300031901326246.\u001b[0m\n",
      "\u001b[32m[I 2022-11-19 19:10:14,201]\u001b[0m Trial 120 finished with value: 0.12230684071851368 and parameters: {'lgbm100__max_depth': 3, 'lgbm100__n_estimators': 900}. Best is trial 2 with value: 0.12300031901326246.\u001b[0m\n",
      "\u001b[32m[I 2022-11-19 19:11:13,696]\u001b[0m Trial 121 finished with value: 0.12242292001579078 and parameters: {'lgbm100__max_depth': 3, 'lgbm100__n_estimators': 900}. Best is trial 2 with value: 0.12300031901326246.\u001b[0m\n",
      "\u001b[32m[I 2022-11-19 19:12:13,119]\u001b[0m Trial 122 finished with value: 0.12247390208998696 and parameters: {'lgbm100__max_depth': 3, 'lgbm100__n_estimators': 900}. Best is trial 2 with value: 0.12300031901326246.\u001b[0m\n",
      "\u001b[32m[I 2022-11-19 19:13:12,621]\u001b[0m Trial 123 finished with value: 0.12252026022043479 and parameters: {'lgbm100__max_depth': 3, 'lgbm100__n_estimators': 900}. Best is trial 2 with value: 0.12300031901326246.\u001b[0m\n",
      "\u001b[32m[I 2022-11-19 19:14:12,245]\u001b[0m Trial 124 finished with value: 0.12254670624049023 and parameters: {'lgbm100__max_depth': 3, 'lgbm100__n_estimators': 930}. Best is trial 2 with value: 0.12300031901326246.\u001b[0m\n",
      "\u001b[32m[I 2022-11-19 19:15:12,005]\u001b[0m Trial 125 finished with value: 0.12258799891861123 and parameters: {'lgbm100__max_depth': 3, 'lgbm100__n_estimators': 910}. Best is trial 2 with value: 0.12300031901326246.\u001b[0m\n",
      "\u001b[32m[I 2022-11-19 19:16:11,883]\u001b[0m Trial 126 finished with value: 0.1226398614999163 and parameters: {'lgbm100__max_depth': 3, 'lgbm100__n_estimators': 890}. Best is trial 2 with value: 0.12300031901326246.\u001b[0m\n",
      "\u001b[32m[I 2022-11-19 19:17:15,516]\u001b[0m Trial 127 finished with value: 0.12281205033023543 and parameters: {'lgbm100__max_depth': 4, 'lgbm100__n_estimators': 930}. Best is trial 2 with value: 0.12300031901326246.\u001b[0m\n",
      "\u001b[32m[I 2022-11-19 19:18:19,588]\u001b[0m Trial 128 finished with value: 0.1230135910220861 and parameters: {'lgbm100__max_depth': 4, 'lgbm100__n_estimators': 970}. Best is trial 128 with value: 0.1230135910220861.\u001b[0m\n",
      "\u001b[32m[I 2022-11-19 19:19:22,698]\u001b[0m Trial 129 finished with value: 0.12323386273958462 and parameters: {'lgbm100__max_depth': 4, 'lgbm100__n_estimators': 920}. Best is trial 129 with value: 0.12323386273958462.\u001b[0m\n",
      "\u001b[32m[I 2022-11-19 19:20:24,612]\u001b[0m Trial 130 finished with value: 0.1233724739538774 and parameters: {'lgbm100__max_depth': 4, 'lgbm100__n_estimators': 910}. Best is trial 130 with value: 0.1233724739538774.\u001b[0m\n",
      "\u001b[32m[I 2022-11-19 19:21:27,157]\u001b[0m Trial 131 finished with value: 0.1235505949929705 and parameters: {'lgbm100__max_depth': 4, 'lgbm100__n_estimators': 930}. Best is trial 131 with value: 0.1235505949929705.\u001b[0m\n",
      "\u001b[32m[I 2022-11-19 19:22:36,341]\u001b[0m Trial 132 finished with value: 0.12374774776975617 and parameters: {'lgbm100__max_depth': 4, 'lgbm100__n_estimators': 940}. Best is trial 132 with value: 0.12374774776975617.\u001b[0m\n",
      "\u001b[32m[I 2022-11-19 19:23:39,172]\u001b[0m Trial 133 finished with value: 0.12395423966711572 and parameters: {'lgbm100__max_depth': 4, 'lgbm100__n_estimators': 920}. Best is trial 133 with value: 0.12395423966711572.\u001b[0m\n",
      "\u001b[32m[I 2022-11-19 19:24:41,754]\u001b[0m Trial 134 finished with value: 0.12412489538130529 and parameters: {'lgbm100__max_depth': 4, 'lgbm100__n_estimators': 930}. Best is trial 134 with value: 0.12412489538130529.\u001b[0m\n",
      "\u001b[32m[I 2022-11-19 19:25:46,133]\u001b[0m Trial 135 finished with value: 0.12425913569265445 and parameters: {'lgbm100__max_depth': 4, 'lgbm100__n_estimators': 1000}. Best is trial 135 with value: 0.12425913569265445.\u001b[0m\n",
      "\u001b[32m[I 2022-11-19 19:26:49,336]\u001b[0m Trial 136 finished with value: 0.12437571305765595 and parameters: {'lgbm100__max_depth': 4, 'lgbm100__n_estimators': 980}. Best is trial 136 with value: 0.12437571305765595.\u001b[0m\n",
      "\u001b[32m[I 2022-11-19 19:27:53,259]\u001b[0m Trial 137 finished with value: 0.12457556093842947 and parameters: {'lgbm100__max_depth': 4, 'lgbm100__n_estimators': 970}. Best is trial 137 with value: 0.12457556093842947.\u001b[0m\n",
      "\u001b[32m[I 2022-11-19 19:28:57,052]\u001b[0m Trial 138 finished with value: 0.12477284752751829 and parameters: {'lgbm100__max_depth': 4, 'lgbm100__n_estimators': 990}. Best is trial 138 with value: 0.12477284752751829.\u001b[0m\n",
      "\u001b[32m[I 2022-11-19 19:30:00,925]\u001b[0m Trial 139 finished with value: 0.12500680874361816 and parameters: {'lgbm100__max_depth': 4, 'lgbm100__n_estimators': 980}. Best is trial 139 with value: 0.12500680874361816.\u001b[0m\n",
      "\u001b[32m[I 2022-11-19 19:31:04,487]\u001b[0m Trial 140 finished with value: 0.12515814127332234 and parameters: {'lgbm100__max_depth': 4, 'lgbm100__n_estimators': 980}. Best is trial 140 with value: 0.12515814127332234.\u001b[0m\n",
      "\u001b[32m[I 2022-11-19 19:32:12,529]\u001b[0m Trial 141 finished with value: 0.12531928839914588 and parameters: {'lgbm100__max_depth': 4, 'lgbm100__n_estimators': 1010}. Best is trial 141 with value: 0.12531928839914588.\u001b[0m\n",
      "\u001b[32m[I 2022-11-19 19:33:26,485]\u001b[0m Trial 142 finished with value: 0.12548705876149246 and parameters: {'lgbm100__max_depth': 4, 'lgbm100__n_estimators': 1010}. Best is trial 142 with value: 0.12548705876149246.\u001b[0m\n",
      "\u001b[32m[I 2022-11-19 19:34:31,949]\u001b[0m Trial 143 finished with value: 0.12567809740875566 and parameters: {'lgbm100__max_depth': 4, 'lgbm100__n_estimators': 1000}. Best is trial 143 with value: 0.12567809740875566.\u001b[0m\n",
      "\u001b[32m[I 2022-11-19 19:35:40,794]\u001b[0m Trial 144 finished with value: 0.12584438542400567 and parameters: {'lgbm100__max_depth': 4, 'lgbm100__n_estimators': 1040}. Best is trial 144 with value: 0.12584438542400567.\u001b[0m\n",
      "\u001b[32m[I 2022-11-19 19:36:53,858]\u001b[0m Trial 145 finished with value: 0.12600578595368875 and parameters: {'lgbm100__max_depth': 4, 'lgbm100__n_estimators': 1030}. Best is trial 145 with value: 0.12600578595368875.\u001b[0m\n",
      "\u001b[32m[I 2022-11-19 19:38:11,223]\u001b[0m Trial 146 finished with value: 0.12615954696901505 and parameters: {'lgbm100__max_depth': 4, 'lgbm100__n_estimators': 1000}. Best is trial 146 with value: 0.12615954696901505.\u001b[0m\n",
      "\u001b[32m[I 2022-11-19 19:39:24,737]\u001b[0m Trial 147 finished with value: 0.1262885797475189 and parameters: {'lgbm100__max_depth': 4, 'lgbm100__n_estimators': 1040}. Best is trial 147 with value: 0.1262885797475189.\u001b[0m\n",
      "\u001b[32m[I 2022-11-19 19:40:46,157]\u001b[0m Trial 148 finished with value: 0.1264330940745342 and parameters: {'lgbm100__max_depth': 5, 'lgbm100__n_estimators': 1040}. Best is trial 148 with value: 0.1264330940745342.\u001b[0m\n",
      "\u001b[32m[I 2022-11-19 19:41:58,856]\u001b[0m Trial 149 finished with value: 0.12655311461832458 and parameters: {'lgbm100__max_depth': 5, 'lgbm100__n_estimators': 1030}. Best is trial 149 with value: 0.12655311461832458.\u001b[0m\n",
      "\u001b[32m[I 2022-11-19 19:43:16,978]\u001b[0m Trial 150 finished with value: 0.12666878921148672 and parameters: {'lgbm100__max_depth': 5, 'lgbm100__n_estimators': 1050}. Best is trial 150 with value: 0.12666878921148672.\u001b[0m\n",
      "\u001b[32m[I 2022-11-19 19:44:31,239]\u001b[0m Trial 151 finished with value: 0.12681664229268522 and parameters: {'lgbm100__max_depth': 5, 'lgbm100__n_estimators': 1060}. Best is trial 151 with value: 0.12681664229268522.\u001b[0m\n",
      "\u001b[32m[I 2022-11-19 19:45:44,226]\u001b[0m Trial 152 finished with value: 0.12699486207426197 and parameters: {'lgbm100__max_depth': 5, 'lgbm100__n_estimators': 1050}. Best is trial 152 with value: 0.12699486207426197.\u001b[0m\n",
      "\u001b[32m[I 2022-11-19 19:47:01,145]\u001b[0m Trial 153 finished with value: 0.12714983951996967 and parameters: {'lgbm100__max_depth': 5, 'lgbm100__n_estimators': 1070}. Best is trial 153 with value: 0.12714983951996967.\u001b[0m\n",
      "\u001b[32m[I 2022-11-19 19:48:18,460]\u001b[0m Trial 154 finished with value: 0.12728412262277702 and parameters: {'lgbm100__max_depth': 5, 'lgbm100__n_estimators': 1060}. Best is trial 154 with value: 0.12728412262277702.\u001b[0m\n"
     ]
    },
    {
     "name": "stderr",
     "output_type": "stream",
     "text": [
      "\u001b[32m[I 2022-11-19 19:49:41,776]\u001b[0m Trial 155 finished with value: 0.1273807679313488 and parameters: {'lgbm100__max_depth': 5, 'lgbm100__n_estimators': 1070}. Best is trial 155 with value: 0.1273807679313488.\u001b[0m\n",
      "\u001b[32m[I 2022-11-19 19:50:55,662]\u001b[0m Trial 156 finished with value: 0.12749023024019682 and parameters: {'lgbm100__max_depth': 5, 'lgbm100__n_estimators': 1090}. Best is trial 156 with value: 0.12749023024019682.\u001b[0m\n",
      "\u001b[32m[I 2022-11-19 19:52:09,135]\u001b[0m Trial 157 finished with value: 0.1275928679312711 and parameters: {'lgbm100__max_depth': 5, 'lgbm100__n_estimators': 1060}. Best is trial 157 with value: 0.1275928679312711.\u001b[0m\n",
      "\u001b[32m[I 2022-11-19 19:53:31,296]\u001b[0m Trial 158 finished with value: 0.12773728887532718 and parameters: {'lgbm100__max_depth': 5, 'lgbm100__n_estimators': 1080}. Best is trial 158 with value: 0.12773728887532718.\u001b[0m\n",
      "\u001b[32m[I 2022-11-19 19:54:50,563]\u001b[0m Trial 159 finished with value: 0.12784548769772386 and parameters: {'lgbm100__max_depth': 5, 'lgbm100__n_estimators': 1210}. Best is trial 159 with value: 0.12784548769772386.\u001b[0m\n",
      "\u001b[32m[I 2022-11-19 19:56:15,207]\u001b[0m Trial 160 finished with value: 0.1279711342740266 and parameters: {'lgbm100__max_depth': 5, 'lgbm100__n_estimators': 1190}. Best is trial 160 with value: 0.1279711342740266.\u001b[0m\n",
      "\u001b[32m[I 2022-11-19 19:57:41,262]\u001b[0m Trial 161 finished with value: 0.12813381050570744 and parameters: {'lgbm100__max_depth': 5, 'lgbm100__n_estimators': 1190}. Best is trial 161 with value: 0.12813381050570744.\u001b[0m\n",
      "\u001b[32m[I 2022-11-19 19:58:59,948]\u001b[0m Trial 162 finished with value: 0.12827451255199693 and parameters: {'lgbm100__max_depth': 5, 'lgbm100__n_estimators': 1190}. Best is trial 162 with value: 0.12827451255199693.\u001b[0m\n",
      "\u001b[32m[I 2022-11-19 20:00:21,883]\u001b[0m Trial 163 finished with value: 0.12837188676034786 and parameters: {'lgbm100__max_depth': 5, 'lgbm100__n_estimators': 1210}. Best is trial 163 with value: 0.12837188676034786.\u001b[0m\n",
      "\u001b[32m[I 2022-11-19 20:01:40,490]\u001b[0m Trial 164 finished with value: 0.12850462103867133 and parameters: {'lgbm100__max_depth': 5, 'lgbm100__n_estimators': 1220}. Best is trial 164 with value: 0.12850462103867133.\u001b[0m\n",
      "\u001b[32m[I 2022-11-19 20:02:57,975]\u001b[0m Trial 165 finished with value: 0.1285474931561744 and parameters: {'lgbm100__max_depth': 5, 'lgbm100__n_estimators': 1230}. Best is trial 165 with value: 0.1285474931561744.\u001b[0m\n",
      "\u001b[32m[I 2022-11-19 20:04:16,533]\u001b[0m Trial 166 finished with value: 0.12862028632941594 and parameters: {'lgbm100__max_depth': 5, 'lgbm100__n_estimators': 1210}. Best is trial 166 with value: 0.12862028632941594.\u001b[0m\n",
      "\u001b[32m[I 2022-11-19 20:05:35,863]\u001b[0m Trial 167 finished with value: 0.12868411880344194 and parameters: {'lgbm100__max_depth': 5, 'lgbm100__n_estimators': 1230}. Best is trial 167 with value: 0.12868411880344194.\u001b[0m\n",
      "\u001b[32m[I 2022-11-19 20:06:55,057]\u001b[0m Trial 168 finished with value: 0.12875263008248378 and parameters: {'lgbm100__max_depth': 5, 'lgbm100__n_estimators': 1220}. Best is trial 168 with value: 0.12875263008248378.\u001b[0m\n",
      "\u001b[32m[I 2022-11-19 20:08:15,089]\u001b[0m Trial 169 finished with value: 0.12886710611391589 and parameters: {'lgbm100__max_depth': 5, 'lgbm100__n_estimators': 1230}. Best is trial 169 with value: 0.12886710611391589.\u001b[0m\n",
      "\u001b[32m[I 2022-11-19 20:09:38,146]\u001b[0m Trial 170 finished with value: 0.12893915072634107 and parameters: {'lgbm100__max_depth': 5, 'lgbm100__n_estimators': 1220}. Best is trial 170 with value: 0.12893915072634107.\u001b[0m\n",
      "\u001b[32m[I 2022-11-19 20:10:55,970]\u001b[0m Trial 171 finished with value: 0.1290260249592315 and parameters: {'lgbm100__max_depth': 5, 'lgbm100__n_estimators': 1210}. Best is trial 171 with value: 0.1290260249592315.\u001b[0m\n",
      "\u001b[32m[I 2022-11-19 20:12:17,565]\u001b[0m Trial 172 finished with value: 0.12912214150512294 and parameters: {'lgbm100__max_depth': 5, 'lgbm100__n_estimators': 1230}. Best is trial 172 with value: 0.12912214150512294.\u001b[0m\n",
      "\u001b[32m[I 2022-11-19 20:13:40,311]\u001b[0m Trial 173 finished with value: 0.12924198255567645 and parameters: {'lgbm100__max_depth': 5, 'lgbm100__n_estimators': 1220}. Best is trial 173 with value: 0.12924198255567645.\u001b[0m\n",
      "\u001b[32m[I 2022-11-19 20:14:59,169]\u001b[0m Trial 174 finished with value: 0.1293078411300155 and parameters: {'lgbm100__max_depth': 6, 'lgbm100__n_estimators': 1220}. Best is trial 174 with value: 0.1293078411300155.\u001b[0m\n",
      "\u001b[32m[I 2022-11-19 20:16:17,091]\u001b[0m Trial 175 finished with value: 0.12935464056288112 and parameters: {'lgbm100__max_depth': 6, 'lgbm100__n_estimators': 1260}. Best is trial 175 with value: 0.12935464056288112.\u001b[0m\n",
      "\u001b[32m[I 2022-11-19 20:17:39,962]\u001b[0m Trial 176 finished with value: 0.1294394879666315 and parameters: {'lgbm100__max_depth': 6, 'lgbm100__n_estimators': 1230}. Best is trial 176 with value: 0.1294394879666315.\u001b[0m\n",
      "\u001b[32m[I 2022-11-19 20:18:57,474]\u001b[0m Trial 177 finished with value: 0.12942772930495297 and parameters: {'lgbm100__max_depth': 7, 'lgbm100__n_estimators': 1230}. Best is trial 176 with value: 0.1294394879666315.\u001b[0m\n",
      "\u001b[32m[I 2022-11-19 20:20:23,943]\u001b[0m Trial 178 finished with value: 0.12937245563045172 and parameters: {'lgbm100__max_depth': 7, 'lgbm100__n_estimators': 1320}. Best is trial 176 with value: 0.1294394879666315.\u001b[0m\n",
      "\u001b[32m[I 2022-11-19 20:21:44,909]\u001b[0m Trial 179 finished with value: 0.12939947698351778 and parameters: {'lgbm100__max_depth': 7, 'lgbm100__n_estimators': 1310}. Best is trial 176 with value: 0.1294394879666315.\u001b[0m\n",
      "\u001b[32m[I 2022-11-19 20:23:05,687]\u001b[0m Trial 180 finished with value: 0.1294182159536589 and parameters: {'lgbm100__max_depth': 7, 'lgbm100__n_estimators': 1320}. Best is trial 176 with value: 0.1294394879666315.\u001b[0m\n",
      "\u001b[32m[I 2022-11-19 20:24:26,036]\u001b[0m Trial 181 finished with value: 0.12940960652840997 and parameters: {'lgbm100__max_depth': 7, 'lgbm100__n_estimators': 1290}. Best is trial 176 with value: 0.1294394879666315.\u001b[0m\n",
      "\u001b[32m[I 2022-11-19 20:25:49,527]\u001b[0m Trial 182 finished with value: 0.12941471736357757 and parameters: {'lgbm100__max_depth': 7, 'lgbm100__n_estimators': 1320}. Best is trial 176 with value: 0.1294394879666315.\u001b[0m\n",
      "\u001b[32m[I 2022-11-19 20:27:10,276]\u001b[0m Trial 183 finished with value: 0.12945639282109098 and parameters: {'lgbm100__max_depth': 7, 'lgbm100__n_estimators': 1310}. Best is trial 183 with value: 0.12945639282109098.\u001b[0m\n",
      "\u001b[32m[I 2022-11-19 20:28:29,046]\u001b[0m Trial 184 finished with value: 0.1294585212386941 and parameters: {'lgbm100__max_depth': 7, 'lgbm100__n_estimators': 1320}. Best is trial 184 with value: 0.1294585212386941.\u001b[0m\n",
      "\u001b[32m[I 2022-11-19 20:29:46,178]\u001b[0m Trial 185 finished with value: 0.1294444404618963 and parameters: {'lgbm100__max_depth': 7, 'lgbm100__n_estimators': 1330}. Best is trial 184 with value: 0.1294585212386941.\u001b[0m\n",
      "\u001b[32m[I 2022-11-19 20:31:06,540]\u001b[0m Trial 186 finished with value: 0.12947263912155338 and parameters: {'lgbm100__max_depth': 7, 'lgbm100__n_estimators': 1290}. Best is trial 186 with value: 0.12947263912155338.\u001b[0m\n",
      "\u001b[32m[I 2022-11-19 20:32:23,403]\u001b[0m Trial 187 finished with value: 0.12952795418806443 and parameters: {'lgbm100__max_depth': 7, 'lgbm100__n_estimators': 1330}. Best is trial 187 with value: 0.12952795418806443.\u001b[0m\n",
      "\u001b[32m[I 2022-11-19 20:33:38,068]\u001b[0m Trial 188 finished with value: 0.12957044225576947 and parameters: {'lgbm100__max_depth': 7, 'lgbm100__n_estimators': 1320}. Best is trial 188 with value: 0.12957044225576947.\u001b[0m\n",
      "\u001b[32m[I 2022-11-19 20:34:53,369]\u001b[0m Trial 189 finished with value: 0.129595037433486 and parameters: {'lgbm100__max_depth': 7, 'lgbm100__n_estimators': 1320}. Best is trial 189 with value: 0.129595037433486.\u001b[0m\n",
      "\u001b[32m[I 2022-11-19 20:36:09,519]\u001b[0m Trial 190 finished with value: 0.12961433412356874 and parameters: {'lgbm100__max_depth': 7, 'lgbm100__n_estimators': 1320}. Best is trial 190 with value: 0.12961433412356874.\u001b[0m\n",
      "\u001b[32m[I 2022-11-19 20:37:25,118]\u001b[0m Trial 191 finished with value: 0.12965329365059075 and parameters: {'lgbm100__max_depth': 7, 'lgbm100__n_estimators': 1310}. Best is trial 191 with value: 0.12965329365059075.\u001b[0m\n",
      "\u001b[32m[I 2022-11-19 20:38:38,074]\u001b[0m Trial 192 finished with value: 0.12963869329986996 and parameters: {'lgbm100__max_depth': 7, 'lgbm100__n_estimators': 1310}. Best is trial 191 with value: 0.12965329365059075.\u001b[0m\n"
     ]
    },
    {
     "name": "stderr",
     "output_type": "stream",
     "text": [
      "\u001b[32m[I 2022-11-19 20:39:54,463]\u001b[0m Trial 193 finished with value: 0.12966491290424279 and parameters: {'lgbm100__max_depth': 7, 'lgbm100__n_estimators': 1320}. Best is trial 193 with value: 0.12966491290424279.\u001b[0m\n",
      "\u001b[32m[I 2022-11-19 20:41:09,443]\u001b[0m Trial 194 finished with value: 0.1296734649871481 and parameters: {'lgbm100__max_depth': 7, 'lgbm100__n_estimators': 1340}. Best is trial 194 with value: 0.1296734649871481.\u001b[0m\n",
      "\u001b[32m[I 2022-11-19 20:42:26,089]\u001b[0m Trial 195 finished with value: 0.12966927968273828 and parameters: {'lgbm100__max_depth': 7, 'lgbm100__n_estimators': 1300}. Best is trial 194 with value: 0.1296734649871481.\u001b[0m\n",
      "\u001b[32m[I 2022-11-19 20:43:42,025]\u001b[0m Trial 196 finished with value: 0.12961499910857113 and parameters: {'lgbm100__max_depth': 7, 'lgbm100__n_estimators': 1340}. Best is trial 194 with value: 0.1296734649871481.\u001b[0m\n",
      "\u001b[32m[I 2022-11-19 20:44:57,184]\u001b[0m Trial 197 finished with value: 0.12967378822207498 and parameters: {'lgbm100__max_depth': 7, 'lgbm100__n_estimators': 1330}. Best is trial 197 with value: 0.12967378822207498.\u001b[0m\n",
      "\u001b[32m[I 2022-11-19 20:46:14,004]\u001b[0m Trial 198 finished with value: 0.1296671436776351 and parameters: {'lgbm100__max_depth': 8, 'lgbm100__n_estimators': 1410}. Best is trial 197 with value: 0.12967378822207498.\u001b[0m\n",
      "\u001b[32m[I 2022-11-19 20:47:31,580]\u001b[0m Trial 199 finished with value: 0.12962173959369744 and parameters: {'lgbm100__max_depth': 8, 'lgbm100__n_estimators': 1430}. Best is trial 197 with value: 0.12967378822207498.\u001b[0m\n",
      "\u001b[32m[I 2022-11-19 20:48:47,787]\u001b[0m Trial 200 finished with value: 0.12962040236553812 and parameters: {'lgbm100__max_depth': 8, 'lgbm100__n_estimators': 1410}. Best is trial 197 with value: 0.12967378822207498.\u001b[0m\n",
      "\u001b[32m[I 2022-11-19 20:50:06,619]\u001b[0m Trial 201 finished with value: 0.12958876077174267 and parameters: {'lgbm100__max_depth': 8, 'lgbm100__n_estimators': 1430}. Best is trial 197 with value: 0.12967378822207498.\u001b[0m\n",
      "\u001b[32m[I 2022-11-19 20:51:24,734]\u001b[0m Trial 202 finished with value: 0.12957770257582488 and parameters: {'lgbm100__max_depth': 8, 'lgbm100__n_estimators': 1450}. Best is trial 197 with value: 0.12967378822207498.\u001b[0m\n",
      "\u001b[32m[I 2022-11-19 20:52:47,906]\u001b[0m Trial 203 finished with value: 0.1295204566359786 and parameters: {'lgbm100__max_depth': 8, 'lgbm100__n_estimators': 1440}. Best is trial 197 with value: 0.12967378822207498.\u001b[0m\n",
      "\u001b[32m[I 2022-11-19 20:54:06,047]\u001b[0m Trial 204 finished with value: 0.12947951863798032 and parameters: {'lgbm100__max_depth': 8, 'lgbm100__n_estimators': 1430}. Best is trial 197 with value: 0.12967378822207498.\u001b[0m\n",
      "\u001b[32m[I 2022-11-19 20:55:24,940]\u001b[0m Trial 205 finished with value: 0.1294592633743131 and parameters: {'lgbm100__max_depth': 8, 'lgbm100__n_estimators': 1440}. Best is trial 197 with value: 0.12967378822207498.\u001b[0m\n",
      "\u001b[32m[I 2022-11-19 20:56:43,534]\u001b[0m Trial 206 finished with value: 0.12940347013278528 and parameters: {'lgbm100__max_depth': 8, 'lgbm100__n_estimators': 1460}. Best is trial 197 with value: 0.12967378822207498.\u001b[0m\n",
      "\u001b[32m[I 2022-11-19 20:58:02,474]\u001b[0m Trial 207 finished with value: 0.12938378685283322 and parameters: {'lgbm100__max_depth': 9, 'lgbm100__n_estimators': 1430}. Best is trial 197 with value: 0.12967378822207498.\u001b[0m\n",
      "\u001b[32m[I 2022-11-19 20:59:22,359]\u001b[0m Trial 208 finished with value: 0.1293667462652922 and parameters: {'lgbm100__max_depth': 8, 'lgbm100__n_estimators': 1540}. Best is trial 197 with value: 0.12967378822207498.\u001b[0m\n",
      "\u001b[32m[I 2022-11-19 21:00:38,655]\u001b[0m Trial 209 finished with value: 0.12932249293757334 and parameters: {'lgbm100__max_depth': 8, 'lgbm100__n_estimators': 1390}. Best is trial 197 with value: 0.12967378822207498.\u001b[0m\n",
      "\u001b[32m[I 2022-11-19 21:01:58,882]\u001b[0m Trial 210 finished with value: 0.12925282062961568 and parameters: {'lgbm100__max_depth': 8, 'lgbm100__n_estimators': 1530}. Best is trial 197 with value: 0.12967378822207498.\u001b[0m\n",
      "\u001b[32m[I 2022-11-19 21:03:16,833]\u001b[0m Trial 211 finished with value: 0.12923424128025757 and parameters: {'lgbm100__max_depth': 9, 'lgbm100__n_estimators': 1400}. Best is trial 197 with value: 0.12967378822207498.\u001b[0m\n",
      "\u001b[32m[I 2022-11-19 21:04:37,975]\u001b[0m Trial 212 finished with value: 0.12919127738450517 and parameters: {'lgbm100__max_depth': 8, 'lgbm100__n_estimators': 1620}. Best is trial 197 with value: 0.12967378822207498.\u001b[0m\n",
      "\u001b[32m[I 2022-11-19 21:05:56,696]\u001b[0m Trial 213 finished with value: 0.12918970733550802 and parameters: {'lgbm100__max_depth': 8, 'lgbm100__n_estimators': 1440}. Best is trial 197 with value: 0.12967378822207498.\u001b[0m\n",
      "\u001b[32m[I 2022-11-19 21:07:13,115]\u001b[0m Trial 214 finished with value: 0.12918349402437265 and parameters: {'lgbm100__max_depth': 9, 'lgbm100__n_estimators': 1360}. Best is trial 197 with value: 0.12967378822207498.\u001b[0m\n",
      "\u001b[32m[I 2022-11-19 21:08:31,673]\u001b[0m Trial 215 finished with value: 0.1292024054979537 and parameters: {'lgbm100__max_depth': 7, 'lgbm100__n_estimators': 1490}. Best is trial 197 with value: 0.12967378822207498.\u001b[0m\n",
      "\u001b[32m[I 2022-11-19 21:09:48,800]\u001b[0m Trial 216 finished with value: 0.1292144420630781 and parameters: {'lgbm100__max_depth': 7, 'lgbm100__n_estimators': 1380}. Best is trial 197 with value: 0.12967378822207498.\u001b[0m\n",
      "\u001b[32m[I 2022-11-19 21:11:06,990]\u001b[0m Trial 217 finished with value: 0.1291846788990589 and parameters: {'lgbm100__max_depth': 8, 'lgbm100__n_estimators': 1420}. Best is trial 197 with value: 0.12967378822207498.\u001b[0m\n",
      "\u001b[32m[I 2022-11-19 21:12:23,689]\u001b[0m Trial 218 finished with value: 0.12914556588451034 and parameters: {'lgbm100__max_depth': 8, 'lgbm100__n_estimators': 1360}. Best is trial 197 with value: 0.12967378822207498.\u001b[0m\n",
      "\u001b[32m[I 2022-11-19 21:13:42,773]\u001b[0m Trial 219 finished with value: 0.12913280420882425 and parameters: {'lgbm100__max_depth': 7, 'lgbm100__n_estimators': 1490}. Best is trial 197 with value: 0.12967378822207498.\u001b[0m\n",
      "\u001b[32m[I 2022-11-19 21:15:00,973]\u001b[0m Trial 220 finished with value: 0.1291449314231748 and parameters: {'lgbm100__max_depth': 7, 'lgbm100__n_estimators': 1440}. Best is trial 197 with value: 0.12967378822207498.\u001b[0m\n",
      "\u001b[32m[I 2022-11-19 21:16:16,975]\u001b[0m Trial 221 finished with value: 0.12914586896981642 and parameters: {'lgbm100__max_depth': 7, 'lgbm100__n_estimators': 1350}. Best is trial 197 with value: 0.12967378822207498.\u001b[0m\n",
      "\u001b[32m[I 2022-11-19 21:17:32,114]\u001b[0m Trial 222 finished with value: 0.12916218489005754 and parameters: {'lgbm100__max_depth': 7, 'lgbm100__n_estimators': 1290}. Best is trial 197 with value: 0.12967378822207498.\u001b[0m\n",
      "\u001b[32m[I 2022-11-19 21:18:47,791]\u001b[0m Trial 223 finished with value: 0.1291630371597707 and parameters: {'lgbm100__max_depth': 8, 'lgbm100__n_estimators': 1350}. Best is trial 197 with value: 0.12967378822207498.\u001b[0m\n",
      "\u001b[32m[I 2022-11-19 21:20:06,117]\u001b[0m Trial 224 finished with value: 0.1291527351609809 and parameters: {'lgbm100__max_depth': 8, 'lgbm100__n_estimators': 1410}. Best is trial 197 with value: 0.12967378822207498.\u001b[0m\n",
      "\u001b[32m[I 2022-11-19 21:21:21,901]\u001b[0m Trial 225 finished with value: 0.1291558154263046 and parameters: {'lgbm100__max_depth': 7, 'lgbm100__n_estimators': 1300}. Best is trial 197 with value: 0.12967378822207498.\u001b[0m\n",
      "\u001b[32m[I 2022-11-19 21:22:47,634]\u001b[0m Trial 226 finished with value: 0.12913209084439467 and parameters: {'lgbm100__max_depth': 7, 'lgbm100__n_estimators': 1350}. Best is trial 197 with value: 0.12967378822207498.\u001b[0m\n",
      "\u001b[32m[I 2022-11-19 21:24:08,884]\u001b[0m Trial 227 finished with value: 0.12909709267115235 and parameters: {'lgbm100__max_depth': 9, 'lgbm100__n_estimators': 1560}. Best is trial 197 with value: 0.12967378822207498.\u001b[0m\n",
      "\u001b[32m[I 2022-11-19 21:25:29,849]\u001b[0m Trial 228 finished with value: 0.1291068173765147 and parameters: {'lgbm100__max_depth': 7, 'lgbm100__n_estimators': 1470}. Best is trial 197 with value: 0.12967378822207498.\u001b[0m\n",
      "\u001b[32m[I 2022-11-19 21:26:48,462]\u001b[0m Trial 229 finished with value: 0.12908811402402962 and parameters: {'lgbm100__max_depth': 10, 'lgbm100__n_estimators': 1410}. Best is trial 197 with value: 0.12967378822207498.\u001b[0m\n",
      "\u001b[32m[I 2022-11-19 21:28:04,978]\u001b[0m Trial 230 finished with value: 0.12907400984547743 and parameters: {'lgbm100__max_depth': 8, 'lgbm100__n_estimators': 1310}. Best is trial 197 with value: 0.12967378822207498.\u001b[0m\n"
     ]
    },
    {
     "name": "stderr",
     "output_type": "stream",
     "text": [
      "\u001b[32m[I 2022-11-19 21:29:21,925]\u001b[0m Trial 231 finished with value: 0.1290773478569601 and parameters: {'lgbm100__max_depth': 7, 'lgbm100__n_estimators': 1350}. Best is trial 197 with value: 0.12967378822207498.\u001b[0m\n",
      "\u001b[32m[I 2022-11-19 21:30:39,031]\u001b[0m Trial 232 finished with value: 0.12911760922645873 and parameters: {'lgbm100__max_depth': 7, 'lgbm100__n_estimators': 1290}. Best is trial 197 with value: 0.12967378822207498.\u001b[0m\n",
      "\u001b[32m[I 2022-11-19 21:31:55,168]\u001b[0m Trial 233 finished with value: 0.12911861525547133 and parameters: {'lgbm100__max_depth': 8, 'lgbm100__n_estimators': 1390}. Best is trial 197 with value: 0.12967378822207498.\u001b[0m\n",
      "\u001b[32m[I 2022-11-19 21:33:07,725]\u001b[0m Trial 234 finished with value: 0.1291362649315948 and parameters: {'lgbm100__max_depth': 8, 'lgbm100__n_estimators': 1150}. Best is trial 197 with value: 0.12967378822207498.\u001b[0m\n",
      "\u001b[32m[I 2022-11-19 21:34:23,187]\u001b[0m Trial 235 finished with value: 0.12913507490014753 and parameters: {'lgbm100__max_depth': 7, 'lgbm100__n_estimators': 1280}. Best is trial 197 with value: 0.12967378822207498.\u001b[0m\n",
      "\u001b[32m[I 2022-11-19 21:35:46,919]\u001b[0m Trial 236 finished with value: 0.12915250839090242 and parameters: {'lgbm100__max_depth': 6, 'lgbm100__n_estimators': 1500}. Best is trial 197 with value: 0.12967378822207498.\u001b[0m\n",
      "\u001b[32m[I 2022-11-19 21:37:03,909]\u001b[0m Trial 237 finished with value: 0.1291076573294361 and parameters: {'lgbm100__max_depth': 8, 'lgbm100__n_estimators': 1440}. Best is trial 197 with value: 0.12967378822207498.\u001b[0m\n",
      "\u001b[32m[I 2022-11-19 21:38:18,943]\u001b[0m Trial 238 finished with value: 0.1290960721579139 and parameters: {'lgbm100__max_depth': 7, 'lgbm100__n_estimators': 1340}. Best is trial 197 with value: 0.12967378822207498.\u001b[0m\n",
      "\u001b[32m[I 2022-11-19 21:39:34,288]\u001b[0m Trial 239 finished with value: 0.12911143392500002 and parameters: {'lgbm100__max_depth': 7, 'lgbm100__n_estimators': 1290}. Best is trial 197 with value: 0.12967378822207498.\u001b[0m\n",
      "\u001b[32m[I 2022-11-19 21:40:53,502]\u001b[0m Trial 240 finished with value: 0.12912465953814015 and parameters: {'lgbm100__max_depth': 9, 'lgbm100__n_estimators': 1590}. Best is trial 197 with value: 0.12967378822207498.\u001b[0m\n",
      "\u001b[32m[I 2022-11-19 21:42:11,026]\u001b[0m Trial 241 finished with value: 0.12912560322845615 and parameters: {'lgbm100__max_depth': 7, 'lgbm100__n_estimators': 1390}. Best is trial 197 with value: 0.12967378822207498.\u001b[0m\n",
      "\u001b[32m[I 2022-11-19 21:43:24,267]\u001b[0m Trial 242 finished with value: 0.12911622109256127 and parameters: {'lgbm100__max_depth': 7, 'lgbm100__n_estimators': 1270}. Best is trial 197 with value: 0.12967378822207498.\u001b[0m\n",
      "\u001b[32m[I 2022-11-19 21:44:39,088]\u001b[0m Trial 243 finished with value: 0.129083586629495 and parameters: {'lgbm100__max_depth': 8, 'lgbm100__n_estimators': 1350}. Best is trial 197 with value: 0.12967378822207498.\u001b[0m\n",
      "\u001b[32m[I 2022-11-19 21:45:57,703]\u001b[0m Trial 244 finished with value: 0.12905766369625374 and parameters: {'lgbm100__max_depth': 7, 'lgbm100__n_estimators': 1450}. Best is trial 197 with value: 0.12967378822207498.\u001b[0m\n",
      "\u001b[32m[I 2022-11-19 21:47:11,133]\u001b[0m Trial 245 finished with value: 0.12906087778380446 and parameters: {'lgbm100__max_depth': 6, 'lgbm100__n_estimators': 1270}. Best is trial 197 with value: 0.12967378822207498.\u001b[0m\n",
      "\u001b[32m[I 2022-11-19 21:48:21,869]\u001b[0m Trial 246 finished with value: 0.12908371359132922 and parameters: {'lgbm100__max_depth': 7, 'lgbm100__n_estimators': 1150}. Best is trial 197 with value: 0.12967378822207498.\u001b[0m\n",
      "\u001b[32m[I 2022-11-19 21:49:35,167]\u001b[0m Trial 247 finished with value: 0.12907264743187252 and parameters: {'lgbm100__max_depth': 8, 'lgbm100__n_estimators': 1330}. Best is trial 197 with value: 0.12967378822207498.\u001b[0m\n",
      "\u001b[32m[I 2022-11-19 21:50:50,154]\u001b[0m Trial 248 finished with value: 0.12910473335338657 and parameters: {'lgbm100__max_depth': 7, 'lgbm100__n_estimators': 1390}. Best is trial 197 with value: 0.12967378822207498.\u001b[0m\n",
      "\u001b[32m[I 2022-11-19 21:52:08,274]\u001b[0m Trial 249 finished with value: 0.12908958788315153 and parameters: {'lgbm100__max_depth': 8, 'lgbm100__n_estimators': 1500}. Best is trial 197 with value: 0.12967378822207498.\u001b[0m\n",
      "\u001b[32m[I 2022-11-19 21:53:27,061]\u001b[0m Trial 250 finished with value: 0.1290965376503938 and parameters: {'lgbm100__max_depth': 6, 'lgbm100__n_estimators': 1420}. Best is trial 197 with value: 0.12967378822207498.\u001b[0m\n",
      "\u001b[32m[I 2022-11-19 21:54:40,932]\u001b[0m Trial 251 finished with value: 0.12907746438903017 and parameters: {'lgbm100__max_depth': 8, 'lgbm100__n_estimators': 1270}. Best is trial 197 with value: 0.12967378822207498.\u001b[0m\n",
      "\u001b[32m[I 2022-11-19 21:55:56,654]\u001b[0m Trial 252 finished with value: 0.12909969587910278 and parameters: {'lgbm100__max_depth': 7, 'lgbm100__n_estimators': 1380}. Best is trial 197 with value: 0.12967378822207498.\u001b[0m\n",
      "\u001b[32m[I 2022-11-19 21:57:10,554]\u001b[0m Trial 253 finished with value: 0.1291045879554813 and parameters: {'lgbm100__max_depth': 7, 'lgbm100__n_estimators': 1320}. Best is trial 197 with value: 0.12967378822207498.\u001b[0m\n",
      "\u001b[32m[I 2022-11-19 21:58:28,655]\u001b[0m Trial 254 finished with value: 0.12912090650202304 and parameters: {'lgbm100__max_depth': 9, 'lgbm100__n_estimators': 1470}. Best is trial 197 with value: 0.12967378822207498.\u001b[0m\n",
      "\u001b[32m[I 2022-11-19 21:59:43,274]\u001b[0m Trial 255 finished with value: 0.12910804828453326 and parameters: {'lgbm100__max_depth': 8, 'lgbm100__n_estimators': 1330}. Best is trial 197 with value: 0.12967378822207498.\u001b[0m\n",
      "\u001b[32m[I 2022-11-19 22:00:58,080]\u001b[0m Trial 256 finished with value: 0.12914981305789727 and parameters: {'lgbm100__max_depth': 6, 'lgbm100__n_estimators': 1280}. Best is trial 197 with value: 0.12967378822207498.\u001b[0m\n",
      "\u001b[32m[I 2022-11-19 22:02:17,983]\u001b[0m Trial 257 finished with value: 0.1291713453412846 and parameters: {'lgbm100__max_depth': 7, 'lgbm100__n_estimators': 1520}. Best is trial 197 with value: 0.12967378822207498.\u001b[0m\n",
      "\u001b[32m[I 2022-11-19 22:03:32,910]\u001b[0m Trial 258 finished with value: 0.12921608913292712 and parameters: {'lgbm100__max_depth': 8, 'lgbm100__n_estimators': 1410}. Best is trial 197 with value: 0.12967378822207498.\u001b[0m\n",
      "\u001b[32m[I 2022-11-19 22:04:47,366]\u001b[0m Trial 259 finished with value: 0.12920305320622244 and parameters: {'lgbm100__max_depth': 7, 'lgbm100__n_estimators': 1370}. Best is trial 197 with value: 0.12967378822207498.\u001b[0m\n",
      "\u001b[32m[I 2022-11-19 22:06:00,711]\u001b[0m Trial 260 finished with value: 0.1292438438133803 and parameters: {'lgbm100__max_depth': 6, 'lgbm100__n_estimators': 1260}. Best is trial 197 with value: 0.12967378822207498.\u001b[0m\n",
      "\u001b[32m[I 2022-11-19 22:07:13,423]\u001b[0m Trial 261 finished with value: 0.1292346825949346 and parameters: {'lgbm100__max_depth': 9, 'lgbm100__n_estimators': 1140}. Best is trial 197 with value: 0.12967378822207498.\u001b[0m\n",
      "\u001b[32m[I 2022-11-19 22:08:32,895]\u001b[0m Trial 262 finished with value: 0.1292444935541053 and parameters: {'lgbm100__max_depth': 7, 'lgbm100__n_estimators': 1450}. Best is trial 197 with value: 0.12967378822207498.\u001b[0m\n",
      "\u001b[32m[I 2022-11-19 22:09:47,869]\u001b[0m Trial 263 finished with value: 0.12922765972668607 and parameters: {'lgbm100__max_depth': 8, 'lgbm100__n_estimators': 1330}. Best is trial 197 with value: 0.12967378822207498.\u001b[0m\n",
      "\u001b[32m[I 2022-11-19 22:11:04,134]\u001b[0m Trial 264 finished with value: 0.1292090086657924 and parameters: {'lgbm100__max_depth': 8, 'lgbm100__n_estimators': 1390}. Best is trial 197 with value: 0.12967378822207498.\u001b[0m\n",
      "\u001b[32m[I 2022-11-19 22:12:18,116]\u001b[0m Trial 265 finished with value: 0.12921512340563723 and parameters: {'lgbm100__max_depth': 7, 'lgbm100__n_estimators': 1270}. Best is trial 197 with value: 0.12967378822207498.\u001b[0m\n",
      "\u001b[32m[I 2022-11-19 22:13:32,939]\u001b[0m Trial 266 finished with value: 0.12924804007016893 and parameters: {'lgbm100__max_depth': 6, 'lgbm100__n_estimators': 1330}. Best is trial 197 with value: 0.12967378822207498.\u001b[0m\n",
      "\u001b[32m[I 2022-11-19 22:14:52,636]\u001b[0m Trial 267 finished with value: 0.12925761912975817 and parameters: {'lgbm100__max_depth': 7, 'lgbm100__n_estimators': 1650}. Best is trial 197 with value: 0.12967378822207498.\u001b[0m\n",
      "\u001b[32m[I 2022-11-19 22:16:09,939]\u001b[0m Trial 268 finished with value: 0.12928142087414238 and parameters: {'lgbm100__max_depth': 7, 'lgbm100__n_estimators': 1440}. Best is trial 197 with value: 0.12967378822207498.\u001b[0m\n"
     ]
    },
    {
     "name": "stderr",
     "output_type": "stream",
     "text": [
      "\u001b[32m[I 2022-11-19 22:17:24,980]\u001b[0m Trial 269 finished with value: 0.12925712879756368 and parameters: {'lgbm100__max_depth': 8, 'lgbm100__n_estimators': 1350}. Best is trial 197 with value: 0.12967378822207498.\u001b[0m\n",
      "\u001b[32m[I 2022-11-19 22:18:38,790]\u001b[0m Trial 270 finished with value: 0.12928075658731197 and parameters: {'lgbm100__max_depth': 7, 'lgbm100__n_estimators': 1270}. Best is trial 197 with value: 0.12967378822207498.\u001b[0m\n",
      "\u001b[32m[I 2022-11-19 22:19:53,884]\u001b[0m Trial 271 finished with value: 0.1292717939277979 and parameters: {'lgbm100__max_depth': 8, 'lgbm100__n_estimators': 1410}. Best is trial 197 with value: 0.12967378822207498.\u001b[0m\n",
      "\u001b[32m[I 2022-11-19 22:21:12,682]\u001b[0m Trial 272 finished with value: 0.12929865459434467 and parameters: {'lgbm100__max_depth': 6, 'lgbm100__n_estimators': 1560}. Best is trial 197 with value: 0.12967378822207498.\u001b[0m\n",
      "\u001b[32m[I 2022-11-19 22:22:33,652]\u001b[0m Trial 273 finished with value: 0.1293024698581387 and parameters: {'lgbm100__max_depth': 7, 'lgbm100__n_estimators': 1160}. Best is trial 197 with value: 0.12967378822207498.\u001b[0m\n",
      "\u001b[32m[I 2022-11-19 22:23:51,390]\u001b[0m Trial 274 finished with value: 0.1292823302335131 and parameters: {'lgbm100__max_depth': 9, 'lgbm100__n_estimators': 1490}. Best is trial 197 with value: 0.12967378822207498.\u001b[0m\n",
      "\u001b[32m[I 2022-11-19 22:25:06,524]\u001b[0m Trial 275 finished with value: 0.12929150983183435 and parameters: {'lgbm100__max_depth': 8, 'lgbm100__n_estimators': 1310}. Best is trial 197 with value: 0.12967378822207498.\u001b[0m\n",
      "\u001b[32m[I 2022-11-19 22:26:23,607]\u001b[0m Trial 276 finished with value: 0.12933622697214756 and parameters: {'lgbm100__max_depth': 6, 'lgbm100__n_estimators': 1380}. Best is trial 197 with value: 0.12967378822207498.\u001b[0m\n",
      "\u001b[32m[I 2022-11-19 22:27:37,908]\u001b[0m Trial 277 finished with value: 0.12933449532771452 and parameters: {'lgbm100__max_depth': 7, 'lgbm100__n_estimators': 1250}. Best is trial 197 with value: 0.12967378822207498.\u001b[0m\n",
      "\u001b[32m[I 2022-11-19 22:28:54,280]\u001b[0m Trial 278 finished with value: 0.1293163824241319 and parameters: {'lgbm100__max_depth': 7, 'lgbm100__n_estimators': 1440}. Best is trial 197 with value: 0.12967378822207498.\u001b[0m\n",
      "\u001b[32m[I 2022-11-19 22:30:07,971]\u001b[0m Trial 279 finished with value: 0.1293287844403342 and parameters: {'lgbm100__max_depth': 8, 'lgbm100__n_estimators': 1320}. Best is trial 197 with value: 0.12967378822207498.\u001b[0m\n",
      "\u001b[32m[I 2022-11-19 22:31:22,315]\u001b[0m Trial 280 finished with value: 0.1293144884106695 and parameters: {'lgbm100__max_depth': 7, 'lgbm100__n_estimators': 1370}. Best is trial 197 with value: 0.12967378822207498.\u001b[0m\n",
      "\u001b[32m[I 2022-11-19 22:32:36,574]\u001b[0m Trial 281 finished with value: 0.12929480422785808 and parameters: {'lgbm100__max_depth': 10, 'lgbm100__n_estimators': 1260}. Best is trial 197 with value: 0.12967378822207498.\u001b[0m\n",
      "\u001b[32m[I 2022-11-19 22:33:54,130]\u001b[0m Trial 282 finished with value: 0.12927157825749622 and parameters: {'lgbm100__max_depth': 8, 'lgbm100__n_estimators': 1530}. Best is trial 197 with value: 0.12967378822207498.\u001b[0m\n",
      "\u001b[32m[I 2022-11-19 22:35:09,122]\u001b[0m Trial 283 finished with value: 0.1292576408545548 and parameters: {'lgbm100__max_depth': 7, 'lgbm100__n_estimators': 1310}. Best is trial 197 with value: 0.12967378822207498.\u001b[0m\n",
      "\u001b[32m[I 2022-11-19 22:36:26,542]\u001b[0m Trial 284 finished with value: 0.12927002583006772 and parameters: {'lgbm100__max_depth': 6, 'lgbm100__n_estimators': 1460}. Best is trial 197 with value: 0.12967378822207498.\u001b[0m\n",
      "\u001b[32m[I 2022-11-19 22:37:43,762]\u001b[0m Trial 285 finished with value: 0.12926154011129634 and parameters: {'lgbm100__max_depth': 8, 'lgbm100__n_estimators': 1370}. Best is trial 197 with value: 0.12967378822207498.\u001b[0m\n",
      "\u001b[32m[I 2022-11-19 22:38:58,590]\u001b[0m Trial 286 finished with value: 0.1292548767505848 and parameters: {'lgbm100__max_depth': 7, 'lgbm100__n_estimators': 1400}. Best is trial 197 with value: 0.12967378822207498.\u001b[0m\n",
      "\u001b[32m[I 2022-11-19 22:40:12,684]\u001b[0m Trial 287 finished with value: 0.1292980006970505 and parameters: {'lgbm100__max_depth': 6, 'lgbm100__n_estimators': 1300}. Best is trial 197 with value: 0.12967378822207498.\u001b[0m\n",
      "\u001b[32m[I 2022-11-19 22:41:25,206]\u001b[0m Trial 288 finished with value: 0.12932653126084026 and parameters: {'lgbm100__max_depth': 7, 'lgbm100__n_estimators': 1150}. Best is trial 197 with value: 0.12967378822207498.\u001b[0m\n",
      "\u001b[32m[I 2022-11-19 22:42:39,820]\u001b[0m Trial 289 finished with value: 0.1293434548698458 and parameters: {'lgbm100__max_depth': 8, 'lgbm100__n_estimators': 1250}. Best is trial 197 with value: 0.12967378822207498.\u001b[0m\n",
      "\u001b[32m[I 2022-11-19 22:43:54,312]\u001b[0m Trial 290 finished with value: 0.12933485782319523 and parameters: {'lgbm100__max_depth': 8, 'lgbm100__n_estimators': 1350}. Best is trial 197 with value: 0.12967378822207498.\u001b[0m\n",
      "\u001b[32m[I 2022-11-19 22:45:15,107]\u001b[0m Trial 291 finished with value: 0.1292863658542351 and parameters: {'lgbm100__max_depth': 9, 'lgbm100__n_estimators': 1710}. Best is trial 197 with value: 0.12967378822207498.\u001b[0m\n",
      "\u001b[32m[I 2022-11-19 22:46:30,198]\u001b[0m Trial 292 finished with value: 0.12929996697641438 and parameters: {'lgbm100__max_depth': 7, 'lgbm100__n_estimators': 1420}. Best is trial 197 with value: 0.12967378822207498.\u001b[0m\n",
      "\u001b[32m[I 2022-11-19 22:47:48,053]\u001b[0m Trial 293 finished with value: 0.12934360756469152 and parameters: {'lgbm100__max_depth': 6, 'lgbm100__n_estimators': 1490}. Best is trial 197 with value: 0.12967378822207498.\u001b[0m\n",
      "\u001b[32m[I 2022-11-19 22:48:59,532]\u001b[0m Trial 294 finished with value: 0.129319374055246 and parameters: {'lgbm100__max_depth': 9, 'lgbm100__n_estimators': 1170}. Best is trial 197 with value: 0.12967378822207498.\u001b[0m\n",
      "\u001b[32m[I 2022-11-19 22:50:14,151]\u001b[0m Trial 295 finished with value: 0.12931780485588754 and parameters: {'lgbm100__max_depth': 7, 'lgbm100__n_estimators': 1310}. Best is trial 197 with value: 0.12967378822207498.\u001b[0m\n",
      "\u001b[32m[I 2022-11-19 22:51:29,081]\u001b[0m Trial 296 finished with value: 0.12931624624237734 and parameters: {'lgbm100__max_depth': 7, 'lgbm100__n_estimators': 1350}. Best is trial 197 with value: 0.12967378822207498.\u001b[0m\n",
      "\u001b[32m[I 2022-11-19 22:52:48,690]\u001b[0m Trial 297 finished with value: 0.12930794418783467 and parameters: {'lgbm100__max_depth': 8, 'lgbm100__n_estimators': 1240}. Best is trial 197 with value: 0.12967378822207498.\u001b[0m\n",
      "\u001b[32m[I 2022-11-19 22:54:04,464]\u001b[0m Trial 298 finished with value: 0.1292996981930825 and parameters: {'lgbm100__max_depth': 8, 'lgbm100__n_estimators': 1430}. Best is trial 197 with value: 0.12967378822207498.\u001b[0m\n",
      "\u001b[32m[I 2022-11-19 22:55:20,510]\u001b[0m Trial 299 finished with value: 0.12936300269383455 and parameters: {'lgbm100__max_depth': 6, 'lgbm100__n_estimators': 1370}. Best is trial 197 with value: 0.12967378822207498.\u001b[0m\n"
     ]
    }
   ],
   "source": [
    "study_lgbm100 = optuna.create_study(direction= 'maximize')\n",
    "\n",
    "study_lgbm100.optimize(objective_lgbm, n_trials= 300)"
   ]
  },
  {
   "cell_type": "code",
   "execution_count": 82,
   "id": "b20b5183",
   "metadata": {
    "ExecuteTime": {
     "end_time": "2022-11-20T01:55:20.665784Z",
     "start_time": "2022-11-20T01:55:20.611409Z"
    }
   },
   "outputs": [
    {
     "name": "stdout",
     "output_type": "stream",
     "text": [
      "Best Value: 0.13034733507671567\n",
      "Best Parameters: {'lgbm100__max_depth': 3, 'lgbm100__n_estimators': 2930}\n"
     ]
    }
   ],
   "source": [
    "print('Best Value: {}'.format(study_lgbm100.best_value))\n",
    "print('Best Parameters: {}'.format(study_lgbm100.best_params))"
   ]
  },
  {
   "cell_type": "code",
   "execution_count": 83,
   "id": "7ee512d3",
   "metadata": {
    "ExecuteTime": {
     "end_time": "2022-11-20T01:55:24.526183Z",
     "start_time": "2022-11-20T01:55:24.355520Z"
    }
   },
   "outputs": [
    {
     "data": {
      "text/plain": [
       "['study_lgbm100.pkl']"
      ]
     },
     "execution_count": 83,
     "metadata": {},
     "output_type": "execute_result"
    }
   ],
   "source": [
    "joblib.dump(study_lgbm100, \"study_lgbm100.pkl\")"
   ]
  },
  {
   "cell_type": "code",
   "execution_count": 84,
   "id": "6545a859",
   "metadata": {
    "ExecuteTime": {
     "end_time": "2022-11-20T02:03:16.917700Z",
     "start_time": "2022-11-20T02:03:16.416222Z"
    },
    "scrolled": true
   },
   "outputs": [
    {
     "name": "stderr",
     "output_type": "stream",
     "text": [
      "C:\\Users\\Madelaine\\AppData\\Local\\Temp\\ipykernel_16900\\1294449387.py:1: ExperimentalWarning:\n",
      "\n",
      "plot_optimization_history is experimental (supported from v2.2.0). The interface can change in the future.\n",
      "\n"
     ]
    },
    {
     "data": {
      "text/plain": [
       "<AxesSubplot:title={'center':'Optimization History Plot'}, xlabel='Trial', ylabel='Objective Value'>"
      ]
     },
     "execution_count": 84,
     "metadata": {},
     "output_type": "execute_result"
    },
    {
     "data": {
      "image/png": "[encoded data removed]",
      "text/plain": [
       "<Figure size 432x288 with 1 Axes>"
      ]
     },
     "metadata": {},
     "output_type": "display_data"
    }
   ],
   "source": [
    "optuna.visualization.matplotlib.plot_optimization_history(study_lgbm100)"
   ]
  },
  {
   "cell_type": "code",
   "execution_count": 85,
   "id": "f8bacedd",
   "metadata": {
    "ExecuteTime": {
     "end_time": "2022-11-20T02:03:28.983769Z",
     "start_time": "2022-11-20T02:03:23.598843Z"
    },
    "scrolled": true
   },
   "outputs": [
    {
     "data": {
      "application/vnd.plotly.v1+json": {
       "config": {
        "plotlyServerURL": "https://plot.ly"
       },
       "data": [
        {
         "cliponaxis": false,
         "hovertemplate": [
          "lgbm100__n_estimators (IntDistribution): 0.4328173734657462<extra></extra>",
          "lgbm100__max_depth (IntDistribution): 0.5671826265342539<extra></extra>"
         ],
         "marker": {
          "color": "rgb(66,146,198)"
         },
         "orientation": "h",
         "text": [
          "0.43",
          "0.57"
         ],
         "textposition": "outside",
         "type": "bar",
         "x": [
          0.4328173734657462,
          0.5671826265342539
         ],
         "y": [
          "lgbm100__n_estimators",
          "lgbm100__max_depth"
         ]
        }
       ],
       "layout": {
        "showlegend": false,
        "template": {
         "data": {
          "bar": [
           {
            "error_x": {
             "color": "#2a3f5f"
            },
            "error_y": {
             "color": "#2a3f5f"
            },
            "marker": {
             "line": {
              "color": "#E5ECF6",
              "width": 0.5
             },
             "pattern": {
              "fillmode": "overlay",
              "size": 10,
              "solidity": 0.2
             }
            },
            "type": "bar"
           }
          ],
          "barpolar": [
           {
            "marker": {
             "line": {
              "color": "#E5ECF6",
              "width": 0.5
             },
             "pattern": {
              "fillmode": "overlay",
              "size": 10,
              "solidity": 0.2
             }
            },
            "type": "barpolar"
           }
          ],
          "carpet": [
           {
            "aaxis": {
             "endlinecolor": "#2a3f5f",
             "gridcolor": "white",
             "linecolor": "white",
             "minorgridcolor": "white",
             "startlinecolor": "#2a3f5f"
            },
            "baxis": {
             "endlinecolor": "#2a3f5f",
             "gridcolor": "white",
             "linecolor": "white",
             "minorgridcolor": "white",
             "startlinecolor": "#2a3f5f"
            },
            "type": "carpet"
           }
          ],
          "choropleth": [
           {
            "colorbar": {
             "outlinewidth": 0,
             "ticks": ""
            },
            "type": "choropleth"
           }
          ],
          "contour": [
           {
            "colorbar": {
             "outlinewidth": 0,
             "ticks": ""
            },
            "colorscale": [
             [
              0,
              "#0d0887"
             ],
             [
              0.1111111111111111,
              "#46039f"
             ],
             [
              0.2222222222222222,
              "#7201a8"
             ],
             [
              0.3333333333333333,
              "#9c179e"
             ],
             [
              0.4444444444444444,
              "#bd3786"
             ],
             [
              0.5555555555555556,
              "#d8576b"
             ],
             [
              0.6666666666666666,
              "#ed7953"
             ],
             [
              0.7777777777777778,
              "#fb9f3a"
             ],
             [
              0.8888888888888888,
              "#fdca26"
             ],
             [
              1,
              "#f0f921"
             ]
            ],
            "type": "contour"
           }
          ],
          "contourcarpet": [
           {
            "colorbar": {
             "outlinewidth": 0,
             "ticks": ""
            },
            "type": "contourcarpet"
           }
          ],
          "heatmap": [
           {
            "colorbar": {
             "outlinewidth": 0,
             "ticks": ""
            },
            "colorscale": [
             [
              0,
              "#0d0887"
             ],
             [
              0.1111111111111111,
              "#46039f"
             ],
             [
              0.2222222222222222,
              "#7201a8"
             ],
             [
              0.3333333333333333,
              "#9c179e"
             ],
             [
              0.4444444444444444,
              "#bd3786"
             ],
             [
              0.5555555555555556,
              "#d8576b"
             ],
             [
              0.6666666666666666,
              "#ed7953"
             ],
             [
              0.7777777777777778,
              "#fb9f3a"
             ],
             [
              0.8888888888888888,
              "#fdca26"
             ],
             [
              1,
              "#f0f921"
             ]
            ],
            "type": "heatmap"
           }
          ],
          "heatmapgl": [
           {
            "colorbar": {
             "outlinewidth": 0,
             "ticks": ""
            },
            "colorscale": [
             [
              0,
              "#0d0887"
             ],
             [
              0.1111111111111111,
              "#46039f"
             ],
             [
              0.2222222222222222,
              "#7201a8"
             ],
             [
              0.3333333333333333,
              "#9c179e"
             ],
             [
              0.4444444444444444,
              "#bd3786"
             ],
             [
              0.5555555555555556,
              "#d8576b"
             ],
             [
              0.6666666666666666,
              "#ed7953"
             ],
             [
              0.7777777777777778,
              "#fb9f3a"
             ],
             [
              0.8888888888888888,
              "#fdca26"
             ],
             [
              1,
              "#f0f921"
             ]
            ],
            "type": "heatmapgl"
           }
          ],
          "histogram": [
           {
            "marker": {
             "pattern": {
              "fillmode": "overlay",
              "size": 10,
              "solidity": 0.2
             }
            },
            "type": "histogram"
           }
          ],
          "histogram2d": [
           {
            "colorbar": {
             "outlinewidth": 0,
             "ticks": ""
            },
            "colorscale": [
             [
              0,
              "#0d0887"
             ],
             [
              0.1111111111111111,
              "#46039f"
             ],
             [
              0.2222222222222222,
              "#7201a8"
             ],
             [
              0.3333333333333333,
              "#9c179e"
             ],
             [
              0.4444444444444444,
              "#bd3786"
             ],
             [
              0.5555555555555556,
              "#d8576b"
             ],
             [
              0.6666666666666666,
              "#ed7953"
             ],
             [
              0.7777777777777778,
              "#fb9f3a"
             ],
             [
              0.8888888888888888,
              "#fdca26"
             ],
             [
              1,
              "#f0f921"
             ]
            ],
            "type": "histogram2d"
           }
          ],
          "histogram2dcontour": [
           {
            "colorbar": {
             "outlinewidth": 0,
             "ticks": ""
            },
            "colorscale": [
             [
              0,
              "#0d0887"
             ],
             [
              0.1111111111111111,
              "#46039f"
             ],
             [
              0.2222222222222222,
              "#7201a8"
             ],
             [
              0.3333333333333333,
              "#9c179e"
             ],
             [
              0.4444444444444444,
              "#bd3786"
             ],
             [
              0.5555555555555556,
              "#d8576b"
             ],
             [
              0.6666666666666666,
              "#ed7953"
             ],
             [
              0.7777777777777778,
              "#fb9f3a"
             ],
             [
              0.8888888888888888,
              "#fdca26"
             ],
             [
              1,
              "#f0f921"
             ]
            ],
            "type": "histogram2dcontour"
           }
          ],
          "mesh3d": [
           {
            "colorbar": {
             "outlinewidth": 0,
             "ticks": ""
            },
            "type": "mesh3d"
           }
          ],
          "parcoords": [
           {
            "line": {
             "colorbar": {
              "outlinewidth": 0,
              "ticks": ""
             }
            },
            "type": "parcoords"
           }
          ],
          "pie": [
           {
            "automargin": true,
            "type": "pie"
           }
          ],
          "scatter": [
           {
            "fillpattern": {
             "fillmode": "overlay",
             "size": 10,
             "solidity": 0.2
            },
            "type": "scatter"
           }
          ],
          "scatter3d": [
           {
            "line": {
             "colorbar": {
              "outlinewidth": 0,
              "ticks": ""
             }
            },
            "marker": {
             "colorbar": {
              "outlinewidth": 0,
              "ticks": ""
             }
            },
            "type": "scatter3d"
           }
          ],
          "scattercarpet": [
           {
            "marker": {
             "colorbar": {
              "outlinewidth": 0,
              "ticks": ""
             }
            },
            "type": "scattercarpet"
           }
          ],
          "scattergeo": [
           {
            "marker": {
             "colorbar": {
              "outlinewidth": 0,
              "ticks": ""
             }
            },
            "type": "scattergeo"
           }
          ],
          "scattergl": [
           {
            "marker": {
             "colorbar": {
              "outlinewidth": 0,
              "ticks": ""
             }
            },
            "type": "scattergl"
           }
          ],
          "scattermapbox": [
           {
            "marker": {
             "colorbar": {
              "outlinewidth": 0,
              "ticks": ""
             }
            },
            "type": "scattermapbox"
           }
          ],
          "scatterpolar": [
           {
            "marker": {
             "colorbar": {
              "outlinewidth": 0,
              "ticks": ""
             }
            },
            "type": "scatterpolar"
           }
          ],
          "scatterpolargl": [
           {
            "marker": {
             "colorbar": {
              "outlinewidth": 0,
              "ticks": ""
             }
            },
            "type": "scatterpolargl"
           }
          ],
          "scatterternary": [
           {
            "marker": {
             "colorbar": {
              "outlinewidth": 0,
              "ticks": ""
             }
            },
            "type": "scatterternary"
           }
          ],
          "surface": [
           {
            "colorbar": {
             "outlinewidth": 0,
             "ticks": ""
            },
            "colorscale": [
             [
              0,
              "#0d0887"
             ],
             [
              0.1111111111111111,
              "#46039f"
             ],
             [
              0.2222222222222222,
              "#7201a8"
             ],
             [
              0.3333333333333333,
              "#9c179e"
             ],
             [
              0.4444444444444444,
              "#bd3786"
             ],
             [
              0.5555555555555556,
              "#d8576b"
             ],
             [
              0.6666666666666666,
              "#ed7953"
             ],
             [
              0.7777777777777778,
              "#fb9f3a"
             ],
             [
              0.8888888888888888,
              "#fdca26"
             ],
             [
              1,
              "#f0f921"
             ]
            ],
            "type": "surface"
           }
          ],
          "table": [
           {
            "cells": {
             "fill": {
              "color": "#EBF0F8"
             },
             "line": {
              "color": "white"
             }
            },
            "header": {
             "fill": {
              "color": "#C8D4E3"
             },
             "line": {
              "color": "white"
             }
            },
            "type": "table"
           }
          ]
         },
         "layout": {
          "annotationdefaults": {
           "arrowcolor": "#2a3f5f",
           "arrowhead": 0,
           "arrowwidth": 1
          },
          "autotypenumbers": "strict",
          "coloraxis": {
           "colorbar": {
            "outlinewidth": 0,
            "ticks": ""
           }
          },
          "colorscale": {
           "diverging": [
            [
             0,
             "#8e0152"
            ],
            [
             0.1,
             "#c51b7d"
            ],
            [
             0.2,
             "#de77ae"
            ],
            [
             0.3,
             "#f1b6da"
            ],
            [
             0.4,
             "#fde0ef"
            ],
            [
             0.5,
             "#f7f7f7"
            ],
            [
             0.6,
             "#e6f5d0"
            ],
            [
             0.7,
             "#b8e186"
            ],
            [
             0.8,
             "#7fbc41"
            ],
            [
             0.9,
             "#4d9221"
            ],
            [
             1,
             "#276419"
            ]
           ],
           "sequential": [
            [
             0,
             "#0d0887"
            ],
            [
             0.1111111111111111,
             "#46039f"
            ],
            [
             0.2222222222222222,
             "#7201a8"
            ],
            [
             0.3333333333333333,
             "#9c179e"
            ],
            [
             0.4444444444444444,
             "#bd3786"
            ],
            [
             0.5555555555555556,
             "#d8576b"
            ],
            [
             0.6666666666666666,
             "#ed7953"
            ],
            [
             0.7777777777777778,
             "#fb9f3a"
            ],
            [
             0.8888888888888888,
             "#fdca26"
            ],
            [
             1,
             "#f0f921"
            ]
           ],
           "sequentialminus": [
            [
             0,
             "#0d0887"
            ],
            [
             0.1111111111111111,
             "#46039f"
            ],
            [
             0.2222222222222222,
             "#7201a8"
            ],
            [
             0.3333333333333333,
             "#9c179e"
            ],
            [
             0.4444444444444444,
             "#bd3786"
            ],
            [
             0.5555555555555556,
             "#d8576b"
            ],
            [
             0.6666666666666666,
             "#ed7953"
            ],
            [
             0.7777777777777778,
             "#fb9f3a"
            ],
            [
             0.8888888888888888,
             "#fdca26"
            ],
            [
             1,
             "#f0f921"
            ]
           ]
          },
          "colorway": [
           "#636efa",
           "#EF553B",
           "#00cc96",
           "#ab63fa",
           "#FFA15A",
           "#19d3f3",
           "#FF6692",
           "#B6E880",
           "#FF97FF",
           "#FECB52"
          ],
          "font": {
           "color": "#2a3f5f"
          },
          "geo": {
           "bgcolor": "white",
           "lakecolor": "white",
           "landcolor": "#E5ECF6",
           "showlakes": true,
           "showland": true,
           "subunitcolor": "white"
          },
          "hoverlabel": {
           "align": "left"
          },
          "hovermode": "closest",
          "mapbox": {
           "style": "light"
          },
          "paper_bgcolor": "white",
          "plot_bgcolor": "#E5ECF6",
          "polar": {
           "angularaxis": {
            "gridcolor": "white",
            "linecolor": "white",
            "ticks": ""
           },
           "bgcolor": "#E5ECF6",
           "radialaxis": {
            "gridcolor": "white",
            "linecolor": "white",
            "ticks": ""
           }
          },
          "scene": {
           "xaxis": {
            "backgroundcolor": "#E5ECF6",
            "gridcolor": "white",
            "gridwidth": 2,
            "linecolor": "white",
            "showbackground": true,
            "ticks": "",
            "zerolinecolor": "white"
           },
           "yaxis": {
            "backgroundcolor": "#E5ECF6",
            "gridcolor": "white",
            "gridwidth": 2,
            "linecolor": "white",
            "showbackground": true,
            "ticks": "",
            "zerolinecolor": "white"
           },
           "zaxis": {
            "backgroundcolor": "#E5ECF6",
            "gridcolor": "white",
            "gridwidth": 2,
            "linecolor": "white",
            "showbackground": true,
            "ticks": "",
            "zerolinecolor": "white"
           }
          },
          "shapedefaults": {
           "line": {
            "color": "#2a3f5f"
           }
          },
          "ternary": {
           "aaxis": {
            "gridcolor": "white",
            "linecolor": "white",
            "ticks": ""
           },
           "baxis": {
            "gridcolor": "white",
            "linecolor": "white",
            "ticks": ""
           },
           "bgcolor": "#E5ECF6",
           "caxis": {
            "gridcolor": "white",
            "linecolor": "white",
            "ticks": ""
           }
          },
          "title": {
           "x": 0.05
          },
          "xaxis": {
           "automargin": true,
           "gridcolor": "white",
           "linecolor": "white",
           "ticks": "",
           "title": {
            "standoff": 15
           },
           "zerolinecolor": "white",
           "zerolinewidth": 2
          },
          "yaxis": {
           "automargin": true,
           "gridcolor": "white",
           "linecolor": "white",
           "ticks": "",
           "title": {
            "standoff": 15
           },
           "zerolinecolor": "white",
           "zerolinewidth": 2
          }
         }
        },
        "title": {
         "text": "Hyperparameter Importances"
        },
        "xaxis": {
         "title": {
          "text": "Importance for Objective Value"
         }
        },
        "yaxis": {
         "title": {
          "text": "Hyperparameter"
         }
        }
       }
      },
      "text/html": [
       "<div>                            <div id=\"ba31f00d-4098-4f9b-a0cb-d6fe0840c832\" class=\"plotly-graph-div\" style=\"height:525px; width:100%;\"></div>            <script type=\"text/javascript\">                require([\"plotly\"], function(Plotly) {                    window.PLOTLYENV=window.PLOTLYENV || {};                                    if (document.getElementById(\"ba31f00d-4098-4f9b-a0cb-d6fe0840c832\")) {                    Plotly.newPlot(                        \"ba31f00d-4098-4f9b-a0cb-d6fe0840c832\",                        [{\"cliponaxis\":false,\"hovertemplate\":[\"lgbm100__n_estimators (IntDistribution): 0.4328173734657462<extra></extra>\",\"lgbm100__max_depth (IntDistribution): 0.5671826265342539<extra></extra>\"],\"marker\":{\"color\":\"rgb(66,146,198)\"},\"orientation\":\"h\",\"text\":[\"0.43\",\"0.57\"],\"textposition\":\"outside\",\"x\":[0.4328173734657462,0.5671826265342539],\"y\":[\"lgbm100__n_estimators\",\"lgbm100__max_depth\"],\"type\":\"bar\"}],                        {\"showlegend\":false,\"title\":{\"text\":\"Hyperparameter Importances\"},\"xaxis\":{\"title\":{\"text\":\"Importance for Objective Value\"}},\"yaxis\":{\"title\":{\"text\":\"Hyperparameter\"}},\"template\":{\"data\":{\"histogram2dcontour\":[{\"type\":\"histogram2dcontour\",\"colorbar\":{\"outlinewidth\":0,\"ticks\":\"\"},\"colorscale\":[[0.0,\"#0d0887\"],[0.1111111111111111,\"#46039f\"],[0.2222222222222222,\"#7201a8\"],[0.3333333333333333,\"#9c179e\"],[0.4444444444444444,\"#bd3786\"],[0.5555555555555556,\"#d8576b\"],[0.6666666666666666,\"#ed7953\"],[0.7777777777777778,\"#fb9f3a\"],[0.8888888888888888,\"#fdca26\"],[1.0,\"#f0f921\"]]}],\"choropleth\":[{\"type\":\"choropleth\",\"colorbar\":{\"outlinewidth\":0,\"ticks\":\"\"}}],\"histogram2d\":[{\"type\":\"histogram2d\",\"colorbar\":{\"outlinewidth\":0,\"ticks\":\"\"},\"colorscale\":[[0.0,\"#0d0887\"],[0.1111111111111111,\"#46039f\"],[0.2222222222222222,\"#7201a8\"],[0.3333333333333333,\"#9c179e\"],[0.4444444444444444,\"#bd3786\"],[0.5555555555555556,\"#d8576b\"],[0.6666666666666666,\"#ed7953\"],[0.7777777777777778,\"#fb9f3a\"],[0.8888888888888888,\"#fdca26\"],[1.0,\"#f0f921\"]]}],\"heatmap\":[{\"type\":\"heatmap\",\"colorbar\":{\"outlinewidth\":0,\"ticks\":\"\"},\"colorscale\":[[0.0,\"#0d0887\"],[0.1111111111111111,\"#46039f\"],[0.2222222222222222,\"#7201a8\"],[0.3333333333333333,\"#9c179e\"],[0.4444444444444444,\"#bd3786\"],[0.5555555555555556,\"#d8576b\"],[0.6666666666666666,\"#ed7953\"],[0.7777777777777778,\"#fb9f3a\"],[0.8888888888888888,\"#fdca26\"],[1.0,\"#f0f921\"]]}],\"heatmapgl\":[{\"type\":\"heatmapgl\",\"colorbar\":{\"outlinewidth\":0,\"ticks\":\"\"},\"colorscale\":[[0.0,\"#0d0887\"],[0.1111111111111111,\"#46039f\"],[0.2222222222222222,\"#7201a8\"],[0.3333333333333333,\"#9c179e\"],[0.4444444444444444,\"#bd3786\"],[0.5555555555555556,\"#d8576b\"],[0.6666666666666666,\"#ed7953\"],[0.7777777777777778,\"#fb9f3a\"],[0.8888888888888888,\"#fdca26\"],[1.0,\"#f0f921\"]]}],\"contourcarpet\":[{\"type\":\"contourcarpet\",\"colorbar\":{\"outlinewidth\":0,\"ticks\":\"\"}}],\"contour\":[{\"type\":\"contour\",\"colorbar\":{\"outlinewidth\":0,\"ticks\":\"\"},\"colorscale\":[[0.0,\"#0d0887\"],[0.1111111111111111,\"#46039f\"],[0.2222222222222222,\"#7201a8\"],[0.3333333333333333,\"#9c179e\"],[0.4444444444444444,\"#bd3786\"],[0.5555555555555556,\"#d8576b\"],[0.6666666666666666,\"#ed7953\"],[0.7777777777777778,\"#fb9f3a\"],[0.8888888888888888,\"#fdca26\"],[1.0,\"#f0f921\"]]}],\"surface\":[{\"type\":\"surface\",\"colorbar\":{\"outlinewidth\":0,\"ticks\":\"\"},\"colorscale\":[[0.0,\"#0d0887\"],[0.1111111111111111,\"#46039f\"],[0.2222222222222222,\"#7201a8\"],[0.3333333333333333,\"#9c179e\"],[0.4444444444444444,\"#bd3786\"],[0.5555555555555556,\"#d8576b\"],[0.6666666666666666,\"#ed7953\"],[0.7777777777777778,\"#fb9f3a\"],[0.8888888888888888,\"#fdca26\"],[1.0,\"#f0f921\"]]}],\"mesh3d\":[{\"type\":\"mesh3d\",\"colorbar\":{\"outlinewidth\":0,\"ticks\":\"\"}}],\"scatter\":[{\"fillpattern\":{\"fillmode\":\"overlay\",\"size\":10,\"solidity\":0.2},\"type\":\"scatter\"}],\"parcoords\":[{\"type\":\"parcoords\",\"line\":{\"colorbar\":{\"outlinewidth\":0,\"ticks\":\"\"}}}],\"scatterpolargl\":[{\"type\":\"scatterpolargl\",\"marker\":{\"colorbar\":{\"outlinewidth\":0,\"ticks\":\"\"}}}],\"bar\":[{\"error_x\":{\"color\":\"#2a3f5f\"},\"error_y\":{\"color\":\"#2a3f5f\"},\"marker\":{\"line\":{\"color\":\"#E5ECF6\",\"width\":0.5},\"pattern\":{\"fillmode\":\"overlay\",\"size\":10,\"solidity\":0.2}},\"type\":\"bar\"}],\"scattergeo\":[{\"type\":\"scattergeo\",\"marker\":{\"colorbar\":{\"outlinewidth\":0,\"ticks\":\"\"}}}],\"scatterpolar\":[{\"type\":\"scatterpolar\",\"marker\":{\"colorbar\":{\"outlinewidth\":0,\"ticks\":\"\"}}}],\"histogram\":[{\"marker\":{\"pattern\":{\"fillmode\":\"overlay\",\"size\":10,\"solidity\":0.2}},\"type\":\"histogram\"}],\"scattergl\":[{\"type\":\"scattergl\",\"marker\":{\"colorbar\":{\"outlinewidth\":0,\"ticks\":\"\"}}}],\"scatter3d\":[{\"type\":\"scatter3d\",\"line\":{\"colorbar\":{\"outlinewidth\":0,\"ticks\":\"\"}},\"marker\":{\"colorbar\":{\"outlinewidth\":0,\"ticks\":\"\"}}}],\"scattermapbox\":[{\"type\":\"scattermapbox\",\"marker\":{\"colorbar\":{\"outlinewidth\":0,\"ticks\":\"\"}}}],\"scatterternary\":[{\"type\":\"scatterternary\",\"marker\":{\"colorbar\":{\"outlinewidth\":0,\"ticks\":\"\"}}}],\"scattercarpet\":[{\"type\":\"scattercarpet\",\"marker\":{\"colorbar\":{\"outlinewidth\":0,\"ticks\":\"\"}}}],\"carpet\":[{\"aaxis\":{\"endlinecolor\":\"#2a3f5f\",\"gridcolor\":\"white\",\"linecolor\":\"white\",\"minorgridcolor\":\"white\",\"startlinecolor\":\"#2a3f5f\"},\"baxis\":{\"endlinecolor\":\"#2a3f5f\",\"gridcolor\":\"white\",\"linecolor\":\"white\",\"minorgridcolor\":\"white\",\"startlinecolor\":\"#2a3f5f\"},\"type\":\"carpet\"}],\"table\":[{\"cells\":{\"fill\":{\"color\":\"#EBF0F8\"},\"line\":{\"color\":\"white\"}},\"header\":{\"fill\":{\"color\":\"#C8D4E3\"},\"line\":{\"color\":\"white\"}},\"type\":\"table\"}],\"barpolar\":[{\"marker\":{\"line\":{\"color\":\"#E5ECF6\",\"width\":0.5},\"pattern\":{\"fillmode\":\"overlay\",\"size\":10,\"solidity\":0.2}},\"type\":\"barpolar\"}],\"pie\":[{\"automargin\":true,\"type\":\"pie\"}]},\"layout\":{\"autotypenumbers\":\"strict\",\"colorway\":[\"#636efa\",\"#EF553B\",\"#00cc96\",\"#ab63fa\",\"#FFA15A\",\"#19d3f3\",\"#FF6692\",\"#B6E880\",\"#FF97FF\",\"#FECB52\"],\"font\":{\"color\":\"#2a3f5f\"},\"hovermode\":\"closest\",\"hoverlabel\":{\"align\":\"left\"},\"paper_bgcolor\":\"white\",\"plot_bgcolor\":\"#E5ECF6\",\"polar\":{\"bgcolor\":\"#E5ECF6\",\"angularaxis\":{\"gridcolor\":\"white\",\"linecolor\":\"white\",\"ticks\":\"\"},\"radialaxis\":{\"gridcolor\":\"white\",\"linecolor\":\"white\",\"ticks\":\"\"}},\"ternary\":{\"bgcolor\":\"#E5ECF6\",\"aaxis\":{\"gridcolor\":\"white\",\"linecolor\":\"white\",\"ticks\":\"\"},\"baxis\":{\"gridcolor\":\"white\",\"linecolor\":\"white\",\"ticks\":\"\"},\"caxis\":{\"gridcolor\":\"white\",\"linecolor\":\"white\",\"ticks\":\"\"}},\"coloraxis\":{\"colorbar\":{\"outlinewidth\":0,\"ticks\":\"\"}},\"colorscale\":{\"sequential\":[[0.0,\"#0d0887\"],[0.1111111111111111,\"#46039f\"],[0.2222222222222222,\"#7201a8\"],[0.3333333333333333,\"#9c179e\"],[0.4444444444444444,\"#bd3786\"],[0.5555555555555556,\"#d8576b\"],[0.6666666666666666,\"#ed7953\"],[0.7777777777777778,\"#fb9f3a\"],[0.8888888888888888,\"#fdca26\"],[1.0,\"#f0f921\"]],\"sequentialminus\":[[0.0,\"#0d0887\"],[0.1111111111111111,\"#46039f\"],[0.2222222222222222,\"#7201a8\"],[0.3333333333333333,\"#9c179e\"],[0.4444444444444444,\"#bd3786\"],[0.5555555555555556,\"#d8576b\"],[0.6666666666666666,\"#ed7953\"],[0.7777777777777778,\"#fb9f3a\"],[0.8888888888888888,\"#fdca26\"],[1.0,\"#f0f921\"]],\"diverging\":[[0,\"#8e0152\"],[0.1,\"#c51b7d\"],[0.2,\"#de77ae\"],[0.3,\"#f1b6da\"],[0.4,\"#fde0ef\"],[0.5,\"#f7f7f7\"],[0.6,\"#e6f5d0\"],[0.7,\"#b8e186\"],[0.8,\"#7fbc41\"],[0.9,\"#4d9221\"],[1,\"#276419\"]]},\"xaxis\":{\"gridcolor\":\"white\",\"linecolor\":\"white\",\"ticks\":\"\",\"title\":{\"standoff\":15},\"zerolinecolor\":\"white\",\"automargin\":true,\"zerolinewidth\":2},\"yaxis\":{\"gridcolor\":\"white\",\"linecolor\":\"white\",\"ticks\":\"\",\"title\":{\"standoff\":15},\"zerolinecolor\":\"white\",\"automargin\":true,\"zerolinewidth\":2},\"scene\":{\"xaxis\":{\"backgroundcolor\":\"#E5ECF6\",\"gridcolor\":\"white\",\"linecolor\":\"white\",\"showbackground\":true,\"ticks\":\"\",\"zerolinecolor\":\"white\",\"gridwidth\":2},\"yaxis\":{\"backgroundcolor\":\"#E5ECF6\",\"gridcolor\":\"white\",\"linecolor\":\"white\",\"showbackground\":true,\"ticks\":\"\",\"zerolinecolor\":\"white\",\"gridwidth\":2},\"zaxis\":{\"backgroundcolor\":\"#E5ECF6\",\"gridcolor\":\"white\",\"linecolor\":\"white\",\"showbackground\":true,\"ticks\":\"\",\"zerolinecolor\":\"white\",\"gridwidth\":2}},\"shapedefaults\":{\"line\":{\"color\":\"#2a3f5f\"}},\"annotationdefaults\":{\"arrowcolor\":\"#2a3f5f\",\"arrowhead\":0,\"arrowwidth\":1},\"geo\":{\"bgcolor\":\"white\",\"landcolor\":\"#E5ECF6\",\"subunitcolor\":\"white\",\"showland\":true,\"showlakes\":true,\"lakecolor\":\"white\"},\"title\":{\"x\":0.05},\"mapbox\":{\"style\":\"light\"}}}},                        {\"responsive\": true}                    ).then(function(){\n",
       "                            \n",
       "var gd = document.getElementById('ba31f00d-4098-4f9b-a0cb-d6fe0840c832');\n",
       "var x = new MutationObserver(function (mutations, observer) {{\n",
       "        var display = window.getComputedStyle(gd).display;\n",
       "        if (!display || display === 'none') {{\n",
       "            console.log([gd, 'removed!']);\n",
       "            Plotly.purge(gd);\n",
       "            observer.disconnect();\n",
       "        }}\n",
       "}});\n",
       "\n",
       "// Listen for the removal of the full notebook cells\n",
       "var notebookContainer = gd.closest('#notebook-container');\n",
       "if (notebookContainer) {{\n",
       "    x.observe(notebookContainer, {childList: true});\n",
       "}}\n",
       "\n",
       "// Listen for the clearing of the current output cell\n",
       "var outputEl = gd.closest('.output');\n",
       "if (outputEl) {{\n",
       "    x.observe(outputEl, {childList: true});\n",
       "}}\n",
       "\n",
       "                        })                };                });            </script>        </div>"
      ]
     },
     "metadata": {},
     "output_type": "display_data"
    }
   ],
   "source": [
    "optuna.visualization.plot_param_importances(study_lgbm100)"
   ]
  },
  {
   "cell_type": "code",
   "execution_count": 78,
   "id": "96db08f3",
   "metadata": {
    "ExecuteTime": {
     "end_time": "2022-11-19T19:06:18.948373Z",
     "start_time": "2022-11-19T19:06:18.625354Z"
    }
   },
   "outputs": [
    {
     "data": {
      "application/vnd.plotly.v1+json": {
       "config": {
        "plotlyServerURL": "https://plot.ly"
       },
       "data": [
        {
         "marker": {
          "color": [
           0,
           1,
           2,
           3,
           4,
           5,
           6,
           7,
           8,
           9,
           10,
           11,
           12,
           13,
           14,
           15,
           16,
           17,
           18,
           19,
           20,
           21,
           22,
           23,
           24,
           25,
           26,
           27,
           28,
           29,
           30,
           31,
           32,
           33,
           34,
           35,
           36,
           37,
           38,
           39,
           40,
           41,
           42,
           43,
           44,
           45,
           46,
           47,
           48,
           49,
           50,
           51,
           52,
           53,
           54,
           55,
           56,
           57,
           58,
           59,
           60,
           61,
           62,
           63,
           64,
           65,
           66,
           67,
           68,
           69,
           70,
           71,
           72,
           73,
           74,
           75,
           76,
           77,
           78,
           79,
           80,
           81,
           82,
           83,
           84,
           85,
           86,
           87,
           88,
           89,
           90,
           91,
           92,
           93,
           94,
           95,
           96,
           97,
           98,
           99
          ],
          "colorbar": {
           "title": {
            "text": "Trial"
           },
           "x": 1,
           "xpad": 40
          },
          "colorscale": [
           [
            0,
            "rgb(247,251,255)"
           ],
           [
            0.125,
            "rgb(222,235,247)"
           ],
           [
            0.25,
            "rgb(198,219,239)"
           ],
           [
            0.375,
            "rgb(158,202,225)"
           ],
           [
            0.5,
            "rgb(107,174,214)"
           ],
           [
            0.625,
            "rgb(66,146,198)"
           ],
           [
            0.75,
            "rgb(33,113,181)"
           ],
           [
            0.875,
            "rgb(8,81,156)"
           ],
           [
            1,
            "rgb(8,48,107)"
           ]
          ],
          "line": {
           "color": "Grey",
           "width": 0.5
          },
          "showscale": true
         },
         "mode": "markers",
         "showlegend": false,
         "type": "scatter",
         "x": [
          20,
          19,
          4,
          17,
          18,
          11,
          5,
          21,
          6,
          10,
          7,
          3,
          3,
          3,
          14,
          15,
          14,
          9,
          13,
          16,
          8,
          12,
          3,
          5,
          7,
          10,
          13,
          5,
          3,
          15,
          8,
          15,
          19,
          17,
          13,
          15,
          4,
          17,
          11,
          18,
          4,
          3,
          4,
          6,
          3,
          5,
          14,
          16,
          6,
          12,
          14,
          4,
          5,
          6,
          3,
          4,
          3,
          7,
          21,
          16,
          5,
          4,
          8,
          6,
          9,
          3,
          5,
          14,
          12,
          4,
          13,
          15,
          14,
          11,
          15,
          3,
          13,
          16,
          7,
          18,
          5,
          4,
          4,
          3,
          4,
          6,
          6,
          6,
          5,
          5,
          5,
          5,
          5,
          5,
          3,
          3,
          3,
          3,
          3,
          3
         ],
         "xaxis": "x",
         "y": [
          0.11890547263681595,
          0.11251483295090235,
          0.12251862603227934,
          0.1208346683072816,
          0.1214378029434375,
          0.12192298205861493,
          0.125135541090327,
          0.12420873176914156,
          0.12460929930957641,
          0.12338955231907077,
          0.12220279910672664,
          0.12534155325418828,
          0.12826539928467603,
          0.13034733507671567,
          0.12860065892358946,
          0.1256368360138695,
          0.12448736299534001,
          0.1237547851068432,
          0.1220123722512576,
          0.12164786008652172,
          0.12079695692867619,
          0.11948648376045441,
          0.12103581465227069,
          0.1215248049187025,
          0.12112611662520253,
          0.12037260489434014,
          0.11988839358264883,
          0.12104087277842727,
          0.12231988817685183,
          0.12184903893720342,
          0.1208345858043209,
          0.11996969922931233,
          0.11943345213193066,
          0.11857783293570746,
          0.11832217872036212,
          0.11852561623712156,
          0.1194644734995948,
          0.11874708173462951,
          0.1183288786238687,
          0.11812515816724409,
          0.11903313953803149,
          0.1197695468002182,
          0.12061702673058616,
          0.12086117935105976,
          0.12168668870432012,
          0.12220136543290042,
          0.12195037449106068,
          0.1217216709166579,
          0.12201240903352416,
          0.12169164728776243,
          0.12164635263272013,
          0.12223292848887048,
          0.12249314123704437,
          0.1225548564109016,
          0.12320813579160889,
          0.12369606076749838,
          0.12387513680820995,
          0.1236399185259771,
          0.12342245735979436,
          0.12298010273806453,
          0.12329555622969328,
          0.12377346192796305,
          0.12389757681203639,
          0.12396606779388859,
          0.12346996448361112,
          0.12395810738204929,
          0.12412051310040068,
          0.12413884302318569,
          0.12397668743957552,
          0.12439242922988601,
          0.12418429238275823,
          0.12389479235420015,
          0.12349767060384637,
          0.12322677580091912,
          0.12285946110411838,
          0.12337748096021858,
          0.12305715236291417,
          0.12298976787033235,
          0.12314435863380595,
          0.1229976093721757,
          0.12334168227097032,
          0.12373558700514074,
          0.1240253557870715,
          0.12428417609362068,
          0.12464675924774969,
          0.12456625997989745,
          0.12458117586933856,
          0.12453866866790476,
          0.1248061985515292,
          0.12504987300770307,
          0.12524182652109017,
          0.12545791077563317,
          0.12570140285544704,
          0.12593572817663967,
          0.12626746648024487,
          0.1265850005408821,
          0.12694839259828308,
          0.12721330137439732,
          0.1275018768984573,
          0.12785526553481796
         ],
         "yaxis": "y"
        },
        {
         "marker": {
          "color": [
           0,
           1,
           2,
           3,
           4,
           5,
           6,
           7,
           8,
           9,
           10,
           11,
           12,
           13,
           14,
           15,
           16,
           17,
           18,
           19,
           20,
           21,
           22,
           23,
           24,
           25,
           26,
           27,
           28,
           29,
           30,
           31,
           32,
           33,
           34,
           35,
           36,
           37,
           38,
           39,
           40,
           41,
           42,
           43,
           44,
           45,
           46,
           47,
           48,
           49,
           50,
           51,
           52,
           53,
           54,
           55,
           56,
           57,
           58,
           59,
           60,
           61,
           62,
           63,
           64,
           65,
           66,
           67,
           68,
           69,
           70,
           71,
           72,
           73,
           74,
           75,
           76,
           77,
           78,
           79,
           80,
           81,
           82,
           83,
           84,
           85,
           86,
           87,
           88,
           89,
           90,
           91,
           92,
           93,
           94,
           95,
           96,
           97,
           98,
           99
          ],
          "colorbar": {
           "title": {
            "text": "Trial"
           },
           "x": 1,
           "xpad": 40
          },
          "colorscale": [
           [
            0,
            "rgb(247,251,255)"
           ],
           [
            0.125,
            "rgb(222,235,247)"
           ],
           [
            0.25,
            "rgb(198,219,239)"
           ],
           [
            0.375,
            "rgb(158,202,225)"
           ],
           [
            0.5,
            "rgb(107,174,214)"
           ],
           [
            0.625,
            "rgb(66,146,198)"
           ],
           [
            0.75,
            "rgb(33,113,181)"
           ],
           [
            0.875,
            "rgb(8,81,156)"
           ],
           [
            1,
            "rgb(8,48,107)"
           ]
          ],
          "line": {
           "color": "Grey",
           "width": 0.5
          },
          "showscale": false
         },
         "mode": "markers",
         "showlegend": false,
         "type": "scatter",
         "x": [
          1570,
          2200,
          770,
          730,
          1240,
          640,
          2320,
          1580,
          1710,
          1990,
          2920,
          2580,
          2700,
          2930,
          2950,
          2940,
          2460,
          2070,
          2830,
          1140,
          2560,
          2700,
          2970,
          2700,
          340,
          2750,
          2370,
          1820,
          2550,
          2200,
          2990,
          2830,
          2990,
          2690,
          2290,
          1260,
          2830,
          2430,
          2530,
          2860,
          2650,
          2590,
          2790,
          2120,
          2990,
          2880,
          2450,
          1910,
          2260,
          2630,
          1460,
          2360,
          2790,
          2890,
          2720,
          2530,
          960,
          2900,
          2080,
          2740,
          2490,
          1800,
          1520,
          2620,
          2960,
          2370,
          2760,
          1300,
          1990,
          1630,
          510,
          2220,
          2660,
          2440,
          2920,
          2830,
          2590,
          1790,
          1090,
          2340,
          2150,
          1590,
          1730,
          1410,
          1890,
          2700,
          2700,
          2940,
          1930,
          1890,
          1920,
          1920,
          1990,
          2010,
          1990,
          1980,
          2000,
          2010,
          2040,
          2170
         ],
         "xaxis": "x2",
         "y": [
          0.11890547263681595,
          0.11251483295090235,
          0.12251862603227934,
          0.1208346683072816,
          0.1214378029434375,
          0.12192298205861493,
          0.125135541090327,
          0.12420873176914156,
          0.12460929930957641,
          0.12338955231907077,
          0.12220279910672664,
          0.12534155325418828,
          0.12826539928467603,
          0.13034733507671567,
          0.12860065892358946,
          0.1256368360138695,
          0.12448736299534001,
          0.1237547851068432,
          0.1220123722512576,
          0.12164786008652172,
          0.12079695692867619,
          0.11948648376045441,
          0.12103581465227069,
          0.1215248049187025,
          0.12112611662520253,
          0.12037260489434014,
          0.11988839358264883,
          0.12104087277842727,
          0.12231988817685183,
          0.12184903893720342,
          0.1208345858043209,
          0.11996969922931233,
          0.11943345213193066,
          0.11857783293570746,
          0.11832217872036212,
          0.11852561623712156,
          0.1194644734995948,
          0.11874708173462951,
          0.1183288786238687,
          0.11812515816724409,
          0.11903313953803149,
          0.1197695468002182,
          0.12061702673058616,
          0.12086117935105976,
          0.12168668870432012,
          0.12220136543290042,
          0.12195037449106068,
          0.1217216709166579,
          0.12201240903352416,
          0.12169164728776243,
          0.12164635263272013,
          0.12223292848887048,
          0.12249314123704437,
          0.1225548564109016,
          0.12320813579160889,
          0.12369606076749838,
          0.12387513680820995,
          0.1236399185259771,
          0.12342245735979436,
          0.12298010273806453,
          0.12329555622969328,
          0.12377346192796305,
          0.12389757681203639,
          0.12396606779388859,
          0.12346996448361112,
          0.12395810738204929,
          0.12412051310040068,
          0.12413884302318569,
          0.12397668743957552,
          0.12439242922988601,
          0.12418429238275823,
          0.12389479235420015,
          0.12349767060384637,
          0.12322677580091912,
          0.12285946110411838,
          0.12337748096021858,
          0.12305715236291417,
          0.12298976787033235,
          0.12314435863380595,
          0.1229976093721757,
          0.12334168227097032,
          0.12373558700514074,
          0.1240253557870715,
          0.12428417609362068,
          0.12464675924774969,
          0.12456625997989745,
          0.12458117586933856,
          0.12453866866790476,
          0.1248061985515292,
          0.12504987300770307,
          0.12524182652109017,
          0.12545791077563317,
          0.12570140285544704,
          0.12593572817663967,
          0.12626746648024487,
          0.1265850005408821,
          0.12694839259828308,
          0.12721330137439732,
          0.1275018768984573,
          0.12785526553481796
         ],
         "yaxis": "y2"
        }
       ],
       "layout": {
        "template": {
         "data": {
          "bar": [
           {
            "error_x": {
             "color": "#2a3f5f"
            },
            "error_y": {
             "color": "#2a3f5f"
            },
            "marker": {
             "line": {
              "color": "#E5ECF6",
              "width": 0.5
             },
             "pattern": {
              "fillmode": "overlay",
              "size": 10,
              "solidity": 0.2
             }
            },
            "type": "bar"
           }
          ],
          "barpolar": [
           {
            "marker": {
             "line": {
              "color": "#E5ECF6",
              "width": 0.5
             },
             "pattern": {
              "fillmode": "overlay",
              "size": 10,
              "solidity": 0.2
             }
            },
            "type": "barpolar"
           }
          ],
          "carpet": [
           {
            "aaxis": {
             "endlinecolor": "#2a3f5f",
             "gridcolor": "white",
             "linecolor": "white",
             "minorgridcolor": "white",
             "startlinecolor": "#2a3f5f"
            },
            "baxis": {
             "endlinecolor": "#2a3f5f",
             "gridcolor": "white",
             "linecolor": "white",
             "minorgridcolor": "white",
             "startlinecolor": "#2a3f5f"
            },
            "type": "carpet"
           }
          ],
          "choropleth": [
           {
            "colorbar": {
             "outlinewidth": 0,
             "ticks": ""
            },
            "type": "choropleth"
           }
          ],
          "contour": [
           {
            "colorbar": {
             "outlinewidth": 0,
             "ticks": ""
            },
            "colorscale": [
             [
              0,
              "#0d0887"
             ],
             [
              0.1111111111111111,
              "#46039f"
             ],
             [
              0.2222222222222222,
              "#7201a8"
             ],
             [
              0.3333333333333333,
              "#9c179e"
             ],
             [
              0.4444444444444444,
              "#bd3786"
             ],
             [
              0.5555555555555556,
              "#d8576b"
             ],
             [
              0.6666666666666666,
              "#ed7953"
             ],
             [
              0.7777777777777778,
              "#fb9f3a"
             ],
             [
              0.8888888888888888,
              "#fdca26"
             ],
             [
              1,
              "#f0f921"
             ]
            ],
            "type": "contour"
           }
          ],
          "contourcarpet": [
           {
            "colorbar": {
             "outlinewidth": 0,
             "ticks": ""
            },
            "type": "contourcarpet"
           }
          ],
          "heatmap": [
           {
            "colorbar": {
             "outlinewidth": 0,
             "ticks": ""
            },
            "colorscale": [
             [
              0,
              "#0d0887"
             ],
             [
              0.1111111111111111,
              "#46039f"
             ],
             [
              0.2222222222222222,
              "#7201a8"
             ],
             [
              0.3333333333333333,
              "#9c179e"
             ],
             [
              0.4444444444444444,
              "#bd3786"
             ],
             [
              0.5555555555555556,
              "#d8576b"
             ],
             [
              0.6666666666666666,
              "#ed7953"
             ],
             [
              0.7777777777777778,
              "#fb9f3a"
             ],
             [
              0.8888888888888888,
              "#fdca26"
             ],
             [
              1,
              "#f0f921"
             ]
            ],
            "type": "heatmap"
           }
          ],
          "heatmapgl": [
           {
            "colorbar": {
             "outlinewidth": 0,
             "ticks": ""
            },
            "colorscale": [
             [
              0,
              "#0d0887"
             ],
             [
              0.1111111111111111,
              "#46039f"
             ],
             [
              0.2222222222222222,
              "#7201a8"
             ],
             [
              0.3333333333333333,
              "#9c179e"
             ],
             [
              0.4444444444444444,
              "#bd3786"
             ],
             [
              0.5555555555555556,
              "#d8576b"
             ],
             [
              0.6666666666666666,
              "#ed7953"
             ],
             [
              0.7777777777777778,
              "#fb9f3a"
             ],
             [
              0.8888888888888888,
              "#fdca26"
             ],
             [
              1,
              "#f0f921"
             ]
            ],
            "type": "heatmapgl"
           }
          ],
          "histogram": [
           {
            "marker": {
             "pattern": {
              "fillmode": "overlay",
              "size": 10,
              "solidity": 0.2
             }
            },
            "type": "histogram"
           }
          ],
          "histogram2d": [
           {
            "colorbar": {
             "outlinewidth": 0,
             "ticks": ""
            },
            "colorscale": [
             [
              0,
              "#0d0887"
             ],
             [
              0.1111111111111111,
              "#46039f"
             ],
             [
              0.2222222222222222,
              "#7201a8"
             ],
             [
              0.3333333333333333,
              "#9c179e"
             ],
             [
              0.4444444444444444,
              "#bd3786"
             ],
             [
              0.5555555555555556,
              "#d8576b"
             ],
             [
              0.6666666666666666,
              "#ed7953"
             ],
             [
              0.7777777777777778,
              "#fb9f3a"
             ],
             [
              0.8888888888888888,
              "#fdca26"
             ],
             [
              1,
              "#f0f921"
             ]
            ],
            "type": "histogram2d"
           }
          ],
          "histogram2dcontour": [
           {
            "colorbar": {
             "outlinewidth": 0,
             "ticks": ""
            },
            "colorscale": [
             [
              0,
              "#0d0887"
             ],
             [
              0.1111111111111111,
              "#46039f"
             ],
             [
              0.2222222222222222,
              "#7201a8"
             ],
             [
              0.3333333333333333,
              "#9c179e"
             ],
             [
              0.4444444444444444,
              "#bd3786"
             ],
             [
              0.5555555555555556,
              "#d8576b"
             ],
             [
              0.6666666666666666,
              "#ed7953"
             ],
             [
              0.7777777777777778,
              "#fb9f3a"
             ],
             [
              0.8888888888888888,
              "#fdca26"
             ],
             [
              1,
              "#f0f921"
             ]
            ],
            "type": "histogram2dcontour"
           }
          ],
          "mesh3d": [
           {
            "colorbar": {
             "outlinewidth": 0,
             "ticks": ""
            },
            "type": "mesh3d"
           }
          ],
          "parcoords": [
           {
            "line": {
             "colorbar": {
              "outlinewidth": 0,
              "ticks": ""
             }
            },
            "type": "parcoords"
           }
          ],
          "pie": [
           {
            "automargin": true,
            "type": "pie"
           }
          ],
          "scatter": [
           {
            "fillpattern": {
             "fillmode": "overlay",
             "size": 10,
             "solidity": 0.2
            },
            "type": "scatter"
           }
          ],
          "scatter3d": [
           {
            "line": {
             "colorbar": {
              "outlinewidth": 0,
              "ticks": ""
             }
            },
            "marker": {
             "colorbar": {
              "outlinewidth": 0,
              "ticks": ""
             }
            },
            "type": "scatter3d"
           }
          ],
          "scattercarpet": [
           {
            "marker": {
             "colorbar": {
              "outlinewidth": 0,
              "ticks": ""
             }
            },
            "type": "scattercarpet"
           }
          ],
          "scattergeo": [
           {
            "marker": {
             "colorbar": {
              "outlinewidth": 0,
              "ticks": ""
             }
            },
            "type": "scattergeo"
           }
          ],
          "scattergl": [
           {
            "marker": {
             "colorbar": {
              "outlinewidth": 0,
              "ticks": ""
             }
            },
            "type": "scattergl"
           }
          ],
          "scattermapbox": [
           {
            "marker": {
             "colorbar": {
              "outlinewidth": 0,
              "ticks": ""
             }
            },
            "type": "scattermapbox"
           }
          ],
          "scatterpolar": [
           {
            "marker": {
             "colorbar": {
              "outlinewidth": 0,
              "ticks": ""
             }
            },
            "type": "scatterpolar"
           }
          ],
          "scatterpolargl": [
           {
            "marker": {
             "colorbar": {
              "outlinewidth": 0,
              "ticks": ""
             }
            },
            "type": "scatterpolargl"
           }
          ],
          "scatterternary": [
           {
            "marker": {
             "colorbar": {
              "outlinewidth": 0,
              "ticks": ""
             }
            },
            "type": "scatterternary"
           }
          ],
          "surface": [
           {
            "colorbar": {
             "outlinewidth": 0,
             "ticks": ""
            },
            "colorscale": [
             [
              0,
              "#0d0887"
             ],
             [
              0.1111111111111111,
              "#46039f"
             ],
             [
              0.2222222222222222,
              "#7201a8"
             ],
             [
              0.3333333333333333,
              "#9c179e"
             ],
             [
              0.4444444444444444,
              "#bd3786"
             ],
             [
              0.5555555555555556,
              "#d8576b"
             ],
             [
              0.6666666666666666,
              "#ed7953"
             ],
             [
              0.7777777777777778,
              "#fb9f3a"
             ],
             [
              0.8888888888888888,
              "#fdca26"
             ],
             [
              1,
              "#f0f921"
             ]
            ],
            "type": "surface"
           }
          ],
          "table": [
           {
            "cells": {
             "fill": {
              "color": "#EBF0F8"
             },
             "line": {
              "color": "white"
             }
            },
            "header": {
             "fill": {
              "color": "#C8D4E3"
             },
             "line": {
              "color": "white"
             }
            },
            "type": "table"
           }
          ]
         },
         "layout": {
          "annotationdefaults": {
           "arrowcolor": "#2a3f5f",
           "arrowhead": 0,
           "arrowwidth": 1
          },
          "autotypenumbers": "strict",
          "coloraxis": {
           "colorbar": {
            "outlinewidth": 0,
            "ticks": ""
           }
          },
          "colorscale": {
           "diverging": [
            [
             0,
             "#8e0152"
            ],
            [
             0.1,
             "#c51b7d"
            ],
            [
             0.2,
             "#de77ae"
            ],
            [
             0.3,
             "#f1b6da"
            ],
            [
             0.4,
             "#fde0ef"
            ],
            [
             0.5,
             "#f7f7f7"
            ],
            [
             0.6,
             "#e6f5d0"
            ],
            [
             0.7,
             "#b8e186"
            ],
            [
             0.8,
             "#7fbc41"
            ],
            [
             0.9,
             "#4d9221"
            ],
            [
             1,
             "#276419"
            ]
           ],
           "sequential": [
            [
             0,
             "#0d0887"
            ],
            [
             0.1111111111111111,
             "#46039f"
            ],
            [
             0.2222222222222222,
             "#7201a8"
            ],
            [
             0.3333333333333333,
             "#9c179e"
            ],
            [
             0.4444444444444444,
             "#bd3786"
            ],
            [
             0.5555555555555556,
             "#d8576b"
            ],
            [
             0.6666666666666666,
             "#ed7953"
            ],
            [
             0.7777777777777778,
             "#fb9f3a"
            ],
            [
             0.8888888888888888,
             "#fdca26"
            ],
            [
             1,
             "#f0f921"
            ]
           ],
           "sequentialminus": [
            [
             0,
             "#0d0887"
            ],
            [
             0.1111111111111111,
             "#46039f"
            ],
            [
             0.2222222222222222,
             "#7201a8"
            ],
            [
             0.3333333333333333,
             "#9c179e"
            ],
            [
             0.4444444444444444,
             "#bd3786"
            ],
            [
             0.5555555555555556,
             "#d8576b"
            ],
            [
             0.6666666666666666,
             "#ed7953"
            ],
            [
             0.7777777777777778,
             "#fb9f3a"
            ],
            [
             0.8888888888888888,
             "#fdca26"
            ],
            [
             1,
             "#f0f921"
            ]
           ]
          },
          "colorway": [
           "#636efa",
           "#EF553B",
           "#00cc96",
           "#ab63fa",
           "#FFA15A",
           "#19d3f3",
           "#FF6692",
           "#B6E880",
           "#FF97FF",
           "#FECB52"
          ],
          "font": {
           "color": "#2a3f5f"
          },
          "geo": {
           "bgcolor": "white",
           "lakecolor": "white",
           "landcolor": "#E5ECF6",
           "showlakes": true,
           "showland": true,
           "subunitcolor": "white"
          },
          "hoverlabel": {
           "align": "left"
          },
          "hovermode": "closest",
          "mapbox": {
           "style": "light"
          },
          "paper_bgcolor": "white",
          "plot_bgcolor": "#E5ECF6",
          "polar": {
           "angularaxis": {
            "gridcolor": "white",
            "linecolor": "white",
            "ticks": ""
           },
           "bgcolor": "#E5ECF6",
           "radialaxis": {
            "gridcolor": "white",
            "linecolor": "white",
            "ticks": ""
           }
          },
          "scene": {
           "xaxis": {
            "backgroundcolor": "#E5ECF6",
            "gridcolor": "white",
            "gridwidth": 2,
            "linecolor": "white",
            "showbackground": true,
            "ticks": "",
            "zerolinecolor": "white"
           },
           "yaxis": {
            "backgroundcolor": "#E5ECF6",
            "gridcolor": "white",
            "gridwidth": 2,
            "linecolor": "white",
            "showbackground": true,
            "ticks": "",
            "zerolinecolor": "white"
           },
           "zaxis": {
            "backgroundcolor": "#E5ECF6",
            "gridcolor": "white",
            "gridwidth": 2,
            "linecolor": "white",
            "showbackground": true,
            "ticks": "",
            "zerolinecolor": "white"
           }
          },
          "shapedefaults": {
           "line": {
            "color": "#2a3f5f"
           }
          },
          "ternary": {
           "aaxis": {
            "gridcolor": "white",
            "linecolor": "white",
            "ticks": ""
           },
           "baxis": {
            "gridcolor": "white",
            "linecolor": "white",
            "ticks": ""
           },
           "bgcolor": "#E5ECF6",
           "caxis": {
            "gridcolor": "white",
            "linecolor": "white",
            "ticks": ""
           }
          },
          "title": {
           "x": 0.05
          },
          "xaxis": {
           "automargin": true,
           "gridcolor": "white",
           "linecolor": "white",
           "ticks": "",
           "title": {
            "standoff": 15
           },
           "zerolinecolor": "white",
           "zerolinewidth": 2
          },
          "yaxis": {
           "automargin": true,
           "gridcolor": "white",
           "linecolor": "white",
           "ticks": "",
           "title": {
            "standoff": 15
           },
           "zerolinecolor": "white",
           "zerolinewidth": 2
          }
         }
        },
        "title": {
         "text": "Slice Plot"
        },
        "xaxis": {
         "anchor": "y",
         "domain": [
          0,
          0.45
         ],
         "title": {
          "text": "lgbm100__max_depth"
         }
        },
        "xaxis2": {
         "anchor": "y2",
         "domain": [
          0.55,
          1
         ],
         "title": {
          "text": "lgbm100__n_estimators"
         }
        },
        "yaxis": {
         "anchor": "x",
         "domain": [
          0,
          1
         ],
         "title": {
          "text": "Objective Value"
         }
        },
        "yaxis2": {
         "anchor": "x2",
         "domain": [
          0,
          1
         ],
         "matches": "y",
         "showticklabels": false
        }
       }
      },
      "text/html": [
       "<div>                            <div id=\"091abe78-9835-468a-8c58-964ff3548e20\" class=\"plotly-graph-div\" style=\"height:525px; width:100%;\"></div>            <script type=\"text/javascript\">                require([\"plotly\"], function(Plotly) {                    window.PLOTLYENV=window.PLOTLYENV || {};                                    if (document.getElementById(\"091abe78-9835-468a-8c58-964ff3548e20\")) {                    Plotly.newPlot(                        \"091abe78-9835-468a-8c58-964ff3548e20\",                        [{\"marker\":{\"color\":[0,1,2,3,4,5,6,7,8,9,10,11,12,13,14,15,16,17,18,19,20,21,22,23,24,25,26,27,28,29,30,31,32,33,34,35,36,37,38,39,40,41,42,43,44,45,46,47,48,49,50,51,52,53,54,55,56,57,58,59,60,61,62,63,64,65,66,67,68,69,70,71,72,73,74,75,76,77,78,79,80,81,82,83,84,85,86,87,88,89,90,91,92,93,94,95,96,97,98,99],\"colorbar\":{\"title\":{\"text\":\"Trial\"},\"x\":1.0,\"xpad\":40},\"colorscale\":[[0.0,\"rgb(247,251,255)\"],[0.125,\"rgb(222,235,247)\"],[0.25,\"rgb(198,219,239)\"],[0.375,\"rgb(158,202,225)\"],[0.5,\"rgb(107,174,214)\"],[0.625,\"rgb(66,146,198)\"],[0.75,\"rgb(33,113,181)\"],[0.875,\"rgb(8,81,156)\"],[1.0,\"rgb(8,48,107)\"]],\"line\":{\"color\":\"Grey\",\"width\":0.5},\"showscale\":true},\"mode\":\"markers\",\"showlegend\":false,\"x\":[20,19,4,17,18,11,5,21,6,10,7,3,3,3,14,15,14,9,13,16,8,12,3,5,7,10,13,5,3,15,8,15,19,17,13,15,4,17,11,18,4,3,4,6,3,5,14,16,6,12,14,4,5,6,3,4,3,7,21,16,5,4,8,6,9,3,5,14,12,4,13,15,14,11,15,3,13,16,7,18,5,4,4,3,4,6,6,6,5,5,5,5,5,5,3,3,3,3,3,3],\"y\":[0.11890547263681595,0.11251483295090235,0.12251862603227934,0.1208346683072816,0.1214378029434375,0.12192298205861493,0.125135541090327,0.12420873176914156,0.12460929930957641,0.12338955231907077,0.12220279910672664,0.12534155325418828,0.12826539928467603,0.13034733507671567,0.12860065892358946,0.1256368360138695,0.12448736299534001,0.1237547851068432,0.1220123722512576,0.12164786008652172,0.12079695692867619,0.11948648376045441,0.12103581465227069,0.1215248049187025,0.12112611662520253,0.12037260489434014,0.11988839358264883,0.12104087277842727,0.12231988817685183,0.12184903893720342,0.1208345858043209,0.11996969922931233,0.11943345213193066,0.11857783293570746,0.11832217872036212,0.11852561623712156,0.1194644734995948,0.11874708173462951,0.1183288786238687,0.11812515816724409,0.11903313953803149,0.1197695468002182,0.12061702673058616,0.12086117935105976,0.12168668870432012,0.12220136543290042,0.12195037449106068,0.1217216709166579,0.12201240903352416,0.12169164728776243,0.12164635263272013,0.12223292848887048,0.12249314123704437,0.1225548564109016,0.12320813579160889,0.12369606076749838,0.12387513680820995,0.1236399185259771,0.12342245735979436,0.12298010273806453,0.12329555622969328,0.12377346192796305,0.12389757681203639,0.12396606779388859,0.12346996448361112,0.12395810738204929,0.12412051310040068,0.12413884302318569,0.12397668743957552,0.12439242922988601,0.12418429238275823,0.12389479235420015,0.12349767060384637,0.12322677580091912,0.12285946110411838,0.12337748096021858,0.12305715236291417,0.12298976787033235,0.12314435863380595,0.1229976093721757,0.12334168227097032,0.12373558700514074,0.1240253557870715,0.12428417609362068,0.12464675924774969,0.12456625997989745,0.12458117586933856,0.12453866866790476,0.1248061985515292,0.12504987300770307,0.12524182652109017,0.12545791077563317,0.12570140285544704,0.12593572817663967,0.12626746648024487,0.1265850005408821,0.12694839259828308,0.12721330137439732,0.1275018768984573,0.12785526553481796],\"type\":\"scatter\",\"xaxis\":\"x\",\"yaxis\":\"y\"},{\"marker\":{\"color\":[0,1,2,3,4,5,6,7,8,9,10,11,12,13,14,15,16,17,18,19,20,21,22,23,24,25,26,27,28,29,30,31,32,33,34,35,36,37,38,39,40,41,42,43,44,45,46,47,48,49,50,51,52,53,54,55,56,57,58,59,60,61,62,63,64,65,66,67,68,69,70,71,72,73,74,75,76,77,78,79,80,81,82,83,84,85,86,87,88,89,90,91,92,93,94,95,96,97,98,99],\"colorbar\":{\"title\":{\"text\":\"Trial\"},\"x\":1.0,\"xpad\":40},\"colorscale\":[[0.0,\"rgb(247,251,255)\"],[0.125,\"rgb(222,235,247)\"],[0.25,\"rgb(198,219,239)\"],[0.375,\"rgb(158,202,225)\"],[0.5,\"rgb(107,174,214)\"],[0.625,\"rgb(66,146,198)\"],[0.75,\"rgb(33,113,181)\"],[0.875,\"rgb(8,81,156)\"],[1.0,\"rgb(8,48,107)\"]],\"line\":{\"color\":\"Grey\",\"width\":0.5},\"showscale\":false},\"mode\":\"markers\",\"showlegend\":false,\"x\":[1570,2200,770,730,1240,640,2320,1580,1710,1990,2920,2580,2700,2930,2950,2940,2460,2070,2830,1140,2560,2700,2970,2700,340,2750,2370,1820,2550,2200,2990,2830,2990,2690,2290,1260,2830,2430,2530,2860,2650,2590,2790,2120,2990,2880,2450,1910,2260,2630,1460,2360,2790,2890,2720,2530,960,2900,2080,2740,2490,1800,1520,2620,2960,2370,2760,1300,1990,1630,510,2220,2660,2440,2920,2830,2590,1790,1090,2340,2150,1590,1730,1410,1890,2700,2700,2940,1930,1890,1920,1920,1990,2010,1990,1980,2000,2010,2040,2170],\"y\":[0.11890547263681595,0.11251483295090235,0.12251862603227934,0.1208346683072816,0.1214378029434375,0.12192298205861493,0.125135541090327,0.12420873176914156,0.12460929930957641,0.12338955231907077,0.12220279910672664,0.12534155325418828,0.12826539928467603,0.13034733507671567,0.12860065892358946,0.1256368360138695,0.12448736299534001,0.1237547851068432,0.1220123722512576,0.12164786008652172,0.12079695692867619,0.11948648376045441,0.12103581465227069,0.1215248049187025,0.12112611662520253,0.12037260489434014,0.11988839358264883,0.12104087277842727,0.12231988817685183,0.12184903893720342,0.1208345858043209,0.11996969922931233,0.11943345213193066,0.11857783293570746,0.11832217872036212,0.11852561623712156,0.1194644734995948,0.11874708173462951,0.1183288786238687,0.11812515816724409,0.11903313953803149,0.1197695468002182,0.12061702673058616,0.12086117935105976,0.12168668870432012,0.12220136543290042,0.12195037449106068,0.1217216709166579,0.12201240903352416,0.12169164728776243,0.12164635263272013,0.12223292848887048,0.12249314123704437,0.1225548564109016,0.12320813579160889,0.12369606076749838,0.12387513680820995,0.1236399185259771,0.12342245735979436,0.12298010273806453,0.12329555622969328,0.12377346192796305,0.12389757681203639,0.12396606779388859,0.12346996448361112,0.12395810738204929,0.12412051310040068,0.12413884302318569,0.12397668743957552,0.12439242922988601,0.12418429238275823,0.12389479235420015,0.12349767060384637,0.12322677580091912,0.12285946110411838,0.12337748096021858,0.12305715236291417,0.12298976787033235,0.12314435863380595,0.1229976093721757,0.12334168227097032,0.12373558700514074,0.1240253557870715,0.12428417609362068,0.12464675924774969,0.12456625997989745,0.12458117586933856,0.12453866866790476,0.1248061985515292,0.12504987300770307,0.12524182652109017,0.12545791077563317,0.12570140285544704,0.12593572817663967,0.12626746648024487,0.1265850005408821,0.12694839259828308,0.12721330137439732,0.1275018768984573,0.12785526553481796],\"type\":\"scatter\",\"xaxis\":\"x2\",\"yaxis\":\"y2\"}],                        {\"template\":{\"data\":{\"histogram2dcontour\":[{\"type\":\"histogram2dcontour\",\"colorbar\":{\"outlinewidth\":0,\"ticks\":\"\"},\"colorscale\":[[0.0,\"#0d0887\"],[0.1111111111111111,\"#46039f\"],[0.2222222222222222,\"#7201a8\"],[0.3333333333333333,\"#9c179e\"],[0.4444444444444444,\"#bd3786\"],[0.5555555555555556,\"#d8576b\"],[0.6666666666666666,\"#ed7953\"],[0.7777777777777778,\"#fb9f3a\"],[0.8888888888888888,\"#fdca26\"],[1.0,\"#f0f921\"]]}],\"choropleth\":[{\"type\":\"choropleth\",\"colorbar\":{\"outlinewidth\":0,\"ticks\":\"\"}}],\"histogram2d\":[{\"type\":\"histogram2d\",\"colorbar\":{\"outlinewidth\":0,\"ticks\":\"\"},\"colorscale\":[[0.0,\"#0d0887\"],[0.1111111111111111,\"#46039f\"],[0.2222222222222222,\"#7201a8\"],[0.3333333333333333,\"#9c179e\"],[0.4444444444444444,\"#bd3786\"],[0.5555555555555556,\"#d8576b\"],[0.6666666666666666,\"#ed7953\"],[0.7777777777777778,\"#fb9f3a\"],[0.8888888888888888,\"#fdca26\"],[1.0,\"#f0f921\"]]}],\"heatmap\":[{\"type\":\"heatmap\",\"colorbar\":{\"outlinewidth\":0,\"ticks\":\"\"},\"colorscale\":[[0.0,\"#0d0887\"],[0.1111111111111111,\"#46039f\"],[0.2222222222222222,\"#7201a8\"],[0.3333333333333333,\"#9c179e\"],[0.4444444444444444,\"#bd3786\"],[0.5555555555555556,\"#d8576b\"],[0.6666666666666666,\"#ed7953\"],[0.7777777777777778,\"#fb9f3a\"],[0.8888888888888888,\"#fdca26\"],[1.0,\"#f0f921\"]]}],\"heatmapgl\":[{\"type\":\"heatmapgl\",\"colorbar\":{\"outlinewidth\":0,\"ticks\":\"\"},\"colorscale\":[[0.0,\"#0d0887\"],[0.1111111111111111,\"#46039f\"],[0.2222222222222222,\"#7201a8\"],[0.3333333333333333,\"#9c179e\"],[0.4444444444444444,\"#bd3786\"],[0.5555555555555556,\"#d8576b\"],[0.6666666666666666,\"#ed7953\"],[0.7777777777777778,\"#fb9f3a\"],[0.8888888888888888,\"#fdca26\"],[1.0,\"#f0f921\"]]}],\"contourcarpet\":[{\"type\":\"contourcarpet\",\"colorbar\":{\"outlinewidth\":0,\"ticks\":\"\"}}],\"contour\":[{\"type\":\"contour\",\"colorbar\":{\"outlinewidth\":0,\"ticks\":\"\"},\"colorscale\":[[0.0,\"#0d0887\"],[0.1111111111111111,\"#46039f\"],[0.2222222222222222,\"#7201a8\"],[0.3333333333333333,\"#9c179e\"],[0.4444444444444444,\"#bd3786\"],[0.5555555555555556,\"#d8576b\"],[0.6666666666666666,\"#ed7953\"],[0.7777777777777778,\"#fb9f3a\"],[0.8888888888888888,\"#fdca26\"],[1.0,\"#f0f921\"]]}],\"surface\":[{\"type\":\"surface\",\"colorbar\":{\"outlinewidth\":0,\"ticks\":\"\"},\"colorscale\":[[0.0,\"#0d0887\"],[0.1111111111111111,\"#46039f\"],[0.2222222222222222,\"#7201a8\"],[0.3333333333333333,\"#9c179e\"],[0.4444444444444444,\"#bd3786\"],[0.5555555555555556,\"#d8576b\"],[0.6666666666666666,\"#ed7953\"],[0.7777777777777778,\"#fb9f3a\"],[0.8888888888888888,\"#fdca26\"],[1.0,\"#f0f921\"]]}],\"mesh3d\":[{\"type\":\"mesh3d\",\"colorbar\":{\"outlinewidth\":0,\"ticks\":\"\"}}],\"scatter\":[{\"fillpattern\":{\"fillmode\":\"overlay\",\"size\":10,\"solidity\":0.2},\"type\":\"scatter\"}],\"parcoords\":[{\"type\":\"parcoords\",\"line\":{\"colorbar\":{\"outlinewidth\":0,\"ticks\":\"\"}}}],\"scatterpolargl\":[{\"type\":\"scatterpolargl\",\"marker\":{\"colorbar\":{\"outlinewidth\":0,\"ticks\":\"\"}}}],\"bar\":[{\"error_x\":{\"color\":\"#2a3f5f\"},\"error_y\":{\"color\":\"#2a3f5f\"},\"marker\":{\"line\":{\"color\":\"#E5ECF6\",\"width\":0.5},\"pattern\":{\"fillmode\":\"overlay\",\"size\":10,\"solidity\":0.2}},\"type\":\"bar\"}],\"scattergeo\":[{\"type\":\"scattergeo\",\"marker\":{\"colorbar\":{\"outlinewidth\":0,\"ticks\":\"\"}}}],\"scatterpolar\":[{\"type\":\"scatterpolar\",\"marker\":{\"colorbar\":{\"outlinewidth\":0,\"ticks\":\"\"}}}],\"histogram\":[{\"marker\":{\"pattern\":{\"fillmode\":\"overlay\",\"size\":10,\"solidity\":0.2}},\"type\":\"histogram\"}],\"scattergl\":[{\"type\":\"scattergl\",\"marker\":{\"colorbar\":{\"outlinewidth\":0,\"ticks\":\"\"}}}],\"scatter3d\":[{\"type\":\"scatter3d\",\"line\":{\"colorbar\":{\"outlinewidth\":0,\"ticks\":\"\"}},\"marker\":{\"colorbar\":{\"outlinewidth\":0,\"ticks\":\"\"}}}],\"scattermapbox\":[{\"type\":\"scattermapbox\",\"marker\":{\"colorbar\":{\"outlinewidth\":0,\"ticks\":\"\"}}}],\"scatterternary\":[{\"type\":\"scatterternary\",\"marker\":{\"colorbar\":{\"outlinewidth\":0,\"ticks\":\"\"}}}],\"scattercarpet\":[{\"type\":\"scattercarpet\",\"marker\":{\"colorbar\":{\"outlinewidth\":0,\"ticks\":\"\"}}}],\"carpet\":[{\"aaxis\":{\"endlinecolor\":\"#2a3f5f\",\"gridcolor\":\"white\",\"linecolor\":\"white\",\"minorgridcolor\":\"white\",\"startlinecolor\":\"#2a3f5f\"},\"baxis\":{\"endlinecolor\":\"#2a3f5f\",\"gridcolor\":\"white\",\"linecolor\":\"white\",\"minorgridcolor\":\"white\",\"startlinecolor\":\"#2a3f5f\"},\"type\":\"carpet\"}],\"table\":[{\"cells\":{\"fill\":{\"color\":\"#EBF0F8\"},\"line\":{\"color\":\"white\"}},\"header\":{\"fill\":{\"color\":\"#C8D4E3\"},\"line\":{\"color\":\"white\"}},\"type\":\"table\"}],\"barpolar\":[{\"marker\":{\"line\":{\"color\":\"#E5ECF6\",\"width\":0.5},\"pattern\":{\"fillmode\":\"overlay\",\"size\":10,\"solidity\":0.2}},\"type\":\"barpolar\"}],\"pie\":[{\"automargin\":true,\"type\":\"pie\"}]},\"layout\":{\"autotypenumbers\":\"strict\",\"colorway\":[\"#636efa\",\"#EF553B\",\"#00cc96\",\"#ab63fa\",\"#FFA15A\",\"#19d3f3\",\"#FF6692\",\"#B6E880\",\"#FF97FF\",\"#FECB52\"],\"font\":{\"color\":\"#2a3f5f\"},\"hovermode\":\"closest\",\"hoverlabel\":{\"align\":\"left\"},\"paper_bgcolor\":\"white\",\"plot_bgcolor\":\"#E5ECF6\",\"polar\":{\"bgcolor\":\"#E5ECF6\",\"angularaxis\":{\"gridcolor\":\"white\",\"linecolor\":\"white\",\"ticks\":\"\"},\"radialaxis\":{\"gridcolor\":\"white\",\"linecolor\":\"white\",\"ticks\":\"\"}},\"ternary\":{\"bgcolor\":\"#E5ECF6\",\"aaxis\":{\"gridcolor\":\"white\",\"linecolor\":\"white\",\"ticks\":\"\"},\"baxis\":{\"gridcolor\":\"white\",\"linecolor\":\"white\",\"ticks\":\"\"},\"caxis\":{\"gridcolor\":\"white\",\"linecolor\":\"white\",\"ticks\":\"\"}},\"coloraxis\":{\"colorbar\":{\"outlinewidth\":0,\"ticks\":\"\"}},\"colorscale\":{\"sequential\":[[0.0,\"#0d0887\"],[0.1111111111111111,\"#46039f\"],[0.2222222222222222,\"#7201a8\"],[0.3333333333333333,\"#9c179e\"],[0.4444444444444444,\"#bd3786\"],[0.5555555555555556,\"#d8576b\"],[0.6666666666666666,\"#ed7953\"],[0.7777777777777778,\"#fb9f3a\"],[0.8888888888888888,\"#fdca26\"],[1.0,\"#f0f921\"]],\"sequentialminus\":[[0.0,\"#0d0887\"],[0.1111111111111111,\"#46039f\"],[0.2222222222222222,\"#7201a8\"],[0.3333333333333333,\"#9c179e\"],[0.4444444444444444,\"#bd3786\"],[0.5555555555555556,\"#d8576b\"],[0.6666666666666666,\"#ed7953\"],[0.7777777777777778,\"#fb9f3a\"],[0.8888888888888888,\"#fdca26\"],[1.0,\"#f0f921\"]],\"diverging\":[[0,\"#8e0152\"],[0.1,\"#c51b7d\"],[0.2,\"#de77ae\"],[0.3,\"#f1b6da\"],[0.4,\"#fde0ef\"],[0.5,\"#f7f7f7\"],[0.6,\"#e6f5d0\"],[0.7,\"#b8e186\"],[0.8,\"#7fbc41\"],[0.9,\"#4d9221\"],[1,\"#276419\"]]},\"xaxis\":{\"gridcolor\":\"white\",\"linecolor\":\"white\",\"ticks\":\"\",\"title\":{\"standoff\":15},\"zerolinecolor\":\"white\",\"automargin\":true,\"zerolinewidth\":2},\"yaxis\":{\"gridcolor\":\"white\",\"linecolor\":\"white\",\"ticks\":\"\",\"title\":{\"standoff\":15},\"zerolinecolor\":\"white\",\"automargin\":true,\"zerolinewidth\":2},\"scene\":{\"xaxis\":{\"backgroundcolor\":\"#E5ECF6\",\"gridcolor\":\"white\",\"linecolor\":\"white\",\"showbackground\":true,\"ticks\":\"\",\"zerolinecolor\":\"white\",\"gridwidth\":2},\"yaxis\":{\"backgroundcolor\":\"#E5ECF6\",\"gridcolor\":\"white\",\"linecolor\":\"white\",\"showbackground\":true,\"ticks\":\"\",\"zerolinecolor\":\"white\",\"gridwidth\":2},\"zaxis\":{\"backgroundcolor\":\"#E5ECF6\",\"gridcolor\":\"white\",\"linecolor\":\"white\",\"showbackground\":true,\"ticks\":\"\",\"zerolinecolor\":\"white\",\"gridwidth\":2}},\"shapedefaults\":{\"line\":{\"color\":\"#2a3f5f\"}},\"annotationdefaults\":{\"arrowcolor\":\"#2a3f5f\",\"arrowhead\":0,\"arrowwidth\":1},\"geo\":{\"bgcolor\":\"white\",\"landcolor\":\"#E5ECF6\",\"subunitcolor\":\"white\",\"showland\":true,\"showlakes\":true,\"lakecolor\":\"white\"},\"title\":{\"x\":0.05},\"mapbox\":{\"style\":\"light\"}}},\"xaxis\":{\"anchor\":\"y\",\"domain\":[0.0,0.45],\"title\":{\"text\":\"lgbm100__max_depth\"}},\"yaxis\":{\"anchor\":\"x\",\"domain\":[0.0,1.0],\"title\":{\"text\":\"Objective Value\"}},\"xaxis2\":{\"anchor\":\"y2\",\"domain\":[0.55,1.0],\"title\":{\"text\":\"lgbm100__n_estimators\"}},\"yaxis2\":{\"anchor\":\"x2\",\"domain\":[0.0,1.0],\"matches\":\"y\",\"showticklabels\":false},\"title\":{\"text\":\"Slice Plot\"}},                        {\"responsive\": true}                    ).then(function(){\n",
       "                            \n",
       "var gd = document.getElementById('091abe78-9835-468a-8c58-964ff3548e20');\n",
       "var x = new MutationObserver(function (mutations, observer) {{\n",
       "        var display = window.getComputedStyle(gd).display;\n",
       "        if (!display || display === 'none') {{\n",
       "            console.log([gd, 'removed!']);\n",
       "            Plotly.purge(gd);\n",
       "            observer.disconnect();\n",
       "        }}\n",
       "}});\n",
       "\n",
       "// Listen for the removal of the full notebook cells\n",
       "var notebookContainer = gd.closest('#notebook-container');\n",
       "if (notebookContainer) {{\n",
       "    x.observe(notebookContainer, {childList: true});\n",
       "}}\n",
       "\n",
       "// Listen for the clearing of the current output cell\n",
       "var outputEl = gd.closest('.output');\n",
       "if (outputEl) {{\n",
       "    x.observe(outputEl, {childList: true});\n",
       "}}\n",
       "\n",
       "                        })                };                });            </script>        </div>"
      ]
     },
     "metadata": {},
     "output_type": "display_data"
    }
   ],
   "source": [
    "optuna.visualization.plot_slice(study_lgbm100)"
   ]
  },
  {
   "cell_type": "markdown",
   "id": "bf82c603",
   "metadata": {},
   "source": [
    "<br>"
   ]
  },
  {
   "cell_type": "markdown",
   "id": "b7e0d5b4",
   "metadata": {},
   "source": [
    "<font size='4' style=\"color:darkorchid\"><b> LightGBM optimizado  </b> </font>\n",
    "\n",
    "<a name=\"Optimizado\"></a>\n",
    "\n",
    "[[ Back to Top ]](#content)"
   ]
  },
  {
   "cell_type": "markdown",
   "id": "e86438f6",
   "metadata": {},
   "source": [
    "LightGBM optimizado con los parámetros de lgbm PCA 175"
   ]
  },
  {
   "cell_type": "code",
   "execution_count": 94,
   "id": "77b943bb",
   "metadata": {
    "ExecuteTime": {
     "end_time": "2022-11-23T22:53:43.072613Z",
     "start_time": "2022-11-23T22:47:31.524181Z"
    },
    "scrolled": true
   },
   "outputs": [
    {
     "data": {
      "image/png": "[encoded data removed]",
      "text/plain": [
       "<Figure size 432x288 with 2 Axes>"
      ]
     },
     "metadata": {},
     "output_type": "display_data"
    },
    {
     "name": "stdout",
     "output_type": "stream",
     "text": [
      "Precision's geometric mean is  0.7562584931964201\n",
      "Recall's geometric mean is  0.3032779151315591\n",
      "F1 geometric mean is  0.4328797185029462\n",
      "El tiempo del modelo fue de  371.4043061733246 segundos\n"
     ]
    }
   ],
   "source": [
    "#Calling the model\n",
    "lgbm_Opt = LGBMClassifier(n_estimators= 510, max_depth=7)\n",
    "\n",
    "#lista para almacenar las métricas de cada fold\n",
    "model_metrics=[]\n",
    "\n",
    "#inicio el contador de tiempo para calcular el costo del modelo\n",
    "inicio = time.time()\n",
    "\n",
    "#Split between training and testing\n",
    "for train_index, test_index in skf.split(X, y):\n",
    "        \n",
    "    X_train=X.iloc[train_index]\n",
    "    X_test=X.iloc[test_index]\n",
    "    y_train=y.iloc[train_index]\n",
    "    y_test=y.iloc[test_index]\n",
    "    \n",
    "    #fit the model\n",
    "    lgbm_Opt.fit(X_train, y_train)\n",
    "    \n",
    "    #make predictions\n",
    "    y_pred=lgbm_Opt.predict(X_test)\n",
    "    \n",
    "    #calculate metrics\n",
    "    cm=confusion_matrix(y_test, y_pred)\n",
    "    precision = precision_score(y_test, y_pred)\n",
    "    recall = recall_score(y_test, y_pred)\n",
    "    f1= f1_score(y_test, y_pred)\n",
    "\n",
    "    #store each fold's metrics\n",
    "    results = [precision, recall, f1]\n",
    "    model_metrics.append(results)\n",
    "    \n",
    "#display the first fold's confusion matrix\n",
    "cm_display = ConfusionMatrixDisplay(confusion_matrix = cm, display_labels = [0, 1])\n",
    "cm_display.plot()\n",
    "plt.show()\n",
    "\n",
    "#finalizamos el contador de tiempo del modelo\n",
    "fin = time.time()\n",
    "\n",
    "#store and print the metric's gmean after the 10 folds\n",
    "results_gmean= gmean(model_metrics)\n",
    "print(\"Precision's geometric mean is \" , results_gmean[0])\n",
    "print(\"Recall's geometric mean is \", results_gmean[1])\n",
    "print(\"F1 geometric mean is \", results_gmean[2])\n",
    "\n",
    "#add these to the general lists\n",
    "models.append(\"Light GBM Optimized\")\n",
    "metrics.append(results_gmean)\n",
    "tiempo.append(fin-inicio)\n",
    "\n",
    "print(\"El tiempo del modelo fue de \", fin-inicio, \"segundos\")"
   ]
  },
  {
   "cell_type": "markdown",
   "id": "43d3ab8e",
   "metadata": {},
   "source": [
    "<br>\n",
    "<br>"
   ]
  },
  {
   "cell_type": "markdown",
   "id": "d9ab2db6",
   "metadata": {},
   "source": [
    "<font size='4' style=\"color:darkorchid\"><b> Resumen de todos los modelos y conclusión </b> </font>\n",
    "\n",
    "<a name=\"Resumen_final\"></a>\n",
    "\n",
    "[[ Back to Top ]](#content)"
   ]
  },
  {
   "cell_type": "code",
   "execution_count": 98,
   "id": "e30aa088",
   "metadata": {
    "ExecuteTime": {
     "end_time": "2022-11-25T22:54:15.139544Z",
     "start_time": "2022-11-25T22:54:15.115582Z"
    }
   },
   "outputs": [
    {
     "data": {
      "text/plain": [
       "['Light GBM',\n",
       " 'Light GBM 175',\n",
       " 'Light GBM 150',\n",
       " 'Light GBM 125',\n",
       " 'Light GBM 100',\n",
       " 'Light GBM Optimized']"
      ]
     },
     "execution_count": 98,
     "metadata": {},
     "output_type": "execute_result"
    }
   ],
   "source": [
    "models"
   ]
  },
  {
   "cell_type": "code",
   "execution_count": 99,
   "id": "b5b79894",
   "metadata": {
    "ExecuteTime": {
     "end_time": "2022-11-25T22:55:12.527703Z",
     "start_time": "2022-11-25T22:55:12.163786Z"
    }
   },
   "outputs": [
    {
     "data": {
      "text/html": [
       "<div>\n",
       "<style scoped>\n",
       "    .dataframe tbody tr th:only-of-type {\n",
       "        vertical-align: middle;\n",
       "    }\n",
       "\n",
       "    .dataframe tbody tr th {\n",
       "        vertical-align: top;\n",
       "    }\n",
       "\n",
       "    .dataframe thead th {\n",
       "        text-align: right;\n",
       "    }\n",
       "</style>\n",
       "<table border=\"1\" class=\"dataframe\">\n",
       "  <thead>\n",
       "    <tr style=\"text-align: right;\">\n",
       "      <th></th>\n",
       "      <th>PRECISION</th>\n",
       "      <th>RECALL</th>\n",
       "      <th>F1</th>\n",
       "    </tr>\n",
       "  </thead>\n",
       "  <tbody>\n",
       "    <tr>\n",
       "      <th>Light GBM</th>\n",
       "      <td>0.873149</td>\n",
       "      <td>0.094699</td>\n",
       "      <td>0.170858</td>\n",
       "    </tr>\n",
       "    <tr>\n",
       "      <th>Light GBM 175</th>\n",
       "      <td>0.275031</td>\n",
       "      <td>0.005778</td>\n",
       "      <td>0.011315</td>\n",
       "    </tr>\n",
       "    <tr>\n",
       "      <th>Light GBM 150</th>\n",
       "      <td>0.310674</td>\n",
       "      <td>0.007474</td>\n",
       "      <td>0.014591</td>\n",
       "    </tr>\n",
       "    <tr>\n",
       "      <th>Light GBM 125</th>\n",
       "      <td>0.229340</td>\n",
       "      <td>0.003824</td>\n",
       "      <td>0.007519</td>\n",
       "    </tr>\n",
       "    <tr>\n",
       "      <th>Light GBM 100</th>\n",
       "      <td>0.236974</td>\n",
       "      <td>0.004316</td>\n",
       "      <td>0.008477</td>\n",
       "    </tr>\n",
       "    <tr>\n",
       "      <th>Light GBM Optimized</th>\n",
       "      <td>0.756258</td>\n",
       "      <td>0.303278</td>\n",
       "      <td>0.432880</td>\n",
       "    </tr>\n",
       "  </tbody>\n",
       "</table>\n",
       "</div>"
      ],
      "text/plain": [
       "                     PRECISION    RECALL        F1\n",
       "Light GBM             0.873149  0.094699  0.170858\n",
       "Light GBM 175         0.275031  0.005778  0.011315\n",
       "Light GBM 150         0.310674  0.007474  0.014591\n",
       "Light GBM 125         0.229340  0.003824  0.007519\n",
       "Light GBM 100         0.236974  0.004316  0.008477\n",
       "Light GBM Optimized   0.756258  0.303278  0.432880"
      ]
     },
     "execution_count": 99,
     "metadata": {},
     "output_type": "execute_result"
    }
   ],
   "source": [
    "#Creo un dataframe para visualizar como tabla las 3 métricas calculadas para todos los modelos evaluados\n",
    "#Los nombres de los modelos fueron almacenados en la lista modelos cuando se fueron corriendo\n",
    "\n",
    "columnas = [\"PRECISION\", \"RECALL\", \"F1\"]\n",
    "resumen_todo = pd.DataFrame(metrics, columns=columnas, index=models)\n",
    "resumen_todo"
   ]
  },
  {
   "cell_type": "code",
   "execution_count": 100,
   "id": "cd8c2a40",
   "metadata": {
    "ExecuteTime": {
     "end_time": "2022-11-25T22:56:51.353448Z",
     "start_time": "2022-11-25T22:56:51.279579Z"
    },
    "scrolled": true
   },
   "outputs": [
    {
     "data": {
      "text/html": [
       "<div>\n",
       "<style scoped>\n",
       "    .dataframe tbody tr th:only-of-type {\n",
       "        vertical-align: middle;\n",
       "    }\n",
       "\n",
       "    .dataframe tbody tr th {\n",
       "        vertical-align: top;\n",
       "    }\n",
       "\n",
       "    .dataframe thead th {\n",
       "        text-align: right;\n",
       "    }\n",
       "</style>\n",
       "<table border=\"1\" class=\"dataframe\">\n",
       "  <thead>\n",
       "    <tr style=\"text-align: right;\">\n",
       "      <th></th>\n",
       "      <th>PRECISION</th>\n",
       "      <th>RECALL</th>\n",
       "      <th>F1</th>\n",
       "      <th>TIEMPO (s)</th>\n",
       "    </tr>\n",
       "  </thead>\n",
       "  <tbody>\n",
       "    <tr>\n",
       "      <th>Light GBM</th>\n",
       "      <td>0.873149</td>\n",
       "      <td>0.094699</td>\n",
       "      <td>0.170858</td>\n",
       "      <td>110.110684</td>\n",
       "    </tr>\n",
       "    <tr>\n",
       "      <th>Light GBM 175</th>\n",
       "      <td>0.275031</td>\n",
       "      <td>0.005778</td>\n",
       "      <td>0.011315</td>\n",
       "      <td>106.986195</td>\n",
       "    </tr>\n",
       "    <tr>\n",
       "      <th>Light GBM 150</th>\n",
       "      <td>0.310674</td>\n",
       "      <td>0.007474</td>\n",
       "      <td>0.014591</td>\n",
       "      <td>146.930326</td>\n",
       "    </tr>\n",
       "    <tr>\n",
       "      <th>Light GBM 125</th>\n",
       "      <td>0.229340</td>\n",
       "      <td>0.003824</td>\n",
       "      <td>0.007519</td>\n",
       "      <td>129.096900</td>\n",
       "    </tr>\n",
       "    <tr>\n",
       "      <th>Light GBM 100</th>\n",
       "      <td>0.236974</td>\n",
       "      <td>0.004316</td>\n",
       "      <td>0.008477</td>\n",
       "      <td>119.717989</td>\n",
       "    </tr>\n",
       "    <tr>\n",
       "      <th>Light GBM Optimized</th>\n",
       "      <td>0.756258</td>\n",
       "      <td>0.303278</td>\n",
       "      <td>0.432880</td>\n",
       "      <td>371.404306</td>\n",
       "    </tr>\n",
       "  </tbody>\n",
       "</table>\n",
       "</div>"
      ],
      "text/plain": [
       "                     PRECISION    RECALL        F1  TIEMPO (s)\n",
       "Light GBM             0.873149  0.094699  0.170858  110.110684\n",
       "Light GBM 175         0.275031  0.005778  0.011315  106.986195\n",
       "Light GBM 150         0.310674  0.007474  0.014591  146.930326\n",
       "Light GBM 125         0.229340  0.003824  0.007519  129.096900\n",
       "Light GBM 100         0.236974  0.004316  0.008477  119.717989\n",
       "Light GBM Optimized   0.756258  0.303278  0.432880  371.404306"
      ]
     },
     "execution_count": 100,
     "metadata": {},
     "output_type": "execute_result"
    }
   ],
   "source": [
    "#Agrego la columna tiempo para incluir el tiempo de ejecución de los 10 folds para todos los modelos\n",
    "\n",
    "resumen_todo['TIEMPO (s)'] = tiempo\n",
    "resumen_todo"
   ]
  },
  {
   "cell_type": "code",
   "execution_count": 104,
   "id": "1b8dd401",
   "metadata": {
    "ExecuteTime": {
     "end_time": "2022-11-25T23:03:55.405404Z",
     "start_time": "2022-11-25T23:03:55.392430Z"
    }
   },
   "outputs": [],
   "source": [
    "#guardo el dataframe con los parámetros, tiempo de ejecución y modelos en un archivo pkl\n",
    "\n",
    "resumen.to_pickle('df_resumen_LGBM_con_optimizado.pkl')"
   ]
  },
  {
   "cell_type": "code",
   "execution_count": 103,
   "id": "f32f4a8c",
   "metadata": {
    "ExecuteTime": {
     "end_time": "2022-11-25T23:02:26.242906Z",
     "start_time": "2022-11-25T23:02:25.832855Z"
    }
   },
   "outputs": [
    {
     "data": {
      "image/png": "[encoded data removed]",
      "text/plain": [
       "<Figure size 576x576 with 1 Axes>"
      ]
     },
     "metadata": {},
     "output_type": "display_data"
    }
   ],
   "source": [
    "#Creo la misma información en un gráfico. Recall será la métrica utilizada \n",
    "\n",
    "plt.figure(figsize = (8, 8))\n",
    "sns.scatterplot(data = resumen_todo, x = resumen_todo['TIEMPO (s)'],y = resumen_todo['RECALL'], \n",
    "                hue = resumen_todo.index, style = resumen_todo.index, palette = 'colorblind', s = 300) \n",
    "plt.xlabel('Tiempo (s)', y = -0.8, fontsize = 20)\n",
    "plt.ylabel('Recall', x = -1, fontsize = 20)\n",
    "plt.yticks(fontsize = 12)\n",
    "plt.xticks(fontsize = 12)\n",
    "plt.title('Recall versus costo de ejcución de modelos LightGBM', y = 1.05, fontsize = 30)\n",
    "plt.show()"
   ]
  },
  {
   "cell_type": "markdown",
   "id": "e1b5cbc8",
   "metadata": {},
   "source": [
    "La optmización de los parámetros del modelo LightGBM en el modelo con PCA 175 y luego utilizados con el dataset completo triplicó el Recall del modelo pero su costo fue 3.4 veces mayor. Si bien el tiempo de ejecución es abreviado, es un valor a considerar. \n",
    "\n",
    "Dado que la búsqueda de optimización de este modelo fue hecha para luego implementar estos parámetros en modelos más complejos de Boost, veremos solo allí si realmente hace una diferencia en el recall el uso de estos parámetros. "
   ]
  },
  {
   "cell_type": "code",
   "execution_count": null,
   "id": "61948890",
   "metadata": {},
   "outputs": [],
   "source": []
  }
 ],
 "metadata": {
  "kernelspec": {
   "display_name": "Python 3 (ipykernel)",
   "language": "python",
   "name": "python3"
  },
  "language_info": {
   "codemirror_mode": {
    "name": "ipython",
    "version": 3
   },
   "file_extension": ".py",
   "mimetype": "text/x-python",
   "name": "python",
   "nbconvert_exporter": "python",
   "pygments_lexer": "ipython3",
   "version": "3.9.7"
  }
 },
 "nbformat": 4,
 "nbformat_minor": 5
}
