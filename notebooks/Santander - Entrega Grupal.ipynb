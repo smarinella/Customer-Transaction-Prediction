{
 "cells": [
  {
   "cell_type": "markdown",
   "id": "6c1f7d1c",
   "metadata": {},
   "source": [
    "<br>"
   ]
  },
  {
   "cell_type": "markdown",
   "id": "a7d27b23",
   "metadata": {},
   "source": [
    "<br>\n",
    "<center><font size='10' style=\"color:forestgreen\"><b> Customer Transaction Prediction </b> </font>"
   ]
  },
  {
   "cell_type": "markdown",
   "id": "ed51a40e",
   "metadata": {
    "ExecuteTime": {
     "end_time": "2022-11-10T22:27:53.480205Z",
     "start_time": "2022-11-10T22:27:53.370144Z"
    }
   },
   "source": [
    "<br>"
   ]
  },
  {
   "cell_type": "markdown",
   "id": "2b533dff",
   "metadata": {},
   "source": [
    "<br>\n",
    "<center><font size='5' style=\"color:black\"><b> Proyecto Final - Coder House </b> </font>\n",
    "\n",
    "<br>\n",
    "<br>\n",
    "\n",
    "<center><font size='5' style=\"color:black\"><b> Notebook grupal </b> </font>"
   ]
  },
  {
   "cell_type": "markdown",
   "id": "6b0ed433",
   "metadata": {
    "ExecuteTime": {
     "end_time": "2022-11-10T22:27:53.480205Z",
     "start_time": "2022-11-10T22:27:53.370144Z"
    }
   },
   "source": [
    "<br>"
   ]
  },
  {
   "cell_type": "markdown",
   "id": "6194d028",
   "metadata": {
    "ExecuteTime": {
     "end_time": "2022-11-10T22:27:53.480205Z",
     "start_time": "2022-11-10T22:27:53.370144Z"
    }
   },
   "source": [
    "<br>"
   ]
  },
  {
   "cell_type": "markdown",
   "id": "5af34a83",
   "metadata": {
    "ExecuteTime": {
     "end_time": "2022-11-10T22:27:53.480205Z",
     "start_time": "2022-11-10T22:27:53.370144Z"
    }
   },
   "source": [
    "<br>"
   ]
  },
  {
   "cell_type": "markdown",
   "id": "d796be8a",
   "metadata": {
    "ExecuteTime": {
     "end_time": "2022-11-10T22:27:53.480205Z",
     "start_time": "2022-11-10T22:27:53.370144Z"
    }
   },
   "source": [
    "<br>"
   ]
  },
  {
   "cell_type": "markdown",
   "id": "9fedf2ee",
   "metadata": {},
   "source": [
    "<font size='6' style=\"color:forestgreen\"><b> Content </b> </font>\n",
    "<a name=\"content\"></a>\n",
    "<br>\n",
    "\n",
    "\n",
    "1. [Introduction](#introduction) \n",
    "\n",
    "<br>\n",
    "\n",
    "2. [Import Libraries](#libraries) \n",
    "\n",
    "<br>\n",
    "\n",
    "\n",
    "3. [Dataset](#dataset) \n",
    "\n",
    "    3.1 [Definition of X and y](#xy) \n",
    "    \n",
    "    3.2 [Stratified K Fold](#skf)\n",
    "    \n",
    "    3.3 [Lists to store model's metrics](#metrics)\n",
    "<br>\n",
    "\n",
    "\n",
    "4. [Models](#models)\n",
    "\n",
    "   4.1 [Logistic Regression](#lgr)\n",
    "   \n",
    "   4.2 [Gaussian Naive Bayes](#gbn)\n",
    "   \n",
    "   4.3 [Catboost Classifier](#cb)\n",
    "   \n",
    "   \n",
    "<br>\n",
    "\n",
    "5. [Model Stacking](#stacking)<br>\n",
    "    \n",
    "    5.1 [GaussianNB x 6 + Final GaussianNB](#stacking_1)\n",
    "    \n",
    "    5.2 [GaussianNB x 12 + Final GaussianNB](#stacking_2)\n",
    "       \n",
    "    5.3 [GaussianNB x 24 + Final GaussianNB](#stacking_3)\n",
    "    \n",
    "    5.4 [GaussianNB + Linear Discriminant Analysis + Final GaussianNB](#stacking_4)\n",
    "    \n",
    "    5.5 [GaussianNB x 24 + Linear Discriminant Analysis + Final GaussianNB](#stacking_5)\n",
    "       \n",
    "    5.6 [GaussianNB x 12 + Logistic Regression + Linear Discriminant Analysis + Final GNB](#stacking_6)\n",
    "    \n",
    "\n",
    "\n",
    "<br>\n",
    "\n",
    "6. [Model Comparison](#comparison)\n",
    "\n",
    "\n",
    "\n",
    "<br>\n",
    "\n",
    "\n",
    "7. [Conclusion](#conclusion)\n",
    "\n",
    "\n"
   ]
  },
  {
   "cell_type": "markdown",
   "id": "0c9df630",
   "metadata": {},
   "source": [
    "<br>"
   ]
  },
  {
   "cell_type": "markdown",
   "id": "f89ec666",
   "metadata": {},
   "source": [
    "<br>"
   ]
  },
  {
   "cell_type": "markdown",
   "id": "e1a44623",
   "metadata": {},
   "source": [
    "<br>"
   ]
  },
  {
   "cell_type": "markdown",
   "id": "cb549a4d",
   "metadata": {},
   "source": [
    "<br>"
   ]
  },
  {
   "cell_type": "markdown",
   "id": "bb63bbcc",
   "metadata": {},
   "source": [
    "<font size='6' style=\"color:forestgreen\">  <b> Introduction </b> </font>\n",
    "<a name=\"introduction\"></a>\n",
    "\n",
    "[[ Back to Top ]](#content)"
   ]
  },
  {
   "cell_type": "markdown",
   "id": "579e2f0e",
   "metadata": {},
   "source": [
    "<p style='text-align: justify;'> \n",
    "Para realizar el Proyecto hemos dividido el trabajo en una fase individual y otra grupal. El objetivo de la fase de trabajo individual fue explorar los distintos modelos, de forma tal que podamos ver cuáles son los que tienen mejor rendimiento. Finalizada esa fase, continuaremos el proyecto en una notebook común, donde solamente se volcarán los modelos más relevantes para el Proyecto.    \n",
    "\n",
    "<p style='text-align: justify;'> \n",
    "Esta notebook contiene la fase de trabajo grupal. Aquí se econtrarán los modelos básicos que resultaron más relevantes: Logistic Regression, Gaussian Naive Bayes y Catboost Classifier. A su vez, se incluirá los stacking de modelos con los que obtuvimos mejores resultados. Cabe aclarar que en este punto no solo se busca un buen Recall, sino que también que el tiempo de ejecución sea acorde. Posteriormente se graficará el resultado de los modelos, de forma tal que podamos compararlos. Por último, esbozaremos una breve conclusión sobre el proyecto. \n"
   ]
  },
  {
   "cell_type": "markdown",
   "id": "4623fca4",
   "metadata": {},
   "source": [
    "<br>"
   ]
  },
  {
   "cell_type": "markdown",
   "id": "1bd7176b",
   "metadata": {},
   "source": [
    "<br>"
   ]
  },
  {
   "cell_type": "markdown",
   "id": "0b33dfc1",
   "metadata": {},
   "source": [
    "<br>"
   ]
  },
  {
   "cell_type": "markdown",
   "id": "d5af96fa",
   "metadata": {},
   "source": [
    "<br>"
   ]
  },
  {
   "cell_type": "markdown",
   "id": "92e3d7f9",
   "metadata": {},
   "source": [
    "<font size='6' style=\"color:forestgreen\">  <b> Import Libraries </b> </font>\n",
    "<a name=\"libraries\"></a>\n",
    "\n",
    "[[ Back to Top ]](#content)"
   ]
  },
  {
   "cell_type": "code",
   "execution_count": 15,
   "id": "f4f43840",
   "metadata": {
    "ExecuteTime": {
     "end_time": "2022-11-26T00:31:09.712510Z",
     "start_time": "2022-11-26T00:31:09.702346Z"
    }
   },
   "outputs": [],
   "source": [
    "# Numeric, scientific and data science libraries\n",
    "import pandas as pd\n",
    "import numpy as np\n",
    "from scipy.stats import gmean\n",
    "from statistics import geometric_mean\n",
    "import pickle\n",
    "\n",
    "# Visualization\n",
    "import matplotlib.pyplot as plt\n",
    "import seaborn as sns\n",
    "import plotly.express as px\n",
    "from PIL import Image\n",
    "\n",
    "# Data preparation for training - Sklearn\n",
    "from sklearn.model_selection import StratifiedKFold\n",
    "from sklearn.decomposition import PCA\n",
    "\n",
    "# Evaluation metrics and visualization - Sklearn\n",
    "from sklearn.metrics import recall_score\n",
    "from sklearn.metrics import confusion_matrix\n",
    "from sklearn.metrics import confusion_matrix, ConfusionMatrixDisplay\n",
    "from sklearn.metrics import precision_score\n",
    "from sklearn.metrics import f1_score \n",
    "\n",
    "# Models from Sklearn, XGBOOST and Catboost\n",
    "from sklearn.linear_model import LogisticRegression\n",
    "from sklearn.neighbors import KNeighborsClassifier\n",
    "import xgboost as xgb\n",
    "from xgboost import XGBClassifier\n",
    "from sklearn.ensemble import RandomForestClassifier\n",
    "from catboost import CatBoostClassifier\n",
    "from sklearn.naive_bayes import GaussianNB\n",
    "from sklearn.neural_network import MLPClassifier\n",
    "from sklearn.datasets import make_classification\n",
    "from sklearn.ensemble import BaggingClassifier\n",
    "from sklearn.linear_model import SGDClassifier\n",
    "from sklearn.discriminant_analysis import LinearDiscriminantAnalysis\n",
    "from sklearn.calibration import CalibratedClassifierCV\n",
    "from sklearn.ensemble import StackingClassifier\n",
    "\n",
    "# Feature Importance\n",
    "from sklearn.inspection import permutation_importance\n",
    "\n",
    "# Bayesian Optimization\n",
    "import optuna\n",
    "\n",
    "# Others\n",
    "import joblib\n",
    "import time\n",
    "from numpy import load\n",
    "from numpy import save\n",
    "from typing import List\n",
    "from scipy.stats import gmean"
   ]
  },
  {
   "cell_type": "markdown",
   "id": "2cbc9539",
   "metadata": {},
   "source": [
    "<br>"
   ]
  },
  {
   "cell_type": "markdown",
   "id": "784e39c3",
   "metadata": {},
   "source": [
    "<br>"
   ]
  },
  {
   "cell_type": "markdown",
   "id": "5d03ca2a",
   "metadata": {},
   "source": [
    "<br>"
   ]
  },
  {
   "cell_type": "markdown",
   "id": "8202a99c",
   "metadata": {},
   "source": [
    "<br>"
   ]
  },
  {
   "cell_type": "markdown",
   "id": "b6e7a33e",
   "metadata": {},
   "source": [
    "<font size='6' style=\"color:forestgreen\">  <b> Dataset </b> </font>\n",
    "<a name=\"dataset\"></a>\n",
    "\n",
    "[[ Back to Top ]](#content)"
   ]
  },
  {
   "cell_type": "code",
   "execution_count": 4,
   "id": "55597863",
   "metadata": {
    "ExecuteTime": {
     "end_time": "2022-11-26T00:06:24.449222Z",
     "start_time": "2022-11-26T00:06:24.309797Z"
    }
   },
   "outputs": [
    {
     "data": {
      "text/html": [
       "<div>\n",
       "<style scoped>\n",
       "    .dataframe tbody tr th:only-of-type {\n",
       "        vertical-align: middle;\n",
       "    }\n",
       "\n",
       "    .dataframe tbody tr th {\n",
       "        vertical-align: top;\n",
       "    }\n",
       "\n",
       "    .dataframe thead th {\n",
       "        text-align: right;\n",
       "    }\n",
       "</style>\n",
       "<table border=\"1\" class=\"dataframe\">\n",
       "  <thead>\n",
       "    <tr style=\"text-align: right;\">\n",
       "      <th></th>\n",
       "      <th>target</th>\n",
       "      <th>var_0</th>\n",
       "      <th>var_1</th>\n",
       "      <th>var_2</th>\n",
       "      <th>var_3</th>\n",
       "      <th>var_4</th>\n",
       "      <th>var_5</th>\n",
       "      <th>var_6</th>\n",
       "      <th>var_7</th>\n",
       "      <th>var_8</th>\n",
       "      <th>...</th>\n",
       "      <th>var_190</th>\n",
       "      <th>var_191</th>\n",
       "      <th>var_192</th>\n",
       "      <th>var_193</th>\n",
       "      <th>var_194</th>\n",
       "      <th>var_195</th>\n",
       "      <th>var_196</th>\n",
       "      <th>var_197</th>\n",
       "      <th>var_198</th>\n",
       "      <th>var_199</th>\n",
       "    </tr>\n",
       "    <tr>\n",
       "      <th>ID_code</th>\n",
       "      <th></th>\n",
       "      <th></th>\n",
       "      <th></th>\n",
       "      <th></th>\n",
       "      <th></th>\n",
       "      <th></th>\n",
       "      <th></th>\n",
       "      <th></th>\n",
       "      <th></th>\n",
       "      <th></th>\n",
       "      <th></th>\n",
       "      <th></th>\n",
       "      <th></th>\n",
       "      <th></th>\n",
       "      <th></th>\n",
       "      <th></th>\n",
       "      <th></th>\n",
       "      <th></th>\n",
       "      <th></th>\n",
       "      <th></th>\n",
       "      <th></th>\n",
       "    </tr>\n",
       "  </thead>\n",
       "  <tbody>\n",
       "    <tr>\n",
       "      <th>train_0</th>\n",
       "      <td>0</td>\n",
       "      <td>8.9255</td>\n",
       "      <td>-6.7863</td>\n",
       "      <td>11.9081</td>\n",
       "      <td>5.0930</td>\n",
       "      <td>11.4607</td>\n",
       "      <td>-9.2834</td>\n",
       "      <td>5.1187</td>\n",
       "      <td>18.6266</td>\n",
       "      <td>-4.9200</td>\n",
       "      <td>...</td>\n",
       "      <td>4.4354</td>\n",
       "      <td>3.9642</td>\n",
       "      <td>3.1364</td>\n",
       "      <td>1.6910</td>\n",
       "      <td>18.522699</td>\n",
       "      <td>-2.3978</td>\n",
       "      <td>7.8784</td>\n",
       "      <td>8.5635</td>\n",
       "      <td>12.780300</td>\n",
       "      <td>-1.0914</td>\n",
       "    </tr>\n",
       "    <tr>\n",
       "      <th>train_1</th>\n",
       "      <td>0</td>\n",
       "      <td>11.5006</td>\n",
       "      <td>-4.1473</td>\n",
       "      <td>13.8588</td>\n",
       "      <td>5.3890</td>\n",
       "      <td>12.3622</td>\n",
       "      <td>7.0433</td>\n",
       "      <td>5.6208</td>\n",
       "      <td>16.5338</td>\n",
       "      <td>3.1468</td>\n",
       "      <td>...</td>\n",
       "      <td>7.6421</td>\n",
       "      <td>7.7214</td>\n",
       "      <td>2.5837</td>\n",
       "      <td>10.9516</td>\n",
       "      <td>15.430500</td>\n",
       "      <td>2.0339</td>\n",
       "      <td>8.1267</td>\n",
       "      <td>8.7889</td>\n",
       "      <td>18.356001</td>\n",
       "      <td>1.9518</td>\n",
       "    </tr>\n",
       "    <tr>\n",
       "      <th>train_2</th>\n",
       "      <td>0</td>\n",
       "      <td>8.6093</td>\n",
       "      <td>-2.7457</td>\n",
       "      <td>12.0805</td>\n",
       "      <td>7.8928</td>\n",
       "      <td>10.5825</td>\n",
       "      <td>-9.0837</td>\n",
       "      <td>6.9427</td>\n",
       "      <td>14.6155</td>\n",
       "      <td>-4.9193</td>\n",
       "      <td>...</td>\n",
       "      <td>2.9057</td>\n",
       "      <td>9.7905</td>\n",
       "      <td>1.6704</td>\n",
       "      <td>1.6858</td>\n",
       "      <td>21.604200</td>\n",
       "      <td>3.1417</td>\n",
       "      <td>-6.5213</td>\n",
       "      <td>8.2675</td>\n",
       "      <td>14.722200</td>\n",
       "      <td>0.3965</td>\n",
       "    </tr>\n",
       "    <tr>\n",
       "      <th>train_3</th>\n",
       "      <td>0</td>\n",
       "      <td>11.0604</td>\n",
       "      <td>-2.1518</td>\n",
       "      <td>8.9522</td>\n",
       "      <td>7.1957</td>\n",
       "      <td>12.5846</td>\n",
       "      <td>-1.8361</td>\n",
       "      <td>5.8428</td>\n",
       "      <td>14.9250</td>\n",
       "      <td>-5.8609</td>\n",
       "      <td>...</td>\n",
       "      <td>4.4666</td>\n",
       "      <td>4.7433</td>\n",
       "      <td>0.7178</td>\n",
       "      <td>1.4214</td>\n",
       "      <td>23.034700</td>\n",
       "      <td>-1.2706</td>\n",
       "      <td>-2.9275</td>\n",
       "      <td>10.2922</td>\n",
       "      <td>17.969700</td>\n",
       "      <td>-8.9996</td>\n",
       "    </tr>\n",
       "    <tr>\n",
       "      <th>train_4</th>\n",
       "      <td>0</td>\n",
       "      <td>9.8369</td>\n",
       "      <td>-1.4834</td>\n",
       "      <td>12.8746</td>\n",
       "      <td>6.6375</td>\n",
       "      <td>12.2772</td>\n",
       "      <td>2.4486</td>\n",
       "      <td>5.9405</td>\n",
       "      <td>19.2514</td>\n",
       "      <td>6.2654</td>\n",
       "      <td>...</td>\n",
       "      <td>-1.4905</td>\n",
       "      <td>9.5214</td>\n",
       "      <td>-0.1508</td>\n",
       "      <td>9.1942</td>\n",
       "      <td>13.287600</td>\n",
       "      <td>-1.5121</td>\n",
       "      <td>3.9267</td>\n",
       "      <td>9.5031</td>\n",
       "      <td>17.997400</td>\n",
       "      <td>-8.8104</td>\n",
       "    </tr>\n",
       "  </tbody>\n",
       "</table>\n",
       "<p>5 rows × 201 columns</p>\n",
       "</div>"
      ],
      "text/plain": [
       "         target    var_0   var_1    var_2   var_3    var_4   var_5   var_6  \\\n",
       "ID_code                                                                      \n",
       "train_0       0   8.9255 -6.7863  11.9081  5.0930  11.4607 -9.2834  5.1187   \n",
       "train_1       0  11.5006 -4.1473  13.8588  5.3890  12.3622  7.0433  5.6208   \n",
       "train_2       0   8.6093 -2.7457  12.0805  7.8928  10.5825 -9.0837  6.9427   \n",
       "train_3       0  11.0604 -2.1518   8.9522  7.1957  12.5846 -1.8361  5.8428   \n",
       "train_4       0   9.8369 -1.4834  12.8746  6.6375  12.2772  2.4486  5.9405   \n",
       "\n",
       "           var_7   var_8  ...  var_190  var_191  var_192  var_193    var_194  \\\n",
       "ID_code                   ...                                                  \n",
       "train_0  18.6266 -4.9200  ...   4.4354   3.9642   3.1364   1.6910  18.522699   \n",
       "train_1  16.5338  3.1468  ...   7.6421   7.7214   2.5837  10.9516  15.430500   \n",
       "train_2  14.6155 -4.9193  ...   2.9057   9.7905   1.6704   1.6858  21.604200   \n",
       "train_3  14.9250 -5.8609  ...   4.4666   4.7433   0.7178   1.4214  23.034700   \n",
       "train_4  19.2514  6.2654  ...  -1.4905   9.5214  -0.1508   9.1942  13.287600   \n",
       "\n",
       "         var_195  var_196  var_197    var_198  var_199  \n",
       "ID_code                                                 \n",
       "train_0  -2.3978   7.8784   8.5635  12.780300  -1.0914  \n",
       "train_1   2.0339   8.1267   8.7889  18.356001   1.9518  \n",
       "train_2   3.1417  -6.5213   8.2675  14.722200   0.3965  \n",
       "train_3  -1.2706  -2.9275  10.2922  17.969700  -8.9996  \n",
       "train_4  -1.5121   3.9267   9.5031  17.997400  -8.8104  \n",
       "\n",
       "[5 rows x 201 columns]"
      ]
     },
     "execution_count": 4,
     "metadata": {},
     "output_type": "execute_result"
    }
   ],
   "source": [
    "# Abrimos el dataset. \n",
    "\n",
    "df = pd.read_pickle(\"trainDownCast.pkl\")\n",
    "df.head()"
   ]
  },
  {
   "cell_type": "markdown",
   "id": "a288c4d2",
   "metadata": {},
   "source": [
    "<br>"
   ]
  },
  {
   "cell_type": "markdown",
   "id": "b2dd7b43",
   "metadata": {},
   "source": [
    "<font size='4' style=\"color:forestgreen\">  <b> Definition of X and y </b> </font>\n",
    "<a name=\"xy\"></a>"
   ]
  },
  {
   "cell_type": "code",
   "execution_count": 6,
   "id": "5f85865c",
   "metadata": {
    "ExecuteTime": {
     "end_time": "2022-11-26T00:07:39.962997Z",
     "start_time": "2022-11-26T00:07:39.773904Z"
    }
   },
   "outputs": [
    {
     "data": {
      "text/html": [
       "<div>\n",
       "<style scoped>\n",
       "    .dataframe tbody tr th:only-of-type {\n",
       "        vertical-align: middle;\n",
       "    }\n",
       "\n",
       "    .dataframe tbody tr th {\n",
       "        vertical-align: top;\n",
       "    }\n",
       "\n",
       "    .dataframe thead th {\n",
       "        text-align: right;\n",
       "    }\n",
       "</style>\n",
       "<table border=\"1\" class=\"dataframe\">\n",
       "  <thead>\n",
       "    <tr style=\"text-align: right;\">\n",
       "      <th></th>\n",
       "      <th>var_0</th>\n",
       "      <th>var_1</th>\n",
       "      <th>var_2</th>\n",
       "      <th>var_3</th>\n",
       "      <th>var_4</th>\n",
       "      <th>var_5</th>\n",
       "      <th>var_6</th>\n",
       "      <th>var_7</th>\n",
       "      <th>var_8</th>\n",
       "      <th>var_9</th>\n",
       "      <th>...</th>\n",
       "      <th>var_190</th>\n",
       "      <th>var_191</th>\n",
       "      <th>var_192</th>\n",
       "      <th>var_193</th>\n",
       "      <th>var_194</th>\n",
       "      <th>var_195</th>\n",
       "      <th>var_196</th>\n",
       "      <th>var_197</th>\n",
       "      <th>var_198</th>\n",
       "      <th>var_199</th>\n",
       "    </tr>\n",
       "    <tr>\n",
       "      <th>ID_code</th>\n",
       "      <th></th>\n",
       "      <th></th>\n",
       "      <th></th>\n",
       "      <th></th>\n",
       "      <th></th>\n",
       "      <th></th>\n",
       "      <th></th>\n",
       "      <th></th>\n",
       "      <th></th>\n",
       "      <th></th>\n",
       "      <th></th>\n",
       "      <th></th>\n",
       "      <th></th>\n",
       "      <th></th>\n",
       "      <th></th>\n",
       "      <th></th>\n",
       "      <th></th>\n",
       "      <th></th>\n",
       "      <th></th>\n",
       "      <th></th>\n",
       "      <th></th>\n",
       "    </tr>\n",
       "  </thead>\n",
       "  <tbody>\n",
       "    <tr>\n",
       "      <th>train_0</th>\n",
       "      <td>8.9255</td>\n",
       "      <td>-6.7863</td>\n",
       "      <td>11.9081</td>\n",
       "      <td>5.0930</td>\n",
       "      <td>11.4607</td>\n",
       "      <td>-9.2834</td>\n",
       "      <td>5.1187</td>\n",
       "      <td>18.6266</td>\n",
       "      <td>-4.9200</td>\n",
       "      <td>5.7470</td>\n",
       "      <td>...</td>\n",
       "      <td>4.4354</td>\n",
       "      <td>3.9642</td>\n",
       "      <td>3.1364</td>\n",
       "      <td>1.6910</td>\n",
       "      <td>18.522699</td>\n",
       "      <td>-2.3978</td>\n",
       "      <td>7.8784</td>\n",
       "      <td>8.5635</td>\n",
       "      <td>12.780300</td>\n",
       "      <td>-1.0914</td>\n",
       "    </tr>\n",
       "    <tr>\n",
       "      <th>train_1</th>\n",
       "      <td>11.5006</td>\n",
       "      <td>-4.1473</td>\n",
       "      <td>13.8588</td>\n",
       "      <td>5.3890</td>\n",
       "      <td>12.3622</td>\n",
       "      <td>7.0433</td>\n",
       "      <td>5.6208</td>\n",
       "      <td>16.5338</td>\n",
       "      <td>3.1468</td>\n",
       "      <td>8.0851</td>\n",
       "      <td>...</td>\n",
       "      <td>7.6421</td>\n",
       "      <td>7.7214</td>\n",
       "      <td>2.5837</td>\n",
       "      <td>10.9516</td>\n",
       "      <td>15.430500</td>\n",
       "      <td>2.0339</td>\n",
       "      <td>8.1267</td>\n",
       "      <td>8.7889</td>\n",
       "      <td>18.356001</td>\n",
       "      <td>1.9518</td>\n",
       "    </tr>\n",
       "    <tr>\n",
       "      <th>train_2</th>\n",
       "      <td>8.6093</td>\n",
       "      <td>-2.7457</td>\n",
       "      <td>12.0805</td>\n",
       "      <td>7.8928</td>\n",
       "      <td>10.5825</td>\n",
       "      <td>-9.0837</td>\n",
       "      <td>6.9427</td>\n",
       "      <td>14.6155</td>\n",
       "      <td>-4.9193</td>\n",
       "      <td>5.9525</td>\n",
       "      <td>...</td>\n",
       "      <td>2.9057</td>\n",
       "      <td>9.7905</td>\n",
       "      <td>1.6704</td>\n",
       "      <td>1.6858</td>\n",
       "      <td>21.604200</td>\n",
       "      <td>3.1417</td>\n",
       "      <td>-6.5213</td>\n",
       "      <td>8.2675</td>\n",
       "      <td>14.722200</td>\n",
       "      <td>0.3965</td>\n",
       "    </tr>\n",
       "    <tr>\n",
       "      <th>train_3</th>\n",
       "      <td>11.0604</td>\n",
       "      <td>-2.1518</td>\n",
       "      <td>8.9522</td>\n",
       "      <td>7.1957</td>\n",
       "      <td>12.5846</td>\n",
       "      <td>-1.8361</td>\n",
       "      <td>5.8428</td>\n",
       "      <td>14.9250</td>\n",
       "      <td>-5.8609</td>\n",
       "      <td>8.2450</td>\n",
       "      <td>...</td>\n",
       "      <td>4.4666</td>\n",
       "      <td>4.7433</td>\n",
       "      <td>0.7178</td>\n",
       "      <td>1.4214</td>\n",
       "      <td>23.034700</td>\n",
       "      <td>-1.2706</td>\n",
       "      <td>-2.9275</td>\n",
       "      <td>10.2922</td>\n",
       "      <td>17.969700</td>\n",
       "      <td>-8.9996</td>\n",
       "    </tr>\n",
       "    <tr>\n",
       "      <th>train_4</th>\n",
       "      <td>9.8369</td>\n",
       "      <td>-1.4834</td>\n",
       "      <td>12.8746</td>\n",
       "      <td>6.6375</td>\n",
       "      <td>12.2772</td>\n",
       "      <td>2.4486</td>\n",
       "      <td>5.9405</td>\n",
       "      <td>19.2514</td>\n",
       "      <td>6.2654</td>\n",
       "      <td>7.6784</td>\n",
       "      <td>...</td>\n",
       "      <td>-1.4905</td>\n",
       "      <td>9.5214</td>\n",
       "      <td>-0.1508</td>\n",
       "      <td>9.1942</td>\n",
       "      <td>13.287600</td>\n",
       "      <td>-1.5121</td>\n",
       "      <td>3.9267</td>\n",
       "      <td>9.5031</td>\n",
       "      <td>17.997400</td>\n",
       "      <td>-8.8104</td>\n",
       "    </tr>\n",
       "    <tr>\n",
       "      <th>...</th>\n",
       "      <td>...</td>\n",
       "      <td>...</td>\n",
       "      <td>...</td>\n",
       "      <td>...</td>\n",
       "      <td>...</td>\n",
       "      <td>...</td>\n",
       "      <td>...</td>\n",
       "      <td>...</td>\n",
       "      <td>...</td>\n",
       "      <td>...</td>\n",
       "      <td>...</td>\n",
       "      <td>...</td>\n",
       "      <td>...</td>\n",
       "      <td>...</td>\n",
       "      <td>...</td>\n",
       "      <td>...</td>\n",
       "      <td>...</td>\n",
       "      <td>...</td>\n",
       "      <td>...</td>\n",
       "      <td>...</td>\n",
       "      <td>...</td>\n",
       "    </tr>\n",
       "    <tr>\n",
       "      <th>train_199995</th>\n",
       "      <td>11.4880</td>\n",
       "      <td>-0.4956</td>\n",
       "      <td>8.2622</td>\n",
       "      <td>3.5142</td>\n",
       "      <td>10.3404</td>\n",
       "      <td>11.6081</td>\n",
       "      <td>5.6709</td>\n",
       "      <td>15.1516</td>\n",
       "      <td>-0.6209</td>\n",
       "      <td>5.6669</td>\n",
       "      <td>...</td>\n",
       "      <td>6.1415</td>\n",
       "      <td>13.2305</td>\n",
       "      <td>3.9901</td>\n",
       "      <td>0.9388</td>\n",
       "      <td>18.024900</td>\n",
       "      <td>-1.7939</td>\n",
       "      <td>2.1661</td>\n",
       "      <td>8.5326</td>\n",
       "      <td>16.666000</td>\n",
       "      <td>-17.8661</td>\n",
       "    </tr>\n",
       "    <tr>\n",
       "      <th>train_199996</th>\n",
       "      <td>4.9149</td>\n",
       "      <td>-2.4484</td>\n",
       "      <td>16.7052</td>\n",
       "      <td>6.6345</td>\n",
       "      <td>8.3096</td>\n",
       "      <td>-10.5628</td>\n",
       "      <td>5.8802</td>\n",
       "      <td>21.5940</td>\n",
       "      <td>-3.6797</td>\n",
       "      <td>6.0019</td>\n",
       "      <td>...</td>\n",
       "      <td>4.9611</td>\n",
       "      <td>4.6549</td>\n",
       "      <td>0.6998</td>\n",
       "      <td>1.8341</td>\n",
       "      <td>22.271700</td>\n",
       "      <td>1.7337</td>\n",
       "      <td>-2.1651</td>\n",
       "      <td>6.7419</td>\n",
       "      <td>15.905400</td>\n",
       "      <td>0.3388</td>\n",
       "    </tr>\n",
       "    <tr>\n",
       "      <th>train_199997</th>\n",
       "      <td>11.2232</td>\n",
       "      <td>-5.0518</td>\n",
       "      <td>10.5127</td>\n",
       "      <td>5.6456</td>\n",
       "      <td>9.3410</td>\n",
       "      <td>-5.4086</td>\n",
       "      <td>4.5555</td>\n",
       "      <td>21.5571</td>\n",
       "      <td>0.1202</td>\n",
       "      <td>6.1629</td>\n",
       "      <td>...</td>\n",
       "      <td>4.0651</td>\n",
       "      <td>5.4414</td>\n",
       "      <td>3.1032</td>\n",
       "      <td>4.8793</td>\n",
       "      <td>23.531099</td>\n",
       "      <td>-1.5736</td>\n",
       "      <td>1.2832</td>\n",
       "      <td>8.7155</td>\n",
       "      <td>13.832900</td>\n",
       "      <td>4.1995</td>\n",
       "    </tr>\n",
       "    <tr>\n",
       "      <th>train_199998</th>\n",
       "      <td>9.7148</td>\n",
       "      <td>-8.6098</td>\n",
       "      <td>13.6104</td>\n",
       "      <td>5.7930</td>\n",
       "      <td>12.5173</td>\n",
       "      <td>0.5339</td>\n",
       "      <td>6.0479</td>\n",
       "      <td>17.0152</td>\n",
       "      <td>-2.1926</td>\n",
       "      <td>8.7542</td>\n",
       "      <td>...</td>\n",
       "      <td>2.6840</td>\n",
       "      <td>8.6587</td>\n",
       "      <td>2.7337</td>\n",
       "      <td>11.1178</td>\n",
       "      <td>20.415800</td>\n",
       "      <td>-0.0786</td>\n",
       "      <td>6.7980</td>\n",
       "      <td>10.0342</td>\n",
       "      <td>15.528900</td>\n",
       "      <td>-13.9001</td>\n",
       "    </tr>\n",
       "    <tr>\n",
       "      <th>train_199999</th>\n",
       "      <td>10.8762</td>\n",
       "      <td>-5.7105</td>\n",
       "      <td>12.1183</td>\n",
       "      <td>8.0328</td>\n",
       "      <td>11.5577</td>\n",
       "      <td>0.3488</td>\n",
       "      <td>5.2839</td>\n",
       "      <td>15.2058</td>\n",
       "      <td>-0.4541</td>\n",
       "      <td>9.3688</td>\n",
       "      <td>...</td>\n",
       "      <td>8.9842</td>\n",
       "      <td>1.6893</td>\n",
       "      <td>0.1276</td>\n",
       "      <td>0.3766</td>\n",
       "      <td>15.210100</td>\n",
       "      <td>-2.4907</td>\n",
       "      <td>-2.2342</td>\n",
       "      <td>8.1857</td>\n",
       "      <td>12.128400</td>\n",
       "      <td>0.1385</td>\n",
       "    </tr>\n",
       "  </tbody>\n",
       "</table>\n",
       "<p>200000 rows × 200 columns</p>\n",
       "</div>"
      ],
      "text/plain": [
       "                var_0   var_1    var_2   var_3    var_4    var_5   var_6  \\\n",
       "ID_code                                                                    \n",
       "train_0        8.9255 -6.7863  11.9081  5.0930  11.4607  -9.2834  5.1187   \n",
       "train_1       11.5006 -4.1473  13.8588  5.3890  12.3622   7.0433  5.6208   \n",
       "train_2        8.6093 -2.7457  12.0805  7.8928  10.5825  -9.0837  6.9427   \n",
       "train_3       11.0604 -2.1518   8.9522  7.1957  12.5846  -1.8361  5.8428   \n",
       "train_4        9.8369 -1.4834  12.8746  6.6375  12.2772   2.4486  5.9405   \n",
       "...               ...     ...      ...     ...      ...      ...     ...   \n",
       "train_199995  11.4880 -0.4956   8.2622  3.5142  10.3404  11.6081  5.6709   \n",
       "train_199996   4.9149 -2.4484  16.7052  6.6345   8.3096 -10.5628  5.8802   \n",
       "train_199997  11.2232 -5.0518  10.5127  5.6456   9.3410  -5.4086  4.5555   \n",
       "train_199998   9.7148 -8.6098  13.6104  5.7930  12.5173   0.5339  6.0479   \n",
       "train_199999  10.8762 -5.7105  12.1183  8.0328  11.5577   0.3488  5.2839   \n",
       "\n",
       "                var_7   var_8   var_9  ...  var_190  var_191  var_192  \\\n",
       "ID_code                                ...                              \n",
       "train_0       18.6266 -4.9200  5.7470  ...   4.4354   3.9642   3.1364   \n",
       "train_1       16.5338  3.1468  8.0851  ...   7.6421   7.7214   2.5837   \n",
       "train_2       14.6155 -4.9193  5.9525  ...   2.9057   9.7905   1.6704   \n",
       "train_3       14.9250 -5.8609  8.2450  ...   4.4666   4.7433   0.7178   \n",
       "train_4       19.2514  6.2654  7.6784  ...  -1.4905   9.5214  -0.1508   \n",
       "...               ...     ...     ...  ...      ...      ...      ...   \n",
       "train_199995  15.1516 -0.6209  5.6669  ...   6.1415  13.2305   3.9901   \n",
       "train_199996  21.5940 -3.6797  6.0019  ...   4.9611   4.6549   0.6998   \n",
       "train_199997  21.5571  0.1202  6.1629  ...   4.0651   5.4414   3.1032   \n",
       "train_199998  17.0152 -2.1926  8.7542  ...   2.6840   8.6587   2.7337   \n",
       "train_199999  15.2058 -0.4541  9.3688  ...   8.9842   1.6893   0.1276   \n",
       "\n",
       "              var_193    var_194  var_195  var_196  var_197    var_198  \\\n",
       "ID_code                                                                  \n",
       "train_0        1.6910  18.522699  -2.3978   7.8784   8.5635  12.780300   \n",
       "train_1       10.9516  15.430500   2.0339   8.1267   8.7889  18.356001   \n",
       "train_2        1.6858  21.604200   3.1417  -6.5213   8.2675  14.722200   \n",
       "train_3        1.4214  23.034700  -1.2706  -2.9275  10.2922  17.969700   \n",
       "train_4        9.1942  13.287600  -1.5121   3.9267   9.5031  17.997400   \n",
       "...               ...        ...      ...      ...      ...        ...   \n",
       "train_199995   0.9388  18.024900  -1.7939   2.1661   8.5326  16.666000   \n",
       "train_199996   1.8341  22.271700   1.7337  -2.1651   6.7419  15.905400   \n",
       "train_199997   4.8793  23.531099  -1.5736   1.2832   8.7155  13.832900   \n",
       "train_199998  11.1178  20.415800  -0.0786   6.7980  10.0342  15.528900   \n",
       "train_199999   0.3766  15.210100  -2.4907  -2.2342   8.1857  12.128400   \n",
       "\n",
       "              var_199  \n",
       "ID_code                \n",
       "train_0       -1.0914  \n",
       "train_1        1.9518  \n",
       "train_2        0.3965  \n",
       "train_3       -8.9996  \n",
       "train_4       -8.8104  \n",
       "...               ...  \n",
       "train_199995 -17.8661  \n",
       "train_199996   0.3388  \n",
       "train_199997   4.1995  \n",
       "train_199998 -13.9001  \n",
       "train_199999   0.1385  \n",
       "\n",
       "[200000 rows x 200 columns]"
      ]
     },
     "execution_count": 6,
     "metadata": {},
     "output_type": "execute_result"
    }
   ],
   "source": [
    "# Definimos X.\n",
    "\n",
    "X = df.drop(\"target\", axis=1) # Se elimina del dataset la variable a predecir.\n",
    "X"
   ]
  },
  {
   "cell_type": "code",
   "execution_count": 5,
   "id": "a33526ac",
   "metadata": {
    "ExecuteTime": {
     "end_time": "2022-11-26T00:07:37.952199Z",
     "start_time": "2022-11-26T00:07:37.912597Z"
    }
   },
   "outputs": [
    {
     "data": {
      "text/plain": [
       "ID_code\n",
       "train_0         0\n",
       "train_1         0\n",
       "train_2         0\n",
       "train_3         0\n",
       "train_4         0\n",
       "               ..\n",
       "train_199995    0\n",
       "train_199996    0\n",
       "train_199997    0\n",
       "train_199998    0\n",
       "train_199999    0\n",
       "Name: target, Length: 200000, dtype: int64"
      ]
     },
     "execution_count": 5,
     "metadata": {},
     "output_type": "execute_result"
    }
   ],
   "source": [
    "# Definimos y.\n",
    "y = df.target # Se define el Target.\n",
    "y"
   ]
  },
  {
   "cell_type": "markdown",
   "id": "e7f43eb0",
   "metadata": {},
   "source": [
    "<br>"
   ]
  },
  {
   "cell_type": "markdown",
   "id": "7831098d",
   "metadata": {},
   "source": [
    "<font size='4' style=\"color:forestgreen\">  <b> Stratified K Fold </b> </font>\n",
    "<a name=\"skf\"></a>"
   ]
  },
  {
   "cell_type": "code",
   "execution_count": 7,
   "id": "fc0c5da9",
   "metadata": {
    "ExecuteTime": {
     "end_time": "2022-11-26T00:08:23.151535Z",
     "start_time": "2022-11-26T00:08:23.139458Z"
    }
   },
   "outputs": [
    {
     "data": {
      "text/plain": [
       "10"
      ]
     },
     "execution_count": 7,
     "metadata": {},
     "output_type": "execute_result"
    }
   ],
   "source": [
    "# El dataset con el que trabajamos es muy asimétrico ya que la variable target tiene una distribución donde el 90% \n",
    "# de los registros son \"0\" y tan solo el 10% de los registros son \"1\". Es por ello que utilizaremos Stratified K Fold con\n",
    "# 10 folds para mantener en cada partición de datos la misma proporción de la variable target que en el dataset original.\n",
    "\n",
    "skf = StratifiedKFold(n_splits=10, shuffle= True, random_state= 1)\n",
    "\n",
    "skf.get_n_splits(X, y)"
   ]
  },
  {
   "cell_type": "markdown",
   "id": "12a98e54",
   "metadata": {},
   "source": [
    "<br>"
   ]
  },
  {
   "cell_type": "markdown",
   "id": "456df8d7",
   "metadata": {},
   "source": [
    "<font size='4' style=\"color:forestgreen\">  <b> Lists to store model's metrics </b> </font>\n",
    "<a name=\"metrics\"></a>"
   ]
  },
  {
   "cell_type": "code",
   "execution_count": 28,
   "id": "7b3abac7",
   "metadata": {
    "ExecuteTime": {
     "end_time": "2022-11-26T01:21:07.122763Z",
     "start_time": "2022-11-26T01:21:07.115145Z"
    }
   },
   "outputs": [],
   "source": [
    "# Creamos listas para almacenar el resultado de los modelos. Posteriormente armaremos un dataframe con toda esta \n",
    "# información de forma tal que podamos compararlos entre sí.\n",
    "\n",
    "metrics = []\n",
    "models = []\n",
    "execution_time = []"
   ]
  },
  {
   "cell_type": "markdown",
   "id": "4335bc41",
   "metadata": {},
   "source": [
    "<br>"
   ]
  },
  {
   "cell_type": "markdown",
   "id": "67fca9b7",
   "metadata": {},
   "source": [
    "<br>"
   ]
  },
  {
   "cell_type": "markdown",
   "id": "8dca6c41",
   "metadata": {},
   "source": [
    "<br>"
   ]
  },
  {
   "cell_type": "markdown",
   "id": "6f9073d3",
   "metadata": {},
   "source": [
    "<br>"
   ]
  },
  {
   "cell_type": "markdown",
   "id": "efba7f1b",
   "metadata": {},
   "source": [
    "<font size='6' style=\"color:forestgreen\">  <b> Models </b> </font>\n",
    "<a name=\"models\"></a>\n",
    "\n",
    "[[ Back to Top ]](#content)"
   ]
  },
  {
   "cell_type": "markdown",
   "id": "6c7c983f",
   "metadata": {},
   "source": [
    "En este apartado ejecutaremos los modelos simples que resultan más relevantes para nuestro proyecto. Estos son: Logistic Regression, Gaussian Naive Bayes y Catboost Classifier. Cabe aclarar que para el proyecto hemos escogido la Logistic Regression como modelo base. "
   ]
  },
  {
   "cell_type": "markdown",
   "id": "12607780",
   "metadata": {},
   "source": [
    "<br>"
   ]
  },
  {
   "cell_type": "markdown",
   "id": "b27dadd4",
   "metadata": {},
   "source": [
    "<font size='5' style=\"color:forestgreen\">  <b> Logistic Regression </b> </font>\n",
    "<a name=\"lgr\"></a>\n",
    "\n",
    "[[ Back to Top ]](#content)"
   ]
  },
  {
   "cell_type": "code",
   "execution_count": 29,
   "id": "13a5eedf",
   "metadata": {
    "ExecuteTime": {
     "end_time": "2022-11-26T01:38:36.260338Z",
     "start_time": "2022-11-26T01:22:07.355092Z"
    }
   },
   "outputs": [
    {
     "name": "stdout",
     "output_type": "stream",
     "text": [
      "Precision's geometric mean is 0.6854799941903816\n",
      "Recall's geometric mean is 0.2694832658755364\n",
      "F1's geometric mean is 0.38685569298903366\n",
      "The model's excecution time is 988.7480003833771 seconds\n"
     ]
    },
    {
     "data": {
      "image/png": "[encoded data removed]",
      "text/plain": [
       "<Figure size 432x288 with 2 Axes>"
      ]
     },
     "metadata": {
      "needs_background": "light"
     },
     "output_type": "display_data"
    }
   ],
   "source": [
    "# Inicializamos el modelo.\n",
    "lgr = LogisticRegression (random_state = 1, max_iter = 7000)\n",
    "\n",
    "# Creamos una lista para almacenar las métricas de cada fold.\n",
    "model_metrics = []\n",
    "\n",
    "# Iniciamos el contador de tiempo para calcular el costo del modelo.\n",
    "inicio = time.time()\n",
    "\n",
    "# Separamos cada fold en training y testing.\n",
    "for train_index, test_index in skf.split(X, y):\n",
    "        \n",
    "    X_train = X.iloc[train_index]\n",
    "    X_test  = X.iloc[test_index]\n",
    "    y_train = y.iloc[train_index]\n",
    "    y_test  = y.iloc[test_index]\n",
    "    \n",
    "    # Entrenamos el modelo.\n",
    "    lgr.fit(X_train, y_train)\n",
    "    \n",
    "    # Hacemos predicciones.\n",
    "    y_pred = lgr.predict(X_test)\n",
    "    \n",
    "    # Cálculo de métricas.\n",
    "    cm        = confusion_matrix(y_test, y_pred)\n",
    "    precision = precision_score(y_test, y_pred)\n",
    "    recall    = recall_score(y_test, y_pred)\n",
    "    f1        = f1_score(y_test, y_pred)\n",
    "\n",
    "    # Guardamos las métricas de cada fold.\n",
    "    results = [precision, recall, f1]\n",
    "    model_metrics.append(results)\n",
    "    \n",
    "# Finalizamos el contador de tiempo del modelo.\n",
    "fin = time.time()\n",
    "\n",
    "# Guardamos e imprimimos la media geométrica de las métricas de los folds.\n",
    "results_gmean = gmean(model_metrics)\n",
    "print(\"Precision's geometric mean is\" , results_gmean[0])\n",
    "print(\"Recall's geometric mean is\", results_gmean[1])\n",
    "print(\"F1's geometric mean is\", results_gmean[2]) \n",
    "\n",
    "# Los guardamos en las listas que contienen los resultados generales.\n",
    "models.append(\"Logistic Regression\")\n",
    "metrics.append(results_gmean)\n",
    "execution_time.append(fin - inicio)\n",
    "print(\"The model's excecution time is\", fin-inicio, \"seconds\")\n",
    "\n",
    "# Guardamos el modelo.\n",
    "with open('lgr_model.pkl','wb') as f:\n",
    "    pickle.dump(lgr, f)\n",
    "    \n",
    "# Matriz de Confusión.\n",
    "resultados_cm = gmean(cm)\n",
    "\n",
    "with open('cm_lgr_results.pkl','wb') as f:\n",
    "    pickle.dump(resultados_cm, f)\n",
    "\n",
    "cm_display = ConfusionMatrixDisplay(confusion_matrix = cm.reshape(2,2), display_labels = [0, 1])\n",
    "cm_display.plot()\n",
    "plt.show()"
   ]
  },
  {
   "cell_type": "markdown",
   "id": "e61635e5",
   "metadata": {},
   "source": [
    "<br>"
   ]
  },
  {
   "cell_type": "markdown",
   "id": "5193cd3c",
   "metadata": {},
   "source": [
    "<br>"
   ]
  },
  {
   "cell_type": "markdown",
   "id": "f49f7528",
   "metadata": {},
   "source": [
    "<font size='5' style=\"color:forestgreen\">  <b> Gaussian Naive Bayes </b> </font>\n",
    "<a name=\"gbn\"></a>\n",
    "\n",
    "[[ Back to Top ]](#content)"
   ]
  },
  {
   "cell_type": "code",
   "execution_count": 33,
   "id": "30398852",
   "metadata": {
    "ExecuteTime": {
     "end_time": "2022-11-26T13:43:24.793436Z",
     "start_time": "2022-11-26T13:43:19.510943Z"
    }
   },
   "outputs": [
    {
     "name": "stdout",
     "output_type": "stream",
     "text": [
      "Precision's geometric mean is 0.6474871217871533\n",
      "Recall's geometric mean is 0.4037870022195769\n",
      "F1's geometric mean is 0.4973673984424232\n",
      "The model's excecution time is 5.183375358581543 seconds\n"
     ]
    },
    {
     "data": {
      "image/png": "[encoded data removed]",
      "text/plain": [
       "<Figure size 432x288 with 2 Axes>"
      ]
     },
     "metadata": {
      "needs_background": "light"
     },
     "output_type": "display_data"
    }
   ],
   "source": [
    "# Inicializamos el modelo.\n",
    "gnb = GaussianNB()\n",
    "\n",
    "# Creamos una lista para almacenar las métricas de cada fold.\n",
    "model_metrics = []\n",
    "\n",
    "# Iniciamos el contador de tiempo para calcular el costo del modelo.\n",
    "inicio = time.time()\n",
    "\n",
    "# Separamos cada fold en training y testing.\n",
    "for train_index, test_index in skf.split(X, y):\n",
    "        \n",
    "    X_train = X.iloc[train_index]\n",
    "    X_test  = X.iloc[test_index]\n",
    "    y_train = y.iloc[train_index]\n",
    "    y_test  = y.iloc[test_index]\n",
    "    \n",
    "    # Entrenamos el modelo.\n",
    "    gnb.fit(X_train, y_train)\n",
    "    \n",
    "    # Hacemos predicciones.\n",
    "    y_pred = gnb.predict(X_test)\n",
    "    \n",
    "    # Cálculo de métricas.\n",
    "    cm        = confusion_matrix(y_test, y_pred)\n",
    "    precision = precision_score(y_test, y_pred)\n",
    "    recall    = recall_score(y_test, y_pred)\n",
    "    f1        = f1_score(y_test, y_pred)\n",
    "\n",
    "    # Guardamos las métricas de cada fold.\n",
    "    results = [precision, recall, f1]\n",
    "    model_metrics.append(results)\n",
    "    \n",
    "# Finalizamos el contador de tiempo del modelo.\n",
    "fin = time.time()\n",
    "\n",
    "# Guardamos e imprimimos la media geométrica de las métricas de los folds.\n",
    "results_gmean = gmean(model_metrics)\n",
    "print(\"Precision's geometric mean is\" , results_gmean[0])\n",
    "print(\"Recall's geometric mean is\", results_gmean[1])\n",
    "print(\"F1's geometric mean is\", results_gmean[2]) \n",
    "\n",
    "# Los guardamos en las listas que contienen los resultados generales.\n",
    "models.append(\"GaussianNB\")\n",
    "metrics.append(results_gmean)\n",
    "execution_time.append(fin - inicio)\n",
    "print(\"The model's excecution time is\", fin-inicio, \"seconds\")\n",
    "\n",
    "# Guardamos el modelo.\n",
    "with open('gnb_model.pkl','wb') as f:\n",
    "    pickle.dump(gnb, f)\n",
    "    \n",
    "# Matriz de Confusión.\n",
    "resultados_cm = gmean(cm)\n",
    "\n",
    "with open('cm_gnb_results.pkl','wb') as f:\n",
    "    pickle.dump(resultados_cm, f)\n",
    "\n",
    "cm_display = ConfusionMatrixDisplay(confusion_matrix = cm.reshape(2,2), display_labels = [0, 1])\n",
    "cm_display.plot()\n",
    "plt.show()"
   ]
  },
  {
   "cell_type": "markdown",
   "id": "325ccd5d",
   "metadata": {},
   "source": [
    "<br>"
   ]
  },
  {
   "cell_type": "markdown",
   "id": "d30637a6",
   "metadata": {},
   "source": [
    "<br>"
   ]
  },
  {
   "cell_type": "markdown",
   "id": "bf1ff418",
   "metadata": {},
   "source": [
    "<font size='5' style=\"color:forestgreen\">  <b> Catboost Classifier </b> </font>\n",
    "<a name=\"cb\"></a>\n",
    "\n",
    "[[ Back to Top ]](#content)"
   ]
  },
  {
   "cell_type": "code",
   "execution_count": 37,
   "id": "a7318e6d",
   "metadata": {
    "ExecuteTime": {
     "end_time": "2022-11-26T14:09:15.394357Z",
     "start_time": "2022-11-26T13:45:12.627299Z"
    }
   },
   "outputs": [
    {
     "name": "stdout",
     "output_type": "stream",
     "text": [
      "Precision's geometric mean is 0.5702971121416844\n",
      "Recall's geometric mean is 0.38109299600428204\n",
      "F1's geometric mean is 0.4568425852790152\n",
      "The model's excecution time is 1442.5432043075562 seconds\n"
     ]
    },
    {
     "data": {
      "image/png": "[encoded data removed]",
      "text/plain": [
       "<Figure size 432x288 with 2 Axes>"
      ]
     },
     "metadata": {
      "needs_background": "light"
     },
     "output_type": "display_data"
    }
   ],
   "source": [
    "# Inicializamos el modelo.\n",
    "# Los hiperparámetros utilizados para este modelo fueron obtenidos de la notebook del trabajo individual de Santiago \n",
    "# Marinella, donde realizó una optimización de hiperparámetros utilizando la librería Optuna.\n",
    "cb = CatBoostClassifier(iterations = 3600, learning_rate = 0.85, depth = 4, logging_level = \"Silent\")\n",
    "\n",
    "# Creamos una lista para almacenar las métricas de cada fold.\n",
    "model_metrics = []\n",
    "\n",
    "# Iniciamos el contador de tiempo para calcular el costo del modelo.\n",
    "inicio = time.time()\n",
    "\n",
    "# Separamos cada fold en training y testing.\n",
    "for train_index, test_index in skf.split(X, y):\n",
    "        \n",
    "    X_train = X.iloc[train_index]\n",
    "    X_test  = X.iloc[test_index]\n",
    "    y_train = y.iloc[train_index]\n",
    "    y_test  = y.iloc[test_index]\n",
    "    \n",
    "    # Entrenamos el modelo.\n",
    "    cb.fit(X_train, y_train)\n",
    "    \n",
    "    # Hacemos predicciones.\n",
    "    y_pred = cb.predict(X_test)\n",
    "    \n",
    "    # Cálculo de métricas.\n",
    "    cm        = confusion_matrix(y_test, y_pred)\n",
    "    precision = precision_score(y_test, y_pred)\n",
    "    recall    = recall_score(y_test, y_pred)\n",
    "    f1        = f1_score(y_test, y_pred)\n",
    "\n",
    "    # Guardamos las métricas de cada fold.\n",
    "    results = [precision, recall, f1]\n",
    "    model_metrics.append(results)\n",
    "    \n",
    "# Finalizamos el contador de tiempo del modelo.\n",
    "fin = time.time()\n",
    "\n",
    "# Guardamos e imprimimos la media geométrica de las métricas de los folds.\n",
    "results_gmean = gmean(model_metrics)\n",
    "print(\"Precision's geometric mean is\" , results_gmean[0])\n",
    "print(\"Recall's geometric mean is\", results_gmean[1])\n",
    "print(\"F1's geometric mean is\", results_gmean[2]) \n",
    "\n",
    "# Los guardamos en las listas que contienen los resultados generales.\n",
    "models.append(\"Catboost Classifier\")\n",
    "metrics.append(results_gmean)\n",
    "execution_time.append(fin - inicio)\n",
    "print(\"The model's excecution time is\", fin-inicio, \"seconds\")\n",
    "\n",
    "# Guardamos el modelo.\n",
    "with open('cb_model.pkl','wb') as f:\n",
    "    pickle.dump(cb, f)\n",
    "    \n",
    "# Matriz de Confusión.\n",
    "resultados_cm = gmean(cm)\n",
    "\n",
    "with open('cm_cb_results.pkl','wb') as f:\n",
    "    pickle.dump(resultados_cm, f)\n",
    "\n",
    "cm_display = ConfusionMatrixDisplay(confusion_matrix = cm.reshape(2,2), display_labels = [0, 1])\n",
    "cm_display.plot()\n",
    "plt.show()"
   ]
  },
  {
   "cell_type": "markdown",
   "id": "9817ee01",
   "metadata": {},
   "source": [
    "<br>"
   ]
  },
  {
   "cell_type": "markdown",
   "id": "6b3e5119",
   "metadata": {},
   "source": [
    "<br>"
   ]
  },
  {
   "cell_type": "markdown",
   "id": "250d7f2c",
   "metadata": {},
   "source": [
    "<br>"
   ]
  },
  {
   "cell_type": "markdown",
   "id": "7992d37b",
   "metadata": {},
   "source": [
    "<br>"
   ]
  },
  {
   "cell_type": "markdown",
   "id": "98b2e0e8",
   "metadata": {},
   "source": [
    "\n",
    "<font size='6' style=\"color:forestgreen\">  <b> Model Stacking </b> </font>\n",
    "<a name=\"stacking\"></a>\n",
    "\n",
    "[[ Back to Top ]](#content)"
   ]
  },
  {
   "cell_type": "markdown",
   "id": "7a481973",
   "metadata": {},
   "source": [
    "En esta sección mostraremos los modelos con los que obtuvimos mejores resultados. Teniendo en cuenta no solo el Recall que arroja cada modelo, sino que también su tiempo de ejecución."
   ]
  },
  {
   "cell_type": "markdown",
   "id": "8b2dff31",
   "metadata": {},
   "source": [
    "<br>"
   ]
  },
  {
   "cell_type": "markdown",
   "id": "baa0822f",
   "metadata": {},
   "source": [
    "<font size='5' style=\"color:forestgreen\">  <b> GaussianNB x 6 + Final GaussianNB </b> </font>\n",
    "<a name=\"stacking_1\"></a>\n",
    "\n",
    "[[ Back to Top ]](#content)\n"
   ]
  },
  {
   "cell_type": "code",
   "execution_count": 46,
   "id": "10c68d5e",
   "metadata": {
    "ExecuteTime": {
     "end_time": "2022-11-26T14:58:04.659780Z",
     "start_time": "2022-11-26T14:55:05.678703Z"
    }
   },
   "outputs": [
    {
     "name": "stdout",
     "output_type": "stream",
     "text": [
      "Precision's geometric mean is 0.463428131233301\n",
      "Recall's geometric mean is 0.6115685266114468\n",
      "F1's geometric mean is 0.5272694081975693\n",
      "The model's excecution time is 178.87107825279236 seconds\n"
     ]
    },
    {
     "data": {
      "image/png": "[encoded data removed]",
      "text/plain": [
       "<Figure size 432x288 with 2 Axes>"
      ]
     },
     "metadata": {
      "needs_background": "light"
     },
     "output_type": "display_data"
    }
   ],
   "source": [
    "# Inicializamos los modelos.\n",
    "gnb = GaussianNB()\n",
    "gnb2 = GaussianNB()\n",
    "gnb3 = GaussianNB()\n",
    "gnb4 = GaussianNB()\n",
    "gnb5 = GaussianNB()\n",
    "gnb6 = GaussianNB()\n",
    "gnb_final = GaussianNB()\n",
    "\n",
    "ensemble_1 =  StackingClassifier (estimators = [ ('gnb',gnb), ('gnb2',gnb2), ('gnb3',gnb3),\n",
    "('gnb4',gnb4), ('gnb5',gnb5), ('gnb6',gnb6)], final_estimator = gnb_final)\n",
    "\n",
    "# Creamos una lista para almacenar las métricas de cada fold.\n",
    "model_metrics = []\n",
    "\n",
    "# Iniciamos el contador de tiempo para calcular el costo del modelo.\n",
    "inicio = time.time()\n",
    "\n",
    "# Separamos cada fold en training y testing.\n",
    "for train_index, test_index in skf.split(X, y):\n",
    "        \n",
    "    X_train = X.iloc[train_index]\n",
    "    X_test  = X.iloc[test_index]\n",
    "    y_train = y.iloc[train_index]\n",
    "    y_test  = y.iloc[test_index]\n",
    "    \n",
    "    # Entrenamos el modelo.\n",
    "    ensemble_1.fit(X_train, y_train)\n",
    "    \n",
    "    # Hacemos predicciones.\n",
    "    y_pred = ensemble_1.predict(X_test)\n",
    "    \n",
    "    # Cálculo de métricas.\n",
    "    cm        = confusion_matrix(y_test, y_pred)\n",
    "    precision = precision_score(y_test, y_pred)\n",
    "    recall    = recall_score(y_test, y_pred)\n",
    "    f1        = f1_score(y_test, y_pred)\n",
    "\n",
    "    # Guardamos las métricas de cada fold.\n",
    "    results = [precision, recall, f1]\n",
    "    model_metrics.append(results)\n",
    "    \n",
    "# Finalizamos el contador de tiempo del modelo.\n",
    "fin = time.time()\n",
    "\n",
    "# Guardamos e imprimimos la media geométrica de las métricas de los folds.\n",
    "results_gmean = gmean(model_metrics)\n",
    "print(\"Precision's geometric mean is\" , results_gmean[0])\n",
    "print(\"Recall's geometric mean is\", results_gmean[1])\n",
    "print(\"F1's geometric mean is\", results_gmean[2]) \n",
    "\n",
    "# Los guardamos en las listas que contienen los resultados generales.\n",
    "models.append(\"GaussianNB x 6 + Final GaussianNB\")\n",
    "metrics.append(results_gmean)\n",
    "execution_time.append(fin - inicio)\n",
    "print(\"The model's excecution time is\", fin-inicio, \"seconds\")\n",
    "\n",
    "# Guardamos el modelo.\n",
    "with open('ensemble_1_model.pkl','wb') as f:\n",
    "    pickle.dump(ensemble_1, f)\n",
    "    \n",
    "# Matriz de Confusión.\n",
    "resultados_cm = gmean(cm)\n",
    "\n",
    "with open('cm_ensemble_1_results.pkl','wb') as f:\n",
    "    pickle.dump(resultados_cm, f)\n",
    "\n",
    "cm_display = ConfusionMatrixDisplay(confusion_matrix = cm.reshape(2,2), display_labels = [0, 1])\n",
    "cm_display.plot()\n",
    "plt.show()"
   ]
  },
  {
   "cell_type": "markdown",
   "id": "c5667c63",
   "metadata": {},
   "source": [
    "<br>"
   ]
  },
  {
   "cell_type": "markdown",
   "id": "4a0c2da8",
   "metadata": {},
   "source": [
    "<br>"
   ]
  },
  {
   "cell_type": "markdown",
   "id": "f363699b",
   "metadata": {
    "ExecuteTime": {
     "end_time": "2022-11-10T22:28:52.581379Z",
     "start_time": "2022-11-10T22:28:52.564374Z"
    }
   },
   "source": [
    "<font size='5' style=\"color:forestgreen\">  <b> GaussianNB x 12 + Final GaussianNB </b> </font>\n",
    "<a name=\"stacking_2\"></a>\n",
    "\n",
    "[[ Back to Top ]](#content)"
   ]
  },
  {
   "cell_type": "code",
   "execution_count": 48,
   "id": "74ea3793",
   "metadata": {
    "ExecuteTime": {
     "end_time": "2022-11-26T15:05:19.682609Z",
     "start_time": "2022-11-26T14:59:24.083079Z"
    }
   },
   "outputs": [
    {
     "name": "stdout",
     "output_type": "stream",
     "text": [
      "Precision's geometric mean is 0.45207298486634323\n",
      "Recall's geometric mean is 0.6225202506270616\n",
      "F1's geometric mean is 0.5237586567506056\n",
      "The model's excecution time is 355.4918088912964 seconds\n"
     ]
    },
    {
     "data": {
      "image/png": "[encoded data removed]",
      "text/plain": [
       "<Figure size 432x288 with 2 Axes>"
      ]
     },
     "metadata": {
      "needs_background": "light"
     },
     "output_type": "display_data"
    }
   ],
   "source": [
    "# Inicializamos los modelos.\n",
    "gnb = GaussianNB()\n",
    "gnb2 = GaussianNB()\n",
    "gnb3 = GaussianNB()\n",
    "gnb4 = GaussianNB()\n",
    "gnb5 = GaussianNB()\n",
    "gnb6 = GaussianNB()\n",
    "gnb7 = GaussianNB()\n",
    "gnb8 = GaussianNB()\n",
    "gnb9 = GaussianNB()\n",
    "gnb10 = GaussianNB()\n",
    "gnb11 = GaussianNB()\n",
    "gnb12 = GaussianNB()\n",
    "gnb_final = GaussianNB()\n",
    "\n",
    "ensemble_2 =  StackingClassifier (estimators = [ ('gnb',gnb), ('gnb2',gnb2), ('gnb3',gnb3),\n",
    "                                                ('gnb4',gnb4), ('gnb5',gnb5), ('gnb6',gnb6),\n",
    "                                                ('gnb7',gnb7), ('gnb8',gnb8), ('gnb9',gnb9), \n",
    "                                                ('gnb10',gnb10), ('gnb11',gnb11), ('gnb12',gnb12)], \n",
    "                                                final_estimator = gnb_final)\n",
    "\n",
    "# Creamos una lista para almacenar las métricas de cada fold.\n",
    "model_metrics = []\n",
    "\n",
    "# Iniciamos el contador de tiempo para calcular el costo del modelo.\n",
    "inicio = time.time()\n",
    "\n",
    "# Separamos cada fold en training y testing.\n",
    "for train_index, test_index in skf.split(X, y):\n",
    "        \n",
    "    X_train = X.iloc[train_index]\n",
    "    X_test  = X.iloc[test_index]\n",
    "    y_train = y.iloc[train_index]\n",
    "    y_test  = y.iloc[test_index]\n",
    "    \n",
    "    # Entrenamos el modelo.\n",
    "    ensemble_2.fit(X_train, y_train)\n",
    "    \n",
    "    # Hacemos predicciones.\n",
    "    y_pred = ensemble_2.predict(X_test)\n",
    "    \n",
    "    # Cálculo de métricas.\n",
    "    cm        = confusion_matrix(y_test, y_pred)\n",
    "    precision = precision_score(y_test, y_pred)\n",
    "    recall    = recall_score(y_test, y_pred)\n",
    "    f1        = f1_score(y_test, y_pred)\n",
    "\n",
    "    # Guardamos las métricas de cada fold.\n",
    "    results = [precision, recall, f1]\n",
    "    model_metrics.append(results)\n",
    "    \n",
    "# Finalizamos el contador de tiempo del modelo.\n",
    "fin = time.time()\n",
    "\n",
    "# Guardamos e imprimimos la media geométrica de las métricas de los folds.\n",
    "results_gmean = gmean(model_metrics)\n",
    "print(\"Precision's geometric mean is\" , results_gmean[0])\n",
    "print(\"Recall's geometric mean is\", results_gmean[1])\n",
    "print(\"F1's geometric mean is\", results_gmean[2]) \n",
    "\n",
    "# Los guardamos en las listas que contienen los resultados generales.\n",
    "models.append(\"GaussianNB x 12 + Final GaussianNB\")\n",
    "metrics.append(results_gmean)\n",
    "execution_time.append(fin - inicio)\n",
    "print(\"The model's excecution time is\", fin-inicio, \"seconds\")\n",
    "\n",
    "# Guardamos el modelo.\n",
    "with open('ensemble_2_model.pkl','wb') as f:\n",
    "    pickle.dump(ensemble_2, f)\n",
    "    \n",
    "# Matriz de Confusión.\n",
    "resultados_cm = gmean(cm)\n",
    "\n",
    "with open('cm_ensemble_2_results.pkl','wb') as f:\n",
    "    pickle.dump(resultados_cm, f)\n",
    "\n",
    "cm_display = ConfusionMatrixDisplay(confusion_matrix = cm.reshape(2,2), display_labels = [0, 1])\n",
    "cm_display.plot()\n",
    "plt.show()"
   ]
  },
  {
   "cell_type": "markdown",
   "id": "3ff97cce",
   "metadata": {},
   "source": [
    "<br>"
   ]
  },
  {
   "cell_type": "markdown",
   "id": "4dbe8cbf",
   "metadata": {},
   "source": [
    "<br>"
   ]
  },
  {
   "cell_type": "markdown",
   "id": "07351f91",
   "metadata": {},
   "source": [
    "<font size='5' style=\"color:forestgreen\">  <b> GaussianNB x 24 + Final GaussianNB </b> </font>\n",
    "<a name=\"stacking_3\"></a>\n",
    "\n",
    "[[ Back to Top ]](#content)"
   ]
  },
  {
   "cell_type": "code",
   "execution_count": 50,
   "id": "c0bd09e9",
   "metadata": {
    "ExecuteTime": {
     "end_time": "2022-11-26T15:18:10.429408Z",
     "start_time": "2022-11-26T15:06:05.568528Z"
    }
   },
   "outputs": [
    {
     "name": "stdout",
     "output_type": "stream",
     "text": [
      "Precision's geometric mean is 0.44710128950107364\n",
      "Recall's geometric mean is 0.6296900275555035\n",
      "F1's geometric mean is 0.5228956580770866\n",
      "The model's excecution time is 724.7539479732513 seconds\n"
     ]
    },
    {
     "data": {
      "image/png": "[encoded data removed]",
      "text/plain": [
       "<Figure size 432x288 with 2 Axes>"
      ]
     },
     "metadata": {
      "needs_background": "light"
     },
     "output_type": "display_data"
    }
   ],
   "source": [
    "# Inicializamos los modelos.\n",
    "gnb = GaussianNB()\n",
    "gnb2 = GaussianNB()\n",
    "gnb3 = GaussianNB()\n",
    "gnb4 = GaussianNB()\n",
    "gnb5 = GaussianNB()\n",
    "gnb6 = GaussianNB()\n",
    "gnb7 = GaussianNB()\n",
    "gnb8 = GaussianNB()\n",
    "gnb9 = GaussianNB()\n",
    "gnb10 = GaussianNB()\n",
    "gnb11 = GaussianNB()\n",
    "gnb12 = GaussianNB()\n",
    "gnb13 = GaussianNB()\n",
    "gnb14 = GaussianNB()\n",
    "gnb15 = GaussianNB()\n",
    "gnb16 = GaussianNB()\n",
    "gnb17 = GaussianNB()\n",
    "gnb18 = GaussianNB()\n",
    "gnb19 = GaussianNB()\n",
    "gnb20 = GaussianNB()\n",
    "gnb21 = GaussianNB()\n",
    "gnb22 = GaussianNB()\n",
    "gnb23 = GaussianNB()\n",
    "gnb24 = GaussianNB()\n",
    "gnb_final = GaussianNB()\n",
    "\n",
    "ensemble_3 = StackingClassifier (estimators = [ ('gnb',gnb), ('gnb2',gnb2), ('gnb3',gnb3), ('gnb4',gnb4), ('gnb5',gnb5), \n",
    "                                                ('gnb6',gnb6),('gnb7',gnb7), ('gnb8',gnb8), ('gnb9',gnb9), ('gnb10',gnb10), \n",
    "                                                ('gnb11',gnb11), ('gnb12',gnb12),('gnb13',gnb13),('gnb14',gnb14), \n",
    "                                                ('gnb15',gnb15), ('gnb16',gnb16),('gnb17',gnb17), ('gnb18',gnb18), \n",
    "                                                ('gnb19',gnb19), ('gnb20',gnb20), ('gnb21',gnb21), ('gnb22',gnb22),\n",
    "                                                ('gnb23',gnb23), ('gnb24',gnb24)], final_estimator = gnb_final)                                              \n",
    "                                               \n",
    "# Creamos una lista para almacenar las métricas de cada fold.\n",
    "model_metrics = []\n",
    "\n",
    "# Iniciamos el contador de tiempo para calcular el costo del modelo.\n",
    "inicio = time.time()\n",
    "\n",
    "# Separamos cada fold en training y testing.\n",
    "for train_index, test_index in skf.split(X, y):\n",
    "        \n",
    "    X_train = X.iloc[train_index]\n",
    "    X_test  = X.iloc[test_index]\n",
    "    y_train = y.iloc[train_index]\n",
    "    y_test  = y.iloc[test_index]\n",
    "    \n",
    "    # Entrenamos el modelo.\n",
    "    ensemble_3.fit(X_train, y_train)\n",
    "    \n",
    "    # Hacemos predicciones.\n",
    "    y_pred = ensemble_3.predict(X_test)\n",
    "    \n",
    "    # Cálculo de métricas.\n",
    "    cm        = confusion_matrix(y_test, y_pred)\n",
    "    precision = precision_score(y_test, y_pred)\n",
    "    recall    = recall_score(y_test, y_pred)\n",
    "    f1        = f1_score(y_test, y_pred)\n",
    "\n",
    "    # Guardamos las métricas de cada fold.\n",
    "    results = [precision, recall, f1]\n",
    "    model_metrics.append(results)\n",
    "    \n",
    "# Finalizamos el contador de tiempo del modelo.\n",
    "fin = time.time()\n",
    "\n",
    "# Guardamos e imprimimos la media geométrica de las métricas de los folds.\n",
    "results_gmean = gmean(model_metrics)\n",
    "print(\"Precision's geometric mean is\" , results_gmean[0])\n",
    "print(\"Recall's geometric mean is\", results_gmean[1])\n",
    "print(\"F1's geometric mean is\", results_gmean[2]) \n",
    "\n",
    "# Los guardamos en las listas que contienen los resultados generales.\n",
    "models.append(\"GaussianNB x 24 + Final GaussianNB\")\n",
    "metrics.append(results_gmean)\n",
    "execution_time.append(fin - inicio)\n",
    "print(\"The model's excecution time is\", fin-inicio, \"seconds\")\n",
    "\n",
    "# Guardamos el modelo.\n",
    "with open('ensemble_3_model.pkl','wb') as f:\n",
    "    pickle.dump(ensemble_3, f)\n",
    "    \n",
    "# Matriz de Confusión.\n",
    "resultados_cm = gmean(cm)\n",
    "\n",
    "with open('cm_ensemble_3_results.pkl','wb') as f:\n",
    "    pickle.dump(resultados_cm, f)\n",
    "\n",
    "cm_display = ConfusionMatrixDisplay(confusion_matrix = cm.reshape(2,2), display_labels = [0, 1])\n",
    "cm_display.plot()\n",
    "plt.show()"
   ]
  },
  {
   "cell_type": "markdown",
   "id": "35194c67",
   "metadata": {},
   "source": [
    "<br>"
   ]
  },
  {
   "cell_type": "markdown",
   "id": "b80baba6",
   "metadata": {},
   "source": [
    "<br>"
   ]
  },
  {
   "cell_type": "markdown",
   "id": "073eb112",
   "metadata": {},
   "source": [
    "<font size='5' style=\"color:forestgreen\">  <b> GaussianNB + Linear Discriminant Analysis + Final GaussianNB </b> </font>\n",
    "<a name=\"stacking_4\"></a>\n",
    "\n",
    "[[ Back to Top ]](#content)"
   ]
  },
  {
   "cell_type": "code",
   "execution_count": 52,
   "id": "59d90a17",
   "metadata": {
    "ExecuteTime": {
     "end_time": "2022-11-26T15:25:17.671194Z",
     "start_time": "2022-11-26T15:20:51.674241Z"
    }
   },
   "outputs": [
    {
     "name": "stdout",
     "output_type": "stream",
     "text": [
      "Precision's geometric mean is 0.5097203526682593\n",
      "Recall's geometric mean is 0.5535900725379281\n",
      "F1's geometric mean is 0.5307303290485371\n",
      "The model's excecution time is 265.8979525566101 seconds\n"
     ]
    },
    {
     "data": {
      "image/png": "[encoded data removed]",
      "text/plain": [
       "<Figure size 432x288 with 2 Axes>"
      ]
     },
     "metadata": {
      "needs_background": "light"
     },
     "output_type": "display_data"
    }
   ],
   "source": [
    "# Inicializamos los modelos.\n",
    "gnb = GaussianNB()\n",
    "lda = LinearDiscriminantAnalysis()\n",
    "gnb_final = GaussianNB()\n",
    "\n",
    "ensemble_4 =  StackingClassifier (estimators = [ ('gnb',gnb), ('lda',lda)], final_estimator = gnb_final)\n",
    "\n",
    "# Creamos una lista para almacenar las métricas de cada fold.\n",
    "model_metrics = []\n",
    "\n",
    "# Iniciamos el contador de tiempo para calcular el costo del modelo.\n",
    "inicio = time.time()\n",
    "\n",
    "# Separamos cada fold en training y testing.\n",
    "for train_index, test_index in skf.split(X, y):\n",
    "        \n",
    "    X_train = X.iloc[train_index]\n",
    "    X_test  = X.iloc[test_index]\n",
    "    y_train = y.iloc[train_index]\n",
    "    y_test  = y.iloc[test_index]\n",
    "    \n",
    "    # Entrenamos el modelo.\n",
    "    ensemble_4.fit(X_train, y_train)\n",
    "    \n",
    "    # Hacemos predicciones.\n",
    "    y_pred = ensemble_4.predict(X_test)\n",
    "    \n",
    "    # Cálculo de métricas.\n",
    "    cm        = confusion_matrix(y_test, y_pred)\n",
    "    precision = precision_score(y_test, y_pred)\n",
    "    recall    = recall_score(y_test, y_pred)\n",
    "    f1        = f1_score(y_test, y_pred)\n",
    "\n",
    "    # Guardamos las métricas de cada fold.\n",
    "    results = [precision, recall, f1]\n",
    "    model_metrics.append(results)\n",
    "    \n",
    "# Finalizamos el contador de tiempo del modelo.\n",
    "fin = time.time()\n",
    "\n",
    "# Guardamos e imprimimos la media geométrica de las métricas de los folds.\n",
    "results_gmean = gmean(model_metrics)\n",
    "print(\"Precision's geometric mean is\" , results_gmean[0])\n",
    "print(\"Recall's geometric mean is\", results_gmean[1])\n",
    "print(\"F1's geometric mean is\", results_gmean[2]) \n",
    "\n",
    "# Los guardamos en las listas que contienen los resultados generales.\n",
    "models.append(\"GaussianNB + Linear Discriminant Analysis + Final GaussianNB\")\n",
    "metrics.append(results_gmean)\n",
    "execution_time.append(fin - inicio)\n",
    "print(\"The model's excecution time is\", fin-inicio, \"seconds\")\n",
    "\n",
    "# Guardamos el modelo.\n",
    "with open('ensemble_4_model.pkl','wb') as f:\n",
    "    pickle.dump(ensemble_4, f)\n",
    "    \n",
    "# Matriz de Confusión.\n",
    "resultados_cm = gmean(cm)\n",
    "\n",
    "with open('cm_ensemble_4_results.pkl','wb') as f:\n",
    "    pickle.dump(resultados_cm, f)\n",
    "\n",
    "cm_display = ConfusionMatrixDisplay(confusion_matrix = cm.reshape(2,2), display_labels = [0, 1])\n",
    "cm_display.plot()\n",
    "plt.show()"
   ]
  },
  {
   "cell_type": "markdown",
   "id": "a3e51abc",
   "metadata": {},
   "source": [
    "<br>"
   ]
  },
  {
   "cell_type": "markdown",
   "id": "86f9289a",
   "metadata": {},
   "source": [
    "<br>"
   ]
  },
  {
   "cell_type": "markdown",
   "id": "7551bba1",
   "metadata": {},
   "source": [
    "<font size='5' style=\"color:forestgreen\">  <b> GaussianNB x 24 + Linear Discriminant Analysis + Final GaussianNB </b> </font>\n",
    "<a name=\"stacking_5\"></a>\n",
    "\n",
    "[[ Back to Top ]](#content)"
   ]
  },
  {
   "cell_type": "code",
   "execution_count": 59,
   "id": "83cac71d",
   "metadata": {
    "ExecuteTime": {
     "end_time": "2022-11-26T15:44:58.852194Z",
     "start_time": "2022-11-26T15:29:18.167387Z"
    }
   },
   "outputs": [
    {
     "name": "stdout",
     "output_type": "stream",
     "text": [
      "Precision's geometric mean is 0.4473001052944805\n",
      "Recall's geometric mean is 0.6311955268410712\n",
      "F1's geometric mean is 0.5235505842526464\n",
      "The model's excecution time is 940.5758290290833 seconds\n"
     ]
    },
    {
     "data": {
      "image/png": "[encoded data removed]",
      "text/plain": [
       "<Figure size 432x288 with 2 Axes>"
      ]
     },
     "metadata": {
      "needs_background": "light"
     },
     "output_type": "display_data"
    }
   ],
   "source": [
    "# Inicializamos los modelos.\n",
    "lda = LinearDiscriminantAnalysis()\n",
    "gnb = GaussianNB()\n",
    "gnb2 = GaussianNB()\n",
    "gnb3 = GaussianNB()\n",
    "gnb4 = GaussianNB()\n",
    "gnb5 = GaussianNB()\n",
    "gnb6 = GaussianNB()\n",
    "gnb7 = GaussianNB()\n",
    "gnb8 = GaussianNB()\n",
    "gnb9 = GaussianNB()\n",
    "gnb10 = GaussianNB()\n",
    "gnb11 = GaussianNB()\n",
    "gnb12 = GaussianNB()\n",
    "gnb13 = GaussianNB()\n",
    "gnb14 = GaussianNB()\n",
    "gnb15 = GaussianNB()\n",
    "gnb16 = GaussianNB()\n",
    "gnb17 = GaussianNB()\n",
    "gnb18 = GaussianNB()\n",
    "gnb19 = GaussianNB()\n",
    "gnb20 = GaussianNB()\n",
    "gnb21 = GaussianNB()\n",
    "gnb22 = GaussianNB()\n",
    "gnb23 = GaussianNB()\n",
    "gnb24 = GaussianNB()\n",
    "gnb_final = GaussianNB()\n",
    "\n",
    "ensemble_5 = StackingClassifier (estimators = [ ('gnb',gnb), ('gnb2',gnb2), ('gnb3',gnb3), ('gnb4',gnb4), ('gnb5',gnb5), \n",
    "                                                ('gnb6',gnb6),('gnb7',gnb7), ('gnb8',gnb8), ('gnb9',gnb9), ('gnb10',gnb10), \n",
    "                                                ('gnb11',gnb11), ('gnb12',gnb12),('gnb13',gnb13),('gnb14',gnb14), \n",
    "                                                ('gnb15',gnb15), ('gnb16',gnb16),('gnb17',gnb17), ('gnb18',gnb18), \n",
    "                                                ('gnb19',gnb19), ('gnb20',gnb20), ('gnb21',gnb21), ('gnb22',gnb22),\n",
    "                                                ('gnb23',gnb23), ('gnb24',gnb24), ('lda',lda)], final_estimator = gnb_final)                                              \n",
    "                                               \n",
    "# Creamos una lista para almacenar las métricas de cada fold.\n",
    "model_metrics = []\n",
    "\n",
    "# Iniciamos el contador de tiempo para calcular el costo del modelo.\n",
    "inicio = time.time()\n",
    "\n",
    "# Separamos cada fold en training y testing.\n",
    "for train_index, test_index in skf.split(X, y):\n",
    "        \n",
    "    X_train = X.iloc[train_index]\n",
    "    X_test  = X.iloc[test_index]\n",
    "    y_train = y.iloc[train_index]\n",
    "    y_test  = y.iloc[test_index]\n",
    "    \n",
    "    # Entrenamos el modelo.\n",
    "    ensemble_5.fit(X_train, y_train)\n",
    "    \n",
    "    # Hacemos predicciones.\n",
    "    y_pred = ensemble_5.predict(X_test)\n",
    "    \n",
    "    # Cálculo de métricas.\n",
    "    cm        = confusion_matrix(y_test, y_pred)\n",
    "    precision = precision_score(y_test, y_pred)\n",
    "    recall    = recall_score(y_test, y_pred)\n",
    "    f1        = f1_score(y_test, y_pred)\n",
    "\n",
    "    # Guardamos las métricas de cada fold.\n",
    "    results = [precision, recall, f1]\n",
    "    model_metrics.append(results)\n",
    "    \n",
    "# Finalizamos el contador de tiempo del modelo.\n",
    "fin = time.time()\n",
    "\n",
    "# Guardamos e imprimimos la media geométrica de las métricas de los folds.\n",
    "results_gmean = gmean(model_metrics)\n",
    "print(\"Precision's geometric mean is\" , results_gmean[0])\n",
    "print(\"Recall's geometric mean is\", results_gmean[1])\n",
    "print(\"F1's geometric mean is\", results_gmean[2]) \n",
    "\n",
    "# Los guardamos en las listas que contienen los resultados generales.\n",
    "models.append(\"GaussianNB x 24 + Linear Discriminant Analysis + Final GaussianNB\")\n",
    "metrics.append(results_gmean)\n",
    "execution_time.append(fin - inicio)\n",
    "print(\"The model's excecution time is\", fin-inicio, \"seconds\")\n",
    "\n",
    "# Guardamos el modelo.\n",
    "with open('ensemble_5_model.pkl','wb') as f:\n",
    "    pickle.dump(ensemble_5, f)\n",
    "    \n",
    "# Matriz de Confusión.\n",
    "resultados_cm = gmean(cm)\n",
    "\n",
    "with open('cm_ensemble_5_results.pkl','wb') as f:\n",
    "    pickle.dump(resultados_cm, f)\n",
    "\n",
    "cm_display = ConfusionMatrixDisplay(confusion_matrix = cm.reshape(2,2), display_labels = [0, 1])\n",
    "cm_display.plot()\n",
    "plt.show()"
   ]
  },
  {
   "cell_type": "markdown",
   "id": "2d1994df",
   "metadata": {},
   "source": [
    "<br>"
   ]
  },
  {
   "cell_type": "markdown",
   "id": "18b6e40c",
   "metadata": {},
   "source": [
    "<br>"
   ]
  },
  {
   "cell_type": "markdown",
   "id": "ec2c0d4f",
   "metadata": {},
   "source": [
    "<font size='5' style=\"color:forestgreen\">  <b> GaussianNB x 12 + Logistic Regression + Linear Discriminant Analysis + Final GNB </b> </font>\n",
    "<a name=\"stacking_6\"></a>\n",
    "\n",
    "[[ Back to Top ]](#content)"
   ]
  },
  {
   "cell_type": "code",
   "execution_count": 61,
   "id": "7595ad0a",
   "metadata": {
    "ExecuteTime": {
     "end_time": "2022-11-26T17:19:40.036310Z",
     "start_time": "2022-11-26T15:48:06.928278Z"
    }
   },
   "outputs": [
    {
     "name": "stdout",
     "output_type": "stream",
     "text": [
      "Precision's geometric mean is 0.45320422686810674\n",
      "Recall's geometric mean is 0.6266618302730924\n",
      "F1's geometric mean is 0.5259844187987077\n",
      "The model's excecution time is 5492.861884832382 seconds\n"
     ]
    },
    {
     "data": {
      "image/png": "[encoded data removed]",
      "text/plain": [
       "<Figure size 432x288 with 2 Axes>"
      ]
     },
     "metadata": {
      "needs_background": "light"
     },
     "output_type": "display_data"
    }
   ],
   "source": [
    "# Inicializamos los modelos.\n",
    "lda = LinearDiscriminantAnalysis()\n",
    "lgr = LogisticRegression (max_iter = 7000)\n",
    "gnb = GaussianNB()\n",
    "gnb2 = GaussianNB()\n",
    "gnb3 = GaussianNB()\n",
    "gnb4 = GaussianNB()\n",
    "gnb5 = GaussianNB()\n",
    "gnb6 = GaussianNB()\n",
    "gnb7 = GaussianNB()\n",
    "gnb8 = GaussianNB()\n",
    "gnb9 = GaussianNB()\n",
    "gnb10 = GaussianNB()\n",
    "gnb11 = GaussianNB()\n",
    "gnb12 = GaussianNB()\n",
    "gnb_final = GaussianNB()\n",
    "\n",
    "ensemble_6 =  StackingClassifier (estimators = [ ('gnb',gnb), ('gnb2',gnb2), ('gnb3',gnb3),\n",
    "                                               ('gnb4',gnb4), ('gnb5',gnb5), ('gnb6',gnb6),\n",
    "                                               ('gnb7',gnb7), ('gnb8',gnb8), ('gnb9',gnb9), \n",
    "                                               ('gnb10',gnb10), ('gnb11',gnb11), ('gnb12',gnb12),\n",
    "                                               ('lda',lda), ('lgr',lgr)], final_estimator = gnb_final)\n",
    "\n",
    "# Creamos una lista para almacenar las métricas de cada fold.\n",
    "model_metrics = []\n",
    "\n",
    "# Iniciamos el contador de tiempo para calcular el costo del modelo.\n",
    "inicio = time.time()\n",
    "\n",
    "# Separamos cada fold en training y testing.\n",
    "for train_index, test_index in skf.split(X, y):\n",
    "        \n",
    "    X_train = X.iloc[train_index]\n",
    "    X_test  = X.iloc[test_index]\n",
    "    y_train = y.iloc[train_index]\n",
    "    y_test  = y.iloc[test_index]\n",
    "    \n",
    "    # Entrenamos el modelo.\n",
    "    ensemble_6.fit(X_train, y_train)\n",
    "    \n",
    "    # Hacemos predicciones.\n",
    "    y_pred = ensemble_6.predict(X_test)\n",
    "    \n",
    "    # Cálculo de métricas.\n",
    "    cm        = confusion_matrix(y_test, y_pred)\n",
    "    precision = precision_score(y_test, y_pred)\n",
    "    recall    = recall_score(y_test, y_pred)\n",
    "    f1        = f1_score(y_test, y_pred)\n",
    "\n",
    "    # Guardamos las métricas de cada fold.\n",
    "    results = [precision, recall, f1]\n",
    "    model_metrics.append(results)\n",
    "    \n",
    "# Finalizamos el contador de tiempo del modelo.\n",
    "fin = time.time()\n",
    "\n",
    "# Guardamos e imprimimos la media geométrica de las métricas de los folds.\n",
    "results_gmean = gmean(model_metrics)\n",
    "print(\"Precision's geometric mean is\" , results_gmean[0])\n",
    "print(\"Recall's geometric mean is\", results_gmean[1])\n",
    "print(\"F1's geometric mean is\", results_gmean[2]) \n",
    "\n",
    "# Los guardamos en las listas que contienen los resultados generales.\n",
    "models.append(\"GaussianNB x 12 + Logistic Regression + Linear Discriminant Analysis + Final GaussianNB\")\n",
    "metrics.append(results_gmean)\n",
    "execution_time.append(fin - inicio)\n",
    "print(\"The model's excecution time is\", fin-inicio, \"seconds\")\n",
    "\n",
    "# Guardamos el modelo.\n",
    "with open('ensemble_6_model.pkl','wb') as f:\n",
    "    pickle.dump(ensemble_6, f)\n",
    "    \n",
    "# Matriz de Confusión.\n",
    "resultados_cm = gmean(cm)\n",
    "\n",
    "with open('cm_ensemble_6_results.pkl','wb') as f:\n",
    "    pickle.dump(resultados_cm, f)\n",
    "\n",
    "cm_display = ConfusionMatrixDisplay(confusion_matrix = cm.reshape(2,2), display_labels = [0, 1])\n",
    "cm_display.plot()\n",
    "plt.show()"
   ]
  },
  {
   "cell_type": "markdown",
   "id": "90436530",
   "metadata": {},
   "source": [
    "<br>"
   ]
  },
  {
   "cell_type": "markdown",
   "id": "c5b05793",
   "metadata": {},
   "source": [
    "<br>"
   ]
  },
  {
   "cell_type": "markdown",
   "id": "125d0792",
   "metadata": {},
   "source": [
    "<br>"
   ]
  },
  {
   "cell_type": "markdown",
   "id": "7a06591f",
   "metadata": {},
   "source": [
    "<br>"
   ]
  },
  {
   "cell_type": "markdown",
   "id": "d0472017",
   "metadata": {},
   "source": [
    "<font size='6' style=\"color:forestgreen\">  <b> Model Comparison </b> </font>\n",
    "<a name=\"comparison\"></a>\n",
    "\n",
    "[[ Back to Top ]](#content)"
   ]
  },
  {
   "cell_type": "code",
   "execution_count": 62,
   "id": "7b6f9bb5",
   "metadata": {
    "ExecuteTime": {
     "end_time": "2022-11-26T17:21:38.175242Z",
     "start_time": "2022-11-26T17:21:38.141056Z"
    }
   },
   "outputs": [
    {
     "data": {
      "text/html": [
       "<div>\n",
       "<style scoped>\n",
       "    .dataframe tbody tr th:only-of-type {\n",
       "        vertical-align: middle;\n",
       "    }\n",
       "\n",
       "    .dataframe tbody tr th {\n",
       "        vertical-align: top;\n",
       "    }\n",
       "\n",
       "    .dataframe thead th {\n",
       "        text-align: right;\n",
       "    }\n",
       "</style>\n",
       "<table border=\"1\" class=\"dataframe\">\n",
       "  <thead>\n",
       "    <tr style=\"text-align: right;\">\n",
       "      <th></th>\n",
       "      <th>PRECISION</th>\n",
       "      <th>RECALL</th>\n",
       "      <th>F1</th>\n",
       "    </tr>\n",
       "  </thead>\n",
       "  <tbody>\n",
       "    <tr>\n",
       "      <th>Logistic Regression</th>\n",
       "      <td>0.685480</td>\n",
       "      <td>0.269483</td>\n",
       "      <td>0.386856</td>\n",
       "    </tr>\n",
       "    <tr>\n",
       "      <th>GaussianNB</th>\n",
       "      <td>0.647487</td>\n",
       "      <td>0.403787</td>\n",
       "      <td>0.497367</td>\n",
       "    </tr>\n",
       "    <tr>\n",
       "      <th>Catboost Classifier</th>\n",
       "      <td>0.570297</td>\n",
       "      <td>0.381093</td>\n",
       "      <td>0.456843</td>\n",
       "    </tr>\n",
       "    <tr>\n",
       "      <th>GaussianNB x 6 + Final GaussianNB</th>\n",
       "      <td>0.463428</td>\n",
       "      <td>0.611569</td>\n",
       "      <td>0.527269</td>\n",
       "    </tr>\n",
       "    <tr>\n",
       "      <th>GaussianNB x 12 + Final GaussianNB</th>\n",
       "      <td>0.452073</td>\n",
       "      <td>0.622520</td>\n",
       "      <td>0.523759</td>\n",
       "    </tr>\n",
       "    <tr>\n",
       "      <th>GaussianNB x 24 + Final GaussianNB</th>\n",
       "      <td>0.447101</td>\n",
       "      <td>0.629690</td>\n",
       "      <td>0.522896</td>\n",
       "    </tr>\n",
       "    <tr>\n",
       "      <th>GaussianNB + Linear Discriminant Analysis + Final GaussianNB</th>\n",
       "      <td>0.509720</td>\n",
       "      <td>0.553590</td>\n",
       "      <td>0.530730</td>\n",
       "    </tr>\n",
       "    <tr>\n",
       "      <th>GaussianNB x 24 + Linear Discriminant Analysis + Final GaussianNB</th>\n",
       "      <td>0.447300</td>\n",
       "      <td>0.631196</td>\n",
       "      <td>0.523551</td>\n",
       "    </tr>\n",
       "    <tr>\n",
       "      <th>GaussianNB x 12 + Logistic Regression + Linear Discriminant Analysis + Final GaussianNB</th>\n",
       "      <td>0.453204</td>\n",
       "      <td>0.626662</td>\n",
       "      <td>0.525984</td>\n",
       "    </tr>\n",
       "  </tbody>\n",
       "</table>\n",
       "</div>"
      ],
      "text/plain": [
       "                                                    PRECISION    RECALL  \\\n",
       "Logistic Regression                                  0.685480  0.269483   \n",
       "GaussianNB                                           0.647487  0.403787   \n",
       "Catboost Classifier                                  0.570297  0.381093   \n",
       "GaussianNB x 6 + Final GaussianNB                    0.463428  0.611569   \n",
       "GaussianNB x 12 + Final GaussianNB                   0.452073  0.622520   \n",
       "GaussianNB x 24 + Final GaussianNB                   0.447101  0.629690   \n",
       "GaussianNB + Linear Discriminant Analysis + Fin...   0.509720  0.553590   \n",
       "GaussianNB x 24 + Linear Discriminant Analysis ...   0.447300  0.631196   \n",
       "GaussianNB x 12 + Logistic Regression + Linear ...   0.453204  0.626662   \n",
       "\n",
       "                                                          F1  \n",
       "Logistic Regression                                 0.386856  \n",
       "GaussianNB                                          0.497367  \n",
       "Catboost Classifier                                 0.456843  \n",
       "GaussianNB x 6 + Final GaussianNB                   0.527269  \n",
       "GaussianNB x 12 + Final GaussianNB                  0.523759  \n",
       "GaussianNB x 24 + Final GaussianNB                  0.522896  \n",
       "GaussianNB + Linear Discriminant Analysis + Fin...  0.530730  \n",
       "GaussianNB x 24 + Linear Discriminant Analysis ...  0.523551  \n",
       "GaussianNB x 12 + Logistic Regression + Linear ...  0.525984  "
      ]
     },
     "execution_count": 62,
     "metadata": {},
     "output_type": "execute_result"
    }
   ],
   "source": [
    "# Creamos un dataframe para almacenar los resultados de todos los modelos. \n",
    "\n",
    "columnas = [\"PRECISION\", \"RECALL\", \"F1\"]\n",
    "model_comparison = pd.DataFrame(metrics, columns = columnas, index = models)\n",
    "model_comparison"
   ]
  },
  {
   "cell_type": "code",
   "execution_count": 64,
   "id": "d81fde2b",
   "metadata": {
    "ExecuteTime": {
     "end_time": "2022-11-26T17:22:30.767988Z",
     "start_time": "2022-11-26T17:22:30.746990Z"
    }
   },
   "outputs": [
    {
     "data": {
      "text/html": [
       "<div>\n",
       "<style scoped>\n",
       "    .dataframe tbody tr th:only-of-type {\n",
       "        vertical-align: middle;\n",
       "    }\n",
       "\n",
       "    .dataframe tbody tr th {\n",
       "        vertical-align: top;\n",
       "    }\n",
       "\n",
       "    .dataframe thead th {\n",
       "        text-align: right;\n",
       "    }\n",
       "</style>\n",
       "<table border=\"1\" class=\"dataframe\">\n",
       "  <thead>\n",
       "    <tr style=\"text-align: right;\">\n",
       "      <th></th>\n",
       "      <th>PRECISION</th>\n",
       "      <th>RECALL</th>\n",
       "      <th>F1</th>\n",
       "      <th>EXECUTION TIME (s)</th>\n",
       "    </tr>\n",
       "  </thead>\n",
       "  <tbody>\n",
       "    <tr>\n",
       "      <th>Logistic Regression</th>\n",
       "      <td>0.685480</td>\n",
       "      <td>0.269483</td>\n",
       "      <td>0.386856</td>\n",
       "      <td>988.748000</td>\n",
       "    </tr>\n",
       "    <tr>\n",
       "      <th>GaussianNB</th>\n",
       "      <td>0.647487</td>\n",
       "      <td>0.403787</td>\n",
       "      <td>0.497367</td>\n",
       "      <td>5.183375</td>\n",
       "    </tr>\n",
       "    <tr>\n",
       "      <th>Catboost Classifier</th>\n",
       "      <td>0.570297</td>\n",
       "      <td>0.381093</td>\n",
       "      <td>0.456843</td>\n",
       "      <td>1442.543204</td>\n",
       "    </tr>\n",
       "    <tr>\n",
       "      <th>GaussianNB x 6 + Final GaussianNB</th>\n",
       "      <td>0.463428</td>\n",
       "      <td>0.611569</td>\n",
       "      <td>0.527269</td>\n",
       "      <td>178.871078</td>\n",
       "    </tr>\n",
       "    <tr>\n",
       "      <th>GaussianNB x 12 + Final GaussianNB</th>\n",
       "      <td>0.452073</td>\n",
       "      <td>0.622520</td>\n",
       "      <td>0.523759</td>\n",
       "      <td>355.491809</td>\n",
       "    </tr>\n",
       "    <tr>\n",
       "      <th>GaussianNB x 24 + Final GaussianNB</th>\n",
       "      <td>0.447101</td>\n",
       "      <td>0.629690</td>\n",
       "      <td>0.522896</td>\n",
       "      <td>724.753948</td>\n",
       "    </tr>\n",
       "    <tr>\n",
       "      <th>GaussianNB + Linear Discriminant Analysis + Final GaussianNB</th>\n",
       "      <td>0.509720</td>\n",
       "      <td>0.553590</td>\n",
       "      <td>0.530730</td>\n",
       "      <td>265.897953</td>\n",
       "    </tr>\n",
       "    <tr>\n",
       "      <th>GaussianNB x 24 + Linear Discriminant Analysis + Final GaussianNB</th>\n",
       "      <td>0.447300</td>\n",
       "      <td>0.631196</td>\n",
       "      <td>0.523551</td>\n",
       "      <td>940.575829</td>\n",
       "    </tr>\n",
       "    <tr>\n",
       "      <th>GaussianNB x 12 + Logistic Regression + Linear Discriminant Analysis + Final GaussianNB</th>\n",
       "      <td>0.453204</td>\n",
       "      <td>0.626662</td>\n",
       "      <td>0.525984</td>\n",
       "      <td>5492.861885</td>\n",
       "    </tr>\n",
       "  </tbody>\n",
       "</table>\n",
       "</div>"
      ],
      "text/plain": [
       "                                                    PRECISION    RECALL  \\\n",
       "Logistic Regression                                  0.685480  0.269483   \n",
       "GaussianNB                                           0.647487  0.403787   \n",
       "Catboost Classifier                                  0.570297  0.381093   \n",
       "GaussianNB x 6 + Final GaussianNB                    0.463428  0.611569   \n",
       "GaussianNB x 12 + Final GaussianNB                   0.452073  0.622520   \n",
       "GaussianNB x 24 + Final GaussianNB                   0.447101  0.629690   \n",
       "GaussianNB + Linear Discriminant Analysis + Fin...   0.509720  0.553590   \n",
       "GaussianNB x 24 + Linear Discriminant Analysis ...   0.447300  0.631196   \n",
       "GaussianNB x 12 + Logistic Regression + Linear ...   0.453204  0.626662   \n",
       "\n",
       "                                                          F1  \\\n",
       "Logistic Regression                                 0.386856   \n",
       "GaussianNB                                          0.497367   \n",
       "Catboost Classifier                                 0.456843   \n",
       "GaussianNB x 6 + Final GaussianNB                   0.527269   \n",
       "GaussianNB x 12 + Final GaussianNB                  0.523759   \n",
       "GaussianNB x 24 + Final GaussianNB                  0.522896   \n",
       "GaussianNB + Linear Discriminant Analysis + Fin...  0.530730   \n",
       "GaussianNB x 24 + Linear Discriminant Analysis ...  0.523551   \n",
       "GaussianNB x 12 + Logistic Regression + Linear ...  0.525984   \n",
       "\n",
       "                                                    EXECUTION TIME (s)  \n",
       "Logistic Regression                                         988.748000  \n",
       "GaussianNB                                                    5.183375  \n",
       "Catboost Classifier                                        1442.543204  \n",
       "GaussianNB x 6 + Final GaussianNB                           178.871078  \n",
       "GaussianNB x 12 + Final GaussianNB                          355.491809  \n",
       "GaussianNB x 24 + Final GaussianNB                          724.753948  \n",
       "GaussianNB + Linear Discriminant Analysis + Fin...          265.897953  \n",
       "GaussianNB x 24 + Linear Discriminant Analysis ...          940.575829  \n",
       "GaussianNB x 12 + Logistic Regression + Linear ...         5492.861885  "
      ]
     },
     "execution_count": 64,
     "metadata": {},
     "output_type": "execute_result"
    }
   ],
   "source": [
    "# Añadimos la columna de \"Tiempo de ejecicón\" al dataframe creado.\n",
    "\n",
    "model_comparison['EXECUTION TIME (s)'] = execution_time\n",
    "model_comparison"
   ]
  },
  {
   "cell_type": "code",
   "execution_count": 65,
   "id": "73ee9212",
   "metadata": {
    "ExecuteTime": {
     "end_time": "2022-11-26T17:22:38.725463Z",
     "start_time": "2022-11-26T17:22:38.714518Z"
    }
   },
   "outputs": [],
   "source": [
    "# Almacenamos el dataframe. \n",
    "\n",
    "with open('model_comparison.pkl','wb') as f:\n",
    "    pickle.dump(model_comparison, f)"
   ]
  },
  {
   "cell_type": "code",
   "execution_count": 78,
   "id": "99de424f",
   "metadata": {
    "ExecuteTime": {
     "end_time": "2022-11-26T17:31:46.276237Z",
     "start_time": "2022-11-26T17:31:46.115071Z"
    }
   },
   "outputs": [
    {
     "data": {
      "image/png": "[encoded data removed]",
      "text/plain": [
       "<Figure size 1080x720 with 1 Axes>"
      ]
     },
     "metadata": {
      "needs_background": "light"
     },
     "output_type": "display_data"
    }
   ],
   "source": [
    "# Realizamos un gráfico donde se compara el tiempo de ejecución y el recall de los modelos. \n",
    "# Cabe aclarar que el timepo de ejecución nos indica qué tan costoso será un modelo.\n",
    "\n",
    "plt.figure(figsize = (15, 10))\n",
    "ax=sns.scatterplot(data = model_comparison, x = model_comparison['EXECUTION TIME (s)'],y = model_comparison['RECALL'], \n",
    "                hue = model_comparison.index, style = model_comparison.index, palette = 'colorblind', s = 350) \n",
    "plt.xlabel('Execution time (s)', y = -0.8, fontsize = 20)\n",
    "plt.ylabel('Recall', x = -1, fontsize = 20)\n",
    "plt.yticks(fontsize = 12)\n",
    "plt.xticks(fontsize = 12)\n",
    "plt.title('Model Comparison', y = 1.015, fontsize = 30)\n",
    "plt.legend(fontsize = 11)\n",
    "plt.show()"
   ]
  },
  {
   "cell_type": "markdown",
   "id": "90e15f3c",
   "metadata": {},
   "source": [
    "<br>"
   ]
  },
  {
   "cell_type": "markdown",
   "id": "c90aa1e3",
   "metadata": {},
   "source": [
    "<br>"
   ]
  },
  {
   "cell_type": "markdown",
   "id": "65bcf535",
   "metadata": {},
   "source": [
    "<br>"
   ]
  },
  {
   "cell_type": "markdown",
   "id": "05d01d42",
   "metadata": {},
   "source": [
    "<br>"
   ]
  },
  {
   "cell_type": "markdown",
   "id": "f5439d8c",
   "metadata": {},
   "source": [
    "<font size='6' style=\"color:forestgreen\">  <b> Conclusion </b> </font>\n",
    "<a name=\"conclusion\"></a>\n",
    "\n",
    "[[ Back to Top ]](#content)"
   ]
  },
  {
   "cell_type": "markdown",
   "id": "ee08a24e",
   "metadata": {},
   "source": [
    "<p style='text-align: justify;'>   \n",
    "Teniendo en cuenta tanto el Recall como el tiempo de ejecución, consideramos que los mejores resultados se lograron con un stacking de los siguientes modelos: GaussianNB x 24 + Linear Discriminant Analysis + Final Estimator GaussianNB. Con dicho modelo de ensamble se obtuvo un Recall de 0.631196 y un tiempo de ejecución de 940.58 segundos. Si bien el tiempo que tarda en ejecutarse el modelo es mayor a otros, el mismo es de 15.15 minutos, que resulta económico para el uso que se le dará al modelo.\n",
    "\n",
    "<p style='text-align: justify;'>\n",
    "El modelo base con el que se comenzó el proyecto es la Regresión Logística con un Recall de 0.269483 y un tiempo de ejecución de 988.74. El modelo de ensable mencionado resulta un incremento del 134,2% de la métrica Recall en comparación con el modelo base y una disminución del 5% del tiempo de ejecución. Teniendo en cuenta que el dataset cuenta con 200 000 registros, donde un 10% son personas que han realizado una transacción, con la Regresión Logística podíamos predecir 5 390 transacciones que se realizarían. Mientras que con el nuevo modelo se pueden predecir 12 623 transacciones. Es decir que con el modelo de ensamble podemos predecir de forma eficiente 7 233 clientes más que realizarán una operación.\n",
    "\n",
    "\n",
    "<p style='text-align: justify;'>\n",
    "Sin embargo, cabe destacar que este trabajo es un primer acercamiento al problema. Consideramos que sería necesario un mayor poder de procesamiento que nos permitiese realizar un análisis más profundo. Con mayor poder computacional se podría realizar optimizaciones más robustas y en mayor cantidad, también se podría explorar con modelos más complejos tales como las redes neuronales."
   ]
  },
  {
   "cell_type": "markdown",
   "id": "fcd47745",
   "metadata": {},
   "source": [
    "<br>"
   ]
  },
  {
   "cell_type": "markdown",
   "id": "77ba36a7",
   "metadata": {},
   "source": [
    "<br>"
   ]
  }
 ],
 "metadata": {
  "kernelspec": {
   "display_name": "Python 3 (ipykernel)",
   "language": "python",
   "name": "python3"
  },
  "language_info": {
   "codemirror_mode": {
    "name": "ipython",
    "version": 3
   },
   "file_extension": ".py",
   "mimetype": "text/x-python",
   "name": "python",
   "nbconvert_exporter": "python",
   "pygments_lexer": "ipython3",
   "version": "3.9.7"
  },
  "toc": {
   "base_numbering": 1,
   "nav_menu": {},
   "number_sections": true,
   "sideBar": true,
   "skip_h1_title": false,
   "title_cell": "Table of Contents",
   "title_sidebar": "Contents",
   "toc_cell": false,
   "toc_position": {},
   "toc_section_display": true,
   "toc_window_display": false
  }
 },
 "nbformat": 4,
 "nbformat_minor": 5
}
