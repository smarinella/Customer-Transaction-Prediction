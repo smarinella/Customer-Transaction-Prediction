{
 "cells": [
  {
   "cell_type": "code",
   "execution_count": 11,
   "id": "4d635bc6",
   "metadata": {
    "ExecuteTime": {
     "end_time": "2022-11-27T22:38:42.870813Z",
     "start_time": "2022-11-27T22:38:42.862777Z"
    }
   },
   "outputs": [],
   "source": [
    "import pandas as pd\n",
    "import numpy as np\n",
    "\n",
    "import matplotlib.pyplot as plt\n",
    "import seaborn as sns\n",
    "\n",
    "from typing import List\n",
    "\n",
    "import time\n",
    "\n",
    "import pickle\n",
    "\n",
    "from statistics import mean\n",
    "\n",
    "from xgboost import XGBClassifier\n",
    "\n",
    "from sklearn.metrics import precision_score\n",
    "from sklearn.metrics import accuracy_score\n",
    "from sklearn.metrics import confusion_matrix\n",
    "from sklearn.metrics import precision_score\n",
    "from sklearn.metrics import recall_score\n",
    "from sklearn.metrics import f1_score\n",
    "from sklearn.metrics import silhouette_score\n",
    "\n",
    "from sklearn.model_selection import cross_val_score\n",
    "from sklearn.model_selection import StratifiedKFold\n",
    "from sklearn.model_selection import train_test_split\n",
    "\n",
    "from sklearn.neural_network import MLPClassifier"
   ]
  },
  {
   "cell_type": "code",
   "execution_count": 3,
   "id": "7043dfd4",
   "metadata": {
    "ExecuteTime": {
     "end_time": "2022-11-27T18:55:40.472421Z",
     "start_time": "2022-11-27T18:55:39.877480Z"
    }
   },
   "outputs": [
    {
     "data": {
      "text/html": [
       "<div>\n",
       "<style scoped>\n",
       "    .dataframe tbody tr th:only-of-type {\n",
       "        vertical-align: middle;\n",
       "    }\n",
       "\n",
       "    .dataframe tbody tr th {\n",
       "        vertical-align: top;\n",
       "    }\n",
       "\n",
       "    .dataframe thead th {\n",
       "        text-align: right;\n",
       "    }\n",
       "</style>\n",
       "<table border=\"1\" class=\"dataframe\">\n",
       "  <thead>\n",
       "    <tr style=\"text-align: right;\">\n",
       "      <th></th>\n",
       "      <th>target</th>\n",
       "      <th>var_0</th>\n",
       "      <th>var_1</th>\n",
       "      <th>var_2</th>\n",
       "      <th>var_3</th>\n",
       "      <th>var_4</th>\n",
       "      <th>var_5</th>\n",
       "      <th>var_6</th>\n",
       "      <th>var_7</th>\n",
       "      <th>var_8</th>\n",
       "      <th>...</th>\n",
       "      <th>var_190</th>\n",
       "      <th>var_191</th>\n",
       "      <th>var_192</th>\n",
       "      <th>var_193</th>\n",
       "      <th>var_194</th>\n",
       "      <th>var_195</th>\n",
       "      <th>var_196</th>\n",
       "      <th>var_197</th>\n",
       "      <th>var_198</th>\n",
       "      <th>var_199</th>\n",
       "    </tr>\n",
       "    <tr>\n",
       "      <th>ID_code</th>\n",
       "      <th></th>\n",
       "      <th></th>\n",
       "      <th></th>\n",
       "      <th></th>\n",
       "      <th></th>\n",
       "      <th></th>\n",
       "      <th></th>\n",
       "      <th></th>\n",
       "      <th></th>\n",
       "      <th></th>\n",
       "      <th></th>\n",
       "      <th></th>\n",
       "      <th></th>\n",
       "      <th></th>\n",
       "      <th></th>\n",
       "      <th></th>\n",
       "      <th></th>\n",
       "      <th></th>\n",
       "      <th></th>\n",
       "      <th></th>\n",
       "      <th></th>\n",
       "    </tr>\n",
       "  </thead>\n",
       "  <tbody>\n",
       "    <tr>\n",
       "      <th>train_0</th>\n",
       "      <td>0</td>\n",
       "      <td>8.9255</td>\n",
       "      <td>-6.7863</td>\n",
       "      <td>11.9081</td>\n",
       "      <td>5.0930</td>\n",
       "      <td>11.4607</td>\n",
       "      <td>-9.2834</td>\n",
       "      <td>5.1187</td>\n",
       "      <td>18.6266</td>\n",
       "      <td>-4.9200</td>\n",
       "      <td>...</td>\n",
       "      <td>4.4354</td>\n",
       "      <td>3.9642</td>\n",
       "      <td>3.1364</td>\n",
       "      <td>1.6910</td>\n",
       "      <td>18.522699</td>\n",
       "      <td>-2.3978</td>\n",
       "      <td>7.8784</td>\n",
       "      <td>8.5635</td>\n",
       "      <td>12.780300</td>\n",
       "      <td>-1.0914</td>\n",
       "    </tr>\n",
       "    <tr>\n",
       "      <th>train_1</th>\n",
       "      <td>0</td>\n",
       "      <td>11.5006</td>\n",
       "      <td>-4.1473</td>\n",
       "      <td>13.8588</td>\n",
       "      <td>5.3890</td>\n",
       "      <td>12.3622</td>\n",
       "      <td>7.0433</td>\n",
       "      <td>5.6208</td>\n",
       "      <td>16.5338</td>\n",
       "      <td>3.1468</td>\n",
       "      <td>...</td>\n",
       "      <td>7.6421</td>\n",
       "      <td>7.7214</td>\n",
       "      <td>2.5837</td>\n",
       "      <td>10.9516</td>\n",
       "      <td>15.430500</td>\n",
       "      <td>2.0339</td>\n",
       "      <td>8.1267</td>\n",
       "      <td>8.7889</td>\n",
       "      <td>18.356001</td>\n",
       "      <td>1.9518</td>\n",
       "    </tr>\n",
       "    <tr>\n",
       "      <th>train_2</th>\n",
       "      <td>0</td>\n",
       "      <td>8.6093</td>\n",
       "      <td>-2.7457</td>\n",
       "      <td>12.0805</td>\n",
       "      <td>7.8928</td>\n",
       "      <td>10.5825</td>\n",
       "      <td>-9.0837</td>\n",
       "      <td>6.9427</td>\n",
       "      <td>14.6155</td>\n",
       "      <td>-4.9193</td>\n",
       "      <td>...</td>\n",
       "      <td>2.9057</td>\n",
       "      <td>9.7905</td>\n",
       "      <td>1.6704</td>\n",
       "      <td>1.6858</td>\n",
       "      <td>21.604200</td>\n",
       "      <td>3.1417</td>\n",
       "      <td>-6.5213</td>\n",
       "      <td>8.2675</td>\n",
       "      <td>14.722200</td>\n",
       "      <td>0.3965</td>\n",
       "    </tr>\n",
       "    <tr>\n",
       "      <th>train_3</th>\n",
       "      <td>0</td>\n",
       "      <td>11.0604</td>\n",
       "      <td>-2.1518</td>\n",
       "      <td>8.9522</td>\n",
       "      <td>7.1957</td>\n",
       "      <td>12.5846</td>\n",
       "      <td>-1.8361</td>\n",
       "      <td>5.8428</td>\n",
       "      <td>14.9250</td>\n",
       "      <td>-5.8609</td>\n",
       "      <td>...</td>\n",
       "      <td>4.4666</td>\n",
       "      <td>4.7433</td>\n",
       "      <td>0.7178</td>\n",
       "      <td>1.4214</td>\n",
       "      <td>23.034700</td>\n",
       "      <td>-1.2706</td>\n",
       "      <td>-2.9275</td>\n",
       "      <td>10.2922</td>\n",
       "      <td>17.969700</td>\n",
       "      <td>-8.9996</td>\n",
       "    </tr>\n",
       "    <tr>\n",
       "      <th>train_4</th>\n",
       "      <td>0</td>\n",
       "      <td>9.8369</td>\n",
       "      <td>-1.4834</td>\n",
       "      <td>12.8746</td>\n",
       "      <td>6.6375</td>\n",
       "      <td>12.2772</td>\n",
       "      <td>2.4486</td>\n",
       "      <td>5.9405</td>\n",
       "      <td>19.2514</td>\n",
       "      <td>6.2654</td>\n",
       "      <td>...</td>\n",
       "      <td>-1.4905</td>\n",
       "      <td>9.5214</td>\n",
       "      <td>-0.1508</td>\n",
       "      <td>9.1942</td>\n",
       "      <td>13.287600</td>\n",
       "      <td>-1.5121</td>\n",
       "      <td>3.9267</td>\n",
       "      <td>9.5031</td>\n",
       "      <td>17.997400</td>\n",
       "      <td>-8.8104</td>\n",
       "    </tr>\n",
       "    <tr>\n",
       "      <th>...</th>\n",
       "      <td>...</td>\n",
       "      <td>...</td>\n",
       "      <td>...</td>\n",
       "      <td>...</td>\n",
       "      <td>...</td>\n",
       "      <td>...</td>\n",
       "      <td>...</td>\n",
       "      <td>...</td>\n",
       "      <td>...</td>\n",
       "      <td>...</td>\n",
       "      <td>...</td>\n",
       "      <td>...</td>\n",
       "      <td>...</td>\n",
       "      <td>...</td>\n",
       "      <td>...</td>\n",
       "      <td>...</td>\n",
       "      <td>...</td>\n",
       "      <td>...</td>\n",
       "      <td>...</td>\n",
       "      <td>...</td>\n",
       "      <td>...</td>\n",
       "    </tr>\n",
       "    <tr>\n",
       "      <th>train_199995</th>\n",
       "      <td>0</td>\n",
       "      <td>11.4880</td>\n",
       "      <td>-0.4956</td>\n",
       "      <td>8.2622</td>\n",
       "      <td>3.5142</td>\n",
       "      <td>10.3404</td>\n",
       "      <td>11.6081</td>\n",
       "      <td>5.6709</td>\n",
       "      <td>15.1516</td>\n",
       "      <td>-0.6209</td>\n",
       "      <td>...</td>\n",
       "      <td>6.1415</td>\n",
       "      <td>13.2305</td>\n",
       "      <td>3.9901</td>\n",
       "      <td>0.9388</td>\n",
       "      <td>18.024900</td>\n",
       "      <td>-1.7939</td>\n",
       "      <td>2.1661</td>\n",
       "      <td>8.5326</td>\n",
       "      <td>16.666000</td>\n",
       "      <td>-17.8661</td>\n",
       "    </tr>\n",
       "    <tr>\n",
       "      <th>train_199996</th>\n",
       "      <td>0</td>\n",
       "      <td>4.9149</td>\n",
       "      <td>-2.4484</td>\n",
       "      <td>16.7052</td>\n",
       "      <td>6.6345</td>\n",
       "      <td>8.3096</td>\n",
       "      <td>-10.5628</td>\n",
       "      <td>5.8802</td>\n",
       "      <td>21.5940</td>\n",
       "      <td>-3.6797</td>\n",
       "      <td>...</td>\n",
       "      <td>4.9611</td>\n",
       "      <td>4.6549</td>\n",
       "      <td>0.6998</td>\n",
       "      <td>1.8341</td>\n",
       "      <td>22.271700</td>\n",
       "      <td>1.7337</td>\n",
       "      <td>-2.1651</td>\n",
       "      <td>6.7419</td>\n",
       "      <td>15.905400</td>\n",
       "      <td>0.3388</td>\n",
       "    </tr>\n",
       "    <tr>\n",
       "      <th>train_199997</th>\n",
       "      <td>0</td>\n",
       "      <td>11.2232</td>\n",
       "      <td>-5.0518</td>\n",
       "      <td>10.5127</td>\n",
       "      <td>5.6456</td>\n",
       "      <td>9.3410</td>\n",
       "      <td>-5.4086</td>\n",
       "      <td>4.5555</td>\n",
       "      <td>21.5571</td>\n",
       "      <td>0.1202</td>\n",
       "      <td>...</td>\n",
       "      <td>4.0651</td>\n",
       "      <td>5.4414</td>\n",
       "      <td>3.1032</td>\n",
       "      <td>4.8793</td>\n",
       "      <td>23.531099</td>\n",
       "      <td>-1.5736</td>\n",
       "      <td>1.2832</td>\n",
       "      <td>8.7155</td>\n",
       "      <td>13.832900</td>\n",
       "      <td>4.1995</td>\n",
       "    </tr>\n",
       "    <tr>\n",
       "      <th>train_199998</th>\n",
       "      <td>0</td>\n",
       "      <td>9.7148</td>\n",
       "      <td>-8.6098</td>\n",
       "      <td>13.6104</td>\n",
       "      <td>5.7930</td>\n",
       "      <td>12.5173</td>\n",
       "      <td>0.5339</td>\n",
       "      <td>6.0479</td>\n",
       "      <td>17.0152</td>\n",
       "      <td>-2.1926</td>\n",
       "      <td>...</td>\n",
       "      <td>2.6840</td>\n",
       "      <td>8.6587</td>\n",
       "      <td>2.7337</td>\n",
       "      <td>11.1178</td>\n",
       "      <td>20.415800</td>\n",
       "      <td>-0.0786</td>\n",
       "      <td>6.7980</td>\n",
       "      <td>10.0342</td>\n",
       "      <td>15.528900</td>\n",
       "      <td>-13.9001</td>\n",
       "    </tr>\n",
       "    <tr>\n",
       "      <th>train_199999</th>\n",
       "      <td>0</td>\n",
       "      <td>10.8762</td>\n",
       "      <td>-5.7105</td>\n",
       "      <td>12.1183</td>\n",
       "      <td>8.0328</td>\n",
       "      <td>11.5577</td>\n",
       "      <td>0.3488</td>\n",
       "      <td>5.2839</td>\n",
       "      <td>15.2058</td>\n",
       "      <td>-0.4541</td>\n",
       "      <td>...</td>\n",
       "      <td>8.9842</td>\n",
       "      <td>1.6893</td>\n",
       "      <td>0.1276</td>\n",
       "      <td>0.3766</td>\n",
       "      <td>15.210100</td>\n",
       "      <td>-2.4907</td>\n",
       "      <td>-2.2342</td>\n",
       "      <td>8.1857</td>\n",
       "      <td>12.128400</td>\n",
       "      <td>0.1385</td>\n",
       "    </tr>\n",
       "  </tbody>\n",
       "</table>\n",
       "<p>200000 rows × 201 columns</p>\n",
       "</div>"
      ],
      "text/plain": [
       "              target    var_0   var_1    var_2   var_3    var_4    var_5  \\\n",
       "ID_code                                                                    \n",
       "train_0            0   8.9255 -6.7863  11.9081  5.0930  11.4607  -9.2834   \n",
       "train_1            0  11.5006 -4.1473  13.8588  5.3890  12.3622   7.0433   \n",
       "train_2            0   8.6093 -2.7457  12.0805  7.8928  10.5825  -9.0837   \n",
       "train_3            0  11.0604 -2.1518   8.9522  7.1957  12.5846  -1.8361   \n",
       "train_4            0   9.8369 -1.4834  12.8746  6.6375  12.2772   2.4486   \n",
       "...              ...      ...     ...      ...     ...      ...      ...   \n",
       "train_199995       0  11.4880 -0.4956   8.2622  3.5142  10.3404  11.6081   \n",
       "train_199996       0   4.9149 -2.4484  16.7052  6.6345   8.3096 -10.5628   \n",
       "train_199997       0  11.2232 -5.0518  10.5127  5.6456   9.3410  -5.4086   \n",
       "train_199998       0   9.7148 -8.6098  13.6104  5.7930  12.5173   0.5339   \n",
       "train_199999       0  10.8762 -5.7105  12.1183  8.0328  11.5577   0.3488   \n",
       "\n",
       "               var_6    var_7   var_8  ...  var_190  var_191  var_192  \\\n",
       "ID_code                                ...                              \n",
       "train_0       5.1187  18.6266 -4.9200  ...   4.4354   3.9642   3.1364   \n",
       "train_1       5.6208  16.5338  3.1468  ...   7.6421   7.7214   2.5837   \n",
       "train_2       6.9427  14.6155 -4.9193  ...   2.9057   9.7905   1.6704   \n",
       "train_3       5.8428  14.9250 -5.8609  ...   4.4666   4.7433   0.7178   \n",
       "train_4       5.9405  19.2514  6.2654  ...  -1.4905   9.5214  -0.1508   \n",
       "...              ...      ...     ...  ...      ...      ...      ...   \n",
       "train_199995  5.6709  15.1516 -0.6209  ...   6.1415  13.2305   3.9901   \n",
       "train_199996  5.8802  21.5940 -3.6797  ...   4.9611   4.6549   0.6998   \n",
       "train_199997  4.5555  21.5571  0.1202  ...   4.0651   5.4414   3.1032   \n",
       "train_199998  6.0479  17.0152 -2.1926  ...   2.6840   8.6587   2.7337   \n",
       "train_199999  5.2839  15.2058 -0.4541  ...   8.9842   1.6893   0.1276   \n",
       "\n",
       "              var_193    var_194  var_195  var_196  var_197    var_198  \\\n",
       "ID_code                                                                  \n",
       "train_0        1.6910  18.522699  -2.3978   7.8784   8.5635  12.780300   \n",
       "train_1       10.9516  15.430500   2.0339   8.1267   8.7889  18.356001   \n",
       "train_2        1.6858  21.604200   3.1417  -6.5213   8.2675  14.722200   \n",
       "train_3        1.4214  23.034700  -1.2706  -2.9275  10.2922  17.969700   \n",
       "train_4        9.1942  13.287600  -1.5121   3.9267   9.5031  17.997400   \n",
       "...               ...        ...      ...      ...      ...        ...   \n",
       "train_199995   0.9388  18.024900  -1.7939   2.1661   8.5326  16.666000   \n",
       "train_199996   1.8341  22.271700   1.7337  -2.1651   6.7419  15.905400   \n",
       "train_199997   4.8793  23.531099  -1.5736   1.2832   8.7155  13.832900   \n",
       "train_199998  11.1178  20.415800  -0.0786   6.7980  10.0342  15.528900   \n",
       "train_199999   0.3766  15.210100  -2.4907  -2.2342   8.1857  12.128400   \n",
       "\n",
       "              var_199  \n",
       "ID_code                \n",
       "train_0       -1.0914  \n",
       "train_1        1.9518  \n",
       "train_2        0.3965  \n",
       "train_3       -8.9996  \n",
       "train_4       -8.8104  \n",
       "...               ...  \n",
       "train_199995 -17.8661  \n",
       "train_199996   0.3388  \n",
       "train_199997   4.1995  \n",
       "train_199998 -13.9001  \n",
       "train_199999   0.1385  \n",
       "\n",
       "[200000 rows x 201 columns]"
      ]
     },
     "execution_count": 3,
     "metadata": {},
     "output_type": "execute_result"
    }
   ],
   "source": [
    "df = pd.read_pickle('../../data/processed/train.pkl')\n",
    "df"
   ]
  },
  {
   "cell_type": "code",
   "execution_count": 4,
   "id": "99292e86",
   "metadata": {
    "ExecuteTime": {
     "end_time": "2022-11-27T18:55:42.347005Z",
     "start_time": "2022-11-27T18:55:42.211519Z"
    }
   },
   "outputs": [],
   "source": [
    "X=df.drop(\"target\", axis=1)\n",
    "y=df[\"target\"]"
   ]
  },
  {
   "cell_type": "code",
   "execution_count": 5,
   "id": "7526d3bb",
   "metadata": {
    "ExecuteTime": {
     "end_time": "2022-11-27T18:55:42.554193Z",
     "start_time": "2022-11-27T18:55:42.533210Z"
    }
   },
   "outputs": [
    {
     "data": {
      "text/plain": [
       "7"
      ]
     },
     "execution_count": 5,
     "metadata": {},
     "output_type": "execute_result"
    }
   ],
   "source": [
    "skf = StratifiedKFold(n_splits=7,shuffle=False)\n",
    "skf.get_n_splits(X, y)"
   ]
  },
  {
   "cell_type": "code",
   "execution_count": 6,
   "id": "e60b69a6",
   "metadata": {
    "ExecuteTime": {
     "end_time": "2022-11-27T18:55:42.911195Z",
     "start_time": "2022-11-27T18:55:42.894199Z"
    }
   },
   "outputs": [],
   "source": [
    "#Genero lista de resultados\n",
    "results=[]\n",
    "lista_name=[]\n",
    "tiempo_ejecucion=[]"
   ]
  },
  {
   "cell_type": "code",
   "execution_count": 9,
   "id": "b8578a8d",
   "metadata": {
    "ExecuteTime": {
     "end_time": "2022-11-10T06:42:51.659409Z",
     "start_time": "2022-11-10T06:42:51.641339Z"
    }
   },
   "outputs": [],
   "source": [
    "MLP0 = MLPClassifier()"
   ]
  },
  {
   "cell_type": "code",
   "execution_count": 10,
   "id": "89c57f1b",
   "metadata": {
    "ExecuteTime": {
     "end_time": "2022-11-10T07:23:47.782329Z",
     "start_time": "2022-11-10T06:42:51.661420Z"
    }
   },
   "outputs": [
    {
     "name": "stdout",
     "output_type": "stream",
     "text": [
      "[[24915   785]\n",
      " [ 1987   885]] 0.5299401197604791 0.3081476323119777\n"
     ]
    },
    {
     "name": "stderr",
     "output_type": "stream",
     "text": [
      "C:\\ProgramData\\Anaconda3\\lib\\site-packages\\sklearn\\neural_network\\_multilayer_perceptron.py:692: ConvergenceWarning: Stochastic Optimizer: Maximum iterations (200) reached and the optimization hasn't converged yet.\n",
      "  warnings.warn(\n"
     ]
    },
    {
     "name": "stdout",
     "output_type": "stream",
     "text": [
      "El valor promedio del recall es 0.279578636232656\n",
      "el tiempo fue de  2456.112848997116\n"
     ]
    }
   ],
   "source": [
    "#==================================MLPClassifier================================================\n",
    "contador=0\n",
    "inicio=time.time()\n",
    "recall_prom=[]\n",
    "for train_index, test_index in skf.split(X, y):\n",
    "    X_train=X.iloc[train_index]\n",
    "    X_test=X.iloc[test_index]\n",
    "    y_train=y.iloc[train_index]\n",
    "    y_test=y.iloc[test_index]\n",
    "    MLP0.fit(X_train, y_train)\n",
    "    y_pred=np.asarray(MLP0.predict(X_test))\n",
    "    cm=confusion_matrix(y_test, y_pred)\n",
    "    precision = precision_score(y_test, y_pred,average='binary')    \n",
    "    recall = recall_score(y_test, y_pred,average='binary')\n",
    "    recall_prom.append(recall)\n",
    "    if contador==2:\n",
    "        print(cm,precision,recall)\n",
    "    contador+=1\n",
    "    \n",
    "results.append(mean(recall_prom))\n",
    "print(\"El valor promedio del recall es\", mean(recall_prom))\n",
    "lista_name.append(\"Fulldata_MLP0Classifier\")\n",
    "fin = time.time()\n",
    "tiempo_ejecucion.append(fin-inicio)\n",
    "print(\"el tiempo fue de \", fin-inicio)"
   ]
  },
  {
   "cell_type": "code",
   "execution_count": 7,
   "id": "aca3ef77",
   "metadata": {
    "scrolled": true
   },
   "outputs": [],
   "source": [
    "MLP = MLPClassifier(max_iter=2000,hidden_layer_sizes=(100,75))"
   ]
  },
  {
   "cell_type": "code",
   "execution_count": 8,
   "id": "17fe8e2a",
   "metadata": {},
   "outputs": [
    {
     "name": "stdout",
     "output_type": "stream",
     "text": [
      "[[24784   916]\n",
      " [ 2017   855]] 0.4827780914737436 0.29770194986072424\n",
      "El valor promedio del recall es 0.2985372094367388\n",
      "el tiempo fue de  4284.473002910614\n"
     ]
    }
   ],
   "source": [
    "#==================================MLPClassifier================================================\n",
    "contador=0\n",
    "inicio=time.time()\n",
    "recall_prom=[]\n",
    "\n",
    "for train_index, test_index in skf.split(X, y):\n",
    "    \n",
    "    X_train=X.iloc[train_index]\n",
    "    X_test=X.iloc[test_index]\n",
    "    y_train=y.iloc[train_index]\n",
    "    y_test=y.iloc[test_index]\n",
    "    \n",
    "    MLP.fit(X_train, y_train)\n",
    "    \n",
    "    y_pred=np.asarray(MLP.predict(X_test))\n",
    "    \n",
    "    cm=confusion_matrix(y_test, y_pred)\n",
    "    precision = precision_score(y_test, y_pred,average='binary')    \n",
    "    recall = recall_score(y_test, y_pred,average='binary')\n",
    "    recall_prom.append(recall)\n",
    "    \n",
    "    if contador==2:\n",
    "        print(cm,precision,recall)\n",
    "    contador+=1\n",
    "    \n",
    "results.append(mean(recall_prom))\n",
    "\n",
    "print(\"El valor promedio del recall es\", mean(recall_prom))\n",
    "\n",
    "lista_name.append(\"Fulldata_MLPClassifier\")\n",
    "\n",
    "fin = time.time()\n",
    "tiempo_ejecucion.append(fin-inicio)\n",
    "print(\"el tiempo fue de \", fin-inicio)"
   ]
  },
  {
   "cell_type": "code",
   "execution_count": 9,
   "id": "d7da26d8",
   "metadata": {},
   "outputs": [],
   "source": [
    "MLP2 = MLPClassifier(max_iter=2000,hidden_layer_sizes=(100,125))"
   ]
  },
  {
   "cell_type": "code",
   "execution_count": 10,
   "id": "21d362fa",
   "metadata": {},
   "outputs": [
    {
     "name": "stdout",
     "output_type": "stream",
     "text": [
      "[[24930   770]\n",
      " [ 2074   798]] 0.5089285714285714 0.27785515320334264\n",
      "El valor promedio del recall es 0.28196855972766066\n",
      "el tiempo fue de  4438.673186540604\n"
     ]
    }
   ],
   "source": [
    "#==================================MLPClassifier================================================\n",
    "contador=0\n",
    "inicio=time.time()\n",
    "recall_prom=[]\n",
    "\n",
    "for train_index, test_index in skf.split(X, y):\n",
    "    \n",
    "    X_train=X.iloc[train_index]\n",
    "    X_test=X.iloc[test_index]\n",
    "    y_train=y.iloc[train_index]\n",
    "    y_test=y.iloc[test_index]\n",
    "    \n",
    "    MLP2.fit(X_train, y_train)\n",
    "    \n",
    "    y_pred=np.asarray(MLP2.predict(X_test))\n",
    "    \n",
    "    cm=confusion_matrix(y_test, y_pred)\n",
    "    precision = precision_score(y_test, y_pred,average='binary')    \n",
    "    recall = recall_score(y_test, y_pred,average='binary')\n",
    "    recall_prom.append(recall)\n",
    "    \n",
    "    if contador==2:\n",
    "        print(cm,precision,recall)\n",
    "    contador+=1\n",
    "    \n",
    "results.append(mean(recall_prom))\n",
    "\n",
    "print(\"El valor promedio del recall es\", mean(recall_prom))\n",
    "\n",
    "lista_name.append(\"Fulldata_MLP2Classifier\")\n",
    "\n",
    "fin = time.time()\n",
    "tiempo_ejecucion.append(fin-inicio)\n",
    "print(\"el tiempo fue de \", fin-inicio)"
   ]
  },
  {
   "cell_type": "code",
   "execution_count": 11,
   "id": "62f97184",
   "metadata": {},
   "outputs": [],
   "source": [
    "MLP3 = MLPClassifier(max_iter=2000,hidden_layer_sizes=(100,200))"
   ]
  },
  {
   "cell_type": "code",
   "execution_count": 12,
   "id": "1e960c32",
   "metadata": {},
   "outputs": [
    {
     "name": "stdout",
     "output_type": "stream",
     "text": [
      "[[24591  1109]\n",
      " [ 2091   781]] 0.4132275132275132 0.2719359331476323\n",
      "El valor promedio del recall es 0.29420948719046885\n",
      "el tiempo fue de  6649.716140508652\n"
     ]
    }
   ],
   "source": [
    "#==================================MLPClassifier================================================\n",
    "contador=0\n",
    "inicio=time.time()\n",
    "recall_prom=[]\n",
    "\n",
    "for train_index, test_index in skf.split(X, y):\n",
    "    \n",
    "    X_train=X.iloc[train_index]\n",
    "    X_test=X.iloc[test_index]\n",
    "    y_train=y.iloc[train_index]\n",
    "    y_test=y.iloc[test_index]\n",
    "    \n",
    "    MLP3.fit(X_train, y_train)\n",
    "    \n",
    "    y_pred=np.asarray(MLP3.predict(X_test))\n",
    "    \n",
    "    cm=confusion_matrix(y_test, y_pred)\n",
    "    precision = precision_score(y_test, y_pred,average='binary')    \n",
    "    recall = recall_score(y_test, y_pred,average='binary')\n",
    "    recall_prom.append(recall)\n",
    "    \n",
    "    if contador==2:\n",
    "        print(cm,precision,recall)\n",
    "    contador+=1\n",
    "    \n",
    "results.append(mean(recall_prom))\n",
    "\n",
    "print(\"El valor promedio del recall es\", mean(recall_prom))\n",
    "\n",
    "lista_name.append(\"Fulldata_MLP3Classifier\")\n",
    "\n",
    "fin = time.time()\n",
    "tiempo_ejecucion.append(fin-inicio)\n",
    "print(\"el tiempo fue de \", fin-inicio)"
   ]
  },
  {
   "cell_type": "code",
   "execution_count": 13,
   "id": "92fe9d13",
   "metadata": {},
   "outputs": [],
   "source": [
    "MLP4 = MLPClassifier(max_iter=2000,hidden_layer_sizes=(200,250))"
   ]
  },
  {
   "cell_type": "code",
   "execution_count": 14,
   "id": "bdbbbbc6",
   "metadata": {},
   "outputs": [
    {
     "name": "stdout",
     "output_type": "stream",
     "text": [
      "[[24213  1487]\n",
      " [ 2013   859]] 0.36615515771526 0.29909470752089135\n",
      "El valor promedio del recall es 0.3118724638151206\n",
      "el tiempo fue de  9516.40111207962\n"
     ]
    }
   ],
   "source": [
    "#==================================MLPClassifier================================================\n",
    "contador=0\n",
    "inicio=time.time()\n",
    "recall_prom=[]\n",
    "\n",
    "for train_index, test_index in skf.split(X, y):\n",
    "    \n",
    "    X_train=X.iloc[train_index]\n",
    "    X_test=X.iloc[test_index]\n",
    "    y_train=y.iloc[train_index]\n",
    "    y_test=y.iloc[test_index]\n",
    "    \n",
    "    MLP4.fit(X_train, y_train)\n",
    "    \n",
    "    y_pred=np.asarray(MLP4.predict(X_test))\n",
    "    \n",
    "    cm=confusion_matrix(y_test, y_pred)\n",
    "    precision = precision_score(y_test, y_pred,average='binary')    \n",
    "    recall = recall_score(y_test, y_pred,average='binary')\n",
    "    recall_prom.append(recall)\n",
    "    \n",
    "    if contador==2:\n",
    "        print(cm,precision,recall)\n",
    "    contador+=1\n",
    "    \n",
    "results.append(mean(recall_prom))\n",
    "\n",
    "print(\"El valor promedio del recall es\", mean(recall_prom))\n",
    "\n",
    "lista_name.append(\"Fulldata_MLP4Classifier\")\n",
    "\n",
    "fin = time.time()\n",
    "tiempo_ejecucion.append(fin-inicio)\n",
    "print(\"el tiempo fue de \", fin-inicio)"
   ]
  },
  {
   "cell_type": "code",
   "execution_count": 15,
   "id": "008be92c",
   "metadata": {},
   "outputs": [],
   "source": [
    "MLP5 = MLPClassifier(max_iter=2000,hidden_layer_sizes=(300,250))"
   ]
  },
  {
   "cell_type": "code",
   "execution_count": 16,
   "id": "1f421fbd",
   "metadata": {},
   "outputs": [
    {
     "name": "stdout",
     "output_type": "stream",
     "text": [
      "[[24089  1611]\n",
      " [ 1923   949]] 0.370703125 0.3304317548746518\n",
      "El valor promedio del recall es 0.32610188427352965\n",
      "el tiempo fue de  9665.995199680328\n"
     ]
    }
   ],
   "source": [
    "#==================================MLPClassifier================================================\n",
    "contador=0\n",
    "inicio=time.time()\n",
    "recall_prom=[]\n",
    "for train_index, test_index in skf.split(X, y):\n",
    "    X_train=X.iloc[train_index]\n",
    "    X_test=X.iloc[test_index]\n",
    "    y_train=y.iloc[train_index]\n",
    "    y_test=y.iloc[test_index]\n",
    "    MLP5.fit(X_train, y_train)\n",
    "    y_pred=np.asarray(MLP5.predict(X_test))\n",
    "    cm=confusion_matrix(y_test, y_pred)\n",
    "    precision = precision_score(y_test, y_pred,average='binary')    \n",
    "    recall = recall_score(y_test, y_pred,average='binary')\n",
    "    recall_prom.append(recall)\n",
    "    if contador==2:\n",
    "        print(cm,precision,recall)\n",
    "    contador+=1\n",
    "    \n",
    "results.append(mean(recall_prom))\n",
    "print(\"El valor promedio del recall es\", mean(recall_prom))\n",
    "lista_name.append(\"Fulldata_MLP5Classifier\")\n",
    "fin = time.time()\n",
    "tiempo_ejecucion.append(fin-inicio)\n",
    "print(\"el tiempo fue de \", fin-inicio)"
   ]
  },
  {
   "cell_type": "code",
   "execution_count": 17,
   "id": "687981cc",
   "metadata": {},
   "outputs": [],
   "source": [
    "MLP6 = MLPClassifier(max_iter=2000,hidden_layer_sizes=(300,50))\n"
   ]
  },
  {
   "cell_type": "code",
   "execution_count": 18,
   "id": "8a372730",
   "metadata": {},
   "outputs": [
    {
     "name": "stdout",
     "output_type": "stream",
     "text": [
      "[[23948  1752]\n",
      " [ 1848  1024]] 0.3688760806916426 0.3565459610027855\n",
      "El valor promedio del recall es 0.35217412818027555\n",
      "el tiempo fue de  9657.28878235817\n"
     ]
    }
   ],
   "source": [
    "#==================================MLPClassifier================================================\n",
    "contador=0\n",
    "inicio=time.time()\n",
    "recall_prom=[]\n",
    "for train_index, test_index in skf.split(X, y):\n",
    "    X_train=X.iloc[train_index]\n",
    "    X_test=X.iloc[test_index]\n",
    "    y_train=y.iloc[train_index]\n",
    "    y_test=y.iloc[test_index]\n",
    "    MLP6.fit(X_train, y_train)\n",
    "    y_pred=np.asarray(MLP6.predict(X_test))\n",
    "    cm=confusion_matrix(y_test, y_pred)\n",
    "    precision = precision_score(y_test, y_pred,average='binary')    \n",
    "    recall = recall_score(y_test, y_pred,average='binary')\n",
    "    recall_prom.append(recall)\n",
    "    if contador==2:\n",
    "        print(cm,precision,recall)\n",
    "    contador+=1\n",
    "    \n",
    "results.append(mean(recall_prom))\n",
    "print(\"El valor promedio del recall es\", mean(recall_prom))\n",
    "lista_name.append(\"Fulldata_MLP6Classifier\")\n",
    "fin = time.time()\n",
    "tiempo_ejecucion.append(fin-inicio)\n",
    "print(\"el tiempo fue de \", fin-inicio)"
   ]
  },
  {
   "cell_type": "code",
   "execution_count": 7,
   "id": "81ebaabe",
   "metadata": {
    "ExecuteTime": {
     "end_time": "2022-11-10T01:56:07.766429Z",
     "start_time": "2022-11-10T01:56:07.755392Z"
    }
   },
   "outputs": [],
   "source": [
    "MLP7 = MLPClassifier(max_iter=2000,hidden_layer_sizes=(300,300,300))\n"
   ]
  },
  {
   "cell_type": "code",
   "execution_count": 8,
   "id": "34305b46",
   "metadata": {
    "ExecuteTime": {
     "end_time": "2022-11-10T06:42:51.639323Z",
     "start_time": "2022-11-10T01:56:12.101193Z"
    }
   },
   "outputs": [
    {
     "name": "stdout",
     "output_type": "stream",
     "text": [
      "[[24231  1469]\n",
      " [ 1942   930]] 0.3876615256356815 0.32381615598885793\n",
      "El valor promedio del recall es 0.32485824669572627\n",
      "el tiempo fue de  17199.50600361824\n"
     ]
    }
   ],
   "source": [
    "#==================================MLPClassifier================================================\n",
    "contador=0\n",
    "inicio=time.time()\n",
    "recall_prom=[]\n",
    "for train_index, test_index in skf.split(X, y):\n",
    "    X_train=X.iloc[train_index]\n",
    "    X_test=X.iloc[test_index]\n",
    "    y_train=y.iloc[train_index]\n",
    "    y_test=y.iloc[test_index]\n",
    "    MLP7.fit(X_train, y_train)\n",
    "    y_pred=np.asarray(MLP7.predict(X_test))\n",
    "    cm=confusion_matrix(y_test, y_pred)\n",
    "    precision = precision_score(y_test, y_pred,average='binary')    \n",
    "    recall = recall_score(y_test, y_pred,average='binary')\n",
    "    recall_prom.append(recall)\n",
    "    if contador==2:\n",
    "        print(cm,precision,recall)\n",
    "    contador+=1\n",
    "    \n",
    "results.append(mean(recall_prom))\n",
    "print(\"El valor promedio del recall es\", mean(recall_prom))\n",
    "lista_name.append(\"Fulldata_MLP7Classifier\")\n",
    "fin = time.time()\n",
    "tiempo_ejecucion.append(fin-inicio)\n",
    "print(\"el tiempo fue de \", fin-inicio)"
   ]
  },
  {
   "cell_type": "code",
   "execution_count": 7,
   "id": "66f02ec3",
   "metadata": {
    "ExecuteTime": {
     "end_time": "2022-11-27T18:55:53.375631Z",
     "start_time": "2022-11-27T18:55:53.370619Z"
    }
   },
   "outputs": [],
   "source": [
    "MLP8 = MLPClassifier(max_iter=2000,hidden_layer_sizes=(300,50,50))\n"
   ]
  },
  {
   "cell_type": "code",
   "execution_count": 8,
   "id": "9060da3d",
   "metadata": {
    "ExecuteTime": {
     "end_time": "2022-11-27T21:47:54.100827Z",
     "start_time": "2022-11-27T18:55:56.711272Z"
    }
   },
   "outputs": [
    {
     "name": "stdout",
     "output_type": "stream",
     "text": [
      "[[23965  1735]\n",
      " [ 1852  1020]] 0.3702359346642468 0.3551532033426184\n",
      "El valor promedio del recall es 0.3326687986663013\n",
      "el tiempo fue de  10317.366469860077\n"
     ]
    }
   ],
   "source": [
    "#==================================MLPClassifier================================================\n",
    "contador=0\n",
    "inicio=time.time()\n",
    "recall_prom=[]\n",
    "for train_index, test_index in skf.split(X, y):\n",
    "    X_train=X.iloc[train_index]\n",
    "    X_test=X.iloc[test_index]\n",
    "    y_train=y.iloc[train_index]\n",
    "    y_test=y.iloc[test_index]\n",
    "    MLP8.fit(X_train, y_train)\n",
    "    y_pred=np.asarray(MLP8.predict(X_test))\n",
    "    cm=confusion_matrix(y_test, y_pred)\n",
    "    precision = precision_score(y_test, y_pred,average='binary')    \n",
    "    recall = recall_score(y_test, y_pred,average='binary')\n",
    "    recall_prom.append(recall)\n",
    "    if contador==2:\n",
    "        print(cm,precision,recall)\n",
    "    contador+=1\n",
    "    \n",
    "results.append(mean(recall_prom))\n",
    "print(\"El valor promedio del recall es\", mean(recall_prom))\n",
    "lista_name.append(\"Fulldata_MLP8Classifier\")\n",
    "fin = time.time()\n",
    "tiempo_ejecucion.append(fin-inicio)\n",
    "print(\"el tiempo fue de \", fin-inicio)\n",
    "\n",
    "\n",
    "#MLP con recall mas alto"
   ]
  },
  {
   "cell_type": "code",
   "execution_count": 12,
   "id": "d4e0f19d",
   "metadata": {
    "ExecuteTime": {
     "end_time": "2022-11-27T22:38:49.689264Z",
     "start_time": "2022-11-27T22:38:49.678374Z"
    }
   },
   "outputs": [],
   "source": [
    "pkl_file = \"../../models/best_MLP.pkl\"\n",
    "\n",
    "with open(pkl_file, 'wb') as file:\n",
    "    pickle.dump(MLP8, file)"
   ]
  },
  {
   "cell_type": "code",
   "execution_count": 13,
   "id": "a285ad3e",
   "metadata": {
    "ExecuteTime": {
     "end_time": "2022-11-10T10:20:04.289593Z",
     "start_time": "2022-11-10T10:20:04.271524Z"
    }
   },
   "outputs": [],
   "source": [
    "MLP9 = MLPClassifier(max_iter=2000,hidden_layer_sizes=(300,200,100))\n"
   ]
  },
  {
   "cell_type": "code",
   "execution_count": 14,
   "id": "b87cb9ca",
   "metadata": {
    "ExecuteTime": {
     "end_time": "2022-11-10T13:58:04.017334Z",
     "start_time": "2022-11-10T10:20:04.291604Z"
    }
   },
   "outputs": [
    {
     "name": "stdout",
     "output_type": "stream",
     "text": [
      "[[24382  1318]\n",
      " [ 2002   870]] 0.3976234003656307 0.30292479108635095\n",
      "El valor promedio del recall es 0.3383936445842122\n",
      "el tiempo fue de  13079.705614328384\n"
     ]
    }
   ],
   "source": [
    "#==================================MLPClassifier================================================\n",
    "contador=0\n",
    "inicio=time.time()\n",
    "recall_prom=[]\n",
    "for train_index, test_index in skf.split(X, y):\n",
    "    X_train=X.iloc[train_index]\n",
    "    X_test=X.iloc[test_index]\n",
    "    y_train=y.iloc[train_index]\n",
    "    y_test=y.iloc[test_index]\n",
    "    MLP9.fit(X_train, y_train)\n",
    "    y_pred=np.asarray(MLP9.predict(X_test))\n",
    "    cm=confusion_matrix(y_test, y_pred)\n",
    "    precision = precision_score(y_test, y_pred,average='binary')    \n",
    "    recall = recall_score(y_test, y_pred,average='binary')\n",
    "    recall_prom.append(recall)\n",
    "    if contador==2:\n",
    "        print(cm,precision,recall)\n",
    "    contador+=1\n",
    "    \n",
    "results.append(mean(recall_prom))\n",
    "print(\"El valor promedio del recall es\", mean(recall_prom))\n",
    "lista_name.append(\"Fulldata_MLP9Classifier\")\n",
    "fin = time.time()\n",
    "tiempo_ejecucion.append(fin-inicio)\n",
    "print(\"el tiempo fue de \", fin-inicio)"
   ]
  },
  {
   "cell_type": "code",
   "execution_count": null,
   "id": "5e8ae26d",
   "metadata": {},
   "outputs": [],
   "source": []
  }
 ],
 "metadata": {
  "kernelspec": {
   "display_name": "Python 3 (ipykernel)",
   "language": "python",
   "name": "python3"
  },
  "language_info": {
   "codemirror_mode": {
    "name": "ipython",
    "version": 3
   },
   "file_extension": ".py",
   "mimetype": "text/x-python",
   "name": "python",
   "nbconvert_exporter": "python",
   "pygments_lexer": "ipython3",
   "version": "3.9.13"
  }
 },
 "nbformat": 4,
 "nbformat_minor": 5
}
