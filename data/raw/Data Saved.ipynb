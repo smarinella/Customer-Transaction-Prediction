{
 "cells": [
  {
   "cell_type": "markdown",
   "id": "a7db071b",
   "metadata": {},
   "source": [
    "<font size='10' style=\"color:blue\"><b> Customer Transaction Prediction </b> </font>"
   ]
  },
  {
   "cell_type": "markdown",
   "id": "a3992b6f",
   "metadata": {},
   "source": [
    "Fuente de datos:\n",
    "https://www.kaggle.com/datasets/lakshmi25npathi/santander-customer-transaction-prediction-dataset\n",
    "\n",
    "\n",
    "Equipo de trabajo: \n",
    "\n",
    "    - Breitman, Zarina Madelaine   \n",
    "    - Marinella, Santiago   \n",
    "    - Navarro Quantín, Denise   \n",
    "    - Ramos, Mateo    "
   ]
  },
  {
   "cell_type": "markdown",
   "id": "aa21feda",
   "metadata": {},
   "source": [
    "<font size='6' style=\"color: forestgreen\"><b> Content </b> </font>\n",
    "<a name=\"content\"></a>\n",
    "<br>\n",
    "\n",
    "\n",
    "1. [Imports](#Imports)\n",
    "<br>\n",
    "<br>\n",
    "2. [Data Saved](#Imports)\n",
    "<br>\n",
    "<br>\n",
    "\n"
   ]
  },
  {
   "cell_type": "markdown",
   "id": "e69db703",
   "metadata": {},
   "source": [
    "<font size='6' style=\"color:forestgreen\"><b> Imports </b> </font>\n",
    "\n",
    "<a name=\"Imports\"></a>\n",
    "\n",
    "[[ Back to Top ]](#content)"
   ]
  },
  {
   "cell_type": "code",
   "execution_count": 1,
   "id": "428ee03b",
   "metadata": {
    "ExecuteTime": {
     "end_time": "2022-11-14T21:07:27.721365Z",
     "start_time": "2022-11-14T21:07:26.233387Z"
    }
   },
   "outputs": [],
   "source": [
    "#========================================librerías para manipulación de datos===================================================\n",
    "import pandas as pd\n",
    "import numpy as np\n",
    "#========================================================== Test split =========================================================\n",
    "from sklearn.model_selection import StratifiedKFold"
   ]
  },
  {
   "cell_type": "markdown",
   "id": "b2336e91",
   "metadata": {},
   "source": [
    "<font size='6' style=\"color:forestgreen\"><b> Data Saved </b> </font>\n",
    "\n",
    "<a name=\"Data Saved\"></a>\n",
    "\n",
    "[[ Back to Top ]](#content)"
   ]
  },
  {
   "cell_type": "code",
   "execution_count": 6,
   "id": "476dc319",
   "metadata": {
    "ExecuteTime": {
     "end_time": "2022-11-14T21:20:29.626568Z",
     "start_time": "2022-11-14T21:20:26.113407Z"
    }
   },
   "outputs": [
    {
     "data": {
      "text/html": [
       "<div>\n",
       "<style scoped>\n",
       "    .dataframe tbody tr th:only-of-type {\n",
       "        vertical-align: middle;\n",
       "    }\n",
       "\n",
       "    .dataframe tbody tr th {\n",
       "        vertical-align: top;\n",
       "    }\n",
       "\n",
       "    .dataframe thead th {\n",
       "        text-align: right;\n",
       "    }\n",
       "</style>\n",
       "<table border=\"1\" class=\"dataframe\">\n",
       "  <thead>\n",
       "    <tr style=\"text-align: right;\">\n",
       "      <th></th>\n",
       "      <th>target</th>\n",
       "      <th>var_0</th>\n",
       "      <th>var_1</th>\n",
       "      <th>var_2</th>\n",
       "      <th>var_3</th>\n",
       "      <th>var_4</th>\n",
       "      <th>var_5</th>\n",
       "      <th>var_6</th>\n",
       "      <th>var_7</th>\n",
       "      <th>var_8</th>\n",
       "      <th>...</th>\n",
       "      <th>var_190</th>\n",
       "      <th>var_191</th>\n",
       "      <th>var_192</th>\n",
       "      <th>var_193</th>\n",
       "      <th>var_194</th>\n",
       "      <th>var_195</th>\n",
       "      <th>var_196</th>\n",
       "      <th>var_197</th>\n",
       "      <th>var_198</th>\n",
       "      <th>var_199</th>\n",
       "    </tr>\n",
       "    <tr>\n",
       "      <th>ID_code</th>\n",
       "      <th></th>\n",
       "      <th></th>\n",
       "      <th></th>\n",
       "      <th></th>\n",
       "      <th></th>\n",
       "      <th></th>\n",
       "      <th></th>\n",
       "      <th></th>\n",
       "      <th></th>\n",
       "      <th></th>\n",
       "      <th></th>\n",
       "      <th></th>\n",
       "      <th></th>\n",
       "      <th></th>\n",
       "      <th></th>\n",
       "      <th></th>\n",
       "      <th></th>\n",
       "      <th></th>\n",
       "      <th></th>\n",
       "      <th></th>\n",
       "      <th></th>\n",
       "    </tr>\n",
       "  </thead>\n",
       "  <tbody>\n",
       "    <tr>\n",
       "      <th>train_0</th>\n",
       "      <td>0</td>\n",
       "      <td>8.9255</td>\n",
       "      <td>-6.7863</td>\n",
       "      <td>11.9081</td>\n",
       "      <td>5.0930</td>\n",
       "      <td>11.4607</td>\n",
       "      <td>-9.2834</td>\n",
       "      <td>5.1187</td>\n",
       "      <td>18.6266</td>\n",
       "      <td>-4.9200</td>\n",
       "      <td>...</td>\n",
       "      <td>4.4354</td>\n",
       "      <td>3.9642</td>\n",
       "      <td>3.1364</td>\n",
       "      <td>1.6910</td>\n",
       "      <td>18.5227</td>\n",
       "      <td>-2.3978</td>\n",
       "      <td>7.8784</td>\n",
       "      <td>8.5635</td>\n",
       "      <td>12.7803</td>\n",
       "      <td>-1.0914</td>\n",
       "    </tr>\n",
       "    <tr>\n",
       "      <th>train_1</th>\n",
       "      <td>0</td>\n",
       "      <td>11.5006</td>\n",
       "      <td>-4.1473</td>\n",
       "      <td>13.8588</td>\n",
       "      <td>5.3890</td>\n",
       "      <td>12.3622</td>\n",
       "      <td>7.0433</td>\n",
       "      <td>5.6208</td>\n",
       "      <td>16.5338</td>\n",
       "      <td>3.1468</td>\n",
       "      <td>...</td>\n",
       "      <td>7.6421</td>\n",
       "      <td>7.7214</td>\n",
       "      <td>2.5837</td>\n",
       "      <td>10.9516</td>\n",
       "      <td>15.4305</td>\n",
       "      <td>2.0339</td>\n",
       "      <td>8.1267</td>\n",
       "      <td>8.7889</td>\n",
       "      <td>18.3560</td>\n",
       "      <td>1.9518</td>\n",
       "    </tr>\n",
       "    <tr>\n",
       "      <th>train_2</th>\n",
       "      <td>0</td>\n",
       "      <td>8.6093</td>\n",
       "      <td>-2.7457</td>\n",
       "      <td>12.0805</td>\n",
       "      <td>7.8928</td>\n",
       "      <td>10.5825</td>\n",
       "      <td>-9.0837</td>\n",
       "      <td>6.9427</td>\n",
       "      <td>14.6155</td>\n",
       "      <td>-4.9193</td>\n",
       "      <td>...</td>\n",
       "      <td>2.9057</td>\n",
       "      <td>9.7905</td>\n",
       "      <td>1.6704</td>\n",
       "      <td>1.6858</td>\n",
       "      <td>21.6042</td>\n",
       "      <td>3.1417</td>\n",
       "      <td>-6.5213</td>\n",
       "      <td>8.2675</td>\n",
       "      <td>14.7222</td>\n",
       "      <td>0.3965</td>\n",
       "    </tr>\n",
       "    <tr>\n",
       "      <th>train_3</th>\n",
       "      <td>0</td>\n",
       "      <td>11.0604</td>\n",
       "      <td>-2.1518</td>\n",
       "      <td>8.9522</td>\n",
       "      <td>7.1957</td>\n",
       "      <td>12.5846</td>\n",
       "      <td>-1.8361</td>\n",
       "      <td>5.8428</td>\n",
       "      <td>14.9250</td>\n",
       "      <td>-5.8609</td>\n",
       "      <td>...</td>\n",
       "      <td>4.4666</td>\n",
       "      <td>4.7433</td>\n",
       "      <td>0.7178</td>\n",
       "      <td>1.4214</td>\n",
       "      <td>23.0347</td>\n",
       "      <td>-1.2706</td>\n",
       "      <td>-2.9275</td>\n",
       "      <td>10.2922</td>\n",
       "      <td>17.9697</td>\n",
       "      <td>-8.9996</td>\n",
       "    </tr>\n",
       "    <tr>\n",
       "      <th>train_4</th>\n",
       "      <td>0</td>\n",
       "      <td>9.8369</td>\n",
       "      <td>-1.4834</td>\n",
       "      <td>12.8746</td>\n",
       "      <td>6.6375</td>\n",
       "      <td>12.2772</td>\n",
       "      <td>2.4486</td>\n",
       "      <td>5.9405</td>\n",
       "      <td>19.2514</td>\n",
       "      <td>6.2654</td>\n",
       "      <td>...</td>\n",
       "      <td>-1.4905</td>\n",
       "      <td>9.5214</td>\n",
       "      <td>-0.1508</td>\n",
       "      <td>9.1942</td>\n",
       "      <td>13.2876</td>\n",
       "      <td>-1.5121</td>\n",
       "      <td>3.9267</td>\n",
       "      <td>9.5031</td>\n",
       "      <td>17.9974</td>\n",
       "      <td>-8.8104</td>\n",
       "    </tr>\n",
       "  </tbody>\n",
       "</table>\n",
       "<p>5 rows × 201 columns</p>\n",
       "</div>"
      ],
      "text/plain": [
       "         target    var_0   var_1    var_2   var_3    var_4   var_5   var_6  \\\n",
       "ID_code                                                                      \n",
       "train_0       0   8.9255 -6.7863  11.9081  5.0930  11.4607 -9.2834  5.1187   \n",
       "train_1       0  11.5006 -4.1473  13.8588  5.3890  12.3622  7.0433  5.6208   \n",
       "train_2       0   8.6093 -2.7457  12.0805  7.8928  10.5825 -9.0837  6.9427   \n",
       "train_3       0  11.0604 -2.1518   8.9522  7.1957  12.5846 -1.8361  5.8428   \n",
       "train_4       0   9.8369 -1.4834  12.8746  6.6375  12.2772  2.4486  5.9405   \n",
       "\n",
       "           var_7   var_8  ...  var_190  var_191  var_192  var_193  var_194  \\\n",
       "ID_code                   ...                                                \n",
       "train_0  18.6266 -4.9200  ...   4.4354   3.9642   3.1364   1.6910  18.5227   \n",
       "train_1  16.5338  3.1468  ...   7.6421   7.7214   2.5837  10.9516  15.4305   \n",
       "train_2  14.6155 -4.9193  ...   2.9057   9.7905   1.6704   1.6858  21.6042   \n",
       "train_3  14.9250 -5.8609  ...   4.4666   4.7433   0.7178   1.4214  23.0347   \n",
       "train_4  19.2514  6.2654  ...  -1.4905   9.5214  -0.1508   9.1942  13.2876   \n",
       "\n",
       "         var_195  var_196  var_197  var_198  var_199  \n",
       "ID_code                                               \n",
       "train_0  -2.3978   7.8784   8.5635  12.7803  -1.0914  \n",
       "train_1   2.0339   8.1267   8.7889  18.3560   1.9518  \n",
       "train_2   3.1417  -6.5213   8.2675  14.7222   0.3965  \n",
       "train_3  -1.2706  -2.9275  10.2922  17.9697  -8.9996  \n",
       "train_4  -1.5121   3.9267   9.5031  17.9974  -8.8104  \n",
       "\n",
       "[5 rows x 201 columns]"
      ]
     },
     "execution_count": 6,
     "metadata": {},
     "output_type": "execute_result"
    }
   ],
   "source": [
    "df=pd.read_csv(\"../train.csv\", sep=\",\", index_col=\"ID_code\")\n",
    "df.head()"
   ]
  },
  {
   "cell_type": "code",
   "execution_count": 7,
   "id": "d8d582c4",
   "metadata": {
    "ExecuteTime": {
     "end_time": "2022-11-14T21:21:34.959869Z",
     "start_time": "2022-11-14T21:21:25.714641Z"
    }
   },
   "outputs": [
    {
     "data": {
      "text/plain": [
       "target       int64\n",
       "var_0      float32\n",
       "var_1      float32\n",
       "var_2      float32\n",
       "var_3      float32\n",
       "            ...   \n",
       "var_195    float32\n",
       "var_196    float32\n",
       "var_197    float32\n",
       "var_198    float32\n",
       "var_199    float32\n",
       "Length: 201, dtype: object"
      ]
     },
     "execution_count": 7,
     "metadata": {},
     "output_type": "execute_result"
    }
   ],
   "source": [
    "cols_float = df.select_dtypes(include=[\"float64\"]).columns.tolist() #Guardamos columnas con float64\n",
    "df[cols_float] = df[cols_float].apply(pd.to_numeric, downcast='float') #Reducimos la dimensionalidad \n",
    "df.dtypes #Imprimo resultado"
   ]
  },
  {
   "cell_type": "code",
   "execution_count": 8,
   "id": "acdbc0a0",
   "metadata": {
    "ExecuteTime": {
     "end_time": "2022-11-14T21:23:01.515339Z",
     "start_time": "2022-11-14T21:23:01.362736Z"
    }
   },
   "outputs": [],
   "source": [
    "df.to_pickle(r\"C:\\Users\\Santiago\\Downloads\\train_reduce.pkl\") #Guardamos el archivo en formato pkl"
   ]
  },
  {
   "cell_type": "code",
   "execution_count": 9,
   "id": "3aabbeb3",
   "metadata": {
    "ExecuteTime": {
     "end_time": "2022-11-14T21:24:18.460222Z",
     "start_time": "2022-11-14T21:24:18.282831Z"
    }
   },
   "outputs": [],
   "source": [
    "X=df.drop(\"target\", axis=1) #Obtengo variables \n",
    "y=df[\"target\"] #Guardo variable target"
   ]
  },
  {
   "cell_type": "code",
   "execution_count": 10,
   "id": "97b7ea26",
   "metadata": {
    "ExecuteTime": {
     "end_time": "2022-11-14T21:25:03.282413Z",
     "start_time": "2022-11-14T21:25:03.219860Z"
    }
   },
   "outputs": [
    {
     "name": "stdout",
     "output_type": "stream",
     "text": [
      "StratifiedKFold(n_splits=10, random_state=None, shuffle=False)\n"
     ]
    }
   ],
   "source": [
    "#Inicializo StratifiedKFold\n",
    "skf = StratifiedKFold(n_splits=10,shuffle=False)\n",
    "skf.get_n_splits(X, y)\n",
    "print(skf)"
   ]
  },
  {
   "cell_type": "code",
   "execution_count": 18,
   "id": "91a431e2",
   "metadata": {
    "ExecuteTime": {
     "end_time": "2022-11-14T21:43:51.611424Z",
     "start_time": "2022-11-14T21:43:47.829238Z"
    }
   },
   "outputs": [],
   "source": [
    "contador=1 #inicializo contador\n",
    "for train_index, test_index in skf.split(X, y): #genero for loop\n",
    "    X_train=X.iloc[train_index] #Guardo variable X_train\n",
    "    X_test=X.iloc[test_index]  #Guardo variable X_test\n",
    "    y_train=y.iloc[train_index]  #Guardo variable y_train\n",
    "    y_test=y.iloc[test_index] #Guardo variable y_test\n",
    "    X_train.to_pickle(f\"C:/Users/Santiago/Downloads/X_train{contador}.pkl\") #Exporto variable X_train\n",
    "    X_test.to_pickle(f\"C:/Users/Santiago/Downloads/X_test{contador}.pkl\") #Exporto variable X_test\n",
    "    y_train.to_pickle(f\"C:/Users/Santiago/Downloads/y_train{contador}.pkl\") #Exporto variable y_train\n",
    "    y_test.to_pickle(f\"C:/Users/Santiago/Downloads/y_test{contador}.pkl\") #Exporto variable y_test\n",
    "    contador+=1"
   ]
  }
 ],
 "metadata": {
  "kernelspec": {
   "display_name": "Python 3 (ipykernel)",
   "language": "python",
   "name": "python3"
  },
  "language_info": {
   "codemirror_mode": {
    "name": "ipython",
    "version": 3
   },
   "file_extension": ".py",
   "mimetype": "text/x-python",
   "name": "python",
   "nbconvert_exporter": "python",
   "pygments_lexer": "ipython3",
   "version": "3.9.12"
  }
 },
 "nbformat": 4,
 "nbformat_minor": 5
}
